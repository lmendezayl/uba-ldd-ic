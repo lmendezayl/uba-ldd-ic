{
  "cells": [
    {
      "cell_type": "markdown",
      "metadata": {
        "id": "view-in-github",
        "colab_type": "text"
      },
      "source": [
        "<a href=\"https://colab.research.google.com/github/lmendezayl/uba-ldd-ic/blob/main/guias/notebook/clase22_ldd_dnn.ipynb\" target=\"_parent\"><img src=\"https://colab.research.google.com/assets/colab-badge.svg\" alt=\"Open In Colab\"/></a>"
      ]
    },
    {
      "cell_type": "markdown",
      "id": "bffbceea848b271a",
      "metadata": {
        "collapsed": false,
        "jupyter": {
          "outputs_hidden": false
        },
        "id": "bffbceea848b271a"
      },
      "source": [
        "Instalar las siguientes librerias y reiniciar el kernel"
      ]
    },
    {
      "cell_type": "code",
      "execution_count": null,
      "id": "a46a78762195e2f8",
      "metadata": {
        "jupyter": {
          "outputs_hidden": false
        },
        "id": "a46a78762195e2f8"
      },
      "outputs": [],
      "source": [
        "!pip install tensorflow\n",
        "!pip install keras\n",
        "!pip intall --upgrade keras\n",
        "!pip install ipympl"
      ]
    },
    {
      "cell_type": "code",
      "execution_count": null,
      "id": "initial_id",
      "metadata": {
        "ExecuteTime": {
          "end_time": "2024-06-05T19:52:04.505051642Z",
          "start_time": "2024-06-05T19:52:04.359994601Z"
        },
        "jupyter": {
          "outputs_hidden": false
        },
        "id": "initial_id"
      },
      "outputs": [],
      "source": [
        "import numpy as np\n",
        "import pandas as pd\n",
        "import seaborn as sns\n",
        "import seaborn.objects as so\n",
        "import matplotlib.pyplot as plt\n",
        "from matplotlib import cm\n",
        "from sklearn import linear_model\n",
        "from sklearn.metrics import mean_squared_error\n",
        "from time import time\n",
        "import logging\n",
        "import os\n",
        "\n",
        "# Estas dos lineas son para silenciar las advertencias de TensorFlow\n",
        "os.environ['TF_CPP_MIN_LOG_LEVEL'] = '2'\n",
        "logging.getLogger('tensorflow').setLevel(logging.ERROR)\n",
        "\n",
        "# La siguiente linea es para que tensorflow no use la GPU\n",
        "os.environ[\"CUDA_VISIBLE_DEVICES\"] = \"-1\"\n",
        "\n",
        "import tensorflow as tf\n",
        "import keras\n",
        "\n",
        "from tf_regressor import train_test_split_scale_center"
      ]
    },
    {
      "cell_type": "code",
      "source": [
        "url = 'https://raw.githubusercontent.com/lmendezayl/uba-ldd-ic/refs/heads/main/datasets/'"
      ],
      "metadata": {
        "id": "cCoRa5cY_iOt"
      },
      "id": "cCoRa5cY_iOt",
      "execution_count": null,
      "outputs": []
    },
    {
      "cell_type": "markdown",
      "id": "7c48a6ff68493b1f",
      "metadata": {
        "collapsed": false,
        "jupyter": {
          "outputs_hidden": false
        },
        "id": "7c48a6ff68493b1f"
      },
      "source": [
        "# Redes Neuronales\n",
        "\n",
        "### Laboratorio de Datos, IC - FCEN - UBA - 1er. Cuatrimestre 2024"
      ]
    },
    {
      "cell_type": "markdown",
      "id": "d040c0eba6ca5a15",
      "metadata": {
        "collapsed": false,
        "jupyter": {
          "outputs_hidden": false
        },
        "id": "d040c0eba6ca5a15"
      },
      "source": [
        "### 1. Perceptrón Simple : clasificación binaria"
      ]
    },
    {
      "cell_type": "markdown",
      "id": "797d53b60f58a291",
      "metadata": {
        "collapsed": false,
        "jupyter": {
          "outputs_hidden": false
        },
        "id": "797d53b60f58a291"
      },
      "source": [
        "Armaremos una red neuronal para predecir si una persona tiene o no diabetes a partir de 8 caracteristicas:\n",
        "- Embarazos\n",
        "- Glucosa\n",
        "- Presión sanguínea\n",
        "- Grosor de la piel\n",
        "- Insulina\n",
        "- Indice de masa corporal (BMI)\n",
        "- Antecedentes familiares\n",
        "- Edad\n",
        "\n",
        "Como se trata de un problema de clasificación, la función de activación será la función sigmoidea."
      ]
    },
    {
      "cell_type": "code",
      "execution_count": null,
      "id": "63d742cb2aaedb22",
      "metadata": {
        "ExecuteTime": {
          "end_time": "2024-06-05T21:05:01.383917661Z",
          "start_time": "2024-06-05T21:05:01.231659915Z"
        },
        "jupyter": {
          "outputs_hidden": false
        },
        "id": "63d742cb2aaedb22"
      },
      "outputs": [],
      "source": [
        "# Cargamos el dataset y descartamos las observaciones con campos faltantes\n",
        "data = pd.read_csv(url + 'diabetes.csv')\n",
        "data.dropna(inplace=True)\n",
        "\n",
        "# Definimos las variables.\n",
        "X = data.drop('Outcome', axis=1)    # Queremos todas las columnas salvo Outcome\n",
        "y = data['Outcome']\n",
        "\n",
        "# Escalamos y centramos X, definimos conjuntos de entrenamiento y testeo\n",
        "X_train, X_test, y_train, y_test = train_test_split_scale_center(X, y, test_size=0.2, random_state=42)"
      ]
    },
    {
      "cell_type": "code",
      "execution_count": null,
      "id": "418a7928075910ab",
      "metadata": {
        "ExecuteTime": {
          "end_time": "2024-06-05T21:15:09.658320003Z",
          "start_time": "2024-06-05T21:15:09.509538183Z"
        },
        "jupyter": {
          "outputs_hidden": false
        },
        "id": "418a7928075910ab"
      },
      "outputs": [],
      "source": [
        "# En pro de la reproducibilidad, especificamos la semilla para keras\n",
        "keras.utils.set_random_seed(11)\n",
        "\n",
        "# Paso 1: iniciamos el modelo indicando la arquitectura de la red\n",
        "model = keras.Sequential([\n",
        "    keras.layers.Input(shape=(8,)),             # Capa de input: indicamos que el input tiene dimension 4\n",
        "    keras.layers.Dense(1,                       # Capa de output: el output tiene dimension 1 (clasificacion binaria)\n",
        "                       activation='sigmoid')    # y su funcion de activacion es la sigmoidea.\n",
        "])"
      ]
    },
    {
      "cell_type": "code",
      "execution_count": null,
      "id": "f4af5565341e9f5f",
      "metadata": {
        "ExecuteTime": {
          "end_time": "2024-06-05T21:15:11.435440743Z",
          "start_time": "2024-06-05T21:15:11.423990243Z"
        },
        "jupyter": {
          "outputs_hidden": false
        },
        "id": "f4af5565341e9f5f"
      },
      "outputs": [],
      "source": [
        "# Paso 2: configuramos el optimizador: usaremos Descenso por Gradiente Estocástico con learning rate constante 0.5\n",
        "# Documentacion SGD : https://keras.io/api/optimizers/sgd/\n",
        "optimizer = keras.optimizers.SGD(learning_rate=0.5)"
      ]
    },
    {
      "cell_type": "code",
      "execution_count": null,
      "id": "9d33af6cd31d6bc0",
      "metadata": {
        "ExecuteTime": {
          "end_time": "2024-06-05T21:15:12.424543484Z",
          "start_time": "2024-06-05T21:15:12.357762289Z"
        },
        "jupyter": {
          "outputs_hidden": false
        },
        "id": "9d33af6cd31d6bc0"
      },
      "outputs": [],
      "source": [
        "# Paso 3: construimos el modelo\n",
        "model.compile(\n",
        "    optimizer=optimizer,            # Optimizador a utilizar\n",
        "    loss='binary_crossentropy',     # Funcion de perdida para clasificacion binaria\n",
        "    metrics=['accuracy',            # Metricas a registrar durante el entrenamiento\n",
        "             'false_negatives']\n",
        ")"
      ]
    },
    {
      "cell_type": "code",
      "execution_count": null,
      "id": "e42ed777432320d2",
      "metadata": {
        "ExecuteTime": {
          "end_time": "2024-06-05T21:15:24.194765765Z",
          "start_time": "2024-06-05T21:15:13.456094403Z"
        },
        "jupyter": {
          "outputs_hidden": false
        },
        "id": "e42ed777432320d2"
      },
      "outputs": [],
      "source": [
        "# Paso 4: entrenamiento del modelo.\n",
        "# model.fit devuelve un objeto History que guarda la evolucion del valor de la funcion de perdida y de las metricas\n",
        "# luego de cada epoca.\n",
        "hist = model.fit(X_train.to_numpy(), y_train.to_numpy(),    # Ingresamos los datos de entrenamiento\n",
        "                 epochs=150,                                 # Especificamos la cantidad de épocas\n",
        "                 batch_size=20,                             # Especificamos el tamaño del batch\n",
        "                 validation_split=0.2,                      # 20% de datos para validación\n",
        "                 verbose=0,                                 # Opcional, para que no muestre el proceso de entrenamiento.\n",
        "                 )"
      ]
    },
    {
      "cell_type": "code",
      "execution_count": null,
      "id": "2ec1d7598bfea241",
      "metadata": {
        "ExecuteTime": {
          "end_time": "2024-06-05T21:15:24.255290741Z",
          "start_time": "2024-06-05T21:15:24.238340245Z"
        },
        "jupyter": {
          "outputs_hidden": false
        },
        "colab": {
          "base_uri": "https://localhost:8080/"
        },
        "id": "2ec1d7598bfea241",
        "outputId": "19fe1bda-c434-4364-a056-2f6143c8fa20"
      },
      "outputs": [
        {
          "output_type": "execute_result",
          "data": {
            "text/plain": [
              "{'accuracy': 0.7727272510528564,\n",
              " 'false_negatives': 20.0,\n",
              " 'loss': 0.5191484689712524}"
            ]
          },
          "metadata": {},
          "execution_count": 36
        }
      ],
      "source": [
        "# Paso 5: calculamos el error en el conjunto de testeo\n",
        "model.evaluate(X_test.to_numpy(), y_test.to_numpy(),\n",
        "               verbose=0,\n",
        "               batch_size=len(y_test),\n",
        "               return_dict=True\n",
        "               )"
      ]
    },
    {
      "cell_type": "code",
      "execution_count": null,
      "id": "3de25e3f9e1933ec",
      "metadata": {
        "ExecuteTime": {
          "end_time": "2024-06-05T21:15:35.211204353Z",
          "start_time": "2024-06-05T21:15:35.204323012Z"
        },
        "jupyter": {
          "outputs_hidden": false
        },
        "id": "3de25e3f9e1933ec"
      },
      "outputs": [],
      "source": [
        "# Armamos una funcion para graficar el error a través de las épocas\n",
        "def graficar_error(history, error_name, start_point=0):\n",
        "    x_arr = np.array(history.epoch)    # en el atributo epoch, history guarda una lista de epocas\n",
        "    plot = (\n",
        "        so.Plot()\n",
        "        .add(so.Line(color='blue'), x=x_arr, y=history.history[error_name], label='Entrenamiento')\n",
        "        .add(so.Line(color='orange'), x=x_arr, y=history.history[f'val_{error_name}'], label='Validacion')\n",
        "        .label(title=error_name)\n",
        "    )\n",
        "    plot.show()"
      ]
    },
    {
      "cell_type": "code",
      "execution_count": null,
      "id": "6a8f15746a4d07d1",
      "metadata": {
        "ExecuteTime": {
          "end_time": "2024-06-05T21:15:55.931426831Z",
          "start_time": "2024-06-05T21:15:55.595902809Z"
        },
        "jupyter": {
          "outputs_hidden": false
        },
        "colab": {
          "base_uri": "https://localhost:8080/",
          "height": 480
        },
        "id": "6a8f15746a4d07d1",
        "outputId": "f8d38cad-1803-4612-a015-7fe4862063f1"
      },
      "outputs": [
        {
          "output_type": "display_data",
          "data": {
            "text/plain": [
              "<Figure size 640x480 with 1 Axes>"
            ],
            "image/png": "[encoded data removed]"
          },
          "metadata": {}
        }
      ],
      "source": [
        "graficar_error(hist, 'loss')"
      ]
    },
    {
      "cell_type": "markdown",
      "id": "a481c42cd70caf9f",
      "metadata": {
        "collapsed": false,
        "jupyter": {
          "outputs_hidden": false
        },
        "id": "a481c42cd70caf9f"
      },
      "source": [
        "Analizando los pesos, podemos interpretar qué factor es más influyente en el diagnóstico de diabetes"
      ]
    },
    {
      "cell_type": "code",
      "execution_count": null,
      "id": "53f2ee87b78f81cd",
      "metadata": {
        "ExecuteTime": {
          "end_time": "2024-06-05T21:12:55.821329917Z",
          "start_time": "2024-06-05T21:12:55.570998229Z"
        },
        "jupyter": {
          "outputs_hidden": false
        },
        "colab": {
          "base_uri": "https://localhost:8080/",
          "height": 335
        },
        "id": "53f2ee87b78f81cd",
        "outputId": "630d6f11-1931-4b6f-ecd0-ec849f8776d1"
      },
      "outputs": [
        {
          "output_type": "execute_result",
          "data": {
            "text/plain": [
              "Pregnancies      0.724379\n",
              "Glucose          7.082782\n",
              "BloodPressure   -1.280861\n",
              "SkinThickness    0.430450\n",
              "Insulin         -2.261587\n",
              "BMI              6.150246\n",
              "Pedigree         1.656113\n",
              "Age              2.329280\n",
              "Name: Peso en la RN, dtype: float32"
            ],
            "text/html": [
              "<div>\n",
              "<style scoped>\n",
              "    .dataframe tbody tr th:only-of-type {\n",
              "        vertical-align: middle;\n",
              "    }\n",
              "\n",
              "    .dataframe tbody tr th {\n",
              "        vertical-align: top;\n",
              "    }\n",
              "\n",
              "    .dataframe thead th {\n",
              "        text-align: right;\n",
              "    }\n",
              "</style>\n",
              "<table border=\"1\" class=\"dataframe\">\n",
              "  <thead>\n",
              "    <tr style=\"text-align: right;\">\n",
              "      <th></th>\n",
              "      <th>Peso en la RN</th>\n",
              "    </tr>\n",
              "  </thead>\n",
              "  <tbody>\n",
              "    <tr>\n",
              "      <th>Pregnancies</th>\n",
              "      <td>0.724379</td>\n",
              "    </tr>\n",
              "    <tr>\n",
              "      <th>Glucose</th>\n",
              "      <td>7.082782</td>\n",
              "    </tr>\n",
              "    <tr>\n",
              "      <th>BloodPressure</th>\n",
              "      <td>-1.280861</td>\n",
              "    </tr>\n",
              "    <tr>\n",
              "      <th>SkinThickness</th>\n",
              "      <td>0.430450</td>\n",
              "    </tr>\n",
              "    <tr>\n",
              "      <th>Insulin</th>\n",
              "      <td>-2.261587</td>\n",
              "    </tr>\n",
              "    <tr>\n",
              "      <th>BMI</th>\n",
              "      <td>6.150246</td>\n",
              "    </tr>\n",
              "    <tr>\n",
              "      <th>Pedigree</th>\n",
              "      <td>1.656113</td>\n",
              "    </tr>\n",
              "    <tr>\n",
              "      <th>Age</th>\n",
              "      <td>2.329280</td>\n",
              "    </tr>\n",
              "  </tbody>\n",
              "</table>\n",
              "</div><br><label><b>dtype:</b> float32</label>"
            ]
          },
          "metadata": {},
          "execution_count": 39
        }
      ],
      "source": [
        "# Aqui se guardan los pesos en la primera coordenada y el bias en la segunda\n",
        "model.weights\n",
        "\n",
        "# Recuperamos los pesos:\n",
        "weights = model.weights[0].numpy().flatten()\n",
        "\n",
        "# Armamos una Serie para simplificar el análisis\n",
        "pd.Series(weights, index=X_train.columns, name='Peso en la RN')"
      ]
    },
    {
      "cell_type": "markdown",
      "source": [
        "Esto lo que indica es que los factores mas influyentes son la glucosa y el BMI!"
      ],
      "metadata": {
        "id": "ZasR4jYOCcTF"
      },
      "id": "ZasR4jYOCcTF"
    },
    {
      "cell_type": "markdown",
      "id": "7022857dbea647e2",
      "metadata": {
        "collapsed": false,
        "jupyter": {
          "outputs_hidden": false
        },
        "id": "7022857dbea647e2"
      },
      "source": [
        "### 2. Perceptrón Simple : clasificación en más de dos categorías"
      ]
    },
    {
      "cell_type": "markdown",
      "id": "47336c8dd9947ff0",
      "metadata": {
        "collapsed": false,
        "jupyter": {
          "outputs_hidden": false
        },
        "id": "47336c8dd9947ff0"
      },
      "source": [
        "Ahora, dadas las cuatro características de los pingüinos (peso, longitud de aleta y profundidad y longitud del pico),\n",
        "intentaremos predecir de qué especie es (Adelie, Chinstrap o Gentoo)."
      ]
    },
    {
      "cell_type": "code",
      "execution_count": null,
      "id": "15f35d70ab4f52ee",
      "metadata": {
        "ExecuteTime": {
          "end_time": "2024-06-05T21:48:11.673020629Z",
          "start_time": "2024-06-05T21:48:11.657058189Z"
        },
        "jupyter": {
          "outputs_hidden": false
        },
        "id": "15f35d70ab4f52ee"
      },
      "outputs": [],
      "source": [
        "# Cargamos el dataset y descartamos las observaciones con campos faltantes\n",
        "penguins = sns.load_dataset('penguins')\n",
        "penguins.dropna(inplace=True)\n",
        "\n",
        "# Como en el dataset los pinguinos estan ordenados por especie, estaria bueno mezclar el DataFrame\n",
        "penguins = penguins.sample(len(penguins))\n",
        "\n",
        "# Definimos las variables predictoras\n",
        "X = penguins[['bill_length_mm', 'flipper_length_mm', 'bill_depth_mm', 'body_mass_g']]\n",
        "# Armamos una Serie las etiquetas: 0 corresponde a Gentoo, 1 corresponde a Adelie, 2 corresponde a Chinstrap\n",
        "y = penguins['species'].apply(lambda x: 1*(x == 'Adelie') + 2*(x == 'Chinstrap'))\n",
        "\n",
        "# Escalamos y centramos X, definimos conjuntos de entrenamiento y testeo\n",
        "X_train, X_test, y_train, y_test = train_test_split_scale_center(X, y, test_size=0.2, random_state=21)"
      ]
    },
    {
      "cell_type": "code",
      "source": [
        "y"
      ],
      "metadata": {
        "colab": {
          "base_uri": "https://localhost:8080/",
          "height": 459
        },
        "id": "wCVJ_KeRDDC8",
        "outputId": "b0531c38-feda-4fe6-d4bf-49c177309fe8"
      },
      "id": "wCVJ_KeRDDC8",
      "execution_count": null,
      "outputs": [
        {
          "output_type": "execute_result",
          "data": {
            "text/plain": [
              "266    0\n",
              "253    0\n",
              "303    0\n",
              "257    0\n",
              "57     1\n",
              "      ..\n",
              "222    0\n",
              "64     1\n",
              "107    1\n",
              "318    0\n",
              "239    0\n",
              "Name: species, Length: 333, dtype: int64"
            ],
            "text/html": [
              "<div>\n",
              "<style scoped>\n",
              "    .dataframe tbody tr th:only-of-type {\n",
              "        vertical-align: middle;\n",
              "    }\n",
              "\n",
              "    .dataframe tbody tr th {\n",
              "        vertical-align: top;\n",
              "    }\n",
              "\n",
              "    .dataframe thead th {\n",
              "        text-align: right;\n",
              "    }\n",
              "</style>\n",
              "<table border=\"1\" class=\"dataframe\">\n",
              "  <thead>\n",
              "    <tr style=\"text-align: right;\">\n",
              "      <th></th>\n",
              "      <th>species</th>\n",
              "    </tr>\n",
              "  </thead>\n",
              "  <tbody>\n",
              "    <tr>\n",
              "      <th>266</th>\n",
              "      <td>0</td>\n",
              "    </tr>\n",
              "    <tr>\n",
              "      <th>253</th>\n",
              "      <td>0</td>\n",
              "    </tr>\n",
              "    <tr>\n",
              "      <th>303</th>\n",
              "      <td>0</td>\n",
              "    </tr>\n",
              "    <tr>\n",
              "      <th>257</th>\n",
              "      <td>0</td>\n",
              "    </tr>\n",
              "    <tr>\n",
              "      <th>57</th>\n",
              "      <td>1</td>\n",
              "    </tr>\n",
              "    <tr>\n",
              "      <th>...</th>\n",
              "      <td>...</td>\n",
              "    </tr>\n",
              "    <tr>\n",
              "      <th>222</th>\n",
              "      <td>0</td>\n",
              "    </tr>\n",
              "    <tr>\n",
              "      <th>64</th>\n",
              "      <td>1</td>\n",
              "    </tr>\n",
              "    <tr>\n",
              "      <th>107</th>\n",
              "      <td>1</td>\n",
              "    </tr>\n",
              "    <tr>\n",
              "      <th>318</th>\n",
              "      <td>0</td>\n",
              "    </tr>\n",
              "    <tr>\n",
              "      <th>239</th>\n",
              "      <td>0</td>\n",
              "    </tr>\n",
              "  </tbody>\n",
              "</table>\n",
              "<p>333 rows × 1 columns</p>\n",
              "</div><br><label><b>dtype:</b> int64</label>"
            ]
          },
          "metadata": {},
          "execution_count": 44
        }
      ]
    },
    {
      "cell_type": "code",
      "execution_count": null,
      "id": "c35e365ed79cf36a",
      "metadata": {
        "ExecuteTime": {
          "end_time": "2024-06-05T21:48:17.613735924Z",
          "start_time": "2024-06-05T21:48:13.856584907Z"
        },
        "jupyter": {
          "outputs_hidden": false
        },
        "colab": {
          "base_uri": "https://localhost:8080/"
        },
        "id": "c35e365ed79cf36a",
        "outputId": "a9744792-9052-41a2-92c7-c92d1bc94cb1"
      },
      "outputs": [
        {
          "output_type": "execute_result",
          "data": {
            "text/plain": [
              "{'accuracy': 1.0, 'loss': 0.0668310672044754}"
            ]
          },
          "metadata": {},
          "execution_count": 45
        }
      ],
      "source": [
        "keras.utils.set_random_seed(11)\n",
        "\n",
        "# Paso 1: iniciamos el modelo indicando la arquitectura de la red\n",
        "model = keras.Sequential([\n",
        "    keras.layers.Input(shape=(4,)),             # Capa de input: indicamos que el input tiene dimension 4\n",
        "    keras.layers.Dense(3,                       # Capa de output: el output tiene dimension 3 (una neurona para cada especie)\n",
        "                       activation='sigmoid')    # y su funcion de activacion es la sigmoidea.\n",
        "])\n",
        "\n",
        "# Paso 2: configuramos el optimizador\n",
        "optimizer = keras.optimizers.SGD(learning_rate=0.5)\n",
        "\n",
        "# Paso 3: construimos el modelo\n",
        "model.compile(\n",
        "    optimizer=optimizer,\n",
        "    loss='sparse_categorical_crossentropy',     # Funcion de perdida para clasificacion con mas de dos categorias\n",
        "    metrics=['accuracy']\n",
        ")\n",
        "\n",
        "# Paso 4: entrenamiento del modelo.\n",
        "hist = model.fit(X_train.to_numpy(), y_train.to_numpy(),\n",
        "                 epochs=150,\n",
        "                 batch_size=20,\n",
        "                 validation_split=0.2,\n",
        "                 verbose=0,\n",
        "                 )\n",
        "\n",
        "# Paso 5: calculamos el error en el conjunto de testeo\n",
        "model.evaluate(X_test.to_numpy(), y_test.to_numpy(),\n",
        "               verbose=0,\n",
        "               batch_size=len(y_test),\n",
        "               return_dict=True\n",
        "               )"
      ]
    },
    {
      "cell_type": "code",
      "execution_count": null,
      "id": "54fe16fa9c99a6ad",
      "metadata": {
        "ExecuteTime": {
          "end_time": "2024-06-05T21:48:17.929130201Z",
          "start_time": "2024-06-05T21:48:17.620012292Z"
        },
        "jupyter": {
          "outputs_hidden": false
        },
        "colab": {
          "base_uri": "https://localhost:8080/",
          "height": 480
        },
        "id": "54fe16fa9c99a6ad",
        "outputId": "6f5c7e72-4314-4922-834b-1146e3b37b33"
      },
      "outputs": [
        {
          "output_type": "display_data",
          "data": {
            "text/plain": [
              "<Figure size 640x480 with 1 Axes>"
            ],
            "image/png": "[encoded data removed]"
          },
          "metadata": {}
        }
      ],
      "source": [
        "# Graficamos la evolucion de la precision de la clasficiacion\n",
        "graficar_error(hist, 'accuracy')"
      ]
    },
    {
      "cell_type": "markdown",
      "id": "d25599f3dc9b0a13",
      "metadata": {
        "collapsed": false,
        "jupyter": {
          "outputs_hidden": false
        },
        "id": "d25599f3dc9b0a13"
      },
      "source": [
        "### 3. Perceptrón Multicapa"
      ]
    },
    {
      "cell_type": "code",
      "execution_count": null,
      "id": "98db6bc8224958d3",
      "metadata": {
        "ExecuteTime": {
          "end_time": "2024-06-05T22:29:24.144782734Z",
          "start_time": "2024-06-05T22:29:23.921652064Z"
        },
        "jupyter": {
          "outputs_hidden": false
        },
        "colab": {
          "base_uri": "https://localhost:8080/",
          "height": 461
        },
        "id": "98db6bc8224958d3",
        "outputId": "6a6f3a20-9f95-49e5-e458-9f4d4e37cf46"
      },
      "outputs": [
        {
          "output_type": "execute_result",
          "data": {
            "text/plain": [
              "FDC_ID                0\n",
              "Item                  0\n",
              "Category              0\n",
              "Calorias_kcal         0\n",
              "Proteinas_g           0\n",
              "Carbohidratos_g       0\n",
              "GrasaTotal_g          0\n",
              "Colesterol_mg       399\n",
              "Fibra_g             562\n",
              "Agua_g                0\n",
              "Alcohol_g          2394\n",
              "VitaminaC_mg        461\n",
              "dtype: int64"
            ],
            "text/html": [
              "<div>\n",
              "<style scoped>\n",
              "    .dataframe tbody tr th:only-of-type {\n",
              "        vertical-align: middle;\n",
              "    }\n",
              "\n",
              "    .dataframe tbody tr th {\n",
              "        vertical-align: top;\n",
              "    }\n",
              "\n",
              "    .dataframe thead th {\n",
              "        text-align: right;\n",
              "    }\n",
              "</style>\n",
              "<table border=\"1\" class=\"dataframe\">\n",
              "  <thead>\n",
              "    <tr style=\"text-align: right;\">\n",
              "      <th></th>\n",
              "      <th>0</th>\n",
              "    </tr>\n",
              "  </thead>\n",
              "  <tbody>\n",
              "    <tr>\n",
              "      <th>FDC_ID</th>\n",
              "      <td>0</td>\n",
              "    </tr>\n",
              "    <tr>\n",
              "      <th>Item</th>\n",
              "      <td>0</td>\n",
              "    </tr>\n",
              "    <tr>\n",
              "      <th>Category</th>\n",
              "      <td>0</td>\n",
              "    </tr>\n",
              "    <tr>\n",
              "      <th>Calorias_kcal</th>\n",
              "      <td>0</td>\n",
              "    </tr>\n",
              "    <tr>\n",
              "      <th>Proteinas_g</th>\n",
              "      <td>0</td>\n",
              "    </tr>\n",
              "    <tr>\n",
              "      <th>Carbohidratos_g</th>\n",
              "      <td>0</td>\n",
              "    </tr>\n",
              "    <tr>\n",
              "      <th>GrasaTotal_g</th>\n",
              "      <td>0</td>\n",
              "    </tr>\n",
              "    <tr>\n",
              "      <th>Colesterol_mg</th>\n",
              "      <td>399</td>\n",
              "    </tr>\n",
              "    <tr>\n",
              "      <th>Fibra_g</th>\n",
              "      <td>562</td>\n",
              "    </tr>\n",
              "    <tr>\n",
              "      <th>Agua_g</th>\n",
              "      <td>0</td>\n",
              "    </tr>\n",
              "    <tr>\n",
              "      <th>Alcohol_g</th>\n",
              "      <td>2394</td>\n",
              "    </tr>\n",
              "    <tr>\n",
              "      <th>VitaminaC_mg</th>\n",
              "      <td>461</td>\n",
              "    </tr>\n",
              "  </tbody>\n",
              "</table>\n",
              "</div><br><label><b>dtype:</b> int64</label>"
            ]
          },
          "metadata": {},
          "execution_count": 48
        }
      ],
      "source": [
        "data = pd.read_csv(url + 'nutrition.csv')\n",
        "data.isna().sum()"
      ]
    },
    {
      "cell_type": "code",
      "execution_count": null,
      "id": "7395eb34-2c56-4496-a12a-411d4ac58324",
      "metadata": {
        "colab": {
          "base_uri": "https://localhost:8080/"
        },
        "id": "7395eb34-2c56-4496-a12a-411d4ac58324",
        "outputId": "f46c9432-9bd8-4864-c753-dd511454c2e9"
      },
      "outputs": [
        {
          "output_type": "execute_result",
          "data": {
            "text/plain": [
              "(7793, 12)"
            ]
          },
          "metadata": {},
          "execution_count": 49
        }
      ],
      "source": [
        "data.shape"
      ]
    },
    {
      "cell_type": "code",
      "execution_count": null,
      "id": "3e3ecfc4966388a6",
      "metadata": {
        "ExecuteTime": {
          "end_time": "2024-06-05T22:34:50.620026530Z",
          "start_time": "2024-06-05T22:34:50.603797462Z"
        },
        "jupyter": {
          "outputs_hidden": false
        },
        "colab": {
          "base_uri": "https://localhost:8080/"
        },
        "id": "3e3ecfc4966388a6",
        "outputId": "b412ee91-0fe2-4d79-882c-33ea2d6d94c8"
      },
      "outputs": [
        {
          "output_type": "execute_result",
          "data": {
            "text/plain": [
              "Index(['FDC_ID', 'Item', 'Category', 'Calorias_kcal', 'Proteinas_g',\n",
              "       'Carbohidratos_g', 'GrasaTotal_g', 'Colesterol_mg', 'Fibra_g', 'Agua_g',\n",
              "       'Alcohol_g', 'VitaminaC_mg'],\n",
              "      dtype='object')"
            ]
          },
          "metadata": {},
          "execution_count": 50
        }
      ],
      "source": [
        "data.dropna(inplace=True)\n",
        "data.columns"
      ]
    },
    {
      "cell_type": "code",
      "execution_count": null,
      "id": "6096dbe5aaf6faf2",
      "metadata": {
        "ExecuteTime": {
          "end_time": "2024-06-05T22:52:36.295043322Z",
          "start_time": "2024-06-05T22:52:36.170765785Z"
        },
        "jupyter": {
          "outputs_hidden": false
        },
        "id": "6096dbe5aaf6faf2"
      },
      "outputs": [],
      "source": [
        "X = data.drop(columns=['FDC_ID', 'Item', 'Category', 'Calorias_kcal'])\n",
        "y = data['Calorias_kcal']\n",
        "\n",
        "# Escalamos y centramos X, definimos conjuntos de entrenamiento y testeo\n",
        "X_train, X_test, y_train, y_test = train_test_split_scale_center(X, y, transform_y=True, test_size=0.2, random_state=21)"
      ]
    },
    {
      "cell_type": "code",
      "execution_count": null,
      "id": "2517a12def2fe070",
      "metadata": {
        "ExecuteTime": {
          "end_time": "2024-06-05T22:53:07.921509495Z",
          "start_time": "2024-06-05T22:52:58.871540549Z"
        },
        "jupyter": {
          "outputs_hidden": false
        },
        "colab": {
          "base_uri": "https://localhost:8080/"
        },
        "id": "2517a12def2fe070",
        "outputId": "3585bc35-07e7-4120-b30f-3de0c417782d"
      },
      "outputs": [
        {
          "output_type": "execute_result",
          "data": {
            "text/plain": [
              "{'loss': 0.00045012758346274495}"
            ]
          },
          "metadata": {},
          "execution_count": 52
        }
      ],
      "source": [
        "keras.utils.set_random_seed(11)\n",
        "\n",
        "# Paso 1: iniciamos el modelo indicando la arquitectura de la red\n",
        "model = keras.Sequential([\n",
        "    keras.layers.Input(shape=(X_train.shape[1],)),\n",
        "    keras.layers.Dense(4,\n",
        "                       activation='softplus'),\n",
        "    keras.layers.Dense(1,\n",
        "                       activation='sigmoid')\n",
        "])\n",
        "\n",
        "# Paso 2: configuramos el optimizador\n",
        "optimizer = keras.optimizers.SGD(learning_rate=0.5)\n",
        "\n",
        "# Paso 3: construimos el modelo\n",
        "model.compile(\n",
        "    optimizer=optimizer,\n",
        "    loss='mean_squared_error',\n",
        ")\n",
        "\n",
        "# Paso 4: entrenamiento del modelo.\n",
        "hist = model.fit(X_train.to_numpy(), y_train.to_numpy(),\n",
        "                 epochs=100,\n",
        "                 batch_size=20,\n",
        "                 validation_split=0.2,\n",
        "                 verbose=0,\n",
        "                 )\n",
        "\n",
        "# Paso 5: calculamos el error en el conjunto de testeo\n",
        "model.evaluate(X_test.to_numpy(), y_test.to_numpy(),\n",
        "               verbose=0,\n",
        "               batch_size=len(y_test),\n",
        "               return_dict=True\n",
        "               )"
      ]
    },
    {
      "cell_type": "code",
      "execution_count": null,
      "id": "adec92465f1d6238",
      "metadata": {
        "ExecuteTime": {
          "end_time": "2024-06-05T22:53:18.684348754Z",
          "start_time": "2024-06-05T22:53:18.340356290Z"
        },
        "jupyter": {
          "outputs_hidden": false
        },
        "colab": {
          "base_uri": "https://localhost:8080/",
          "height": 480
        },
        "id": "adec92465f1d6238",
        "outputId": "8f491972-4f3d-47a9-eee2-2016d6019a3f"
      },
      "outputs": [
        {
          "output_type": "display_data",
          "data": {
            "text/plain": [
              "<Figure size 640x480 with 1 Axes>"
            ],
            "image/png": "[encoded data removed]"
          },
          "metadata": {}
        }
      ],
      "source": [
        "graficar_error(hist, 'loss')"
      ]
    },
    {
      "cell_type": "code",
      "source": [
        "hist.history"
      ],
      "metadata": {
        "colab": {
          "base_uri": "https://localhost:8080/"
        },
        "id": "9g0zq1QwHnzJ",
        "outputId": "91efe307-82e6-47e3-a2ae-9725bc6f9936"
      },
      "id": "9g0zq1QwHnzJ",
      "execution_count": null,
      "outputs": [
        {
          "output_type": "execute_result",
          "data": {
            "text/plain": [
              "{'loss': [0.021813640370965004,\n",
              "  0.0037119679618626833,\n",
              "  0.0019467988749966025,\n",
              "  0.0015064225299283862,\n",
              "  0.001375545863993466,\n",
              "  0.001327310223132372,\n",
              "  0.001300093368627131,\n",
              "  0.0012783490819856524,\n",
              "  0.0012582943309098482,\n",
              "  0.0012390193296596408,\n",
              "  0.0012202999787405133,\n",
              "  0.0012020752765238285,\n",
              "  0.0011843201937153935,\n",
              "  0.0011670163366943598,\n",
              "  0.0011501481058076024,\n",
              "  0.0011337007163092494,\n",
              "  0.0011176610132679343,\n",
              "  0.0011020165402442217,\n",
              "  0.0010867546079680324,\n",
              "  0.0010718642733991146,\n",
              "  0.0010573345934972167,\n",
              "  0.001043157302774489,\n",
              "  0.0010293213417753577,\n",
              "  0.0010158178629353642,\n",
              "  0.0010026399977505207,\n",
              "  0.0009897787822410464,\n",
              "  0.0009772272314876318,\n",
              "  0.0009649781859479845,\n",
              "  0.0009530256502330303,\n",
              "  0.0009413612424395978,\n",
              "  0.0009299800149165094,\n",
              "  0.0009188762633129954,\n",
              "  0.0009080429445020854,\n",
              "  0.0008974754600785673,\n",
              "  0.0008871681638993323,\n",
              "  0.0008771149441599846,\n",
              "  0.0008673111442476511,\n",
              "  0.0008577517583034933,\n",
              "  0.0008484318968839943,\n",
              "  0.0008393457974307239,\n",
              "  0.0008304892107844353,\n",
              "  0.000821857713162899,\n",
              "  0.0008134458330459893,\n",
              "  0.0008052492630667984,\n",
              "  0.000797262997366488,\n",
              "  0.0007894831942394376,\n",
              "  0.000781904673203826,\n",
              "  0.000774523476138711,\n",
              "  0.0007673340733163059,\n",
              "  0.000760333554353565,\n",
              "  0.0007535162148997188,\n",
              "  0.0007468783878721297,\n",
              "  0.0007404155912809074,\n",
              "  0.0007341232849285007,\n",
              "  0.0007279975106939673,\n",
              "  0.0007220340194180608,\n",
              "  0.0007162286201491952,\n",
              "  0.0007105769473128021,\n",
              "  0.0007050751009956002,\n",
              "  0.0006997192394919693,\n",
              "  0.0006945050554350019,\n",
              "  0.0006894288817420602,\n",
              "  0.0006844864110462368,\n",
              "  0.0006796745583415031,\n",
              "  0.0006749891326762736,\n",
              "  0.0006704265251755714,\n",
              "  0.0006659832433797419,\n",
              "  0.0006616553291678429,\n",
              "  0.000657439639326185,\n",
              "  0.0006533327396027744,\n",
              "  0.0006493318942375481,\n",
              "  0.0006454329122789204,\n",
              "  0.0006416331743821502,\n",
              "  0.0006379290134645998,\n",
              "  0.0006343181012198329,\n",
              "  0.0006307974690571427,\n",
              "  0.0006273639155551791,\n",
              "  0.0006240149959921837,\n",
              "  0.0006207476835697889,\n",
              "  0.0006175591261126101,\n",
              "  0.000614447460975498,\n",
              "  0.0006114097777754068,\n",
              "  0.0006084438064135611,\n",
              "  0.0006055472185835242,\n",
              "  0.0006027175113558769,\n",
              "  0.0005999530549161136,\n",
              "  0.0005972512881271541,\n",
              "  0.0005946103483438492,\n",
              "  0.0005920281400904059,\n",
              "  0.0005895029753446579,\n",
              "  0.0005870327004231513,\n",
              "  0.0005846156855113804,\n",
              "  0.0005822505918331444,\n",
              "  0.0005799350328743458,\n",
              "  0.0005776680773124099,\n",
              "  0.0005754478625021875,\n",
              "  0.0005732729914598167,\n",
              "  0.0005711420089937747,\n",
              "  0.0005690532270818949,\n",
              "  0.0005670060054399073],\n",
              " 'val_loss': [0.0062208715826272964,\n",
              "  0.0024403224233537912,\n",
              "  0.0017581551801413298,\n",
              "  0.0015818231040611863,\n",
              "  0.0015319188823923469,\n",
              "  0.0015084922779351473,\n",
              "  0.0014888802543282509,\n",
              "  0.0014690592652186751,\n",
              "  0.0014488314045593143,\n",
              "  0.00142852240242064,\n",
              "  0.0014083893038332462,\n",
              "  0.0013885719235986471,\n",
              "  0.0013691375497728586,\n",
              "  0.0013501123758032918,\n",
              "  0.0013315038522705436,\n",
              "  0.0013133080210536718,\n",
              "  0.0012955176644027233,\n",
              "  0.0012781225377693772,\n",
              "  0.0012611123966053128,\n",
              "  0.001244478509761393,\n",
              "  0.001228210749104619,\n",
              "  0.0012123000342398882,\n",
              "  0.0011967374011874199,\n",
              "  0.0011815152829512954,\n",
              "  0.0011666251812130213,\n",
              "  0.0011520603438839316,\n",
              "  0.001137813669629395,\n",
              "  0.001123878639191389,\n",
              "  0.001110248384065926,\n",
              "  0.0010969169670715928,\n",
              "  0.0010838786838576198,\n",
              "  0.0010711278300732374,\n",
              "  0.0010586578864604235,\n",
              "  0.0010464650113135576,\n",
              "  0.0010345435002818704,\n",
              "  0.0010228874161839485,\n",
              "  0.0010114929173141718,\n",
              "  0.0010003542993217707,\n",
              "  0.000989466905593872,\n",
              "  0.0009788261959329247,\n",
              "  0.0009684269316494465,\n",
              "  0.0009582652128301561,\n",
              "  0.0009483357425779104,\n",
              "  0.0009386343299411237,\n",
              "  0.0009291563765145838,\n",
              "  0.0009198969346471131,\n",
              "  0.0009108520462177694,\n",
              "  0.0009020168799906969,\n",
              "  0.0008933868957683444,\n",
              "  0.0008849578443914652,\n",
              "  0.0008767250110395253,\n",
              "  0.0008686840301379561,\n",
              "  0.0008608305361121893,\n",
              "  0.0008531606290489435,\n",
              "  0.0008456691866740584,\n",
              "  0.0008383522508665919,\n",
              "  0.0008312055142596364,\n",
              "  0.0008242246112786233,\n",
              "  0.0008174055255949497,\n",
              "  0.0008107437752187252,\n",
              "  0.0008042354020290077,\n",
              "  0.0007978762732818723,\n",
              "  0.0007916628383100033,\n",
              "  0.0007855902658775449,\n",
              "  0.0007796551799401641,\n",
              "  0.000773853447753936,\n",
              "  0.0007681816350668669,\n",
              "  0.0007626361912116408,\n",
              "  0.0007572128088213503,\n",
              "  0.0007519086939282715,\n",
              "  0.0007467195973731577,\n",
              "  0.000741642783395946,\n",
              "  0.0007366742938756943,\n",
              "  0.0007318115094676614,\n",
              "  0.0007270508795045316,\n",
              "  0.0007223894353955984,\n",
              "  0.0007178246160037816,\n",
              "  0.0007133522885851562,\n",
              "  0.0007089708233252168,\n",
              "  0.0007046767277643085,\n",
              "  0.0007004674407653511,\n",
              "  0.0006963407504372299,\n",
              "  0.0006922935717739165,\n",
              "  0.0006883239257149398,\n",
              "  0.0006844294257462025,\n",
              "  0.0006806073943153024,\n",
              "  0.0006768560851924121,\n",
              "  0.0006731729954481125,\n",
              "  0.0006695563206449151,\n",
              "  0.0006660037324763834,\n",
              "  0.000662513542920351,\n",
              "  0.0006590837729163468,\n",
              "  0.0006557127926498652,\n",
              "  0.000652398681268096,\n",
              "  0.0006491397507488728,\n",
              "  0.0006459344876930118,\n",
              "  0.0006427813204936683,\n",
              "  0.0006396790849976242,\n",
              "  0.000636625976767391,\n",
              "  0.000633620482403785]}"
            ]
          },
          "metadata": {},
          "execution_count": 65
        }
      ]
    },
    {
      "cell_type": "code",
      "source": [],
      "metadata": {
        "id": "dFaQ4zWNINx7"
      },
      "id": "dFaQ4zWNINx7",
      "execution_count": null,
      "outputs": []
    }
  ],
  "metadata": {
    "kernelspec": {
      "display_name": "Python 3 (ipykernel)",
      "language": "python",
      "name": "python3"
    },
    "language_info": {
      "codemirror_mode": {
        "name": "ipython",
        "version": 3
      },
      "file_extension": ".py",
      "mimetype": "text/x-python",
      "name": "python",
      "nbconvert_exporter": "python",
      "pygments_lexer": "ipython3",
      "version": "3.10.12"
    },
    "colab": {
      "provenance": [],
      "include_colab_link": true
    }
  },
  "nbformat": 4,
  "nbformat_minor": 5
}
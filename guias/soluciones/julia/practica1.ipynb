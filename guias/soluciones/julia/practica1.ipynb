{
 "cells": [
  {
   "cell_type": "code",
   "execution_count": 1,
   "id": "c343f720",
   "metadata": {},
   "outputs": [
    {
     "name": "stdout",
     "output_type": "stream",
     "text": [
      "4"
     ]
    }
   ],
   "source": [
    "print(2+2)"
   ]
  },
  {
   "cell_type": "code",
   "execution_count": 2,
   "id": "3782ce96",
   "metadata": {},
   "outputs": [
    {
     "data": {
      "text/plain": [
       "5-element Vector{Any}:\n",
       "  1\n",
       "  2\n",
       "  3\n",
       "   \"hola\"\n",
       " 10"
      ]
     },
     "metadata": {},
     "output_type": "display_data"
    }
   ],
   "source": [
    "s = [1,2,3,\"hola\", 7+3]"
   ]
  },
  {
   "cell_type": "code",
   "execution_count": 8,
   "id": "428459cc",
   "metadata": {},
   "outputs": [
    {
     "data": {
      "text/plain": [
       "(Any[1, 2, 3, \"hola\", 10], 1, 2, 10)"
      ]
     },
     "metadata": {},
     "output_type": "display_data"
    }
   ],
   "source": [
    "s, s[1], s[2], s[end]"
   ]
  },
  {
   "cell_type": "code",
   "execution_count": 15,
   "id": "1176939f",
   "metadata": {},
   "outputs": [
    {
     "data": {
      "text/plain": [
       "([1, 2, 3], [1.2, 7.0, 3.141592653589793], [2.2, 9.0, 6.141592653589793])"
      ]
     },
     "metadata": {},
     "output_type": "display_data"
    }
   ],
   "source": [
    "v = [1, 2, 3]\n",
    "w = [1.2, 7, pi]\n",
    "v, w, v + w"
   ]
  },
  {
   "cell_type": "code",
   "execution_count": null,
   "id": "7acacb9a",
   "metadata": {},
   "outputs": [
    {
     "data": {
      "text/plain": [
       "3-element Vector{Float64}:\n",
       "  1.2\n",
       " 14.0\n",
       "  9.42477796076938"
      ]
     },
     "metadata": {},
     "output_type": "display_data"
    }
   ],
   "source": [
    "v .* w # hadamard"
   ]
  },
  {
   "cell_type": "code",
   "execution_count": 50,
   "id": "78f7ac80",
   "metadata": {},
   "outputs": [
    {
     "name": "stdout",
     "output_type": "stream",
     "text": [
      "0\n",
      "1\n"
     ]
    }
   ],
   "source": [
    "for i in 0:1\n",
    "    println(i)\n",
    "end\n"
   ]
  },
  {
   "cell_type": "markdown",
   "id": "810340f4",
   "metadata": {},
   "source": [
    "## Matrices"
   ]
  },
  {
   "cell_type": "code",
   "execution_count": null,
   "id": "beaa6bf6",
   "metadata": {},
   "outputs": [
    {
     "data": {
      "text/plain": [
       "78×78 Matrix{Float64}:\n",
       "  0.113652    -0.159101   -0.022697   …   0.161969    0.034591\n",
       "  0.125692    -0.176029   -0.121028       0.105554    0.0862171\n",
       "  0.253989    -0.130591   -0.299135       0.0734311   0.117479\n",
       "  0.322642    -0.306124   -0.220413       0.248159    0.131298\n",
       "  0.155035    -0.239046   -0.0220505      0.16671     0.00251898\n",
       "  0.138966    -0.143584   -0.0977384  …   0.0154169  -0.023631\n",
       " -0.030623     0.0037312   0.0538557     -0.0348386   0.0055793\n",
       " -0.301274     0.0638133   0.186897      -0.0712435  -0.0773\n",
       "  0.204614    -0.127641   -0.0171268      0.133663    0.0717586\n",
       "  0.226071    -0.0299585  -0.220032      -0.0487599   0.0662939\n",
       "  ⋮                                   ⋱              \n",
       "  0.0331879   -0.0705934   0.0441355      0.0638615   0.025793\n",
       " -0.00734966   0.0376596  -0.0233447  …  -0.0587128  -0.0174565\n",
       " -0.125595     0.0994945   0.13759       -0.0695302  -0.0637739\n",
       " -0.163289     0.174369    0.135446      -0.112666   -0.0608183\n",
       "  0.177001     0.175589   -0.0766113     -0.149794   -0.00774247\n",
       " -0.0422517   -0.141658    0.0824613      0.1491      0.0625221\n",
       " -0.151815    -0.284746    0.09293    …   0.184795    0.0854255\n",
       " -0.0998354   -0.115001    0.0892416      0.0777794  -0.000275383\n",
       " -0.0512062   -0.115787    0.0135688      0.1005      0.112082"
      ]
     },
     "metadata": {},
     "output_type": "display_data"
    }
   ],
   "source": [
    "A = [3 2 2; -1 1 1; -2 2 4]\n",
    "B = [1 0 0; 0 1 0; 0 0 1]\n",
    "C = [0 1 -1; 5 -2 1]\n",
    "D = randn(78,78)\n",
    "I = ones(3,3)\n",
    "Z = inv(D) #0.0s 'O', deberia medir en μs? (PUEDO ESCRIBIR MU!!! AINT NO WAY USA UNICODE)"
   ]
  },
  {
   "cell_type": "code",
   "execution_count": 83,
   "id": "d18e8825",
   "metadata": {},
   "outputs": [
    {
     "data": {
      "text/plain": [
       "1.41421"
      ]
     },
     "metadata": {},
     "output_type": "display_data"
    }
   ],
   "source": [
    "a = sqrt(2)\n",
    "round(a, digits=5)"
   ]
  },
  {
   "cell_type": "code",
   "execution_count": 86,
   "id": "8cc6eee3",
   "metadata": {},
   "outputs": [
    {
     "data": {
      "text/plain": [
       "4-element Vector{Float64}:\n",
       " 1.4142135623730951\n",
       " 2.0000000000000004\n",
       " 1.189207115002721\n",
       " 1.189207115002721"
      ]
     },
     "metadata": {},
     "output_type": "display_data"
    }
   ],
   "source": [
    "v = [a, a^2, a^0.5, sqrt(a)]"
   ]
  },
  {
   "cell_type": "code",
   "execution_count": 118,
   "id": "626d4d11",
   "metadata": {},
   "outputs": [
    {
     "data": {
      "text/plain": [
       "dot (generic function with 1 method)"
      ]
     },
     "metadata": {},
     "output_type": "display_data"
    }
   ],
   "source": [
    "norma2(v) = sqrt(sum(v.^2))\n",
    "dot(v,w) = sum(v .* w)"
   ]
  },
  {
   "cell_type": "code",
   "execution_count": null,
   "id": "d58f7be7",
   "metadata": {},
   "outputs": [
    {
     "name": "stdout",
     "output_type": "stream",
     "text": [
      "3.74165738677394133.162277660168379520"
     ]
    }
   ],
   "source": [
    "v = [1 2 3]\n",
    "w = [4 2 4]\n",
    "print(norma(v))"
   ]
  },
  {
   "cell_type": "code",
   "execution_count": 121,
   "id": "3cd5f42b",
   "metadata": {},
   "outputs": [
    {
     "name": "stdout",
     "output_type": "stream",
     "text": [
      "3.1622776601683795"
     ]
    }
   ],
   "source": [
    "print(norma(v - w))"
   ]
  },
  {
   "cell_type": "code",
   "execution_count": 122,
   "id": "972620d3",
   "metadata": {},
   "outputs": [
    {
     "name": "stdout",
     "output_type": "stream",
     "text": [
      "20"
     ]
    }
   ],
   "source": [
    "print(dot(v,w))"
   ]
  },
  {
   "cell_type": "code",
   "execution_count": null,
   "id": "e6b5530a",
   "metadata": {},
   "outputs": [],
   "source": []
  }
 ],
 "metadata": {
  "kernelspec": {
   "display_name": "Julia 1.11.4",
   "language": "julia",
   "name": "julia-1.11"
  },
  "language_info": {
   "file_extension": ".jl",
   "mimetype": "application/julia",
   "name": "julia",
   "version": "1.11.4"
  }
 },
 "nbformat": 4,
 "nbformat_minor": 5
}

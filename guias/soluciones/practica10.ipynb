{
  "nbformat": 4,
  "nbformat_minor": 0,
  "metadata": {
    "colab": {
      "provenance": [],
      "authorship_tag": "ABX9TyOzMiwJVzQ1cuhp3CMQoaG/",
      "include_colab_link": true
    },
    "kernelspec": {
      "name": "python3",
      "display_name": "Python 3"
    },
    "language_info": {
      "name": "python"
    }
  },
  "cells": [
    {
      "cell_type": "markdown",
      "metadata": {
        "id": "view-in-github",
        "colab_type": "text"
      },
      "source": [
        "<a href=\"https://colab.research.google.com/github/lmendezayl/uba-ldd-ic/blob/main/guias/soluciones/practica10.ipynb\" target=\"_parent\"><img src=\"https://colab.research.google.com/assets/colab-badge.svg\" alt=\"Open In Colab\"/></a>"
      ]
    },
    {
      "cell_type": "markdown",
      "source": [
        "# Práctica 10: Descenso por gradiente y Redes Neuronales\n"
      ],
      "metadata": {
        "id": "LeKhOls8khih"
      }
    },
    {
      "cell_type": "markdown",
      "source": [
        "\n",
        "Para realizar esta guía de ejercicios, descargar de la página de la materia el archivo `tf_regressor.py` para poder correr el siguiente comando\n",
        "\n",
        "```from tf_regressor import Regressor , train_test_split_scale_center```\n"
      ],
      "metadata": {
        "id": "YnMA-JMznxGI"
      }
    },
    {
      "cell_type": "markdown",
      "source": [
        "\n",
        "## Ejercicio 1.\n"
      ],
      "metadata": {
        "id": "55WANlHonv_6"
      }
    },
    {
      "cell_type": "markdown",
      "source": [
        "\n",
        "En este ejercicio utilizaremos el dataset `casos_coronavirus`.\n"
      ],
      "metadata": {
        "id": "CTSyZe4envfP"
      }
    },
    {
      "cell_type": "markdown",
      "source": [
        "\n",
        "### (a)\n",
        "Cargar el dataset y añadirle la columna `dias_transcurridos` con el indice de cada observación\n"
      ],
      "metadata": {
        "id": "DNPLwL8Nnu-B"
      }
    },
    {
      "cell_type": "markdown",
      "source": [
        "\n",
        "### (b)\n",
        "\n",
        "Plotear `dias_transcurridos` vs. `confirmados_Nuevos`\n"
      ],
      "metadata": {
        "id": "vPFqSxHSnuKr"
      }
    },
    {
      "cell_type": "markdown",
      "source": [
        "\n",
        "### (c)\n"
      ],
      "metadata": {
        "id": "979U1aVYns8g"
      }
    },
    {
      "cell_type": "markdown",
      "source": [
        "\n",
        "Queremos armar un modelo de regresión que permita explicar la evolución de casos de coronavirus ($Y$) en función de los días transcurridos ($X$). Para esto se proponen los siguientes modelos:\n",
        "\n",
        "1. $Y = b + w_0 X + w_1 X^2$\n",
        "\n",
        "2. $ Y = b + w_0 X^{w_1}$\n",
        "\n",
        "3. $Y = b + w e^X$\n",
        "\n",
        "4. $Y = b + w_0 e^{w_1 X}$\n",
        "\n",
        "Dividir el conjunto de datos en entrenamiento y testeo y decidir qué modelo resulta más adecuado. Utilizar `scikit-learn` para los modelos lineales y Regressor para los no lineales. En este último caso, se pueden usar de guía los modelos lineales para establecer valores iniciales de los pesos. Probar con distintas cantidades de épocas y valores iniciales para los pesos y el bias.\n",
        "\n",
        "**Obs**: para el modelo 4 escribir `f` utilizando `np.e**(w[1]*x)` para $e^{w_1x}$\n"
      ],
      "metadata": {
        "id": "U6mN9J3znsGd"
      }
    },
    {
      "cell_type": "markdown",
      "source": [
        "\n",
        "## Ejercicio 2.\n"
      ],
      "metadata": {
        "id": "qIfpDPXJnqkH"
      }
    },
    {
      "cell_type": "markdown",
      "source": [
        "\n",
        "En este ejercicio trabajaremos con el dataset titanic de seaborn\n"
      ],
      "metadata": {
        "id": "AJE0HFdGnqBB"
      }
    },
    {
      "cell_type": "code",
      "source": [
        "titanic = sns. load_dataset ('titanic')"
      ],
      "metadata": {
        "id": "ko3_Vuo8nz0B",
        "colab": {
          "base_uri": "https://localhost:8080/",
          "height": 146
        },
        "outputId": "3b38805e-e1f7-4620-e6c1-d09188f50ffe"
      },
      "execution_count": 1,
      "outputs": [
        {
          "output_type": "error",
          "ename": "NameError",
          "evalue": "name 'sns' is not defined",
          "traceback": [
            "\u001b[0;31m---------------------------------------------------------------------------\u001b[0m",
            "\u001b[0;31mNameError\u001b[0m                                 Traceback (most recent call last)",
            "\u001b[0;32m<ipython-input-1-9a4e37e47839>\u001b[0m in \u001b[0;36m<cell line: 0>\u001b[0;34m()\u001b[0m\n\u001b[0;32m----> 1\u001b[0;31m \u001b[0mtitanic\u001b[0m \u001b[0;34m=\u001b[0m \u001b[0msns\u001b[0m\u001b[0;34m.\u001b[0m \u001b[0mload_dataset\u001b[0m \u001b[0;34m(\u001b[0m\u001b[0;34m'titanic'\u001b[0m\u001b[0;34m)\u001b[0m\u001b[0;34m\u001b[0m\u001b[0;34m\u001b[0m\u001b[0m\n\u001b[0m",
            "\u001b[0;31mNameError\u001b[0m: name 'sns' is not defined"
          ]
        }
      ]
    },
    {
      "cell_type": "markdown",
      "source": [
        "\n",
        "### (a) Limpiando el dataset\n",
        "\n"
      ],
      "metadata": {
        "id": "AiwGfEWJnpAy"
      }
    },
    {
      "cell_type": "markdown",
      "source": [
        "\n",
        "1. contar cuantos NaN tiene cada columna, y en base a eso decidir qué columna del dataset descartar antes de ejecutar `.dropna()`\n",
        "2. graficar un boxplot de fare (precio del boleto), ¿qué se observa?\n",
        "3. explorar el método de pandas `quantile` para calcular el cuantil 0.99 de la columna `fare` y utilizarlo para eliminar las observaciones con outliers en esa columna.\n"
      ],
      "metadata": {
        "id": "Rc5qxq96nnhX"
      }
    },
    {
      "cell_type": "markdown",
      "source": [
        "\n",
        "### (b)\n",
        "Realizar regresión logística para predecir la variable binaria de supervivencia (`survived`) a partir del precio del boleto (`fare`). ¿Qué porcentaje de casos clasifica correctamente?\n"
      ],
      "metadata": {
        "id": "xAKtmNZ7nmTQ"
      }
    },
    {
      "cell_type": "markdown",
      "source": [
        "\n",
        "### (c)\n",
        "Repetir el item anterior, considerando la interacción de la suma de `fare` y age con `adult_male`. ¿Cuánto mejoró la precisión de la clasificación? ¿Qué se puede concluir a partir de la mejora en la precisión y del análisis de los pesos que el modelo otorga a cada variable?\n"
      ],
      "metadata": {
        "id": "3wS_3N8Cnlcz"
      }
    },
    {
      "cell_type": "markdown",
      "source": [
        "\n",
        "### (d)\n",
        "Proponer un método que permita obtener una clasificación más precisa mediante regresión logística. Las demás columnas del DataFrame son:\n",
        " - `pcclass` : clase en la que viajaba\n",
        " - `sibsp` : si viajaba con hermanos/as o cónyugues\n",
        " - `parch` : cantidad de hijes o padres con los que viajaba\n",
        " - `embarked` : donde se embarcó\n",
        " - `class` : nombre de la clase en la que viajaba (dato de pcclass en string)\n",
        " - `embark_town` : nombre del lugar donde embarcó\n",
        " - `alive` : si sobrevivió (mismo valor que survived pero booleano, por lo tanto no usarpara predecir)\n",
        " - `alone` : si viajaba solo/a (es True si *sibsp* = 0 y *parch* = 0)\n"
      ],
      "metadata": {
        "id": "T1cTlZgnnkr0"
      }
    },
    {
      "cell_type": "markdown",
      "source": [
        "\n",
        "## Ejercicio 3.\n"
      ],
      "metadata": {
        "id": "a8o9MIrcnjur"
      }
    },
    {
      "cell_type": "markdown",
      "source": [
        "\n",
        "Utilizando el dataset `diabetes.csv`, se quiere desarrollar un modelo para predecir si una persona tiene o no diabetes en base a las características descriptas en el resto de las columnas.\n"
      ],
      "metadata": {
        "id": "pMj0JOOrnjLF"
      }
    },
    {
      "cell_type": "markdown",
      "source": [
        "\n",
        "### (a)\n",
        "Entrenar un perceptrón simple que permita categorizar a una persona como diabética o no diabética utilizando la sigmoidea como función de activación. ¿Cuántos falsos negativos hay? ¿Cómo se intepretan los pesos de la red entrenada?\n"
      ],
      "metadata": {
        "id": "qerFsn_XniXg"
      }
    },
    {
      "cell_type": "markdown",
      "source": [
        "\n",
        "### (b)\n",
        "Diseñar una red multicapa para la clasificación, utilizando la sigmoidea como función de activación. ¿Cómo se desempeña este modelo con respecto al anterior?\n"
      ],
      "metadata": {
        "id": "PcU1L8yanhao"
      }
    },
    {
      "cell_type": "markdown",
      "source": [
        "\n",
        "## Ejercicio 4.\n"
      ],
      "metadata": {
        "id": "gVHfY7PBngVP"
      }
    },
    {
      "cell_type": "markdown",
      "source": [
        "\n",
        "Probar que un perceptrón simple con la identidad como función de activación es equivalente a un modelo de Regresión Lineal.\n"
      ],
      "metadata": {
        "id": "vJGwh0Bmnfi6"
      }
    }
  ]
}
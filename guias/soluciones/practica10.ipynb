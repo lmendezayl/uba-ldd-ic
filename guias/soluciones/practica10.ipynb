{
  "nbformat": 4,
  "nbformat_minor": 0,
  "metadata": {
    "colab": {
      "provenance": [],
      "toc_visible": true,
      "authorship_tag": "ABX9TyN4JyXj8MAOqTEnsDDIY4Os",
      "include_colab_link": true
    },
    "kernelspec": {
      "name": "python3",
      "display_name": "Python 3"
    },
    "language_info": {
      "name": "python"
    }
  },
  "cells": [
    {
      "cell_type": "markdown",
      "metadata": {
        "id": "view-in-github",
        "colab_type": "text"
      },
      "source": [
        "<a href=\"https://colab.research.google.com/github/lmendezayl/uba-ldd-ic/blob/main/guias/soluciones/practica10.ipynb\" target=\"_parent\"><img src=\"https://colab.research.google.com/assets/colab-badge.svg\" alt=\"Open In Colab\"/></a>"
      ]
    },
    {
      "cell_type": "markdown",
      "source": [
        "# Práctica 10: Descenso por gradiente y Redes Neuronales\n"
      ],
      "metadata": {
        "id": "LeKhOls8khih"
      }
    },
    {
      "cell_type": "markdown",
      "source": [
        "\n",
        "Para realizar esta guía de ejercicios, descargar de la página de la materia el archivo `tf_regressor.py` para poder correr el siguiente comando"
      ],
      "metadata": {
        "id": "YnMA-JMznxGI"
      }
    },
    {
      "cell_type": "code",
      "source": [
        "import requests\n",
        "import os\n",
        "\n",
        "url_tf = \"https://raw.githubusercontent.com/lmendezayl/uba-ldd-ic/refs/heads/main/datasets/tf_regressor.py\"\n",
        "response = requests.get(url_tf)\n",
        "tf_regressor = os.path.basename(url_tf)\n",
        "\n",
        "with open(tf_regressor, \"wb\") as file:\n",
        "    file.write(response.content)\n",
        "\n",
        "url = 'https://raw.githubusercontent.com/lmendezayl/uba-ldd-ic/refs/heads/main/datasets/'"
      ],
      "metadata": {
        "id": "wz1y0onN0-Hc"
      },
      "execution_count": 3,
      "outputs": []
    },
    {
      "cell_type": "code",
      "source": [
        "from tf_regressor import Regressor, train_test_split_scale_center\n",
        "import numpy as np\n",
        "import pandas as pd\n",
        "import seaborn as sns\n",
        "import seaborn.objects as so"
      ],
      "metadata": {
        "id": "4r2cmov8urjP"
      },
      "execution_count": 4,
      "outputs": []
    },
    {
      "cell_type": "markdown",
      "source": [
        "\n",
        "## Ejercicio 1.\n"
      ],
      "metadata": {
        "id": "55WANlHonv_6"
      }
    },
    {
      "cell_type": "markdown",
      "source": [
        "\n",
        "En este ejercicio utilizaremos el dataset `casos_coronavirus`.\n"
      ],
      "metadata": {
        "id": "CTSyZe4envfP"
      }
    },
    {
      "cell_type": "markdown",
      "source": [
        "\n",
        "### (a)\n",
        "Cargar el dataset y añadirle la columna `dias_transcurridos` con el indice de cada observación\n"
      ],
      "metadata": {
        "id": "DNPLwL8Nnu-B"
      }
    },
    {
      "cell_type": "code",
      "source": [
        "corona = pd.read_csv(url + 'casos_coronavirus.csv')\n",
        "corona['dias_transcurridos'] = corona.index"
      ],
      "metadata": {
        "id": "2WcmtdnM1OG0",
        "outputId": "176af1d5-602c-4f7c-8717-6f99d79d46ba",
        "colab": {
          "base_uri": "https://localhost:8080/",
          "height": 423
        }
      },
      "execution_count": 11,
      "outputs": [
        {
          "output_type": "execute_result",
          "data": {
            "text/plain": [
              "       fecha  confirmados_Nuevos  dias_transcurridos\n",
              "0   3-3-2020                   1                   0\n",
              "1   4-3-2020                   0                   1\n",
              "2   5-3-2020                   1                   2\n",
              "3   6-3-2020                   6                   3\n",
              "4   7-3-2020                   0                   4\n",
              "..       ...                 ...                 ...\n",
              "91  2-6-2020                 904                  91\n",
              "92  3-6-2020                 949                  92\n",
              "93  4-6-2020                 929                  93\n",
              "94  5-6-2020                 840                  94\n",
              "95  6-6-2020                 983                  95\n",
              "\n",
              "[96 rows x 3 columns]"
            ],
            "text/html": [
              "\n",
              "  <div id=\"df-ea94cfc7-c433-4a84-9f13-507775c36802\" class=\"colab-df-container\">\n",
              "    <div>\n",
              "<style scoped>\n",
              "    .dataframe tbody tr th:only-of-type {\n",
              "        vertical-align: middle;\n",
              "    }\n",
              "\n",
              "    .dataframe tbody tr th {\n",
              "        vertical-align: top;\n",
              "    }\n",
              "\n",
              "    .dataframe thead th {\n",
              "        text-align: right;\n",
              "    }\n",
              "</style>\n",
              "<table border=\"1\" class=\"dataframe\">\n",
              "  <thead>\n",
              "    <tr style=\"text-align: right;\">\n",
              "      <th></th>\n",
              "      <th>fecha</th>\n",
              "      <th>confirmados_Nuevos</th>\n",
              "      <th>dias_transcurridos</th>\n",
              "    </tr>\n",
              "  </thead>\n",
              "  <tbody>\n",
              "    <tr>\n",
              "      <th>0</th>\n",
              "      <td>3-3-2020</td>\n",
              "      <td>1</td>\n",
              "      <td>0</td>\n",
              "    </tr>\n",
              "    <tr>\n",
              "      <th>1</th>\n",
              "      <td>4-3-2020</td>\n",
              "      <td>0</td>\n",
              "      <td>1</td>\n",
              "    </tr>\n",
              "    <tr>\n",
              "      <th>2</th>\n",
              "      <td>5-3-2020</td>\n",
              "      <td>1</td>\n",
              "      <td>2</td>\n",
              "    </tr>\n",
              "    <tr>\n",
              "      <th>3</th>\n",
              "      <td>6-3-2020</td>\n",
              "      <td>6</td>\n",
              "      <td>3</td>\n",
              "    </tr>\n",
              "    <tr>\n",
              "      <th>4</th>\n",
              "      <td>7-3-2020</td>\n",
              "      <td>0</td>\n",
              "      <td>4</td>\n",
              "    </tr>\n",
              "    <tr>\n",
              "      <th>...</th>\n",
              "      <td>...</td>\n",
              "      <td>...</td>\n",
              "      <td>...</td>\n",
              "    </tr>\n",
              "    <tr>\n",
              "      <th>91</th>\n",
              "      <td>2-6-2020</td>\n",
              "      <td>904</td>\n",
              "      <td>91</td>\n",
              "    </tr>\n",
              "    <tr>\n",
              "      <th>92</th>\n",
              "      <td>3-6-2020</td>\n",
              "      <td>949</td>\n",
              "      <td>92</td>\n",
              "    </tr>\n",
              "    <tr>\n",
              "      <th>93</th>\n",
              "      <td>4-6-2020</td>\n",
              "      <td>929</td>\n",
              "      <td>93</td>\n",
              "    </tr>\n",
              "    <tr>\n",
              "      <th>94</th>\n",
              "      <td>5-6-2020</td>\n",
              "      <td>840</td>\n",
              "      <td>94</td>\n",
              "    </tr>\n",
              "    <tr>\n",
              "      <th>95</th>\n",
              "      <td>6-6-2020</td>\n",
              "      <td>983</td>\n",
              "      <td>95</td>\n",
              "    </tr>\n",
              "  </tbody>\n",
              "</table>\n",
              "<p>96 rows × 3 columns</p>\n",
              "</div>\n",
              "    <div class=\"colab-df-buttons\">\n",
              "\n",
              "  <div class=\"colab-df-container\">\n",
              "    <button class=\"colab-df-convert\" onclick=\"convertToInteractive('df-ea94cfc7-c433-4a84-9f13-507775c36802')\"\n",
              "            title=\"Convert this dataframe to an interactive table.\"\n",
              "            style=\"display:none;\">\n",
              "\n",
              "  <svg xmlns=\"http://www.w3.org/2000/svg\" height=\"24px\" viewBox=\"0 -960 960 960\">\n",
              "    <path d=\"M120-120v-720h720v720H120Zm60-500h600v-160H180v160Zm220 220h160v-160H400v160Zm0 220h160v-160H400v160ZM180-400h160v-160H180v160Zm440 0h160v-160H620v160ZM180-180h160v-160H180v160Zm440 0h160v-160H620v160Z\"/>\n",
              "  </svg>\n",
              "    </button>\n",
              "\n",
              "  <style>\n",
              "    .colab-df-container {\n",
              "      display:flex;\n",
              "      gap: 12px;\n",
              "    }\n",
              "\n",
              "    .colab-df-convert {\n",
              "      background-color: #E8F0FE;\n",
              "      border: none;\n",
              "      border-radius: 50%;\n",
              "      cursor: pointer;\n",
              "      display: none;\n",
              "      fill: #1967D2;\n",
              "      height: 32px;\n",
              "      padding: 0 0 0 0;\n",
              "      width: 32px;\n",
              "    }\n",
              "\n",
              "    .colab-df-convert:hover {\n",
              "      background-color: #E2EBFA;\n",
              "      box-shadow: 0px 1px 2px rgba(60, 64, 67, 0.3), 0px 1px 3px 1px rgba(60, 64, 67, 0.15);\n",
              "      fill: #174EA6;\n",
              "    }\n",
              "\n",
              "    .colab-df-buttons div {\n",
              "      margin-bottom: 4px;\n",
              "    }\n",
              "\n",
              "    [theme=dark] .colab-df-convert {\n",
              "      background-color: #3B4455;\n",
              "      fill: #D2E3FC;\n",
              "    }\n",
              "\n",
              "    [theme=dark] .colab-df-convert:hover {\n",
              "      background-color: #434B5C;\n",
              "      box-shadow: 0px 1px 3px 1px rgba(0, 0, 0, 0.15);\n",
              "      filter: drop-shadow(0px 1px 2px rgba(0, 0, 0, 0.3));\n",
              "      fill: #FFFFFF;\n",
              "    }\n",
              "  </style>\n",
              "\n",
              "    <script>\n",
              "      const buttonEl =\n",
              "        document.querySelector('#df-ea94cfc7-c433-4a84-9f13-507775c36802 button.colab-df-convert');\n",
              "      buttonEl.style.display =\n",
              "        google.colab.kernel.accessAllowed ? 'block' : 'none';\n",
              "\n",
              "      async function convertToInteractive(key) {\n",
              "        const element = document.querySelector('#df-ea94cfc7-c433-4a84-9f13-507775c36802');\n",
              "        const dataTable =\n",
              "          await google.colab.kernel.invokeFunction('convertToInteractive',\n",
              "                                                    [key], {});\n",
              "        if (!dataTable) return;\n",
              "\n",
              "        const docLinkHtml = 'Like what you see? Visit the ' +\n",
              "          '<a target=\"_blank\" href=https://colab.research.google.com/notebooks/data_table.ipynb>data table notebook</a>'\n",
              "          + ' to learn more about interactive tables.';\n",
              "        element.innerHTML = '';\n",
              "        dataTable['output_type'] = 'display_data';\n",
              "        await google.colab.output.renderOutput(dataTable, element);\n",
              "        const docLink = document.createElement('div');\n",
              "        docLink.innerHTML = docLinkHtml;\n",
              "        element.appendChild(docLink);\n",
              "      }\n",
              "    </script>\n",
              "  </div>\n",
              "\n",
              "\n",
              "    <div id=\"df-c2b9e4b8-f31c-41c7-930d-70210063f8ae\">\n",
              "      <button class=\"colab-df-quickchart\" onclick=\"quickchart('df-c2b9e4b8-f31c-41c7-930d-70210063f8ae')\"\n",
              "                title=\"Suggest charts\"\n",
              "                style=\"display:none;\">\n",
              "\n",
              "<svg xmlns=\"http://www.w3.org/2000/svg\" height=\"24px\"viewBox=\"0 0 24 24\"\n",
              "     width=\"24px\">\n",
              "    <g>\n",
              "        <path d=\"M19 3H5c-1.1 0-2 .9-2 2v14c0 1.1.9 2 2 2h14c1.1 0 2-.9 2-2V5c0-1.1-.9-2-2-2zM9 17H7v-7h2v7zm4 0h-2V7h2v10zm4 0h-2v-4h2v4z\"/>\n",
              "    </g>\n",
              "</svg>\n",
              "      </button>\n",
              "\n",
              "<style>\n",
              "  .colab-df-quickchart {\n",
              "      --bg-color: #E8F0FE;\n",
              "      --fill-color: #1967D2;\n",
              "      --hover-bg-color: #E2EBFA;\n",
              "      --hover-fill-color: #174EA6;\n",
              "      --disabled-fill-color: #AAA;\n",
              "      --disabled-bg-color: #DDD;\n",
              "  }\n",
              "\n",
              "  [theme=dark] .colab-df-quickchart {\n",
              "      --bg-color: #3B4455;\n",
              "      --fill-color: #D2E3FC;\n",
              "      --hover-bg-color: #434B5C;\n",
              "      --hover-fill-color: #FFFFFF;\n",
              "      --disabled-bg-color: #3B4455;\n",
              "      --disabled-fill-color: #666;\n",
              "  }\n",
              "\n",
              "  .colab-df-quickchart {\n",
              "    background-color: var(--bg-color);\n",
              "    border: none;\n",
              "    border-radius: 50%;\n",
              "    cursor: pointer;\n",
              "    display: none;\n",
              "    fill: var(--fill-color);\n",
              "    height: 32px;\n",
              "    padding: 0;\n",
              "    width: 32px;\n",
              "  }\n",
              "\n",
              "  .colab-df-quickchart:hover {\n",
              "    background-color: var(--hover-bg-color);\n",
              "    box-shadow: 0 1px 2px rgba(60, 64, 67, 0.3), 0 1px 3px 1px rgba(60, 64, 67, 0.15);\n",
              "    fill: var(--button-hover-fill-color);\n",
              "  }\n",
              "\n",
              "  .colab-df-quickchart-complete:disabled,\n",
              "  .colab-df-quickchart-complete:disabled:hover {\n",
              "    background-color: var(--disabled-bg-color);\n",
              "    fill: var(--disabled-fill-color);\n",
              "    box-shadow: none;\n",
              "  }\n",
              "\n",
              "  .colab-df-spinner {\n",
              "    border: 2px solid var(--fill-color);\n",
              "    border-color: transparent;\n",
              "    border-bottom-color: var(--fill-color);\n",
              "    animation:\n",
              "      spin 1s steps(1) infinite;\n",
              "  }\n",
              "\n",
              "  @keyframes spin {\n",
              "    0% {\n",
              "      border-color: transparent;\n",
              "      border-bottom-color: var(--fill-color);\n",
              "      border-left-color: var(--fill-color);\n",
              "    }\n",
              "    20% {\n",
              "      border-color: transparent;\n",
              "      border-left-color: var(--fill-color);\n",
              "      border-top-color: var(--fill-color);\n",
              "    }\n",
              "    30% {\n",
              "      border-color: transparent;\n",
              "      border-left-color: var(--fill-color);\n",
              "      border-top-color: var(--fill-color);\n",
              "      border-right-color: var(--fill-color);\n",
              "    }\n",
              "    40% {\n",
              "      border-color: transparent;\n",
              "      border-right-color: var(--fill-color);\n",
              "      border-top-color: var(--fill-color);\n",
              "    }\n",
              "    60% {\n",
              "      border-color: transparent;\n",
              "      border-right-color: var(--fill-color);\n",
              "    }\n",
              "    80% {\n",
              "      border-color: transparent;\n",
              "      border-right-color: var(--fill-color);\n",
              "      border-bottom-color: var(--fill-color);\n",
              "    }\n",
              "    90% {\n",
              "      border-color: transparent;\n",
              "      border-bottom-color: var(--fill-color);\n",
              "    }\n",
              "  }\n",
              "</style>\n",
              "\n",
              "      <script>\n",
              "        async function quickchart(key) {\n",
              "          const quickchartButtonEl =\n",
              "            document.querySelector('#' + key + ' button');\n",
              "          quickchartButtonEl.disabled = true;  // To prevent multiple clicks.\n",
              "          quickchartButtonEl.classList.add('colab-df-spinner');\n",
              "          try {\n",
              "            const charts = await google.colab.kernel.invokeFunction(\n",
              "                'suggestCharts', [key], {});\n",
              "          } catch (error) {\n",
              "            console.error('Error during call to suggestCharts:', error);\n",
              "          }\n",
              "          quickchartButtonEl.classList.remove('colab-df-spinner');\n",
              "          quickchartButtonEl.classList.add('colab-df-quickchart-complete');\n",
              "        }\n",
              "        (() => {\n",
              "          let quickchartButtonEl =\n",
              "            document.querySelector('#df-c2b9e4b8-f31c-41c7-930d-70210063f8ae button');\n",
              "          quickchartButtonEl.style.display =\n",
              "            google.colab.kernel.accessAllowed ? 'block' : 'none';\n",
              "        })();\n",
              "      </script>\n",
              "    </div>\n",
              "\n",
              "  <div id=\"id_fba19df3-b1ad-4a40-a6c7-8687896ee687\">\n",
              "    <style>\n",
              "      .colab-df-generate {\n",
              "        background-color: #E8F0FE;\n",
              "        border: none;\n",
              "        border-radius: 50%;\n",
              "        cursor: pointer;\n",
              "        display: none;\n",
              "        fill: #1967D2;\n",
              "        height: 32px;\n",
              "        padding: 0 0 0 0;\n",
              "        width: 32px;\n",
              "      }\n",
              "\n",
              "      .colab-df-generate:hover {\n",
              "        background-color: #E2EBFA;\n",
              "        box-shadow: 0px 1px 2px rgba(60, 64, 67, 0.3), 0px 1px 3px 1px rgba(60, 64, 67, 0.15);\n",
              "        fill: #174EA6;\n",
              "      }\n",
              "\n",
              "      [theme=dark] .colab-df-generate {\n",
              "        background-color: #3B4455;\n",
              "        fill: #D2E3FC;\n",
              "      }\n",
              "\n",
              "      [theme=dark] .colab-df-generate:hover {\n",
              "        background-color: #434B5C;\n",
              "        box-shadow: 0px 1px 3px 1px rgba(0, 0, 0, 0.15);\n",
              "        filter: drop-shadow(0px 1px 2px rgba(0, 0, 0, 0.3));\n",
              "        fill: #FFFFFF;\n",
              "      }\n",
              "    </style>\n",
              "    <button class=\"colab-df-generate\" onclick=\"generateWithVariable('corona')\"\n",
              "            title=\"Generate code using this dataframe.\"\n",
              "            style=\"display:none;\">\n",
              "\n",
              "  <svg xmlns=\"http://www.w3.org/2000/svg\" height=\"24px\"viewBox=\"0 0 24 24\"\n",
              "       width=\"24px\">\n",
              "    <path d=\"M7,19H8.4L18.45,9,17,7.55,7,17.6ZM5,21V16.75L18.45,3.32a2,2,0,0,1,2.83,0l1.4,1.43a1.91,1.91,0,0,1,.58,1.4,1.91,1.91,0,0,1-.58,1.4L9.25,21ZM18.45,9,17,7.55Zm-12,3A5.31,5.31,0,0,0,4.9,8.1,5.31,5.31,0,0,0,1,6.5,5.31,5.31,0,0,0,4.9,4.9,5.31,5.31,0,0,0,6.5,1,5.31,5.31,0,0,0,8.1,4.9,5.31,5.31,0,0,0,12,6.5,5.46,5.46,0,0,0,6.5,12Z\"/>\n",
              "  </svg>\n",
              "    </button>\n",
              "    <script>\n",
              "      (() => {\n",
              "      const buttonEl =\n",
              "        document.querySelector('#id_fba19df3-b1ad-4a40-a6c7-8687896ee687 button.colab-df-generate');\n",
              "      buttonEl.style.display =\n",
              "        google.colab.kernel.accessAllowed ? 'block' : 'none';\n",
              "\n",
              "      buttonEl.onclick = () => {\n",
              "        google.colab.notebook.generateWithVariable('corona');\n",
              "      }\n",
              "      })();\n",
              "    </script>\n",
              "  </div>\n",
              "\n",
              "    </div>\n",
              "  </div>\n"
            ],
            "application/vnd.google.colaboratory.intrinsic+json": {
              "type": "dataframe",
              "variable_name": "corona",
              "summary": "{\n  \"name\": \"corona\",\n  \"rows\": 96,\n  \"fields\": [\n    {\n      \"column\": \"fecha\",\n      \"properties\": {\n        \"dtype\": \"string\",\n        \"num_unique_values\": 96,\n        \"samples\": [\n          \"22-5-2020\",\n          \"19-5-2020\",\n          \"15-5-2020\"\n        ],\n        \"semantic_type\": \"\",\n        \"description\": \"\"\n      }\n    },\n    {\n      \"column\": \"confirmados_Nuevos\",\n      \"properties\": {\n        \"dtype\": \"number\",\n        \"std\": 264,\n        \"min\": 0,\n        \"max\": 983,\n        \"num_unique_values\": 84,\n        \"samples\": [\n          706,\n          1,\n          285\n        ],\n        \"semantic_type\": \"\",\n        \"description\": \"\"\n      }\n    },\n    {\n      \"column\": \"dias_transcurridos\",\n      \"properties\": {\n        \"dtype\": \"number\",\n        \"std\": 27,\n        \"min\": 0,\n        \"max\": 95,\n        \"num_unique_values\": 96,\n        \"samples\": [\n          80,\n          77,\n          73\n        ],\n        \"semantic_type\": \"\",\n        \"description\": \"\"\n      }\n    }\n  ]\n}"
            }
          },
          "metadata": {},
          "execution_count": 11
        }
      ]
    },
    {
      "cell_type": "markdown",
      "source": [
        "\n",
        "### (b)\n",
        "\n",
        "Plotear `dias_transcurridos` vs. `confirmados_Nuevos`\n"
      ],
      "metadata": {
        "id": "vPFqSxHSnuKr"
      }
    },
    {
      "cell_type": "code",
      "source": [
        "(\n",
        "    so.Plot(corona.dias_transcurridos, corona.confirmados_Nuevos)\n",
        "    .add(so.Line(color='r'))\n",
        "    .label(x='Dias transcurridos',\n",
        "           y='Casos confirmados en el dia',\n",
        "           title='Evolución de contagios diarios')\n",
        ")"
      ],
      "metadata": {
        "id": "OvS95BRV2Zp6",
        "outputId": "048be210-0787-4cb3-e089-f9f552a47292",
        "colab": {
          "base_uri": "https://localhost:8080/",
          "height": 395
        }
      },
      "execution_count": 18,
      "outputs": [
        {
          "output_type": "execute_result",
          "data": {
            "text/plain": [
              "<seaborn._core.plot.Plot at 0x7b9921d86390>"
            ],
            "image/png": "[encoded data removed]"
          },
          "metadata": {
            "image/png": {
              "width": 509.15,
              "height": 378.25
            }
          },
          "execution_count": 18
        }
      ]
    },
    {
      "cell_type": "markdown",
      "source": [
        "\n",
        "### (c)\n"
      ],
      "metadata": {
        "id": "979U1aVYns8g"
      }
    },
    {
      "cell_type": "markdown",
      "source": [
        "\n",
        "Queremos armar un modelo de regresión que permita explicar la evolución de casos de coronavirus ($Y$) en función de los días transcurridos ($X$). Para esto se proponen los siguientes modelos:\n",
        "\n",
        "1. $Y = b + w_0 X + w_1 X^2$\n",
        "\n",
        "2. $ Y = b + w_0 X^{w_1}$\n",
        "\n",
        "3. $Y = b + w e^X$\n",
        "\n",
        "4. $Y = b + w_0 e^{w_1 X}$\n",
        "\n",
        "Dividir el conjunto de datos en entrenamiento y testeo y decidir qué modelo resulta más adecuado. Utilizar `scikit-learn` para los modelos lineales y Regressor para los no lineales. En este último caso, se pueden usar de guía los modelos lineales para establecer valores iniciales de los pesos. Probar con distintas cantidades de épocas y valores iniciales para los pesos y el bias.\n",
        "\n",
        "**Obs**: para el modelo 4 escribir `f` utilizando `np.e**(w[1]*x)` para $e^{w_1x}$\n"
      ],
      "metadata": {
        "id": "U6mN9J3znsGd"
      }
    },
    {
      "cell_type": "markdown",
      "source": [
        "\n",
        "## Ejercicio 2.\n"
      ],
      "metadata": {
        "id": "qIfpDPXJnqkH"
      }
    },
    {
      "cell_type": "markdown",
      "source": [
        "\n",
        "En este ejercicio trabajaremos con el dataset titanic de seaborn\n"
      ],
      "metadata": {
        "id": "AJE0HFdGnqBB"
      }
    },
    {
      "cell_type": "code",
      "source": [
        "titanic = sns. load_dataset ('titanic')"
      ],
      "metadata": {
        "id": "ko3_Vuo8nz0B",
        "colab": {
          "base_uri": "https://localhost:8080/",
          "height": 146
        },
        "outputId": "3b38805e-e1f7-4620-e6c1-d09188f50ffe"
      },
      "execution_count": null,
      "outputs": [
        {
          "output_type": "error",
          "ename": "NameError",
          "evalue": "name 'sns' is not defined",
          "traceback": [
            "\u001b[0;31m---------------------------------------------------------------------------\u001b[0m",
            "\u001b[0;31mNameError\u001b[0m                                 Traceback (most recent call last)",
            "\u001b[0;32m<ipython-input-1-9a4e37e47839>\u001b[0m in \u001b[0;36m<cell line: 0>\u001b[0;34m()\u001b[0m\n\u001b[0;32m----> 1\u001b[0;31m \u001b[0mtitanic\u001b[0m \u001b[0;34m=\u001b[0m \u001b[0msns\u001b[0m\u001b[0;34m.\u001b[0m \u001b[0mload_dataset\u001b[0m \u001b[0;34m(\u001b[0m\u001b[0;34m'titanic'\u001b[0m\u001b[0;34m)\u001b[0m\u001b[0;34m\u001b[0m\u001b[0;34m\u001b[0m\u001b[0m\n\u001b[0m",
            "\u001b[0;31mNameError\u001b[0m: name 'sns' is not defined"
          ]
        }
      ]
    },
    {
      "cell_type": "markdown",
      "source": [
        "\n",
        "### (a) Limpiando el dataset\n",
        "\n"
      ],
      "metadata": {
        "id": "AiwGfEWJnpAy"
      }
    },
    {
      "cell_type": "markdown",
      "source": [
        "\n",
        "1. contar cuantos NaN tiene cada columna, y en base a eso decidir qué columna del dataset descartar antes de ejecutar `.dropna()`\n",
        "2. graficar un boxplot de fare (precio del boleto), ¿qué se observa?\n",
        "3. explorar el método de pandas `quantile` para calcular el cuantil 0.99 de la columna `fare` y utilizarlo para eliminar las observaciones con outliers en esa columna.\n"
      ],
      "metadata": {
        "id": "Rc5qxq96nnhX"
      }
    },
    {
      "cell_type": "markdown",
      "source": [
        "\n",
        "### (b)\n",
        "Realizar regresión logística para predecir la variable binaria de supervivencia (`survived`) a partir del precio del boleto (`fare`). ¿Qué porcentaje de casos clasifica correctamente?\n"
      ],
      "metadata": {
        "id": "xAKtmNZ7nmTQ"
      }
    },
    {
      "cell_type": "markdown",
      "source": [
        "\n",
        "### (c)\n",
        "Repetir el item anterior, considerando la interacción de la suma de `fare` y age con `adult_male`. ¿Cuánto mejoró la precisión de la clasificación? ¿Qué se puede concluir a partir de la mejora en la precisión y del análisis de los pesos que el modelo otorga a cada variable?\n"
      ],
      "metadata": {
        "id": "3wS_3N8Cnlcz"
      }
    },
    {
      "cell_type": "markdown",
      "source": [
        "\n",
        "### (d)\n",
        "Proponer un método que permita obtener una clasificación más precisa mediante regresión logística. Las demás columnas del DataFrame son:\n",
        " - `pcclass` : clase en la que viajaba\n",
        " - `sibsp` : si viajaba con hermanos/as o cónyugues\n",
        " - `parch` : cantidad de hijes o padres con los que viajaba\n",
        " - `embarked` : donde se embarcó\n",
        " - `class` : nombre de la clase en la que viajaba (dato de pcclass en string)\n",
        " - `embark_town` : nombre del lugar donde embarcó\n",
        " - `alive` : si sobrevivió (mismo valor que survived pero booleano, por lo tanto no usarpara predecir)\n",
        " - `alone` : si viajaba solo/a (es True si *sibsp* = 0 y *parch* = 0)\n"
      ],
      "metadata": {
        "id": "T1cTlZgnnkr0"
      }
    },
    {
      "cell_type": "markdown",
      "source": [
        "\n",
        "## Ejercicio 3.\n"
      ],
      "metadata": {
        "id": "a8o9MIrcnjur"
      }
    },
    {
      "cell_type": "markdown",
      "source": [
        "\n",
        "Utilizando el dataset `diabetes.csv`, se quiere desarrollar un modelo para predecir si una persona tiene o no diabetes en base a las características descriptas en el resto de las columnas.\n"
      ],
      "metadata": {
        "id": "pMj0JOOrnjLF"
      }
    },
    {
      "cell_type": "markdown",
      "source": [
        "\n",
        "### (a)\n",
        "Entrenar un perceptrón simple que permita categorizar a una persona como diabética o no diabética utilizando la sigmoidea como función de activación. ¿Cuántos falsos negativos hay? ¿Cómo se intepretan los pesos de la red entrenada?\n"
      ],
      "metadata": {
        "id": "qerFsn_XniXg"
      }
    },
    {
      "cell_type": "markdown",
      "source": [
        "\n",
        "### (b)\n",
        "Diseñar una red multicapa para la clasificación, utilizando la sigmoidea como función de activación. ¿Cómo se desempeña este modelo con respecto al anterior?\n"
      ],
      "metadata": {
        "id": "PcU1L8yanhao"
      }
    },
    {
      "cell_type": "markdown",
      "source": [
        "\n",
        "## Ejercicio 4.\n"
      ],
      "metadata": {
        "id": "gVHfY7PBngVP"
      }
    },
    {
      "cell_type": "markdown",
      "source": [
        "\n",
        "Probar que un perceptrón simple con la identidad como función de activación es equivalente a un modelo de Regresión Lineal.\n"
      ],
      "metadata": {
        "id": "vJGwh0Bmnfi6"
      }
    }
  ]
}
{
 "cells": [
  {
   "cell_type": "code",
   "execution_count": 32,
   "metadata": {},
   "outputs": [],
   "source": [
    "import numpy as np\n",
    "import pandas as pd\n",
    "import matplotlib.pyplot as plt"
   ]
  },
  {
   "cell_type": "markdown",
   "metadata": {},
   "source": [
    "# Funciones\n",
    "20. Utilizando solo las operaciones y funciones vistas en los ejercicios anteriores, escribir codigos de una sola linea para las siguientes funciones matematicas:\n",
    "    - $||v||_2$\n",
    "    - $||v - w||_2$\n",
    "    - $<v,w>$"
   ]
  },
  {
   "cell_type": "code",
   "execution_count": null,
   "metadata": {},
   "outputs": [],
   "source": [
    "def norma2(v: np.ndarray) -> float:\n",
    "    return np.sqrt(sum(v[i]**2 for i in range(len(v))))\n",
    "\n",
    "def distancia2(v: np.ndarray, w: np.ndarray) -> float:\n",
    "    return norma2(v - w)\n",
    "\n",
    "def producto_interno(v: np.ndarray, w: np.ndarray) -> float:\n",
    "    return sum(v[i] + w[i] for i in range(len(v)))"
   ]
  },
  {
   "cell_type": "markdown",
   "metadata": {},
   "source": [
    "25.  Ley de los grandes numeros. Esta ley asegura que si tiramos $n$ veces una moneda, la proporcion de veces que sale cara es 1/2 cuando $n$ tiene a infinito. Simular 10 lanzamientos de una moneda y calcular la proporcion de veces que sale cara. Repetir para n = 1000, 100000. "
   ]
  },
  {
   "cell_type": "code",
   "execution_count": null,
   "metadata": {},
   "outputs": [
    {
     "name": "stdout",
     "output_type": "stream",
     "text": [
      "0.5\n",
      "0.489\n",
      "0.49979\n",
      "0.4999055\n"
     ]
    }
   ],
   "source": [
    "def simulacion_lgn_cara(n: int) -> float:\n",
    "    x = np.array([\"cara\", \"ceca\"])\n",
    "    s = np.random.choice(x, size=n)\n",
    "    k = 0\n",
    "    for i in range(len(s)):\n",
    "        if s[i] == \"cara\":\n",
    "            k = k + 1 \n",
    "    return k / n\n",
    "\n",
    "print(simulacion_lgn_cara(10))\n",
    "print(simulacion_lgn_cara(1000))\n",
    "print(simulacion_lgn_cara(100000))\n",
    "print(simulacion_lgn_cara(10000000))"
   ]
  },
  {
   "cell_type": "markdown",
   "metadata": {},
   "source": [
    "26. Se tira $n$ veces una moneda. Intentar predecir, si existen, los siguientes limites cuando $n$ tiende a infinito\n",
    "    - La cantidad de caras dividido por la cantidad de cecas\n",
    "    - La cantidad de caras menos la cantidad de cecas\n",
    "    - La cantidad de caras menos la cantidad de cecas dividido por la cantidad total de tiradas\n",
    "    - (dificil) Considerando las veces que salieron tres caras seguidas, la proporcion de veces que en la siguiente tirada sale nuevamente cara."
   ]
  },
  {
   "cell_type": "code",
   "execution_count": 24,
   "metadata": {},
   "outputs": [],
   "source": [
    "def caras(s: np.ndarray) -> int:\n",
    "    k: int = 0 \n",
    "    for i in range(len(s)):\n",
    "        if s[i] == \"cara\": \n",
    "            k = k + 1\n",
    "    return k\n",
    "\n",
    "def cecas(s: np.ndarray) -> int:\n",
    "    k: int = 0 \n",
    "    for i in range(len(s)):\n",
    "        if s[i] == \"ceca\": \n",
    "            k = k + 1\n",
    "    return k\n",
    "\n",
    "def cara_tras_tres_caras(s: np.ndarray) -> float:\n",
    "    k = 0\n",
    "    for i in range(len(s)):\n",
    "        if s[i] == \"caras\":\n",
    "            cara_tras_tres_caras(s[i+1:i+3])\n",
    "            k = k + 1\n",
    "    return k/len(s)\n"
   ]
  },
  {
   "cell_type": "code",
   "execution_count": 25,
   "metadata": {},
   "outputs": [
    {
     "name": "stdout",
     "output_type": "stream",
     "text": [
      "La cantidad de caras dividido por la cantidad de cecas: 0.998\n",
      "La cantidad de caras menos la cantidad de cecas:-1010\n",
      "La cantidad de caras menos la cantidad de cecas dividido por la cantidad total de tirada: -0.00101\n",
      "La proporcion de veces que en la siguiente tirada sale nuevamente cara tras tres caras seguidas,: 0.0\n"
     ]
    }
   ],
   "source": [
    "n = 1000000\n",
    "x = np.array([\"cara\", \"ceca\"])\n",
    "s = np.random.choice(x, size=n)\n",
    "\n",
    "print(f'La cantidad de caras dividido por la cantidad de cecas: {round(caras(s)/cecas(s), 3)}')\n",
    "print(f'La cantidad de caras menos la cantidad de cecas:{caras(s) - cecas(s)}')\n",
    "print(f'La cantidad de caras menos la cantidad de cecas dividido por la cantidad total de tirada: {(caras(s) - cecas(s))/n}')\n",
    "print(f'La proporcion de veces que en la siguiente tirada sale nuevamente cara tras tres caras seguidas,: {cara_tras_tres_caras(s)}')"
   ]
  },
  {
   "cell_type": "markdown",
   "metadata": {},
   "source": [
    "# Archivos de datos\n",
    "27. La biblioteca `Pandas` nos permite trabajar facilmente con archivos de datos.\n",
    "    - Leer el archivo `casos_coronavirus.csv`\n",
    "    - Graficar la curva de casos por dia\n",
    "    - Graficar la curva de casos acumulados\n",
    "    - Difinir log_cum_casos como el logaritmo de la cantidad de casos acumulados y graficar en funcion de la cantidad de dias trasncurridos.\n",
    "    - Estimar, tomando dos valores, la pendiente de la recta para los datos a partir del dia 30.\n",
    "    - Graficar la recta estimada junto con los datos. Es una buena estimacion?"
   ]
  },
  {
   "cell_type": "code",
   "execution_count": 34,
   "metadata": {},
   "outputs": [
    {
     "data": {
      "application/vnd.microsoft.datawrangler.viewer.v0+json": {
       "columns": [
        {
         "name": "index",
         "rawType": "int64",
         "type": "integer"
        },
        {
         "name": "fecha",
         "rawType": "object",
         "type": "string"
        },
        {
         "name": "confirmados_Nuevos",
         "rawType": "int64",
         "type": "integer"
        }
       ],
       "conversionMethod": "pd.DataFrame",
       "ref": "ad99900c-8d97-432b-8f85-58e1abf56d21",
       "rows": [
        [
         "0",
         "3-3-2020",
         "1"
        ],
        [
         "1",
         "4-3-2020",
         "0"
        ],
        [
         "2",
         "5-3-2020",
         "1"
        ],
        [
         "3",
         "6-3-2020",
         "6"
        ],
        [
         "4",
         "7-3-2020",
         "0"
        ]
       ],
       "shape": {
        "columns": 2,
        "rows": 5
       }
      },
      "text/html": [
       "<div>\n",
       "<style scoped>\n",
       "    .dataframe tbody tr th:only-of-type {\n",
       "        vertical-align: middle;\n",
       "    }\n",
       "\n",
       "    .dataframe tbody tr th {\n",
       "        vertical-align: top;\n",
       "    }\n",
       "\n",
       "    .dataframe thead th {\n",
       "        text-align: right;\n",
       "    }\n",
       "</style>\n",
       "<table border=\"1\" class=\"dataframe\">\n",
       "  <thead>\n",
       "    <tr style=\"text-align: right;\">\n",
       "      <th></th>\n",
       "      <th>fecha</th>\n",
       "      <th>confirmados_Nuevos</th>\n",
       "    </tr>\n",
       "  </thead>\n",
       "  <tbody>\n",
       "    <tr>\n",
       "      <th>0</th>\n",
       "      <td>3-3-2020</td>\n",
       "      <td>1</td>\n",
       "    </tr>\n",
       "    <tr>\n",
       "      <th>1</th>\n",
       "      <td>4-3-2020</td>\n",
       "      <td>0</td>\n",
       "    </tr>\n",
       "    <tr>\n",
       "      <th>2</th>\n",
       "      <td>5-3-2020</td>\n",
       "      <td>1</td>\n",
       "    </tr>\n",
       "    <tr>\n",
       "      <th>3</th>\n",
       "      <td>6-3-2020</td>\n",
       "      <td>6</td>\n",
       "    </tr>\n",
       "    <tr>\n",
       "      <th>4</th>\n",
       "      <td>7-3-2020</td>\n",
       "      <td>0</td>\n",
       "    </tr>\n",
       "  </tbody>\n",
       "</table>\n",
       "</div>"
      ],
      "text/plain": [
       "      fecha  confirmados_Nuevos\n",
       "0  3-3-2020                   1\n",
       "1  4-3-2020                   0\n",
       "2  5-3-2020                   1\n",
       "3  6-3-2020                   6\n",
       "4  7-3-2020                   0"
      ]
     },
     "execution_count": 34,
     "metadata": {},
     "output_type": "execute_result"
    }
   ],
   "source": [
    "df = pd.read_csv('casos_coronavirus.csv')\n",
    "df.head()"
   ]
  },
  {
   "cell_type": "code",
   "execution_count": 35,
   "metadata": {},
   "outputs": [
    {
     "name": "stdout",
     "output_type": "stream",
     "text": [
      "<class 'pandas.core.frame.DataFrame'>\n",
      "RangeIndex: 96 entries, 0 to 95\n",
      "Data columns (total 2 columns):\n",
      " #   Column              Non-Null Count  Dtype \n",
      "---  ------              --------------  ----- \n",
      " 0   fecha               96 non-null     object\n",
      " 1   confirmados_Nuevos  96 non-null     int64 \n",
      "dtypes: int64(1), object(1)\n",
      "memory usage: 1.6+ KB\n"
     ]
    }
   ],
   "source": [
    "df.info()"
   ]
  },
  {
   "cell_type": "code",
   "execution_count": 36,
   "metadata": {},
   "outputs": [
    {
     "name": "stdout",
     "output_type": "stream",
     "text": [
      "[['3-3-2020' 1]\n",
      " ['4-3-2020' 0]\n",
      " ['5-3-2020' 1]\n",
      " ['6-3-2020' 6]\n",
      " ['7-3-2020' 0]\n",
      " ['8-3-2020' 3]\n",
      " ['9-3-2020' 5]\n",
      " ['10-3-2020' 2]\n",
      " ['11-3-2020' 2]\n",
      " ['12-3-2020' 10]\n",
      " ['13-3-2020' 3]\n",
      " ['14-3-2020' 11]\n",
      " ['15-3-2020' 11]\n",
      " ['16-3-2020' 9]\n",
      " ['17-3-2020' 14]\n",
      " ['18-3-2020' 19]\n",
      " ['19-3-2020' 31]\n",
      " ['20-3-2020' 30]\n",
      " ['21-3-2020' 67]\n",
      " ['22-3-2020' 41]\n",
      " ['23-3-2020' 36]\n",
      " ['24-3-2020' 86]\n",
      " ['25-3-2020' 117]\n",
      " ['26-3-2020' 87]\n",
      " ['27-3-2020' 101]\n",
      " ['28-3-2020' 55]\n",
      " ['29-3-2020' 75]\n",
      " ['30-3-2020' 146]\n",
      " ['31-3-2020' 88]\n",
      " ['1-4-2020' 79]\n",
      " ['2-4-2020' 132]\n",
      " ['3-4-2020' 88]\n",
      " ['4-4-2020' 98]\n",
      " ['5-4-2020' 103]\n",
      " ['6-4-2020' 74]\n",
      " ['7-4-2020' 87]\n",
      " ['8-4-2020' 80]\n",
      " ['9-4-2020' 99]\n",
      " ['10-4-2020' 81]\n",
      " ['11-4-2020' 167]\n",
      " ['12-4-2020' 66]\n",
      " ['13-4-2020' 69]\n",
      " ['14-4-2020' 166]\n",
      " ['15-4-2020' 128]\n",
      " ['16-4-2020' 98]\n",
      " ['17-4-2020' 88]\n",
      " ['18-4-2020' 81]\n",
      " ['19-4-2020' 102]\n",
      " ['20-4-2020' 90]\n",
      " ['21-4-2020' 112]\n",
      " ['22-4-2020' 144]\n",
      " ['23-4-2020' 147]\n",
      " ['24-4-2020' 172]\n",
      " ['25-4-2020' 173]\n",
      " ['26-4-2020' 112]\n",
      " ['27-4-2020' 111]\n",
      " ['28-4-2020' 124]\n",
      " ['29-4-2020' 158]\n",
      " ['30-4-2020' 143]\n",
      " ['1-5-2020' 105]\n",
      " ['2-5-2020' 149]\n",
      " ['3-5-2020' 103]\n",
      " ['4-5-2020' 104]\n",
      " ['5-5-2020' 133]\n",
      " ['6-5-2020' 188]\n",
      " ['7-5-2020' 163]\n",
      " ['8-5-2020' 240]\n",
      " ['9-5-2020' 165]\n",
      " ['10-5-2020' 258]\n",
      " ['11-5-2020' 244]\n",
      " ['12-5-2020' 285]\n",
      " ['13-5-2020' 316]\n",
      " ['14-5-2020' 255]\n",
      " ['15-5-2020' 345]\n",
      " ['16-5-2020' 326]\n",
      " ['17-5-2020' 263]\n",
      " ['18-5-2020' 303]\n",
      " ['19-5-2020' 438]\n",
      " ['20-5-2020' 474]\n",
      " ['21-5-2020' 648]\n",
      " ['22-5-2020' 718]\n",
      " ['23-5-2020' 704]\n",
      " ['24-5-2020' 723]\n",
      " ['25-5-2020' 552]\n",
      " ['26-5-2020' 600]\n",
      " ['27-5-2020' 706]\n",
      " ['28-5-2020' 769]\n",
      " ['29-5-2020' 717]\n",
      " ['30-5-2020' 795]\n",
      " ['31-5-2020' 637]\n",
      " ['1-6-2020' 564]\n",
      " ['2-6-2020' 904]\n",
      " ['3-6-2020' 949]\n",
      " ['4-6-2020' 929]\n",
      " ['5-6-2020' 840]\n",
      " ['6-6-2020' 983]]\n"
     ]
    }
   ],
   "source": [
    "datos_np = df.to_numpy()\n",
    "print(datos_np)"
   ]
  },
  {
   "cell_type": "code",
   "execution_count": 37,
   "metadata": {},
   "outputs": [
    {
     "data": {
      "text/plain": [
       "[<matplotlib.lines.Line2D at 0x123eb6d7110>]"
      ]
     },
     "execution_count": 37,
     "metadata": {},
     "output_type": "execute_result"
    },
    {
     "data": {
      "image/png": "[encoded data removed]",
      "text/plain": [
       "<Figure size 640x480 with 1 Axes>"
      ]
     },
     "metadata": {},
     "output_type": "display_data"
    }
   ],
   "source": [
    "casos_diarios = datos_np[:, 1]\n",
    "plt.plot(casos_diarios)"
   ]
  },
  {
   "cell_type": "code",
   "execution_count": 39,
   "metadata": {},
   "outputs": [
    {
     "data": {
      "image/png": "[encoded data removed]",
      "text/plain": [
       "<Figure size 640x480 with 1 Axes>"
      ]
     },
     "metadata": {},
     "output_type": "display_data"
    }
   ],
   "source": [
    "cum_casos = casos_diarios.cumsum()\n",
    "plt.plot(cum_casos)\n",
    "plt.show()"
   ]
  },
  {
   "cell_type": "code",
   "execution_count": 40,
   "metadata": {},
   "outputs": [
    {
     "data": {
      "text/plain": [
       "[<matplotlib.lines.Line2D at 0x1238610cf50>]"
      ]
     },
     "execution_count": 40,
     "metadata": {},
     "output_type": "execute_result"
    },
    {
     "data": {
      "image/png": "[encoded data removed]",
      "text/plain": [
       "<Figure size 640x480 with 1 Axes>"
      ]
     },
     "metadata": {},
     "output_type": "display_data"
    }
   ],
   "source": [
    "plt.plot(np.log(np.float64(cum_casos)))"
   ]
  },
  {
   "cell_type": "code",
   "execution_count": 41,
   "metadata": {},
   "outputs": [
    {
     "data": {
      "text/plain": [
       "([<matplotlib.lines.Line2D at 0x12386296e90>], None)"
      ]
     },
     "execution_count": 41,
     "metadata": {},
     "output_type": "execute_result"
    },
    {
     "data": {
      "image/png": "[encoded data removed]",
      "text/plain": [
       "<Figure size 640x480 with 1 Axes>"
      ]
     },
     "metadata": {},
     "output_type": "display_data"
    }
   ],
   "source": [
    "plt.plot(cum_casos), plt.yscale(\"log\")"
   ]
  },
  {
   "cell_type": "code",
   "execution_count": null,
   "metadata": {},
   "outputs": [],
   "source": []
  }
 ],
 "metadata": {
  "kernelspec": {
   "display_name": "Python 3",
   "language": "python",
   "name": "python3"
  },
  "language_info": {
   "codemirror_mode": {
    "name": "ipython",
    "version": 3
   },
   "file_extension": ".py",
   "mimetype": "text/x-python",
   "name": "python",
   "nbconvert_exporter": "python",
   "pygments_lexer": "ipython3",
   "version": "3.13.1"
  }
 },
 "nbformat": 4,
 "nbformat_minor": 2
}

{
 "cells": [
  {
   "cell_type": "markdown",
   "id": "4bd30cd4",
   "metadata": {},
   "source": [
    "# Practica 2: Estadistica descriptiva"
   ]
  },
  {
   "cell_type": "markdown",
   "id": "0484a8ec",
   "metadata": {},
   "source": [
    "## Estructuras de datos en Pandas\n",
    "\n",
    "**Series**. Las series de Pandas son vectores similares a los arrays de NumPy, que podemos indexar usando etiquetas."
   ]
  },
  {
   "cell_type": "code",
   "execution_count": 254,
   "id": "48884908",
   "metadata": {},
   "outputs": [],
   "source": [
    "import pandas as pd\n",
    "import numpy as np\n",
    "import matplotlib.pyplot as plt"
   ]
  },
  {
   "cell_type": "code",
   "execution_count": 2,
   "id": "85092549",
   "metadata": {},
   "outputs": [],
   "source": [
    "obj = pd.Series([7,4,-5,3])"
   ]
  },
  {
   "cell_type": "code",
   "execution_count": 3,
   "id": "b8267d9e",
   "metadata": {},
   "outputs": [
    {
     "data": {
      "text/plain": [
       "0    7\n",
       "1    4\n",
       "2   -5\n",
       "3    3\n",
       "dtype: int64"
      ]
     },
     "metadata": {},
     "output_type": "display_data"
    }
   ],
   "source": [
    "display(obj) # muestra el obj de tipo pd.Series"
   ]
  },
  {
   "cell_type": "code",
   "execution_count": 4,
   "id": "0741b046",
   "metadata": {},
   "outputs": [
    {
     "data": {
      "text/plain": [
       "<NumpyExtensionArray>\n",
       "[np.int64(7), np.int64(4), np.int64(-5), np.int64(3)]\n",
       "Length: 4, dtype: int64"
      ]
     },
     "metadata": {},
     "output_type": "display_data"
    }
   ],
   "source": [
    "display(obj.array) # devuelve la serie como numpy.array"
   ]
  },
  {
   "cell_type": "code",
   "execution_count": 5,
   "id": "7e7d4df9",
   "metadata": {},
   "outputs": [
    {
     "data": {
      "text/plain": [
       "RangeIndex(start=0, stop=4, step=1)"
      ]
     },
     "metadata": {},
     "output_type": "display_data"
    }
   ],
   "source": [
    "display(obj.index) # devuelve los indices"
   ]
  },
  {
   "cell_type": "code",
   "execution_count": 6,
   "id": "c6e07a36",
   "metadata": {},
   "outputs": [
    {
     "data": {
      "text/plain": [
       "d    3.141593\n",
       "b    0.000000\n",
       "c   -2.000000\n",
       "a    1.410000\n",
       "dtype: float64"
      ]
     },
     "metadata": {},
     "output_type": "display_data"
    }
   ],
   "source": [
    "obj2 = pd.Series([np.pi, 0, -2, 1.41], index = [\"d\",\"b\",\"c\",\"a\"])\n",
    "display(obj2)"
   ]
  },
  {
   "cell_type": "code",
   "execution_count": 7,
   "id": "6386bf08",
   "metadata": {},
   "outputs": [
    {
     "data": {
      "text/plain": [
       "<NumpyExtensionArray>\n",
       "[np.float64(3.141592653589793),               np.float64(0.0),\n",
       "              np.float64(-2.0),              np.float64(1.41)]\n",
       "Length: 4, dtype: float64"
      ]
     },
     "metadata": {},
     "output_type": "display_data"
    }
   ],
   "source": [
    "display(obj2.array)"
   ]
  },
  {
   "cell_type": "code",
   "execution_count": 8,
   "id": "c8f28f0b",
   "metadata": {},
   "outputs": [
    {
     "data": {
      "text/plain": [
       "Index(['d', 'b', 'c', 'a'], dtype='object')"
      ]
     },
     "metadata": {},
     "output_type": "display_data"
    }
   ],
   "source": [
    "display(obj2.index)"
   ]
  },
  {
   "cell_type": "code",
   "execution_count": 9,
   "id": "7444c57f",
   "metadata": {},
   "outputs": [
    {
     "data": {
      "text/plain": [
       "np.float64(1.41)"
      ]
     },
     "execution_count": 9,
     "metadata": {},
     "output_type": "execute_result"
    }
   ],
   "source": [
    "obj2[\"a\"] # retorna elemento de index \"a\""
   ]
  },
  {
   "cell_type": "code",
   "execution_count": 10,
   "id": "3046c585",
   "metadata": {},
   "outputs": [
    {
     "name": "stderr",
     "output_type": "stream",
     "text": [
      "/tmp/ipykernel_32250/1634318951.py:1: FutureWarning: Series.__getitem__ treating keys as positions is deprecated. In a future version, integer keys will always be treated as labels (consistent with DataFrame behavior). To access a value by position, use `ser.iloc[pos]`\n",
      "  obj2[3] # retorna elemento en posicion 3\n"
     ]
    },
    {
     "data": {
      "text/plain": [
       "np.float64(1.41)"
      ]
     },
     "execution_count": 10,
     "metadata": {},
     "output_type": "execute_result"
    }
   ],
   "source": [
    "obj2[3] # retorna elemento en posicion 3"
   ]
  },
  {
   "cell_type": "code",
   "execution_count": 11,
   "id": "ac8ae722",
   "metadata": {},
   "outputs": [
    {
     "data": {
      "text/plain": [
       "b    0.0\n",
       "c   -2.0\n",
       "dtype: float64"
      ]
     },
     "execution_count": 11,
     "metadata": {},
     "output_type": "execute_result"
    }
   ],
   "source": [
    "obj2[1:3] # devuelve los elementos con indice i = [1,3)"
   ]
  },
  {
   "cell_type": "code",
   "execution_count": 12,
   "id": "8689a92f",
   "metadata": {},
   "outputs": [
    {
     "data": {
      "text/plain": [
       "a    1.41\n",
       "b    0.00\n",
       "dtype: float64"
      ]
     },
     "execution_count": 12,
     "metadata": {},
     "output_type": "execute_result"
    }
   ],
   "source": [
    "obj3 = obj2[[\"a\",\"b\"]]\n",
    "obj3"
   ]
  },
  {
   "cell_type": "code",
   "execution_count": 13,
   "id": "68a1a362",
   "metadata": {},
   "outputs": [
    {
     "data": {
      "text/plain": [
       "Index(['a', 'b'], dtype='object')"
      ]
     },
     "execution_count": 13,
     "metadata": {},
     "output_type": "execute_result"
    }
   ],
   "source": [
    "obj3.index"
   ]
  },
  {
   "cell_type": "code",
   "execution_count": 14,
   "id": "d95188ab",
   "metadata": {},
   "outputs": [
    {
     "data": {
      "text/plain": [
       "d    23.140693\n",
       "b     1.000000\n",
       "c     0.135335\n",
       "a     4.095955\n",
       "dtype: float64"
      ]
     },
     "execution_count": 14,
     "metadata": {},
     "output_type": "execute_result"
    }
   ],
   "source": [
    "# Las operaciones a pd.Series son componente a componente\n",
    "np.exp(obj2) # todos los elementos de obj2 como exponente natural"
   ]
  },
  {
   "cell_type": "markdown",
   "id": "18398eab",
   "metadata": {},
   "source": [
    "**Metodos de series**. Ejecutar los siguientes comandos e interpretar que hace cada uno."
   ]
  },
  {
   "cell_type": "code",
   "execution_count": 15,
   "id": "0433155f",
   "metadata": {},
   "outputs": [
    {
     "data": {
      "text/plain": [
       "0    False\n",
       "1     True\n",
       "2     True\n",
       "3     True\n",
       "4    False\n",
       "5     True\n",
       "6     True\n",
       "7    False\n",
       "dtype: bool"
      ]
     },
     "execution_count": 15,
     "metadata": {},
     "output_type": "execute_result"
    }
   ],
   "source": [
    "series1 = pd.Series([\"a\",\"b\",\"c\",\"b\",\"a\",\"c\",\"c\",\"x\"])\n",
    "\n",
    "# check whether elements in Series are contained in `values`.\n",
    "series1.isin([\"b\",\"c\"])"
   ]
  },
  {
   "cell_type": "code",
   "execution_count": 16,
   "id": "661d7be4",
   "metadata": {},
   "outputs": [
    {
     "data": {
      "text/plain": [
       "c    3\n",
       "a    2\n",
       "b    2\n",
       "x    1\n",
       "Name: count, dtype: int64"
      ]
     },
     "execution_count": 16,
     "metadata": {},
     "output_type": "execute_result"
    }
   ],
   "source": [
    "series1.value_counts() # cantidad de apariciones de cada elemento "
   ]
  },
  {
   "cell_type": "markdown",
   "id": "a648e60e",
   "metadata": {},
   "source": [
    "**DataFrames**. Un DataFrame es una representación de los datos en formato de tabla donde las columnas son vectores del mismo tamaño. Como cada columna es un vector, cada columna puede contener datos de un único tipo. Se pueden pensar como variables. Cada variable corresponde a una\n",
    "serie de Pandas, y todas las series de un mismo DataFrame están indexadas por los mismos ı́ndices."
   ]
  },
  {
   "cell_type": "markdown",
   "id": "c41093ef",
   "metadata": {},
   "source": [
    "Una forma de crear un DataFrame es utilizando un “diccionario”. Todas las variables del\n",
    "diccionario deben ser vectores o listas de la misma longitud"
   ]
  },
  {
   "cell_type": "code",
   "execution_count": 17,
   "id": "1b455d28",
   "metadata": {},
   "outputs": [
    {
     "data": {
      "text/plain": [
       "{'nombre': ['Rodrigo', 'Sergio', 'Cristina', 'Diana'],\n",
       " 'altura': array([178, 172, 175, 168]),\n",
       " 'peso': array([81.2, 76.1, 68.5, 64. ])}"
      ]
     },
     "metadata": {},
     "output_type": "display_data"
    }
   ],
   "source": [
    "data = { \"nombre\" : [ \"Rodrigo\" , \"Sergio\" , \"Cristina\" , \"Diana\" ] , \"altura\" :\n",
    "np.array ([178 , 172 , 175 , 168]) , \"peso\" : np . array ([81.2 , 76.1 , 68.5 ,\n",
    "64.0]) }\n",
    "display (data)"
   ]
  },
  {
   "cell_type": "code",
   "execution_count": 18,
   "id": "cbe74cfe",
   "metadata": {},
   "outputs": [
    {
     "data": {
      "text/html": [
       "<div>\n",
       "<style scoped>\n",
       "    .dataframe tbody tr th:only-of-type {\n",
       "        vertical-align: middle;\n",
       "    }\n",
       "\n",
       "    .dataframe tbody tr th {\n",
       "        vertical-align: top;\n",
       "    }\n",
       "\n",
       "    .dataframe thead th {\n",
       "        text-align: right;\n",
       "    }\n",
       "</style>\n",
       "<table border=\"1\" class=\"dataframe\">\n",
       "  <thead>\n",
       "    <tr style=\"text-align: right;\">\n",
       "      <th></th>\n",
       "      <th>altura</th>\n",
       "      <th>peso</th>\n",
       "    </tr>\n",
       "    <tr>\n",
       "      <th>nombre</th>\n",
       "      <th></th>\n",
       "      <th></th>\n",
       "    </tr>\n",
       "  </thead>\n",
       "  <tbody>\n",
       "    <tr>\n",
       "      <th>Rodrigo</th>\n",
       "      <td>178</td>\n",
       "      <td>81.2</td>\n",
       "    </tr>\n",
       "    <tr>\n",
       "      <th>Sergio</th>\n",
       "      <td>172</td>\n",
       "      <td>76.1</td>\n",
       "    </tr>\n",
       "    <tr>\n",
       "      <th>Cristina</th>\n",
       "      <td>175</td>\n",
       "      <td>68.5</td>\n",
       "    </tr>\n",
       "    <tr>\n",
       "      <th>Diana</th>\n",
       "      <td>168</td>\n",
       "      <td>64.0</td>\n",
       "    </tr>\n",
       "  </tbody>\n",
       "</table>\n",
       "</div>"
      ],
      "text/plain": [
       "          altura  peso\n",
       "nombre                \n",
       "Rodrigo      178  81.2\n",
       "Sergio       172  76.1\n",
       "Cristina     175  68.5\n",
       "Diana        168  64.0"
      ]
     },
     "execution_count": 18,
     "metadata": {},
     "output_type": "execute_result"
    }
   ],
   "source": [
    "pacientes = pd.DataFrame(data).set_index(\"nombre\")\n",
    "pacientes"
   ]
  },
  {
   "cell_type": "markdown",
   "id": "8cc2117d",
   "metadata": {},
   "source": [
    " ¿Cuál es la clase del objeto pacientes? ¿Cuál es la clase de cada uno de los vectores columna?\n",
    "(para saber la clase de un objeto, utilizar el comando type, para saber el tipo de datos de un\n",
    "array de numpy, utilizar np.dtype)"
   ]
  },
  {
   "cell_type": "code",
   "execution_count": 19,
   "id": "d6ca2c36",
   "metadata": {},
   "outputs": [
    {
     "data": {
      "text/plain": [
       "pandas.core.frame.DataFrame"
      ]
     },
     "execution_count": 19,
     "metadata": {},
     "output_type": "execute_result"
    }
   ],
   "source": [
    "type(pacientes) # tipo de objeto "
   ]
  },
  {
   "cell_type": "code",
   "execution_count": 20,
   "id": "532c7f92",
   "metadata": {},
   "outputs": [
    {
     "data": {
      "text/plain": [
       "pandas.core.series.Series"
      ]
     },
     "execution_count": 20,
     "metadata": {},
     "output_type": "execute_result"
    }
   ],
   "source": [
    "type(pacientes.altura) # tipo de columnas"
   ]
  },
  {
   "cell_type": "markdown",
   "id": "8bec745a",
   "metadata": {},
   "source": [
    " Guardar en una variable nueva el vector columna altura. Pueden utilizar pacientes[\"altura\"]\n",
    "o pacientes.altura (la primera opción es preferible, la segunda puede dar error si el nombre\n",
    "coincide con alguna función ya existente).\n"
   ]
  },
  {
   "cell_type": "code",
   "execution_count": 21,
   "id": "7aada2d5",
   "metadata": {},
   "outputs": [],
   "source": [
    "alturas = pacientes[\"altura\"]"
   ]
  },
  {
   "cell_type": "markdown",
   "id": "c5886682-b77c-473f-87ea-67da653211d8",
   "metadata": {},
   "source": [
    "A diferencia de las matrices en Numpy, un DataFrame de Pandas es un conjunto de columnas,\n",
    "no de filas. "
   ]
  },
  {
   "cell_type": "code",
   "execution_count": 23,
   "id": "85734c0d-d350-4641-9f2c-e598ced6329e",
   "metadata": {},
   "outputs": [
    {
     "data": {
      "text/plain": [
       "np.int64(178)"
      ]
     },
     "execution_count": 23,
     "metadata": {},
     "output_type": "execute_result"
    }
   ],
   "source": [
    "pacientes[\"altura\"].Rodrigo"
   ]
  },
  {
   "cell_type": "markdown",
   "id": "74319527-dd62-4e07-b3c1-baf62cc688f8",
   "metadata": {},
   "source": [
    "**Gapminder**. A modo de ejemplo, vamos a explorar el DataFrame gapminder que contiene\n",
    "datos poblacionales y de desarrollo humano de distintos paı́ses a lo largo del tiempo."
   ]
  },
  {
   "cell_type": "code",
   "execution_count": 25,
   "id": "b16d3d65-2348-48ef-8158-a6aed95bc2bd",
   "metadata": {},
   "outputs": [
    {
     "name": "stdout",
     "output_type": "stream",
     "text": [
      "Collecting gapminder\n",
      "  Downloading gapminder-0.1-py3-none-any.whl.metadata (1.5 kB)\n",
      "Requirement already satisfied: pandas in /home/lmendez/miniconda3/envs/labo-datos/lib/python3.13/site-packages (from gapminder) (2.2.3)\n",
      "Requirement already satisfied: numpy>=1.26.0 in /home/lmendez/miniconda3/envs/labo-datos/lib/python3.13/site-packages (from pandas->gapminder) (2.2.4)\n",
      "Requirement already satisfied: python-dateutil>=2.8.2 in /home/lmendez/miniconda3/envs/labo-datos/lib/python3.13/site-packages (from pandas->gapminder) (2.9.0.post0)\n",
      "Requirement already satisfied: pytz>=2020.1 in /home/lmendez/miniconda3/envs/labo-datos/lib/python3.13/site-packages (from pandas->gapminder) (2024.1)\n",
      "Requirement already satisfied: tzdata>=2022.7 in /home/lmendez/miniconda3/envs/labo-datos/lib/python3.13/site-packages (from pandas->gapminder) (2023.3)\n",
      "Requirement already satisfied: six>=1.5 in /home/lmendez/miniconda3/envs/labo-datos/lib/python3.13/site-packages (from python-dateutil>=2.8.2->pandas->gapminder) (1.16.0)\n",
      "Downloading gapminder-0.1-py3-none-any.whl (32 kB)\n",
      "Installing collected packages: gapminder\n",
      "Successfully installed gapminder-0.1\n",
      "Note: you may need to restart the kernel to use updated packages.\n"
     ]
    }
   ],
   "source": [
    "pip install gapminder"
   ]
  },
  {
   "cell_type": "code",
   "execution_count": 1,
   "id": "e72b34e1-ed6e-4b81-a8de-6d476cfac952",
   "metadata": {},
   "outputs": [],
   "source": [
    "from gapminder import gapminder"
   ]
  },
  {
   "cell_type": "code",
   "execution_count": 3,
   "id": "2d23b74d-25da-4c79-b9df-80e94900754e",
   "metadata": {},
   "outputs": [
    {
     "data": {
      "text/html": [
       "<div>\n",
       "<style scoped>\n",
       "    .dataframe tbody tr th:only-of-type {\n",
       "        vertical-align: middle;\n",
       "    }\n",
       "\n",
       "    .dataframe tbody tr th {\n",
       "        vertical-align: top;\n",
       "    }\n",
       "\n",
       "    .dataframe thead th {\n",
       "        text-align: right;\n",
       "    }\n",
       "</style>\n",
       "<table border=\"1\" class=\"dataframe\">\n",
       "  <thead>\n",
       "    <tr style=\"text-align: right;\">\n",
       "      <th></th>\n",
       "      <th>country</th>\n",
       "      <th>continent</th>\n",
       "      <th>year</th>\n",
       "      <th>lifeExp</th>\n",
       "      <th>pop</th>\n",
       "      <th>gdpPercap</th>\n",
       "    </tr>\n",
       "  </thead>\n",
       "  <tbody>\n",
       "    <tr>\n",
       "      <th>0</th>\n",
       "      <td>Afghanistan</td>\n",
       "      <td>Asia</td>\n",
       "      <td>1952</td>\n",
       "      <td>28.801</td>\n",
       "      <td>8425333</td>\n",
       "      <td>779.445314</td>\n",
       "    </tr>\n",
       "    <tr>\n",
       "      <th>1</th>\n",
       "      <td>Afghanistan</td>\n",
       "      <td>Asia</td>\n",
       "      <td>1957</td>\n",
       "      <td>30.332</td>\n",
       "      <td>9240934</td>\n",
       "      <td>820.853030</td>\n",
       "    </tr>\n",
       "    <tr>\n",
       "      <th>2</th>\n",
       "      <td>Afghanistan</td>\n",
       "      <td>Asia</td>\n",
       "      <td>1962</td>\n",
       "      <td>31.997</td>\n",
       "      <td>10267083</td>\n",
       "      <td>853.100710</td>\n",
       "    </tr>\n",
       "    <tr>\n",
       "      <th>3</th>\n",
       "      <td>Afghanistan</td>\n",
       "      <td>Asia</td>\n",
       "      <td>1967</td>\n",
       "      <td>34.020</td>\n",
       "      <td>11537966</td>\n",
       "      <td>836.197138</td>\n",
       "    </tr>\n",
       "    <tr>\n",
       "      <th>4</th>\n",
       "      <td>Afghanistan</td>\n",
       "      <td>Asia</td>\n",
       "      <td>1972</td>\n",
       "      <td>36.088</td>\n",
       "      <td>13079460</td>\n",
       "      <td>739.981106</td>\n",
       "    </tr>\n",
       "    <tr>\n",
       "      <th>...</th>\n",
       "      <td>...</td>\n",
       "      <td>...</td>\n",
       "      <td>...</td>\n",
       "      <td>...</td>\n",
       "      <td>...</td>\n",
       "      <td>...</td>\n",
       "    </tr>\n",
       "    <tr>\n",
       "      <th>1699</th>\n",
       "      <td>Zimbabwe</td>\n",
       "      <td>Africa</td>\n",
       "      <td>1987</td>\n",
       "      <td>62.351</td>\n",
       "      <td>9216418</td>\n",
       "      <td>706.157306</td>\n",
       "    </tr>\n",
       "    <tr>\n",
       "      <th>1700</th>\n",
       "      <td>Zimbabwe</td>\n",
       "      <td>Africa</td>\n",
       "      <td>1992</td>\n",
       "      <td>60.377</td>\n",
       "      <td>10704340</td>\n",
       "      <td>693.420786</td>\n",
       "    </tr>\n",
       "    <tr>\n",
       "      <th>1701</th>\n",
       "      <td>Zimbabwe</td>\n",
       "      <td>Africa</td>\n",
       "      <td>1997</td>\n",
       "      <td>46.809</td>\n",
       "      <td>11404948</td>\n",
       "      <td>792.449960</td>\n",
       "    </tr>\n",
       "    <tr>\n",
       "      <th>1702</th>\n",
       "      <td>Zimbabwe</td>\n",
       "      <td>Africa</td>\n",
       "      <td>2002</td>\n",
       "      <td>39.989</td>\n",
       "      <td>11926563</td>\n",
       "      <td>672.038623</td>\n",
       "    </tr>\n",
       "    <tr>\n",
       "      <th>1703</th>\n",
       "      <td>Zimbabwe</td>\n",
       "      <td>Africa</td>\n",
       "      <td>2007</td>\n",
       "      <td>43.487</td>\n",
       "      <td>12311143</td>\n",
       "      <td>469.709298</td>\n",
       "    </tr>\n",
       "  </tbody>\n",
       "</table>\n",
       "<p>1704 rows × 6 columns</p>\n",
       "</div>"
      ],
      "text/plain": [
       "          country continent  year  lifeExp       pop   gdpPercap\n",
       "0     Afghanistan      Asia  1952   28.801   8425333  779.445314\n",
       "1     Afghanistan      Asia  1957   30.332   9240934  820.853030\n",
       "2     Afghanistan      Asia  1962   31.997  10267083  853.100710\n",
       "3     Afghanistan      Asia  1967   34.020  11537966  836.197138\n",
       "4     Afghanistan      Asia  1972   36.088  13079460  739.981106\n",
       "...           ...       ...   ...      ...       ...         ...\n",
       "1699     Zimbabwe    Africa  1987   62.351   9216418  706.157306\n",
       "1700     Zimbabwe    Africa  1992   60.377  10704340  693.420786\n",
       "1701     Zimbabwe    Africa  1997   46.809  11404948  792.449960\n",
       "1702     Zimbabwe    Africa  2002   39.989  11926563  672.038623\n",
       "1703     Zimbabwe    Africa  2007   43.487  12311143  469.709298\n",
       "\n",
       "[1704 rows x 6 columns]"
      ]
     },
     "execution_count": 3,
     "metadata": {},
     "output_type": "execute_result"
    }
   ],
   "source": [
    "gapminder"
   ]
  },
  {
   "cell_type": "code",
   "execution_count": 4,
   "id": "2d66e141-dcb0-4aec-bf1e-a1bfb988097e",
   "metadata": {},
   "outputs": [
    {
     "name": "stdout",
     "output_type": "stream",
     "text": [
      "<class 'pandas.core.frame.DataFrame'>\n",
      "RangeIndex: 1704 entries, 0 to 1703\n",
      "Data columns (total 6 columns):\n",
      " #   Column     Non-Null Count  Dtype  \n",
      "---  ------     --------------  -----  \n",
      " 0   country    1704 non-null   object \n",
      " 1   continent  1704 non-null   object \n",
      " 2   year       1704 non-null   int64  \n",
      " 3   lifeExp    1704 non-null   float64\n",
      " 4   pop        1704 non-null   int64  \n",
      " 5   gdpPercap  1704 non-null   float64\n",
      "dtypes: float64(2), int64(2), object(2)\n",
      "memory usage: 80.0+ KB\n"
     ]
    }
   ],
   "source": [
    "gapminder.info()"
   ]
  },
  {
   "cell_type": "code",
   "execution_count": 5,
   "id": "92c857b5-e623-4dc9-a797-76d28c9f276e",
   "metadata": {},
   "outputs": [
    {
     "data": {
      "text/html": [
       "<div>\n",
       "<style scoped>\n",
       "    .dataframe tbody tr th:only-of-type {\n",
       "        vertical-align: middle;\n",
       "    }\n",
       "\n",
       "    .dataframe tbody tr th {\n",
       "        vertical-align: top;\n",
       "    }\n",
       "\n",
       "    .dataframe thead th {\n",
       "        text-align: right;\n",
       "    }\n",
       "</style>\n",
       "<table border=\"1\" class=\"dataframe\">\n",
       "  <thead>\n",
       "    <tr style=\"text-align: right;\">\n",
       "      <th></th>\n",
       "      <th>country</th>\n",
       "      <th>continent</th>\n",
       "      <th>year</th>\n",
       "      <th>lifeExp</th>\n",
       "      <th>pop</th>\n",
       "      <th>gdpPercap</th>\n",
       "    </tr>\n",
       "  </thead>\n",
       "  <tbody>\n",
       "    <tr>\n",
       "      <th>0</th>\n",
       "      <td>Afghanistan</td>\n",
       "      <td>Asia</td>\n",
       "      <td>1952</td>\n",
       "      <td>28.801</td>\n",
       "      <td>8425333</td>\n",
       "      <td>779.445314</td>\n",
       "    </tr>\n",
       "    <tr>\n",
       "      <th>1</th>\n",
       "      <td>Afghanistan</td>\n",
       "      <td>Asia</td>\n",
       "      <td>1957</td>\n",
       "      <td>30.332</td>\n",
       "      <td>9240934</td>\n",
       "      <td>820.853030</td>\n",
       "    </tr>\n",
       "    <tr>\n",
       "      <th>2</th>\n",
       "      <td>Afghanistan</td>\n",
       "      <td>Asia</td>\n",
       "      <td>1962</td>\n",
       "      <td>31.997</td>\n",
       "      <td>10267083</td>\n",
       "      <td>853.100710</td>\n",
       "    </tr>\n",
       "    <tr>\n",
       "      <th>3</th>\n",
       "      <td>Afghanistan</td>\n",
       "      <td>Asia</td>\n",
       "      <td>1967</td>\n",
       "      <td>34.020</td>\n",
       "      <td>11537966</td>\n",
       "      <td>836.197138</td>\n",
       "    </tr>\n",
       "    <tr>\n",
       "      <th>4</th>\n",
       "      <td>Afghanistan</td>\n",
       "      <td>Asia</td>\n",
       "      <td>1972</td>\n",
       "      <td>36.088</td>\n",
       "      <td>13079460</td>\n",
       "      <td>739.981106</td>\n",
       "    </tr>\n",
       "  </tbody>\n",
       "</table>\n",
       "</div>"
      ],
      "text/plain": [
       "       country continent  year  lifeExp       pop   gdpPercap\n",
       "0  Afghanistan      Asia  1952   28.801   8425333  779.445314\n",
       "1  Afghanistan      Asia  1957   30.332   9240934  820.853030\n",
       "2  Afghanistan      Asia  1962   31.997  10267083  853.100710\n",
       "3  Afghanistan      Asia  1967   34.020  11537966  836.197138\n",
       "4  Afghanistan      Asia  1972   36.088  13079460  739.981106"
      ]
     },
     "execution_count": 5,
     "metadata": {},
     "output_type": "execute_result"
    }
   ],
   "source": [
    "gapminder.head()"
   ]
  },
  {
   "cell_type": "code",
   "execution_count": 6,
   "id": "285b834b-8784-4f9d-a03d-e157920d3f26",
   "metadata": {},
   "outputs": [
    {
     "data": {
      "text/html": [
       "<div>\n",
       "<style scoped>\n",
       "    .dataframe tbody tr th:only-of-type {\n",
       "        vertical-align: middle;\n",
       "    }\n",
       "\n",
       "    .dataframe tbody tr th {\n",
       "        vertical-align: top;\n",
       "    }\n",
       "\n",
       "    .dataframe thead th {\n",
       "        text-align: right;\n",
       "    }\n",
       "</style>\n",
       "<table border=\"1\" class=\"dataframe\">\n",
       "  <thead>\n",
       "    <tr style=\"text-align: right;\">\n",
       "      <th></th>\n",
       "      <th>country</th>\n",
       "      <th>continent</th>\n",
       "      <th>year</th>\n",
       "      <th>lifeExp</th>\n",
       "      <th>pop</th>\n",
       "      <th>gdpPercap</th>\n",
       "    </tr>\n",
       "  </thead>\n",
       "  <tbody>\n",
       "    <tr>\n",
       "      <th>1699</th>\n",
       "      <td>Zimbabwe</td>\n",
       "      <td>Africa</td>\n",
       "      <td>1987</td>\n",
       "      <td>62.351</td>\n",
       "      <td>9216418</td>\n",
       "      <td>706.157306</td>\n",
       "    </tr>\n",
       "    <tr>\n",
       "      <th>1700</th>\n",
       "      <td>Zimbabwe</td>\n",
       "      <td>Africa</td>\n",
       "      <td>1992</td>\n",
       "      <td>60.377</td>\n",
       "      <td>10704340</td>\n",
       "      <td>693.420786</td>\n",
       "    </tr>\n",
       "    <tr>\n",
       "      <th>1701</th>\n",
       "      <td>Zimbabwe</td>\n",
       "      <td>Africa</td>\n",
       "      <td>1997</td>\n",
       "      <td>46.809</td>\n",
       "      <td>11404948</td>\n",
       "      <td>792.449960</td>\n",
       "    </tr>\n",
       "    <tr>\n",
       "      <th>1702</th>\n",
       "      <td>Zimbabwe</td>\n",
       "      <td>Africa</td>\n",
       "      <td>2002</td>\n",
       "      <td>39.989</td>\n",
       "      <td>11926563</td>\n",
       "      <td>672.038623</td>\n",
       "    </tr>\n",
       "    <tr>\n",
       "      <th>1703</th>\n",
       "      <td>Zimbabwe</td>\n",
       "      <td>Africa</td>\n",
       "      <td>2007</td>\n",
       "      <td>43.487</td>\n",
       "      <td>12311143</td>\n",
       "      <td>469.709298</td>\n",
       "    </tr>\n",
       "  </tbody>\n",
       "</table>\n",
       "</div>"
      ],
      "text/plain": [
       "       country continent  year  lifeExp       pop   gdpPercap\n",
       "1699  Zimbabwe    Africa  1987   62.351   9216418  706.157306\n",
       "1700  Zimbabwe    Africa  1992   60.377  10704340  693.420786\n",
       "1701  Zimbabwe    Africa  1997   46.809  11404948  792.449960\n",
       "1702  Zimbabwe    Africa  2002   39.989  11926563  672.038623\n",
       "1703  Zimbabwe    Africa  2007   43.487  12311143  469.709298"
      ]
     },
     "execution_count": 6,
     "metadata": {},
     "output_type": "execute_result"
    }
   ],
   "source": [
    "gapminder.tail()"
   ]
  },
  {
   "cell_type": "markdown",
   "id": "5bda5ec7-0f40-4076-ae12-9657ecd69824",
   "metadata": {},
   "source": [
    "¿De qué clase es el objeto gapminder? ¿Qué variables tiene el DataFrame gapminder y de qué\n",
    "clase son? ¿Qué ı́ndices usa?"
   ]
  },
  {
   "cell_type": "code",
   "execution_count": 8,
   "id": "0afd188b-5b63-4b32-a35a-953ecb50e588",
   "metadata": {},
   "outputs": [
    {
     "data": {
      "text/plain": [
       "pandas.core.frame.DataFrame"
      ]
     },
     "execution_count": 8,
     "metadata": {},
     "output_type": "execute_result"
    }
   ],
   "source": [
    "type(gapminder) # es un dataFrame"
   ]
  },
  {
   "cell_type": "code",
   "execution_count": 13,
   "id": "f5c1b904-20cf-4061-bcdc-8e479438b1d7",
   "metadata": {},
   "outputs": [
    {
     "name": "stdout",
     "output_type": "stream",
     "text": [
      "<class 'pandas.core.frame.DataFrame'>\n",
      "RangeIndex: 1704 entries, 0 to 1703\n",
      "Data columns (total 6 columns):\n",
      " #   Column     Non-Null Count  Dtype  \n",
      "---  ------     --------------  -----  \n",
      " 0   country    1704 non-null   object \n",
      " 1   continent  1704 non-null   object \n",
      " 2   year       1704 non-null   int64  \n",
      " 3   lifeExp    1704 non-null   float64\n",
      " 4   pop        1704 non-null   int64  \n",
      " 5   gdpPercap  1704 non-null   float64\n",
      "dtypes: float64(2), int64(2), object(2)\n",
      "memory usage: 80.0+ KB\n"
     ]
    }
   ],
   "source": [
    "gapminder.info()"
   ]
  },
  {
   "cell_type": "code",
   "execution_count": 15,
   "id": "57a21177-3021-470d-8e6f-51ecf58e7490",
   "metadata": {},
   "outputs": [
    {
     "data": {
      "text/plain": [
       "RangeIndex(start=0, stop=1704, step=1)"
      ]
     },
     "execution_count": 15,
     "metadata": {},
     "output_type": "execute_result"
    }
   ],
   "source": [
    "gapminder.index"
   ]
  },
  {
   "cell_type": "markdown",
   "id": "4c29d59a-0eb2-4dea-866f-6b1ddad54b0d",
   "metadata": {},
   "source": [
    " Explorar el tamaño del DataFrame gapminder usando la función shape."
   ]
  },
  {
   "cell_type": "code",
   "execution_count": 16,
   "id": "f238db3e-d19c-4656-badc-0d1fe9844ebc",
   "metadata": {},
   "outputs": [
    {
     "data": {
      "text/plain": [
       "(1704, 6)"
      ]
     },
     "execution_count": 16,
     "metadata": {},
     "output_type": "execute_result"
    }
   ],
   "source": [
    "gapminder.shape"
   ]
  },
  {
   "cell_type": "markdown",
   "id": "030cc44c-43c5-4057-99c2-5916a49cd5eb",
   "metadata": {},
   "source": [
    "¿De cuántos paı́ses hay datos? Ayuda: averiguar qué hacen los métodos `unique()` y `nunique()`\n",
    "aplicados a series."
   ]
  },
  {
   "cell_type": "code",
   "execution_count": 18,
   "id": "50a63084-825a-452a-a442-b9b2e64921e9",
   "metadata": {},
   "outputs": [
    {
     "data": {
      "text/html": [
       "<div>\n",
       "<style scoped>\n",
       "    .dataframe tbody tr th:only-of-type {\n",
       "        vertical-align: middle;\n",
       "    }\n",
       "\n",
       "    .dataframe tbody tr th {\n",
       "        vertical-align: top;\n",
       "    }\n",
       "\n",
       "    .dataframe thead th {\n",
       "        text-align: right;\n",
       "    }\n",
       "</style>\n",
       "<table border=\"1\" class=\"dataframe\">\n",
       "  <thead>\n",
       "    <tr style=\"text-align: right;\">\n",
       "      <th></th>\n",
       "      <th>continent</th>\n",
       "      <th>year</th>\n",
       "      <th>lifeExp</th>\n",
       "      <th>pop</th>\n",
       "      <th>gdpPercap</th>\n",
       "    </tr>\n",
       "    <tr>\n",
       "      <th>country</th>\n",
       "      <th></th>\n",
       "      <th></th>\n",
       "      <th></th>\n",
       "      <th></th>\n",
       "      <th></th>\n",
       "    </tr>\n",
       "  </thead>\n",
       "  <tbody>\n",
       "    <tr>\n",
       "      <th>Afghanistan</th>\n",
       "      <td>Asia</td>\n",
       "      <td>1952</td>\n",
       "      <td>28.801</td>\n",
       "      <td>8425333</td>\n",
       "      <td>779.445314</td>\n",
       "    </tr>\n",
       "    <tr>\n",
       "      <th>Afghanistan</th>\n",
       "      <td>Asia</td>\n",
       "      <td>1957</td>\n",
       "      <td>30.332</td>\n",
       "      <td>9240934</td>\n",
       "      <td>820.853030</td>\n",
       "    </tr>\n",
       "    <tr>\n",
       "      <th>Afghanistan</th>\n",
       "      <td>Asia</td>\n",
       "      <td>1962</td>\n",
       "      <td>31.997</td>\n",
       "      <td>10267083</td>\n",
       "      <td>853.100710</td>\n",
       "    </tr>\n",
       "    <tr>\n",
       "      <th>Afghanistan</th>\n",
       "      <td>Asia</td>\n",
       "      <td>1967</td>\n",
       "      <td>34.020</td>\n",
       "      <td>11537966</td>\n",
       "      <td>836.197138</td>\n",
       "    </tr>\n",
       "    <tr>\n",
       "      <th>Afghanistan</th>\n",
       "      <td>Asia</td>\n",
       "      <td>1972</td>\n",
       "      <td>36.088</td>\n",
       "      <td>13079460</td>\n",
       "      <td>739.981106</td>\n",
       "    </tr>\n",
       "    <tr>\n",
       "      <th>...</th>\n",
       "      <td>...</td>\n",
       "      <td>...</td>\n",
       "      <td>...</td>\n",
       "      <td>...</td>\n",
       "      <td>...</td>\n",
       "    </tr>\n",
       "    <tr>\n",
       "      <th>Zimbabwe</th>\n",
       "      <td>Africa</td>\n",
       "      <td>1987</td>\n",
       "      <td>62.351</td>\n",
       "      <td>9216418</td>\n",
       "      <td>706.157306</td>\n",
       "    </tr>\n",
       "    <tr>\n",
       "      <th>Zimbabwe</th>\n",
       "      <td>Africa</td>\n",
       "      <td>1992</td>\n",
       "      <td>60.377</td>\n",
       "      <td>10704340</td>\n",
       "      <td>693.420786</td>\n",
       "    </tr>\n",
       "    <tr>\n",
       "      <th>Zimbabwe</th>\n",
       "      <td>Africa</td>\n",
       "      <td>1997</td>\n",
       "      <td>46.809</td>\n",
       "      <td>11404948</td>\n",
       "      <td>792.449960</td>\n",
       "    </tr>\n",
       "    <tr>\n",
       "      <th>Zimbabwe</th>\n",
       "      <td>Africa</td>\n",
       "      <td>2002</td>\n",
       "      <td>39.989</td>\n",
       "      <td>11926563</td>\n",
       "      <td>672.038623</td>\n",
       "    </tr>\n",
       "    <tr>\n",
       "      <th>Zimbabwe</th>\n",
       "      <td>Africa</td>\n",
       "      <td>2007</td>\n",
       "      <td>43.487</td>\n",
       "      <td>12311143</td>\n",
       "      <td>469.709298</td>\n",
       "    </tr>\n",
       "  </tbody>\n",
       "</table>\n",
       "<p>1704 rows × 5 columns</p>\n",
       "</div>"
      ],
      "text/plain": [
       "            continent  year  lifeExp       pop   gdpPercap\n",
       "country                                                   \n",
       "Afghanistan      Asia  1952   28.801   8425333  779.445314\n",
       "Afghanistan      Asia  1957   30.332   9240934  820.853030\n",
       "Afghanistan      Asia  1962   31.997  10267083  853.100710\n",
       "Afghanistan      Asia  1967   34.020  11537966  836.197138\n",
       "Afghanistan      Asia  1972   36.088  13079460  739.981106\n",
       "...               ...   ...      ...       ...         ...\n",
       "Zimbabwe       Africa  1987   62.351   9216418  706.157306\n",
       "Zimbabwe       Africa  1992   60.377  10704340  693.420786\n",
       "Zimbabwe       Africa  1997   46.809  11404948  792.449960\n",
       "Zimbabwe       Africa  2002   39.989  11926563  672.038623\n",
       "Zimbabwe       Africa  2007   43.487  12311143  469.709298\n",
       "\n",
       "[1704 rows x 5 columns]"
      ]
     },
     "execution_count": 18,
     "metadata": {},
     "output_type": "execute_result"
    }
   ],
   "source": [
    "gapminder.set_index(\"country\")"
   ]
  },
  {
   "cell_type": "code",
   "execution_count": 24,
   "id": "667da76c-a54b-4ac2-99b1-f6d4800f6d2f",
   "metadata": {},
   "outputs": [
    {
     "data": {
      "text/plain": [
       "array(['Afghanistan', 'Albania', 'Algeria', 'Angola', 'Argentina',\n",
       "       'Australia', 'Austria', 'Bahrain', 'Bangladesh', 'Belgium',\n",
       "       'Benin', 'Bolivia', 'Bosnia and Herzegovina', 'Botswana', 'Brazil',\n",
       "       'Bulgaria', 'Burkina Faso', 'Burundi', 'Cambodia', 'Cameroon',\n",
       "       'Canada', 'Central African Republic', 'Chad', 'Chile', 'China',\n",
       "       'Colombia', 'Comoros', 'Congo, Dem. Rep.', 'Congo, Rep.',\n",
       "       'Costa Rica', \"Cote d'Ivoire\", 'Croatia', 'Cuba', 'Czech Republic',\n",
       "       'Denmark', 'Djibouti', 'Dominican Republic', 'Ecuador', 'Egypt',\n",
       "       'El Salvador', 'Equatorial Guinea', 'Eritrea', 'Ethiopia',\n",
       "       'Finland', 'France', 'Gabon', 'Gambia', 'Germany', 'Ghana',\n",
       "       'Greece', 'Guatemala', 'Guinea', 'Guinea-Bissau', 'Haiti',\n",
       "       'Honduras', 'Hong Kong, China', 'Hungary', 'Iceland', 'India',\n",
       "       'Indonesia', 'Iran', 'Iraq', 'Ireland', 'Israel', 'Italy',\n",
       "       'Jamaica', 'Japan', 'Jordan', 'Kenya', 'Korea, Dem. Rep.',\n",
       "       'Korea, Rep.', 'Kuwait', 'Lebanon', 'Lesotho', 'Liberia', 'Libya',\n",
       "       'Madagascar', 'Malawi', 'Malaysia', 'Mali', 'Mauritania',\n",
       "       'Mauritius', 'Mexico', 'Mongolia', 'Montenegro', 'Morocco',\n",
       "       'Mozambique', 'Myanmar', 'Namibia', 'Nepal', 'Netherlands',\n",
       "       'New Zealand', 'Nicaragua', 'Niger', 'Nigeria', 'Norway', 'Oman',\n",
       "       'Pakistan', 'Panama', 'Paraguay', 'Peru', 'Philippines', 'Poland',\n",
       "       'Portugal', 'Puerto Rico', 'Reunion', 'Romania', 'Rwanda',\n",
       "       'Sao Tome and Principe', 'Saudi Arabia', 'Senegal', 'Serbia',\n",
       "       'Sierra Leone', 'Singapore', 'Slovak Republic', 'Slovenia',\n",
       "       'Somalia', 'South Africa', 'Spain', 'Sri Lanka', 'Sudan',\n",
       "       'Swaziland', 'Sweden', 'Switzerland', 'Syria', 'Taiwan',\n",
       "       'Tanzania', 'Thailand', 'Togo', 'Trinidad and Tobago', 'Tunisia',\n",
       "       'Turkey', 'Uganda', 'United Kingdom', 'United States', 'Uruguay',\n",
       "       'Venezuela', 'Vietnam', 'West Bank and Gaza', 'Yemen, Rep.',\n",
       "       'Zambia', 'Zimbabwe'], dtype=object)"
      ]
     },
     "execution_count": 24,
     "metadata": {},
     "output_type": "execute_result"
    }
   ],
   "source": [
    "paises = gapminder[\"country\"]\n",
    "paises.unique()"
   ]
  },
  {
   "cell_type": "code",
   "execution_count": 25,
   "id": "a7b2fb55-34c6-4159-86ad-f5fca7bc03af",
   "metadata": {},
   "outputs": [
    {
     "data": {
      "text/plain": [
       "142"
      ]
     },
     "execution_count": 25,
     "metadata": {},
     "output_type": "execute_result"
    }
   ],
   "source": [
    "paises.nunique()"
   ]
  },
  {
   "cell_type": "markdown",
   "id": "0dadc748-d2fe-4621-b82f-121b819296b2",
   "metadata": {},
   "source": [
    "Extraer la información de Argentina, Uruguay y Chile y guardarla en un nuevo DataFrame\n",
    "`gm_sur`. Sugerencia: recordar el método `isin()`.\n",
    "¿Cuántas filas tiene? ¿Cuál es el primer y el último año para el cuál existen datos de Argentina\n",
    "en gapminder?"
   ]
  },
  {
   "cell_type": "code",
   "execution_count": 53,
   "id": "eaec30fa-ef47-412e-b985-8bf3165f7b7b",
   "metadata": {},
   "outputs": [
    {
     "name": "stdout",
     "output_type": "stream",
     "text": [
      "Cantidad de filas de gm_sur:  36\n",
      "Primer año registrado para Argentina:  1952\n",
      "Ultimo año registrado para Argentina:  2007\n"
     ]
    }
   ],
   "source": [
    "gm_sur = gapminder.set_index(\"country\").loc[[\"Argentina\", \"Chile\",\"Uruguay\"]]\n",
    "print(\"Cantidad de filas de gm_sur: \", gm_sur.shape[0])\n",
    "print(\"Primer año registrado para Argentina: \", gm_sur[\"year\"].loc[\"Argentina\"].iloc[0])\n",
    "print(\"Ultimo año registrado para Argentina: \", gm_sur[\"year\"].loc[\"Argentina\"].iloc[-1])"
   ]
  },
  {
   "cell_type": "markdown",
   "id": "dbe45081-54ed-4bdb-9476-b52577154e55",
   "metadata": {},
   "source": [
    "## Archivos de datos"
   ]
  },
  {
   "cell_type": "markdown",
   "id": "8d4d0c04-e6de-4806-af6e-226e2fbfdd95",
   "metadata": {},
   "source": [
    "La biblioteca Pandas nos permite también trabajar con archivos de datos.\n",
    "1. Leer el archivo `casos_coronavirus.csv`\n",
    "3. Graficar la curva de casos por dı́a.\n",
    "4. Graficar la curva de casos acumulados (utilizar la función cum_sum para calcularlos)\n",
    "5. Definir $y$ como el logaritmo de la cantidad de casos acumulados y graficar $y$ en función de\n",
    "la cantidad de dı́as transcurridos."
   ]
  },
  {
   "cell_type": "code",
   "execution_count": 56,
   "id": "3730068f-b305-4e2b-be82-57ece4ba2619",
   "metadata": {},
   "outputs": [
    {
     "data": {
      "text/html": [
       "<div>\n",
       "<style scoped>\n",
       "    .dataframe tbody tr th:only-of-type {\n",
       "        vertical-align: middle;\n",
       "    }\n",
       "\n",
       "    .dataframe tbody tr th {\n",
       "        vertical-align: top;\n",
       "    }\n",
       "\n",
       "    .dataframe thead th {\n",
       "        text-align: right;\n",
       "    }\n",
       "</style>\n",
       "<table border=\"1\" class=\"dataframe\">\n",
       "  <thead>\n",
       "    <tr style=\"text-align: right;\">\n",
       "      <th></th>\n",
       "      <th>fecha</th>\n",
       "      <th>confirmados_Nuevos</th>\n",
       "    </tr>\n",
       "  </thead>\n",
       "  <tbody>\n",
       "    <tr>\n",
       "      <th>0</th>\n",
       "      <td>3-3-2020</td>\n",
       "      <td>1</td>\n",
       "    </tr>\n",
       "    <tr>\n",
       "      <th>1</th>\n",
       "      <td>4-3-2020</td>\n",
       "      <td>0</td>\n",
       "    </tr>\n",
       "    <tr>\n",
       "      <th>2</th>\n",
       "      <td>5-3-2020</td>\n",
       "      <td>1</td>\n",
       "    </tr>\n",
       "    <tr>\n",
       "      <th>3</th>\n",
       "      <td>6-3-2020</td>\n",
       "      <td>6</td>\n",
       "    </tr>\n",
       "    <tr>\n",
       "      <th>4</th>\n",
       "      <td>7-3-2020</td>\n",
       "      <td>0</td>\n",
       "    </tr>\n",
       "    <tr>\n",
       "      <th>...</th>\n",
       "      <td>...</td>\n",
       "      <td>...</td>\n",
       "    </tr>\n",
       "    <tr>\n",
       "      <th>91</th>\n",
       "      <td>2-6-2020</td>\n",
       "      <td>904</td>\n",
       "    </tr>\n",
       "    <tr>\n",
       "      <th>92</th>\n",
       "      <td>3-6-2020</td>\n",
       "      <td>949</td>\n",
       "    </tr>\n",
       "    <tr>\n",
       "      <th>93</th>\n",
       "      <td>4-6-2020</td>\n",
       "      <td>929</td>\n",
       "    </tr>\n",
       "    <tr>\n",
       "      <th>94</th>\n",
       "      <td>5-6-2020</td>\n",
       "      <td>840</td>\n",
       "    </tr>\n",
       "    <tr>\n",
       "      <th>95</th>\n",
       "      <td>6-6-2020</td>\n",
       "      <td>983</td>\n",
       "    </tr>\n",
       "  </tbody>\n",
       "</table>\n",
       "<p>96 rows × 2 columns</p>\n",
       "</div>"
      ],
      "text/plain": [
       "       fecha  confirmados_Nuevos\n",
       "0   3-3-2020                   1\n",
       "1   4-3-2020                   0\n",
       "2   5-3-2020                   1\n",
       "3   6-3-2020                   6\n",
       "4   7-3-2020                   0\n",
       "..       ...                 ...\n",
       "91  2-6-2020                 904\n",
       "92  3-6-2020                 949\n",
       "93  4-6-2020                 929\n",
       "94  5-6-2020                 840\n",
       "95  6-6-2020                 983\n",
       "\n",
       "[96 rows x 2 columns]"
      ]
     },
     "execution_count": 56,
     "metadata": {},
     "output_type": "execute_result"
    }
   ],
   "source": [
    "df = pd.read_csv(\"../../datasets/casos_coronavirus.csv\") # str -> DataFrame\n",
    "df"
   ]
  },
  {
   "cell_type": "code",
   "execution_count": 57,
   "id": "06d1a0c2-8311-4310-91c8-b4c8f77b0b16",
   "metadata": {},
   "outputs": [
    {
     "data": {
      "text/plain": [
       "<Axes: >"
      ]
     },
     "execution_count": 57,
     "metadata": {},
     "output_type": "execute_result"
    },
    {
     "data": {
      "image/png": "[encoded data removed]",
      "text/plain": [
       "<Figure size 640x480 with 1 Axes>"
      ]
     },
     "metadata": {},
     "output_type": "display_data"
    }
   ],
   "source": [
    "df[\"confirmados_Nuevos\"].plot()"
   ]
  },
  {
   "cell_type": "code",
   "execution_count": 59,
   "id": "d2b6ec05-0fcc-4576-980c-f46db60eda28",
   "metadata": {},
   "outputs": [
    {
     "data": {
      "text/plain": [
       "<Axes: >"
      ]
     },
     "execution_count": 59,
     "metadata": {},
     "output_type": "execute_result"
    },
    {
     "data": {
      "image/png": "[encoded data removed]",
      "text/plain": [
       "<Figure size 640x480 with 1 Axes>"
      ]
     },
     "metadata": {},
     "output_type": "display_data"
    }
   ],
   "source": [
    "df[\"confirmados_Nuevos\"].cumsum().plot()"
   ]
  },
  {
   "cell_type": "code",
   "execution_count": 60,
   "id": "5f854760-5c44-4e80-adcd-2cef20ffa09f",
   "metadata": {},
   "outputs": [
    {
     "data": {
      "text/plain": [
       "<Axes: >"
      ]
     },
     "execution_count": 60,
     "metadata": {},
     "output_type": "execute_result"
    },
    {
     "data": {
      "image/png": "[encoded data removed]",
      "text/plain": [
       "<Figure size 640x480 with 1 Axes>"
      ]
     },
     "metadata": {},
     "output_type": "display_data"
    }
   ],
   "source": [
    "y = np.log(df[\"confirmados_Nuevos\"].cumsum())\n",
    "y.plot()"
   ]
  },
  {
   "cell_type": "markdown",
   "id": "d3642d47-1e63-4e26-8380-041e5e96617f",
   "metadata": {},
   "source": [
    "## Estadistica descriptiva"
   ]
  },
  {
   "cell_type": "markdown",
   "id": "c066b18f-7d6d-4cb8-ab2e-6e36db02d469",
   "metadata": {},
   "source": [
    " En el DataFrame **gapminder**, una de las variables es el producto bruto per capita de los paı́ses\n",
    "(gdpPercap). ¿Es una variable categórica (nominal u ordinal) o numérica (discreta o continua)?"
   ]
  },
  {
   "cell_type": "markdown",
   "id": "3880d66d-4653-4b06-bc80-1c55b03ac0fe",
   "metadata": {},
   "source": [
    "Veamos que tipo de dato tiene la columna:"
   ]
  },
  {
   "cell_type": "code",
   "execution_count": 63,
   "id": "9820cb81-8d9b-43da-a2f2-173666158d7d",
   "metadata": {},
   "outputs": [
    {
     "name": "stdout",
     "output_type": "stream",
     "text": [
      "<class 'pandas.core.series.Series'>\n",
      "RangeIndex: 1704 entries, 0 to 1703\n",
      "Series name: gdpPercap\n",
      "Non-Null Count  Dtype  \n",
      "--------------  -----  \n",
      "1704 non-null   float64\n",
      "dtypes: float64(1)\n",
      "memory usage: 13.4 KB\n"
     ]
    }
   ],
   "source": [
    "gapminder[\"gdpPercap\"].info()"
   ]
  },
  {
   "cell_type": "markdown",
   "id": "ce9a5fdb-33d0-4179-9b79-fa95f4de424c",
   "metadata": {},
   "source": [
    "Todos los elementos son numeros de punto flotante. Entonces gdpPerCap es una variable numerica continua."
   ]
  },
  {
   "cell_type": "markdown",
   "id": "a929e4d9-ddf0-4737-ae5d-f1320ddc5123",
   "metadata": {},
   "source": [
    " Supongamos que definimos una nueva variable que puede tomar los siguientes valores:\n",
    "$$\n",
    "nivelGDP = \\begin{cases} \n",
    "0, & \\text{si } gdpPercap < 1600, \\\\\n",
    "1, & \\text{si } 1600 \\leq gdpPercap < 6600, \\\\\n",
    "2, & \\text{en otro caso.}\n",
    "\\end{cases}\n",
    "$$\n",
    "¿La nueva variable es categórica (nominal u ordinal) o numérica (discreta o continua)? ¿Cambia\n",
    "la respuesta si la variable toma valores “bajo”, “medio” y “alto” en lugar de 0, 1, 2?"
   ]
  },
  {
   "cell_type": "markdown",
   "id": "de2da242-a1bd-438f-a92c-0a3acaf49446",
   "metadata": {},
   "source": [
    "Ahora la variable es numerica discreta. Si tomase valores que no son numeros como los que menciona arriba, entonces pasaria a ser una variable categorica ordinal, ya que habria un orden intrinseco."
   ]
  },
  {
   "cell_type": "markdown",
   "id": "b0850bb1-892f-49e9-aa1c-aee3b95a5ac2",
   "metadata": {},
   "source": [
    " Filtrar el DataFrame de `gapminder` para el año 2007. Luego, para ese año, calcular la cantidad\n",
    "de paı́ses en cada continente. Explorar la función `groupBy()` y los métodos `size` y `nunique()`\n",
    "de un DataFrame agrupado."
   ]
  },
  {
   "cell_type": "code",
   "execution_count": 84,
   "id": "4263697e-de06-422e-92a6-1653924fca07",
   "metadata": {},
   "outputs": [
    {
     "data": {
      "text/plain": [
       "country      142\n",
       "continent      5\n",
       "year           1\n",
       "lifeExp      142\n",
       "pop          142\n",
       "gdpPercap    142\n",
       "dtype: int64"
      ]
     },
     "execution_count": 84,
     "metadata": {},
     "output_type": "execute_result"
    }
   ],
   "source": [
    "gm_2007 = gapminder[gapminder[\"year\"] == 2007]\n",
    "gm_2007.nunique()"
   ]
  },
  {
   "cell_type": "code",
   "execution_count": 88,
   "id": "65c9150f-0145-47e3-8fd6-37bfc6a6bb59",
   "metadata": {},
   "outputs": [
    {
     "data": {
      "text/plain": [
       "852"
      ]
     },
     "execution_count": 88,
     "metadata": {},
     "output_type": "execute_result"
    }
   ],
   "source": [
    "gm_2007.size # shape[0]*shape[1]"
   ]
  },
  {
   "cell_type": "markdown",
   "id": "8d6b4c3f-981d-4028-9621-3874da155a3c",
   "metadata": {},
   "source": [
    "Con el mismo filtro que el ejercicio anterior (es decir, sólo para el año 2007), crear una variable $gdpAlto$ que valga 1 si `gdpPercap` es mayor que 2000 dólares y 0 si no lo es. Luego crear una\n",
    "tabla de 2 filas y 5 columnas que calcule la cantidad de paı́ses donde $gdpAlto$ = 0 o $gdpAlto$ = 1\n",
    "en cada continente."
   ]
  },
  {
   "cell_type": "code",
   "execution_count": 138,
   "id": "bda3b79d-c1a6-4b09-a585-6c36a15b915e",
   "metadata": {},
   "outputs": [
    {
     "data": {
      "text/plain": [
       "'\\n\\nContinente    value_counts\\nAmerica       ....\\nAsia          ....\\nEuropa\\n...\\n\\n'"
      ]
     },
     "execution_count": 138,
     "metadata": {},
     "output_type": "execute_result"
    }
   ],
   "source": [
    "\"\"\"\n",
    "\n",
    "Continente    value_counts\n",
    "America       ....\n",
    "Asia          ....\n",
    "Europa\n",
    "...\n",
    "\n",
    "\"\"\""
   ]
  },
  {
   "cell_type": "code",
   "execution_count": 153,
   "id": "37fd1c39-24a9-402b-8cf9-004739eb8d1d",
   "metadata": {},
   "outputs": [
    {
     "data": {
      "text/html": [
       "<div>\n",
       "<style scoped>\n",
       "    .dataframe tbody tr th:only-of-type {\n",
       "        vertical-align: middle;\n",
       "    }\n",
       "\n",
       "    .dataframe tbody tr th {\n",
       "        vertical-align: top;\n",
       "    }\n",
       "\n",
       "    .dataframe thead th {\n",
       "        text-align: right;\n",
       "    }\n",
       "</style>\n",
       "<table border=\"1\" class=\"dataframe\">\n",
       "  <thead>\n",
       "    <tr style=\"text-align: right;\">\n",
       "      <th></th>\n",
       "      <th>country</th>\n",
       "      <th>continent</th>\n",
       "      <th>year</th>\n",
       "      <th>lifeExp</th>\n",
       "      <th>pop</th>\n",
       "      <th>gdpPercap</th>\n",
       "    </tr>\n",
       "  </thead>\n",
       "  <tbody>\n",
       "    <tr>\n",
       "      <th>71</th>\n",
       "      <td>Australia</td>\n",
       "      <td>Oceania</td>\n",
       "      <td>2007</td>\n",
       "      <td>81.235</td>\n",
       "      <td>20434176</td>\n",
       "      <td>34435.36744</td>\n",
       "    </tr>\n",
       "    <tr>\n",
       "      <th>1103</th>\n",
       "      <td>New Zealand</td>\n",
       "      <td>Oceania</td>\n",
       "      <td>2007</td>\n",
       "      <td>80.204</td>\n",
       "      <td>4115771</td>\n",
       "      <td>25185.00911</td>\n",
       "    </tr>\n",
       "  </tbody>\n",
       "</table>\n",
       "</div>"
      ],
      "text/plain": [
       "          country continent  year  lifeExp       pop    gdpPercap\n",
       "71      Australia   Oceania  2007   81.235  20434176  34435.36744\n",
       "1103  New Zealand   Oceania  2007   80.204   4115771  25185.00911"
      ]
     },
     "execution_count": 153,
     "metadata": {},
     "output_type": "execute_result"
    }
   ],
   "source": [
    "gm_2007[gm_2007[\"continent\"] == \"Oceania\"]"
   ]
  },
  {
   "cell_type": "code",
   "execution_count": 157,
   "id": "85237e61-7fc0-4425-9724-fdb02b7703d2",
   "metadata": {},
   "outputs": [
    {
     "data": {
      "text/plain": [
       "continent  gdpPercap\n",
       "Africa     0            33\n",
       "           1            19\n",
       "Americas   1            24\n",
       "           0             1\n",
       "Asia       1            27\n",
       "           0             6\n",
       "Europe     1            30\n",
       "Oceania    1             2\n",
       "Name: count, dtype: int64"
      ]
     },
     "execution_count": 157,
     "metadata": {},
     "output_type": "execute_result"
    }
   ],
   "source": [
    "gdpAlto = gm_2007.set_index(\"continent\")[\"gdpPercap\"].ge(2000).astype(int)\n",
    "gdpAlto.groupby(\"continent\").value_counts()\n",
    "\n",
    "# preguntar, se que esta mal pero la idea esta... si solo pudiera trasponer..."
   ]
  },
  {
   "cell_type": "markdown",
   "id": "1bf06aed-9776-42fe-84a7-99e7faae0de8",
   "metadata": {},
   "source": [
    "Definir funciones que calculen la media y mediana de un vector de valores numéricos."
   ]
  },
  {
   "cell_type": "code",
   "execution_count": 173,
   "id": "d12e2b87-c695-4838-838a-3f184e591306",
   "metadata": {},
   "outputs": [],
   "source": [
    "def media(x: np.ndarray) -> np.float64:\n",
    "    return round(np.mean(x),2)\n",
    "\n",
    "def mediana(x: np.ndarray) -> np.float64:\n",
    "    return round(np.median(x), 2)"
   ]
  },
  {
   "cell_type": "markdown",
   "id": "6475de59-3826-45ba-9d39-2ac9abff1c18",
   "metadata": {},
   "source": [
    "Probar las funciones definidas con las variables numéricas utilizando solo los datos del año\n",
    "2007."
   ]
  },
  {
   "cell_type": "code",
   "execution_count": 255,
   "id": "a8961dfa-c133-41e2-935e-585cad2c1381",
   "metadata": {},
   "outputs": [
    {
     "name": "stdout",
     "output_type": "stream",
     "text": [
      "Media GDP per capita global en 2007:  11680.07\n",
      "Mediana GDP per capita global en 2007:  6124.37 \n",
      "\n",
      "Media de expectativa de vida global en 2007:  67.01\n",
      "Mediana de expectativa de vida en 2007:  71.94 \n",
      "\n",
      "Media poblacion global en 2007:  44021219.57\n",
      "Mediana poblacion global en 2007:  10517531.0\n"
     ]
    }
   ],
   "source": [
    "gdpPerCap = gm_2007[\"gdpPercap\"]\n",
    "lifeExp = gm_2007[\"lifeExp\"]\n",
    "pop = gm_2007[\"pop\"]\n",
    "\n",
    "print(\"Media GDP per capita global en 2007: \", media(gdpPerCap.array))   \n",
    "print(\"Mediana GDP per capita global en 2007: \", mediana(gdpPerCap.array), \"\\n\")    \n",
    "\n",
    "print(\"Media de expectativa de vida global en 2007: \", media(lifeExp.array))  \n",
    "print(\"Mediana de expectativa de vida en 2007: \", mediana(lifeExp.array), \"\\n\")    \n",
    "\n",
    "print(\"Media poblacion global en 2007: \", media(pop.array))    \n",
    "print(\"Mediana poblacion global en 2007: \", mediana(pop.array))    "
   ]
  },
  {
   "cell_type": "markdown",
   "id": "e8d0a93c-8add-40a6-b2bf-cae22c9ae73c",
   "metadata": {},
   "source": [
    " Graficar el producto bruto interno promedio en América en función del año.\n",
    " "
   ]
  },
  {
   "cell_type": "code",
   "execution_count": 268,
   "id": "2ca83dda-18ba-430d-ac27-e93a7dbfd2ae",
   "metadata": {},
   "outputs": [
    {
     "data": {
      "text/plain": [
       "Text(0, 0.5, 'PBI')"
      ]
     },
     "execution_count": 268,
     "metadata": {},
     "output_type": "execute_result"
    },
    {
     "data": {
      "image/png": "[encoded data removed]",
      "text/plain": [
       "<Figure size 640x480 with 1 Axes>"
      ]
     },
     "metadata": {},
     "output_type": "display_data"
    }
   ],
   "source": [
    "years = gapminder[\"year\"].unique()\n",
    "means = []\n",
    "gm_americas = gapminder[gapminder[\"continent\"] == \"Americas\"].sort_values(\"year\")\n",
    "for year in years: # un poco de magia de ciclos\n",
    "    gm_americas0 = gm_americas[gm_americas[\"year\"] == year] \n",
    "    means.append(media(gm_americas0[\"pop\"]*gm_americas0[\"gdpPercap\"])) # PBI = PBI Per Capita * Pooblacion\n",
    "\n",
    "plt.grid()\n",
    "plt.title(\"PBI promedio en America 1952 - 2007\")\n",
    "plt.plot(years, means, 'red')\n",
    "plt.xticks(years)\n",
    "plt.ylabel(\"PBI\")"
   ]
  },
  {
   "cell_type": "markdown",
   "id": "4035891e-1585-4653-90dc-64ecd1336669",
   "metadata": {},
   "source": [
    "Definir desvı́o estándar. ¿Por qué las diferencias en el numerador están elevada al cuadrado?\n",
    "Escribir una función de Python que calcule el desvı́o estándar. Comparar el resultado de usar\n",
    "la función np.std()."
   ]
  },
  {
   "cell_type": "markdown",
   "id": "76ebc8c3-18d5-429a-9041-cd85e8a3535c",
   "metadata": {},
   "source": [
    "El desvio estandar se define como: $$\\sigma = \\sqrt{\\frac{1}{N} \\sum_{i=1}^{N} (x_i - \\mu)^2}$$\n",
    "Asumo que se eleva al cuadrado por dos motivos:\n",
    "1. Queremos que $\\sigma^2 \\geq 0$ pues estamos trabajando con una raiz cuadrada\n",
    "2. Queremos desatacar los errores y minimizar los datos cercanos a la media"
   ]
  },
  {
   "cell_type": "code",
   "execution_count": 307,
   "id": "fc7a8256-3def-4f19-8266-4eb98c536f7a",
   "metadata": {},
   "outputs": [
    {
     "data": {
      "text/plain": [
       "np.float64(0.00021356237309522186)"
      ]
     },
     "execution_count": 307,
     "metadata": {},
     "output_type": "execute_result"
    }
   ],
   "source": [
    "def desvest(x: np.ndarray) -> np.float64:\n",
    "    mu = np.mean(x)\n",
    "    sq_dif = (x - mu)**2\n",
    "    res = np.sqrt(np.mean(sq_dif))\n",
    "    return round(res, 3)\n",
    "\n",
    "# Ejemplo\n",
    "x = [1,2,3,4,5]\n",
    "abs(desvest(x) - np.std(x)) # esta bien qcyo"
   ]
  },
  {
   "cell_type": "markdown",
   "id": "5d1a0842-d659-45aa-9f8c-a634b1fd81b7",
   "metadata": {},
   "source": [
    "Calcular el mı́nimo, el máximo y el desvı́o estandar de la expectativa de vida (lifeExp) entre\n",
    "paı́ses tomando sólo el DataFrame gapminder para el año 2007."
   ]
  },
  {
   "cell_type": "code",
   "execution_count": 308,
   "id": "5d47fd62-43cf-40db-9826-e5a265cd59e1",
   "metadata": {},
   "outputs": [
    {
     "name": "stdout",
     "output_type": "stream",
     "text": [
      "Minima expectativa de vida en 2007:  39.613\n",
      "Maxima expectativa de vida en 2007:  82.603\n",
      "Desvio estandar de la expectativa de vida:  12.03\n"
     ]
    }
   ],
   "source": [
    "print(\"Minima expectativa de vida en 2007: \", min(gm_2007[\"lifeExp\"]))\n",
    "print(\"Maxima expectativa de vida en 2007: \",max(gm_2007[\"lifeExp\"]))\n",
    "print(\"Desvio estandar de la expectativa de vida: \",desvest(gm_2007[\"lifeExp\"]))"
   ]
  },
  {
   "cell_type": "code",
   "execution_count": null,
   "id": "90abe057-39e9-43b3-825f-ebe8b22da814",
   "metadata": {},
   "outputs": [],
   "source": []
  }
 ],
 "metadata": {
  "kernelspec": {
   "display_name": "Python 3 (ipykernel)",
   "language": "python",
   "name": "python3"
  },
  "language_info": {
   "codemirror_mode": {
    "name": "ipython",
    "version": 3
   },
   "file_extension": ".py",
   "mimetype": "text/x-python",
   "name": "python",
   "nbconvert_exporter": "python",
   "pygments_lexer": "ipython3",
   "version": "3.13.2"
  }
 },
 "nbformat": 4,
 "nbformat_minor": 5
}

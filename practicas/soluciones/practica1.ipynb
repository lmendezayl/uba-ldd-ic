{
 "cells": [
  {
   "cell_type": "code",
   "execution_count": 3,
   "metadata": {},
   "outputs": [],
   "source": [
    "import numpy as np\n",
    "import pandas as pd"
   ]
  },
  {
   "cell_type": "markdown",
   "metadata": {},
   "source": [
    "20. Utilizando solo las operaciones y ufnciones vistas en los ejercicios anteriores, escribir codigos de una sola linea para las siguientes funciones matematicas:\n",
    "- $||v||_2$\n",
    "- $||v - w||_2$\n",
    "- $<v,w>$"
   ]
  },
  {
   "cell_type": "code",
   "execution_count": 20,
   "metadata": {},
   "outputs": [],
   "source": [
    "def norma2(v: np.array) -> float:\n",
    "    return np.sqrt(sum(v[i]**2 for i in range(len(v))))\n",
    "\n",
    "def distancia2(v: np.array, w: np.array) -> float:\n",
    "    return norma2(v - w)"
   ]
  },
  {
   "cell_type": "code",
   "execution_count": 23,
   "metadata": {},
   "outputs": [
    {
     "name": "stdout",
     "output_type": "stream",
     "text": [
      "6.48074069840786\n",
      "6.48074069840786\n",
      "3.605551275463989\n",
      "3.605551275463989\n"
     ]
    }
   ],
   "source": [
    "v = np.array([1,4,5])\n",
    "w = np.array([4,2,5])\n",
    "\n",
    "npnorm2 = np.linalg.norm(v)\n",
    "print(npnorm2)\n",
    "print(norma2(v))\n",
    "\n",
    "npdist2 = np.linalg.norm(v - w)\n",
    "print(npdist2)\n",
    "print(distancia2(v, w))\n"
   ]
  },
  {
   "cell_type": "code",
   "execution_count": null,
   "metadata": {},
   "outputs": [],
   "source": []
  }
 ],
 "metadata": {
  "kernelspec": {
   "display_name": "Python 3",
   "language": "python",
   "name": "python3"
  },
  "language_info": {
   "codemirror_mode": {
    "name": "ipython",
    "version": 3
   },
   "file_extension": ".py",
   "mimetype": "text/x-python",
   "name": "python",
   "nbconvert_exporter": "python",
   "pygments_lexer": "ipython3",
   "version": "3.13.1"
  }
 },
 "nbformat": 4,
 "nbformat_minor": 2
}

{
 "cells": [
  {
   "cell_type": "code",
   "execution_count": null,
   "id": "b3a7971c",
   "metadata": {},
   "outputs": [],
   "source": [
    "import matplotlib.pyplot as plt\n",
    "import seaborn as sns\n",
    "import numpy as np\n",
    "import pandas as pd"
   ]
  },
  {
   "cell_type": "markdown",
   "id": "30850173",
   "metadata": {},
   "source": [
    "# Jupyter notebook\n",
    "Permite combinar código Python (celdas Code) con texto con formato y fórmulas matemáticas en Latex (celdas Markdown). Vamos a usar frecuentemente Jupyter notebook en las clases.\n",
    "\n",
    "Pueden utilizar Jupyter notebook offline desde Anaconda (u otros) o alguna herramienta online, como Google Colab.\n",
    "\n",
    "Para hacer las prácticas pueden usar Jupyter notebook o cualquier otro entorno.\n"
   ]
  },
  {
   "cell_type": "code",
   "execution_count": null,
   "id": "fe1af63e",
   "metadata": {},
   "outputs": [],
   "source": [
    "# Ejemplo de código\n",
    "2 + 3 * 5"
   ]
  },
  {
   "cell_type": "code",
   "execution_count": null,
   "id": "56597a68",
   "metadata": {},
   "outputs": [],
   "source": [
    "# Podemos ingresar varias instrucciones en la misma celda\n",
    "a = 5\n",
    "a"
   ]
  },
  {
   "cell_type": "code",
   "execution_count": null,
   "id": "ac805b17",
   "metadata": {},
   "outputs": [],
   "source": [
    "# Si ejecutamos varios comandos en una misma celda solo se muestra la última salida\n",
    "b = 3.14\n",
    "b\n",
    "b * 2"
   ]
  },
  {
   "cell_type": "code",
   "execution_count": 20,
   "id": "2d4551db",
   "metadata": {},
   "outputs": [
    {
     "data": {
      "text/plain": [
       "'hola'"
      ]
     },
     "metadata": {},
     "output_type": "display_data"
    },
    {
     "name": "stdout",
     "output_type": "stream",
     "text": [
      "5\n"
     ]
    }
   ],
   "source": [
    "# Podemos usar display o print para ver varias salidas\n",
    "c = \"hola\"\n",
    "display(c)\n",
    "print(a)"
   ]
  },
  {
   "cell_type": "markdown",
   "id": "70215e8d",
   "metadata": {},
   "source": [
    "### Orden de ejecución\n",
    "Para ejecutar el contenido de una celta usamos SHIFT+Enter.\n",
    "Los comandos dentro de la celda se ejecutan en orden.\n",
    "\n",
    "Si abrimos un Notebook con varias celdas con código, el contenido de esas celdas no se ejecuta hasta que lo hagamos nosotros (podemos hacerlo celda por celda o ejecutar todas automaticamente utilizando \"Cell\" --> \"Run all\"."
   ]
  },
  {
   "cell_type": "markdown",
   "id": "39b5a0a9",
   "metadata": {},
   "source": [
    "Ejecutar la primer celda, luego la siguiente y luego nuevamente la primera y ver qué sucede."
   ]
  },
  {
   "cell_type": "code",
   "execution_count": 23,
   "id": "77cb214d",
   "metadata": {},
   "outputs": [
    {
     "name": "stdout",
     "output_type": "stream",
     "text": [
      "10\n"
     ]
    }
   ],
   "source": [
    "print(z)"
   ]
  },
  {
   "cell_type": "code",
   "execution_count": 24,
   "id": "fc218d9f",
   "metadata": {},
   "outputs": [],
   "source": [
    "z = 10"
   ]
  },
  {
   "cell_type": "markdown",
   "id": "6cd0ccfd-a46f-4027-bcce-6cb83758815f",
   "metadata": {},
   "source": [
    "**Pregunta:** ¿Qué son los corchetes que aparecen al lado de cada celda de código?"
   ]
  },
  {
   "cell_type": "markdown",
   "id": "ef3dba51-2430-4090-a4ea-6bf8c5abc225",
   "metadata": {},
   "source": [
    "Ejecutar la primera celda dos veces y luego la siguiente celda dos veces. ¿Qué sucede en cada caso? ¿Por qué?"
   ]
  },
  {
   "cell_type": "code",
   "execution_count": 27,
   "id": "8c505afb-789b-433d-9f6d-4e34af6a3309",
   "metadata": {},
   "outputs": [
    {
     "name": "stdout",
     "output_type": "stream",
     "text": [
      "10\n"
     ]
    }
   ],
   "source": [
    "x = 5\n",
    "x = x * 2\n",
    "print(x)"
   ]
  },
  {
   "cell_type": "code",
   "execution_count": 29,
   "id": "1c2b6453-4ad2-4246-954b-3b8f9c7dba2c",
   "metadata": {},
   "outputs": [
    {
     "name": "stdout",
     "output_type": "stream",
     "text": [
      "40\n"
     ]
    }
   ],
   "source": [
    "x = x * 2\n",
    "print(x)"
   ]
  },
  {
   "cell_type": "markdown",
   "id": "0c449d69",
   "metadata": {},
   "source": [
    "**Consejo:** Si entregan código en Jupyter Notebook verifiquen siempre que se pueden ejecutar las celdas en orden de arriba hacia abajo."
   ]
  },
  {
   "cell_type": "markdown",
   "id": "4c8ba94a",
   "metadata": {},
   "source": [
    "### Funciones matemáticas"
   ]
  },
  {
   "cell_type": "code",
   "execution_count": 30,
   "id": "e2960fee",
   "metadata": {},
   "outputs": [
    {
     "data": {
      "text/plain": [
       "15.700000000000001"
      ]
     },
     "execution_count": 30,
     "metadata": {},
     "output_type": "execute_result"
    }
   ],
   "source": [
    "a = 5\n",
    "b = 3.14\n",
    "a * b # Producto"
   ]
  },
  {
   "cell_type": "code",
   "execution_count": 31,
   "id": "8795485a",
   "metadata": {},
   "outputs": [
    {
     "name": "stdout",
     "output_type": "stream",
     "text": [
      "125\n"
     ]
    }
   ],
   "source": [
    "print(a**3) # Potencia"
   ]
  },
  {
   "cell_type": "code",
   "execution_count": 32,
   "id": "1402a48f",
   "metadata": {},
   "outputs": [
    {
     "name": "stdout",
     "output_type": "stream",
     "text": [
      "1.1400000000000001\n"
     ]
    }
   ],
   "source": [
    "print(b % 2) # ¿Qué hace?"
   ]
  },
  {
   "cell_type": "code",
   "execution_count": 33,
   "id": "67c63bf3",
   "metadata": {},
   "outputs": [
    {
     "name": "stdout",
     "output_type": "stream",
     "text": [
      "Operator precedence\n",
      "*******************\n",
      "\n",
      "The following table summarizes the operator precedence in Python, from\n",
      "highest precedence (most binding) to lowest precedence (least\n",
      "binding).  Operators in the same box have the same precedence.  Unless\n",
      "the syntax is explicitly given, operators are binary.  Operators in\n",
      "the same box group left to right (except for exponentiation and\n",
      "conditional expressions, which group from right to left).\n",
      "\n",
      "Note that comparisons, membership tests, and identity tests, all have\n",
      "the same precedence and have a left-to-right chaining feature as\n",
      "described in the Comparisons section.\n",
      "\n",
      "+-------------------------------------------------+---------------------------------------+\n",
      "| Operator                                        | Description                           |\n",
      "|=================================================|=======================================|\n",
      "| \"(expressions...)\",  \"[expressions...]\", \"{key: | Binding or parenthesized expression,  |\n",
      "| value...}\", \"{expressions...}\"                  | list display, dictionary display, set |\n",
      "|                                                 | display                               |\n",
      "+-------------------------------------------------+---------------------------------------+\n",
      "| \"x[index]\", \"x[index:index]\",                   | Subscription, slicing, call,          |\n",
      "| \"x(arguments...)\", \"x.attribute\"                | attribute reference                   |\n",
      "+-------------------------------------------------+---------------------------------------+\n",
      "| \"await x\"                                       | Await expression                      |\n",
      "+-------------------------------------------------+---------------------------------------+\n",
      "| \"**\"                                            | Exponentiation [5]                    |\n",
      "+-------------------------------------------------+---------------------------------------+\n",
      "| \"+x\", \"-x\", \"~x\"                                | Positive, negative, bitwise NOT       |\n",
      "+-------------------------------------------------+---------------------------------------+\n",
      "| \"*\", \"@\", \"/\", \"//\", \"%\"                        | Multiplication, matrix                |\n",
      "|                                                 | multiplication, division, floor       |\n",
      "|                                                 | division, remainder [6]               |\n",
      "+-------------------------------------------------+---------------------------------------+\n",
      "| \"+\", \"-\"                                        | Addition and subtraction              |\n",
      "+-------------------------------------------------+---------------------------------------+\n",
      "| \"<<\", \">>\"                                      | Shifts                                |\n",
      "+-------------------------------------------------+---------------------------------------+\n",
      "| \"&\"                                             | Bitwise AND                           |\n",
      "+-------------------------------------------------+---------------------------------------+\n",
      "| \"^\"                                             | Bitwise XOR                           |\n",
      "+-------------------------------------------------+---------------------------------------+\n",
      "| \"|\"                                             | Bitwise OR                            |\n",
      "+-------------------------------------------------+---------------------------------------+\n",
      "| \"in\", \"not in\", \"is\", \"is not\", \"<\", \"<=\", \">\", | Comparisons, including membership     |\n",
      "| \">=\", \"!=\", \"==\"                                | tests and identity tests              |\n",
      "+-------------------------------------------------+---------------------------------------+\n",
      "| \"not x\"                                         | Boolean NOT                           |\n",
      "+-------------------------------------------------+---------------------------------------+\n",
      "| \"and\"                                           | Boolean AND                           |\n",
      "+-------------------------------------------------+---------------------------------------+\n",
      "| \"or\"                                            | Boolean OR                            |\n",
      "+-------------------------------------------------+---------------------------------------+\n",
      "| \"if\" – \"else\"                                   | Conditional expression                |\n",
      "+-------------------------------------------------+---------------------------------------+\n",
      "| \"lambda\"                                        | Lambda expression                     |\n",
      "+-------------------------------------------------+---------------------------------------+\n",
      "| \":=\"                                            | Assignment expression                 |\n",
      "+-------------------------------------------------+---------------------------------------+\n",
      "\n",
      "-[ Footnotes ]-\n",
      "\n",
      "[1] While \"abs(x%y) < abs(y)\" is true mathematically, for floats it\n",
      "    may not be true numerically due to roundoff.  For example, and\n",
      "    assuming a platform on which a Python float is an IEEE 754 double-\n",
      "    precision number, in order that \"-1e-100 % 1e100\" have the same\n",
      "    sign as \"1e100\", the computed result is \"-1e-100 + 1e100\", which\n",
      "    is numerically exactly equal to \"1e100\".  The function\n",
      "    \"math.fmod()\" returns a result whose sign matches the sign of the\n",
      "    first argument instead, and so returns \"-1e-100\" in this case.\n",
      "    Which approach is more appropriate depends on the application.\n",
      "\n",
      "[2] If x is very close to an exact integer multiple of y, it’s\n",
      "    possible for \"x//y\" to be one larger than \"(x-x%y)//y\" due to\n",
      "    rounding.  In such cases, Python returns the latter result, in\n",
      "    order to preserve that \"divmod(x,y)[0] * y + x % y\" be very close\n",
      "    to \"x\".\n",
      "\n",
      "[3] The Unicode standard distinguishes between *code points* (e.g.\n",
      "    U+0041) and *abstract characters* (e.g. “LATIN CAPITAL LETTER A”).\n",
      "    While most abstract characters in Unicode are only represented\n",
      "    using one code point, there is a number of abstract characters\n",
      "    that can in addition be represented using a sequence of more than\n",
      "    one code point.  For example, the abstract character “LATIN\n",
      "    CAPITAL LETTER C WITH CEDILLA” can be represented as a single\n",
      "    *precomposed character* at code position U+00C7, or as a sequence\n",
      "    of a *base character* at code position U+0043 (LATIN CAPITAL\n",
      "    LETTER C), followed by a *combining character* at code position\n",
      "    U+0327 (COMBINING CEDILLA).\n",
      "\n",
      "    The comparison operators on strings compare at the level of\n",
      "    Unicode code points. This may be counter-intuitive to humans.  For\n",
      "    example, \"\"\\u00C7\" == \"\\u0043\\u0327\"\" is \"False\", even though both\n",
      "    strings represent the same abstract character “LATIN CAPITAL\n",
      "    LETTER C WITH CEDILLA”.\n",
      "\n",
      "    To compare strings at the level of abstract characters (that is,\n",
      "    in a way intuitive to humans), use \"unicodedata.normalize()\".\n",
      "\n",
      "[4] Due to automatic garbage-collection, free lists, and the dynamic\n",
      "    nature of descriptors, you may notice seemingly unusual behaviour\n",
      "    in certain uses of the \"is\" operator, like those involving\n",
      "    comparisons between instance methods, or constants.  Check their\n",
      "    documentation for more info.\n",
      "\n",
      "[5] The power operator \"**\" binds less tightly than an arithmetic or\n",
      "    bitwise unary operator on its right, that is, \"2**-1\" is \"0.5\".\n",
      "\n",
      "[6] The \"%\" operator is also used for string formatting; the same\n",
      "    precedence applies.\n",
      "\n",
      "Related help topics: lambda, or, and, not, in, is, BOOLEAN, COMPARISON,\n",
      "BITWISE, SHIFTING, BINARY, FORMATTING, POWER, UNARY, ATTRIBUTES,\n",
      "SUBSCRIPTS, SLICINGS, CALLS, TUPLES, LISTS, DICTIONARIES, FORMATTING\n",
      "\n"
     ]
    }
   ],
   "source": [
    "help('%')"
   ]
  },
  {
   "cell_type": "code",
   "execution_count": 34,
   "id": "7f36f89a",
   "metadata": {},
   "outputs": [
    {
     "data": {
      "text/plain": [
       "int"
      ]
     },
     "execution_count": 34,
     "metadata": {},
     "output_type": "execute_result"
    }
   ],
   "source": [
    "### Tipos de datos\n",
    "type(a)"
   ]
  },
  {
   "cell_type": "code",
   "execution_count": 35,
   "id": "52cf3703",
   "metadata": {},
   "outputs": [
    {
     "data": {
      "text/plain": [
       "float"
      ]
     },
     "execution_count": 35,
     "metadata": {},
     "output_type": "execute_result"
    }
   ],
   "source": [
    "type(b)"
   ]
  },
  {
   "cell_type": "code",
   "execution_count": 36,
   "id": "2e193c33",
   "metadata": {},
   "outputs": [
    {
     "data": {
      "text/plain": [
       "float"
      ]
     },
     "execution_count": 36,
     "metadata": {},
     "output_type": "execute_result"
    }
   ],
   "source": [
    "### Las funciones de Python pueden llamarse con variables de distinto tipo, y se comportan distinto según el tipo de dato\n",
    "d = 5.0\n",
    "type(d)"
   ]
  },
  {
   "cell_type": "code",
   "execution_count": 37,
   "id": "c18e12b7",
   "metadata": {},
   "outputs": [
    {
     "data": {
      "text/plain": [
       "7888609052210118054117285652827862296732064351090230047702789306640625"
      ]
     },
     "execution_count": 37,
     "metadata": {},
     "output_type": "execute_result"
    }
   ],
   "source": [
    "a**100"
   ]
  },
  {
   "cell_type": "code",
   "execution_count": 38,
   "id": "85499a12",
   "metadata": {},
   "outputs": [
    {
     "data": {
      "text/plain": [
       "7.888609052210118e+69"
      ]
     },
     "execution_count": 38,
     "metadata": {},
     "output_type": "execute_result"
    }
   ],
   "source": [
    "d**100"
   ]
  },
  {
   "cell_type": "code",
   "execution_count": 39,
   "id": "6e7749d1",
   "metadata": {},
   "outputs": [
    {
     "data": {
      "text/plain": [
       "4.931338416605635e+49"
      ]
     },
     "execution_count": 39,
     "metadata": {},
     "output_type": "execute_result"
    }
   ],
   "source": [
    "b**100"
   ]
  },
  {
   "cell_type": "code",
   "execution_count": 40,
   "id": "086fcc50",
   "metadata": {},
   "outputs": [
    {
     "data": {
      "text/plain": [
       "str"
      ]
     },
     "execution_count": 40,
     "metadata": {},
     "output_type": "execute_result"
    }
   ],
   "source": [
    "type(c)"
   ]
  },
  {
   "cell_type": "code",
   "execution_count": 41,
   "id": "09a730ae",
   "metadata": {},
   "outputs": [
    {
     "data": {
      "text/plain": [
       "'holahola'"
      ]
     },
     "execution_count": 41,
     "metadata": {},
     "output_type": "execute_result"
    }
   ],
   "source": [
    "c*2"
   ]
  },
  {
   "cell_type": "markdown",
   "id": "546cc899",
   "metadata": {},
   "source": [
    "### Variables booleanas y funciones lógicas\n",
    "En Python podemos usar variables booleanas True y False, y operadores lógicos: == (igualdad), or, and, ~ (not)."
   ]
  },
  {
   "cell_type": "code",
   "execution_count": 42,
   "id": "c584ddcf",
   "metadata": {},
   "outputs": [
    {
     "name": "stdout",
     "output_type": "stream",
     "text": [
      "False\n",
      "True\n",
      "False\n",
      "False\n"
     ]
    }
   ],
   "source": [
    "a = True\n",
    "b = False\n",
    "print(a == b)\n",
    "print(a or b)\n",
    "print(a and b)\n",
    "print(a == ~b)"
   ]
  },
  {
   "cell_type": "markdown",
   "id": "484066bd",
   "metadata": {},
   "source": [
    "El operador de igualdad aplicado a variables numércias compara solo el valor, no el tipo de dato."
   ]
  },
  {
   "cell_type": "code",
   "execution_count": 43,
   "id": "d132a3c8",
   "metadata": {},
   "outputs": [
    {
     "name": "stdout",
     "output_type": "stream",
     "text": [
      "True\n",
      "True\n",
      "True\n"
     ]
    }
   ],
   "source": [
    "x1 = 5.0\n",
    "x2 = 7.0\n",
    "x3 = 12.0\n",
    "n1 = 5\n",
    "print(x1+x2 == x3)\n",
    "print(x1 == 5)\n",
    "print(x1 == n1)"
   ]
  },
  {
   "cell_type": "code",
   "execution_count": 44,
   "id": "6b7ae61d",
   "metadata": {},
   "outputs": [
    {
     "data": {
      "text/plain": [
       "False"
      ]
     },
     "execution_count": 44,
     "metadata": {},
     "output_type": "execute_result"
    }
   ],
   "source": [
    "type(x1) == type(n1)"
   ]
  },
  {
   "cell_type": "code",
   "execution_count": 45,
   "id": "816b031d",
   "metadata": {},
   "outputs": [
    {
     "data": {
      "text/plain": [
       "True"
      ]
     },
     "execution_count": 45,
     "metadata": {},
     "output_type": "execute_result"
    }
   ],
   "source": [
    "type(x1) == type(x2)"
   ]
  },
  {
   "cell_type": "markdown",
   "id": "02dfb6e6",
   "metadata": {},
   "source": [
    "### Listas\n",
    "Las listas permiten guardar valores de distintos tipos en forma ordenada y acceder a\n",
    "los distintos elementos por su índice, comenzando desde 0."
   ]
  },
  {
   "cell_type": "code",
   "execution_count": 46,
   "id": "8e045ffd",
   "metadata": {},
   "outputs": [
    {
     "data": {
      "text/plain": [
       "[1, 2, 3.0, 'hola', 10]"
      ]
     },
     "execution_count": 46,
     "metadata": {},
     "output_type": "execute_result"
    }
   ],
   "source": [
    "s = [1, 2, 3.0, \"hola\", 7 + 3]\n",
    "s"
   ]
  },
  {
   "cell_type": "code",
   "execution_count": 47,
   "id": "d0696e66",
   "metadata": {},
   "outputs": [
    {
     "name": "stdout",
     "output_type": "stream",
     "text": [
      "1\n",
      "2\n",
      "10\n"
     ]
    }
   ],
   "source": [
    "print(s[0])\n",
    "print(s[1])\n",
    "print(s[-1])"
   ]
  },
  {
   "cell_type": "markdown",
   "id": "6c447e43",
   "metadata": {},
   "source": [
    "Podemos indicar también un rango de elementos de la lista."
   ]
  },
  {
   "cell_type": "code",
   "execution_count": 48,
   "id": "81c2a4cb",
   "metadata": {},
   "outputs": [
    {
     "data": {
      "text/plain": [
       "[2, 3.0]"
      ]
     },
     "execution_count": 48,
     "metadata": {},
     "output_type": "execute_result"
    }
   ],
   "source": [
    "s[1:3] # ¿Qué nos devuelve? ¿Por qué?"
   ]
  },
  {
   "cell_type": "markdown",
   "id": "21959376",
   "metadata": {},
   "source": [
    "# Numpy"
   ]
  },
  {
   "cell_type": "markdown",
   "id": "35d0dc05",
   "metadata": {},
   "source": [
    "Para trabajar en Python con vectores (y en general para todo tipo de operaciones\n",
    "matemáticas) vamos a usar el paquete `numpy` . Para eso importamos primero la biblioteca `numpy`\n",
    "y definimos vectores con el comando `np.array`. "
   ]
  },
  {
   "cell_type": "markdown",
   "id": "bdfb0d1e",
   "metadata": {},
   "source": [
    "**Vectores.** Los vectores (o arrays) de numpy son similares a las listas, pero todos los elementos son del mismo tipo (enteros, floats, ...)\n",
    "\n",
    "Ejecutar el siguiente código y observar los resultados."
   ]
  },
  {
   "cell_type": "code",
   "execution_count": 49,
   "id": "5f8934d5",
   "metadata": {},
   "outputs": [
    {
     "name": "stdout",
     "output_type": "stream",
     "text": [
      "[1 2 3]\n",
      "[1.2        7.         3.14159265]\n",
      "[2.2        9.         6.14159265]\n"
     ]
    }
   ],
   "source": [
    "import numpy as np\n",
    "v = np.array([1,2,3])\n",
    "w = np.array([1.2, 7, np.pi])\n",
    "print(v)\n",
    "print(w)\n",
    "print(v + w)"
   ]
  },
  {
   "cell_type": "code",
   "execution_count": 50,
   "id": "662bb955",
   "metadata": {},
   "outputs": [
    {
     "name": "stdout",
     "output_type": "stream",
     "text": [
      "<class 'numpy.ndarray'>\n",
      "<class 'numpy.ndarray'>\n"
     ]
    }
   ],
   "source": [
    "# El tipo de dato de un array de numpy es ndarray\n",
    "print(type(v))\n",
    "print(type(w))"
   ]
  },
  {
   "cell_type": "code",
   "execution_count": 51,
   "id": "a1ecec8e",
   "metadata": {},
   "outputs": [
    {
     "name": "stdout",
     "output_type": "stream",
     "text": [
      "int32\n",
      "float64\n"
     ]
    }
   ],
   "source": [
    "# Si queremos saber el tipo de dato de los elementos del array, usamos dtype\n",
    "print(v.dtype)\n",
    "print(w.dtype)"
   ]
  },
  {
   "cell_type": "markdown",
   "id": "062f9b4d",
   "metadata": {},
   "source": [
    "(dtype es un método del objeto ndarray, por eso usamos la escritura v.dtype y no dtype(v))"
   ]
  },
  {
   "cell_type": "markdown",
   "id": "9eaa8f9f",
   "metadata": {},
   "source": [
    "### La magia de Numpy. \n",
    "La biblioteca Numpy reproduce muchas funcionalidades de Matlab.\n",
    "La mayoría de las operaciones con vectores de Numpy se hacen coordenada a coordenada. Esto permite en muchos casos evitar usar ciclos o ciclos anidados y realizarlos con un solo comando. \n",
    "\n",
    "La diferencia de tiempo de ejecución entre utilizar operaciones apropiadas de Numpy o hacerlo mediante ciclos puede ser muy grande.\n",
    "\n",
    "Ejecutar los siguientes comandos e interpretar los resultados."
   ]
  },
  {
   "cell_type": "code",
   "execution_count": 52,
   "id": "ae0118f3",
   "metadata": {},
   "outputs": [
    {
     "name": "stdout",
     "output_type": "stream",
     "text": [
      "v =  [1.         2.         2.71828183 7.        ]\n",
      "w =  [1.2        3.14159265 4.         5.        ]\n",
      "v + w =  [ 2.2         5.14159265  6.71828183 12.        ]\n",
      "v**2 =  [ 1.         4.         7.3890561 49.       ]\n",
      "v%2 =  [1.         0.         0.71828183 1.        ]\n",
      "v > 3? [False False False  True]\n",
      "w < 3.5? [ True  True False False]\n"
     ]
    }
   ],
   "source": [
    "v = np.array([1,2,np.e,7])\n",
    "w = np.array([1.2, np.pi, 4, 5])\n",
    "print(\"v = \", v)\n",
    "print(\"w = \", w)\n",
    "print(\"v + w = \", v + w)\n",
    "print (\"v**2 = \", v**2)\n",
    "print (\"v%2 = \", v%2)\n",
    "print (\"v > 3?\", v > 3)\n",
    "print (\"w < 3.5?\", w < 3.5)\n"
   ]
  },
  {
   "cell_type": "markdown",
   "id": "e3de028b",
   "metadata": {},
   "source": [
    "Algunas funciones de numpy pueden usarse también como métodos"
   ]
  },
  {
   "cell_type": "code",
   "execution_count": 53,
   "id": "0b70adf9",
   "metadata": {},
   "outputs": [
    {
     "name": "stdout",
     "output_type": "stream",
     "text": [
      "12.718281828459045\n",
      "12.718281828459045\n"
     ]
    }
   ],
   "source": [
    "print(v.sum())\n",
    "print(np.sum(v))"
   ]
  },
  {
   "cell_type": "markdown",
   "id": "011b85c7",
   "metadata": {},
   "source": [
    "Las operaciones lógicas or y and no se pueden aplicar a vectores. Debemos usar los símbolos |\n",
    "(or) y & (and)."
   ]
  },
  {
   "cell_type": "code",
   "execution_count": 54,
   "id": "8b4b1178",
   "metadata": {},
   "outputs": [
    {
     "ename": "ValueError",
     "evalue": "The truth value of an array with more than one element is ambiguous. Use a.any() or a.all()",
     "output_type": "error",
     "traceback": [
      "\u001b[1;31m---------------------------------------------------------------------------\u001b[0m",
      "\u001b[1;31mValueError\u001b[0m                                Traceback (most recent call last)",
      "Cell \u001b[1;32mIn[54], line 1\u001b[0m\n\u001b[1;32m----> 1\u001b[0m \u001b[38;5;28mprint\u001b[39m((v \u001b[38;5;241m>\u001b[39m \u001b[38;5;241m3\u001b[39m) \u001b[38;5;129;01mor\u001b[39;00m (w \u001b[38;5;241m<\u001b[39m \u001b[38;5;241m3.5\u001b[39m))\n\u001b[0;32m      2\u001b[0m \u001b[38;5;28mprint\u001b[39m((v \u001b[38;5;241m>\u001b[39m \u001b[38;5;241m3\u001b[39m) \u001b[38;5;129;01mand\u001b[39;00m (w \u001b[38;5;241m<\u001b[39m \u001b[38;5;241m3.5\u001b[39m))\n",
      "\u001b[1;31mValueError\u001b[0m: The truth value of an array with more than one element is ambiguous. Use a.any() or a.all()"
     ]
    }
   ],
   "source": [
    "print((v > 3) or (w < 3.5))\n",
    "print((v > 3) and (w < 3.5))"
   ]
  },
  {
   "cell_type": "markdown",
   "id": "9eb04ca3",
   "metadata": {},
   "source": [
    "Si queremos quedarnos con sólo algunos elementos de un vector, tenemos varias formas de hacerlo."
   ]
  },
  {
   "cell_type": "code",
   "execution_count": 57,
   "id": "c87baa72",
   "metadata": {},
   "outputs": [
    {
     "data": {
      "text/plain": [
       "(1.0, 2.0, 5.0)"
      ]
     },
     "execution_count": 57,
     "metadata": {},
     "output_type": "execute_result"
    }
   ],
   "source": [
    "v = np.array([1, 2, np.e, 7, 5])\n",
    "v[0], v[1], v[-1]  # funcionara ‘v[-2]‘?"
   ]
  },
  {
   "cell_type": "code",
   "execution_count": 58,
   "id": "928d499e",
   "metadata": {},
   "outputs": [
    {
     "data": {
      "text/plain": [
       "array([1., 7.])"
      ]
     },
     "execution_count": 58,
     "metadata": {},
     "output_type": "execute_result"
    }
   ],
   "source": [
    "v[[0, 3]]"
   ]
  },
  {
   "cell_type": "code",
   "execution_count": 59,
   "id": "4032e94f",
   "metadata": {},
   "outputs": [
    {
     "ename": "TypeError",
     "evalue": "list indices must be integers or slices, not list",
     "output_type": "error",
     "traceback": [
      "\u001b[1;31m---------------------------------------------------------------------------\u001b[0m",
      "\u001b[1;31mTypeError\u001b[0m                                 Traceback (most recent call last)",
      "Cell \u001b[1;32mIn[59], line 3\u001b[0m\n\u001b[0;32m      1\u001b[0m \u001b[38;5;66;03m# Ojo, no podemos hacer lo mismo con listas\u001b[39;00m\n\u001b[0;32m      2\u001b[0m s \u001b[38;5;241m=\u001b[39m [\u001b[38;5;241m1\u001b[39m, \u001b[38;5;241m2\u001b[39m, \u001b[38;5;241m3.0\u001b[39m, \u001b[38;5;124m\"\u001b[39m\u001b[38;5;124mhola\u001b[39m\u001b[38;5;124m\"\u001b[39m, \u001b[38;5;241m7\u001b[39m \u001b[38;5;241m+\u001b[39m \u001b[38;5;241m3\u001b[39m]\n\u001b[1;32m----> 3\u001b[0m s[[\u001b[38;5;241m0\u001b[39m,\u001b[38;5;241m3\u001b[39m]]\n",
      "\u001b[1;31mTypeError\u001b[0m: list indices must be integers or slices, not list"
     ]
    }
   ],
   "source": [
    "# Ojo, no podemos hacer lo mismo con listas\n",
    "s = [1, 2, 3.0, \"hola\", 7 + 3]\n",
    "s[[0,3]]"
   ]
  },
  {
   "cell_type": "code",
   "execution_count": 60,
   "id": "7170a070",
   "metadata": {},
   "outputs": [
    {
     "data": {
      "text/plain": [
       "array([1.        , 2.        , 2.71828183])"
      ]
     },
     "execution_count": 60,
     "metadata": {},
     "output_type": "execute_result"
    }
   ],
   "source": [
    "# También podemos usar rangos\n",
    "v[0:3]"
   ]
  },
  {
   "cell_type": "code",
   "execution_count": 61,
   "id": "be21aa49",
   "metadata": {},
   "outputs": [
    {
     "data": {
      "text/plain": [
       "array([1.])"
      ]
     },
     "execution_count": 61,
     "metadata": {},
     "output_type": "execute_result"
    }
   ],
   "source": [
    "v[0:1]"
   ]
  },
  {
   "cell_type": "markdown",
   "id": "dab87989",
   "metadata": {},
   "source": [
    "Y podemos seleccionar los elementos que cumplan alguna propiedad."
   ]
  },
  {
   "cell_type": "code",
   "execution_count": 62,
   "id": "63f82907",
   "metadata": {},
   "outputs": [
    {
     "data": {
      "text/plain": [
       "array([2.71828183, 7.        , 5.        ])"
      ]
     },
     "execution_count": 62,
     "metadata": {},
     "output_type": "execute_result"
    }
   ],
   "source": [
    "v = np.array([1, 2, np.e, 7, 5])\n",
    "w = np.array([1, 0, 2, 5, 0])\n",
    "v[v > 2]"
   ]
  },
  {
   "cell_type": "code",
   "execution_count": 63,
   "id": "55c57fcf",
   "metadata": {},
   "outputs": [
    {
     "data": {
      "text/plain": [
       "array([1.        , 2.71828183, 7.        ])"
      ]
     },
     "execution_count": 63,
     "metadata": {},
     "output_type": "execute_result"
    }
   ],
   "source": [
    "v[w != 0]"
   ]
  },
  {
   "cell_type": "markdown",
   "id": "3b0dd49c",
   "metadata": {},
   "source": [
    "**Matrices.** Las matrices se definen en numpy como arrays de filas. Las operaciones usuales\n",
    "se realizan coordenada a coordenada al igual que con vectores. Verificar los resultados de los\n",
    "siguientes comandos."
   ]
  },
  {
   "cell_type": "code",
   "execution_count": 64,
   "id": "a7cbc9a4",
   "metadata": {},
   "outputs": [
    {
     "data": {
      "text/plain": [
       "array([[ 4,  2,  2],\n",
       "       [-1,  1,  1],\n",
       "       [-2,  2,  5]])"
      ]
     },
     "execution_count": 64,
     "metadata": {},
     "output_type": "execute_result"
    }
   ],
   "source": [
    "A = np.array([[3, 2, 2], [-1, 0, 1], [-2, 2, 4]])\n",
    "B = np.array([[1, 0, 0], [0, 1, 0], [0, 0, 1]])\n",
    "C = np.array([[0, 1, -1], [5, -2, 1]])\n",
    "A + B"
   ]
  },
  {
   "cell_type": "code",
   "execution_count": 65,
   "id": "f4437007",
   "metadata": {},
   "outputs": [
    {
     "data": {
      "text/plain": [
       "array([[3, 0, 0],\n",
       "       [0, 0, 0],\n",
       "       [0, 0, 4]])"
      ]
     },
     "execution_count": 65,
     "metadata": {},
     "output_type": "execute_result"
    }
   ],
   "source": [
    "A * B"
   ]
  },
  {
   "cell_type": "code",
   "execution_count": 66,
   "id": "8cbf26a7",
   "metadata": {},
   "outputs": [
    {
     "data": {
      "text/plain": [
       "array([[ 0,  1,  1],\n",
       "       [25,  4,  1]])"
      ]
     },
     "execution_count": 66,
     "metadata": {},
     "output_type": "execute_result"
    }
   ],
   "source": [
    "C**2 "
   ]
  },
  {
   "cell_type": "markdown",
   "id": "24f05154",
   "metadata": {},
   "source": [
    "El producto usual de matrices se realiza con el comando @ . \n",
    "\n",
    "A.T es la transpuesta de A. \n",
    "\n",
    "Verificar los resultados de los siguientes comandos."
   ]
  },
  {
   "cell_type": "code",
   "execution_count": 67,
   "id": "daa4a41c",
   "metadata": {},
   "outputs": [
    {
     "data": {
      "text/plain": [
       "array([[ 3,  2,  2],\n",
       "       [-1,  0,  1],\n",
       "       [-2,  2,  4]])"
      ]
     },
     "execution_count": 67,
     "metadata": {},
     "output_type": "execute_result"
    }
   ],
   "source": [
    "A @ B"
   ]
  },
  {
   "cell_type": "code",
   "execution_count": 68,
   "id": "d8939339",
   "metadata": {},
   "outputs": [
    {
     "ename": "ValueError",
     "evalue": "matmul: Input operand 1 has a mismatch in its core dimension 0, with gufunc signature (n?,k),(k,m?)->(n?,m?) (size 2 is different from 3)",
     "output_type": "error",
     "traceback": [
      "\u001b[1;31m---------------------------------------------------------------------------\u001b[0m",
      "\u001b[1;31mValueError\u001b[0m                                Traceback (most recent call last)",
      "Cell \u001b[1;32mIn[68], line 1\u001b[0m\n\u001b[1;32m----> 1\u001b[0m B \u001b[38;5;241m@\u001b[39m C\n",
      "\u001b[1;31mValueError\u001b[0m: matmul: Input operand 1 has a mismatch in its core dimension 0, with gufunc signature (n?,k),(k,m?)->(n?,m?) (size 2 is different from 3)"
     ]
    }
   ],
   "source": [
    "B @ C"
   ]
  },
  {
   "cell_type": "code",
   "execution_count": 69,
   "id": "e7912edf",
   "metadata": {},
   "outputs": [
    {
     "data": {
      "text/plain": [
       "((3, 3), (2, 3))"
      ]
     },
     "execution_count": 69,
     "metadata": {},
     "output_type": "execute_result"
    }
   ],
   "source": [
    "B.shape, C.shape"
   ]
  },
  {
   "cell_type": "code",
   "execution_count": 70,
   "id": "d3d3bb82",
   "metadata": {},
   "outputs": [
    {
     "data": {
      "text/plain": [
       "array([[ 0,  5],\n",
       "       [ 1, -2],\n",
       "       [-1,  1]])"
      ]
     },
     "execution_count": 70,
     "metadata": {},
     "output_type": "execute_result"
    }
   ],
   "source": [
    "B @ C.T"
   ]
  },
  {
   "cell_type": "markdown",
   "id": "bd782556",
   "metadata": {},
   "source": [
    "## Funciones\n",
    "\n",
    "Las funciones son bloques de código organizado que se usan para realizar tares específicas.\n",
    "\n",
    "Reciben un input (un número o una variable, por ejemplo) y devuelven un output. Los inputs van\n",
    "entre paréntesis y separados por una coma, si hay más de uno. \n",
    "\n",
    "Muchas funciones están disponibles en la biblioteca estándar de Python, otras estás agrupadas en distintas bibliotecas, como numpy que agrupa una gran cantidad de funciones matemáticas. \n",
    "\n",
    "El objetivo de estos ejercicios es familiarizarse con varias funciones básicas de Python."
   ]
  },
  {
   "cell_type": "markdown",
   "id": "eee13049",
   "metadata": {},
   "source": [
    "Ejecutar estas operaciones en la consola para entender qué hacen las funciones de numpy."
   ]
  },
  {
   "cell_type": "code",
   "execution_count": 71,
   "id": "288a75c1",
   "metadata": {},
   "outputs": [
    {
     "data": {
      "text/plain": [
       "1.4142135623730951"
      ]
     },
     "execution_count": 71,
     "metadata": {},
     "output_type": "execute_result"
    }
   ],
   "source": [
    "a = np.sqrt(2)\n",
    "a"
   ]
  },
  {
   "cell_type": "code",
   "execution_count": 72,
   "id": "583477e0",
   "metadata": {},
   "outputs": [
    {
     "data": {
      "text/plain": [
       "1.0"
      ]
     },
     "execution_count": 72,
     "metadata": {},
     "output_type": "execute_result"
    }
   ],
   "source": [
    "np.round(a)"
   ]
  },
  {
   "cell_type": "code",
   "execution_count": 73,
   "id": "ca19067e",
   "metadata": {},
   "outputs": [
    {
     "data": {
      "text/plain": [
       "1.41"
      ]
     },
     "execution_count": 73,
     "metadata": {},
     "output_type": "execute_result"
    }
   ],
   "source": [
    "np.round(a, 2)"
   ]
  },
  {
   "cell_type": "code",
   "execution_count": 74,
   "id": "9bc6c1f9",
   "metadata": {},
   "outputs": [
    {
     "name": "stdout",
     "output_type": "stream",
     "text": [
      "Evenly round to the given number of decimals.\n",
      "\n",
      "Parameters\n",
      "----------\n",
      "a : array_like\n",
      "    Input data.\n",
      "decimals : int, optional\n",
      "    Number of decimal places to round to (default: 0).  If\n",
      "    decimals is negative, it specifies the number of positions to\n",
      "    the left of the decimal point.\n",
      "out : ndarray, optional\n",
      "    Alternative output array in which to place the result. It must have\n",
      "    the same shape as the expected output, but the type of the output\n",
      "    values will be cast if necessary. See :ref:`ufuncs-output-type` for more\n",
      "    details.\n",
      "\n",
      "Returns\n",
      "-------\n",
      "rounded_array : ndarray\n",
      "    An array of the same type as `a`, containing the rounded values.\n",
      "    Unless `out` was specified, a new array is created.  A reference to\n",
      "    the result is returned.\n",
      "\n",
      "    The real and imaginary parts of complex numbers are rounded\n",
      "    separately.  The result of rounding a float is a float.\n",
      "\n",
      "See Also\n",
      "--------\n",
      "ndarray.round : equivalent method\n",
      "around : an alias for this function\n",
      "ceil, fix, floor, rint, trunc\n",
      "\n",
      "\n",
      "Notes\n",
      "-----\n",
      "For values exactly halfway between rounded decimal values, NumPy\n",
      "rounds to the nearest even value. Thus 1.5 and 2.5 round to 2.0,\n",
      "-0.5 and 0.5 round to 0.0, etc.\n",
      "\n",
      "``np.round`` uses a fast but sometimes inexact algorithm to round\n",
      "floating-point datatypes. For positive `decimals` it is equivalent to\n",
      "``np.true_divide(np.rint(a * 10**decimals), 10**decimals)``, which has\n",
      "error due to the inexact representation of decimal fractions in the IEEE\n",
      "floating point standard [1]_ and errors introduced when scaling by powers\n",
      "of ten. For instance, note the extra \"1\" in the following:\n",
      "\n",
      "    >>> np.round(56294995342131.5, 3)\n",
      "    56294995342131.51\n",
      "\n",
      "If your goal is to print such values with a fixed number of decimals, it is\n",
      "preferable to use numpy's float printing routines to limit the number of\n",
      "printed decimals:\n",
      "\n",
      "    >>> np.format_float_positional(56294995342131.5, precision=3)\n",
      "    '56294995342131.5'\n",
      "\n",
      "The float printing routines use an accurate but much more computationally\n",
      "demanding algorithm to compute the number of digits after the decimal\n",
      "point.\n",
      "\n",
      "Alternatively, Python's builtin `round` function uses a more accurate\n",
      "but slower algorithm for 64-bit floating point values:\n",
      "\n",
      "    >>> round(56294995342131.5, 3)\n",
      "    56294995342131.5\n",
      "    >>> np.round(16.055, 2), round(16.055, 2)  # equals 16.0549999999999997\n",
      "    (16.06, 16.05)\n",
      "\n",
      "\n",
      "References\n",
      "----------\n",
      ".. [1] \"Lecture Notes on the Status of IEEE 754\", William Kahan,\n",
      "       https://people.eecs.berkeley.edu/~wkahan/ieee754status/IEEE754.PDF\n",
      "\n",
      "Examples\n",
      "--------\n",
      ">>> np.round([0.37, 1.64])\n",
      "array([0., 2.])\n",
      ">>> np.round([0.37, 1.64], decimals=1)\n",
      "array([0.4, 1.6])\n",
      ">>> np.round([.5, 1.5, 2.5, 3.5, 4.5]) # rounds to nearest even value\n",
      "array([0., 2., 2., 4., 4.])\n",
      ">>> np.round([1,2,3,11], decimals=1) # ndarray of ints is returned\n",
      "array([ 1,  2,  3, 11])\n",
      ">>> np.round([1,2,3,11], decimals=-1)\n",
      "array([ 0,  0,  0, 10])\n"
     ]
    }
   ],
   "source": [
    "# Para las funciones de numpy, podems ver información con np.info\n",
    "np.info(np.round)"
   ]
  },
  {
   "cell_type": "code",
   "execution_count": 75,
   "id": "a0d9a675",
   "metadata": {},
   "outputs": [
    {
     "name": "stdout",
     "output_type": "stream",
     "text": [
      "ceil(x, /, out=None, *, where=True, casting='same_kind', order='K', dtype=None, subok=True[, signature, extobj])\n",
      "\n",
      "Return the ceiling of the input, element-wise.\n",
      "\n",
      "The ceil of the scalar `x` is the smallest integer `i`, such that\n",
      "``i >= x``.  It is often denoted as :math:`\\lceil x \\rceil`.\n",
      "\n",
      "Parameters\n",
      "----------\n",
      "x : array_like\n",
      "    Input data.\n",
      "out : ndarray, None, or tuple of ndarray and None, optional\n",
      "    A location into which the result is stored. If provided, it must have\n",
      "    a shape that the inputs broadcast to. If not provided or None,\n",
      "    a freshly-allocated array is returned. A tuple (possible only as a\n",
      "    keyword argument) must have length equal to the number of outputs.\n",
      "where : array_like, optional\n",
      "    This condition is broadcast over the input. At locations where the\n",
      "    condition is True, the `out` array will be set to the ufunc result.\n",
      "    Elsewhere, the `out` array will retain its original value.\n",
      "    Note that if an uninitialized `out` array is created via the default\n",
      "    ``out=None``, locations within it where the condition is False will\n",
      "    remain uninitialized.\n",
      "**kwargs\n",
      "    For other keyword-only arguments, see the\n",
      "    :ref:`ufunc docs <ufuncs.kwargs>`.\n",
      "\n",
      "Returns\n",
      "-------\n",
      "y : ndarray or scalar\n",
      "    The ceiling of each element in `x`, with `float` dtype.\n",
      "    This is a scalar if `x` is a scalar.\n",
      "\n",
      "See Also\n",
      "--------\n",
      "floor, trunc, rint, fix\n",
      "\n",
      "Examples\n",
      "--------\n",
      ">>> a = np.array([-1.7, -1.5, -0.2, 0.2, 1.5, 1.7, 2.0])\n",
      ">>> np.ceil(a)\n",
      "array([-1., -1., -0.,  1.,  2.,  2.,  2.])\n"
     ]
    }
   ],
   "source": [
    "np.info(np.ceil)"
   ]
  },
  {
   "cell_type": "code",
   "execution_count": 76,
   "id": "e748e474",
   "metadata": {},
   "outputs": [
    {
     "data": {
      "text/plain": [
       "4.0"
      ]
     },
     "execution_count": 76,
     "metadata": {},
     "output_type": "execute_result"
    }
   ],
   "source": [
    "np.ceil(np.pi)"
   ]
  },
  {
   "cell_type": "markdown",
   "id": "9a86defa",
   "metadata": {},
   "source": [
    "Muchas funciones de numpy se pueden aplicar también en arrays."
   ]
  },
  {
   "cell_type": "code",
   "execution_count": 77,
   "id": "e27035a1",
   "metadata": {},
   "outputs": [
    {
     "data": {
      "text/plain": [
       "array([1.41421356, 2.        , 2.82842712, 1.18920712])"
      ]
     },
     "execution_count": 77,
     "metadata": {},
     "output_type": "execute_result"
    }
   ],
   "source": [
    "v = np.array([a, a**2, a**3, a**(.5)])\n",
    "v"
   ]
  },
  {
   "cell_type": "code",
   "execution_count": 78,
   "id": "708cec88",
   "metadata": {},
   "outputs": [
    {
     "data": {
      "text/plain": [
       "array([1., 2., 2., 1.])"
      ]
     },
     "execution_count": 78,
     "metadata": {},
     "output_type": "execute_result"
    }
   ],
   "source": [
    "np.floor(v)"
   ]
  },
  {
   "cell_type": "markdown",
   "id": "5cf6981a",
   "metadata": {},
   "source": [
    "Explorar las funciones np.max() , np.min() , np.sum() , np.mean() y np.sort() aplicadas al vector\n",
    "v del ejercicio anterior. ¿Qué hace cada una?"
   ]
  },
  {
   "cell_type": "markdown",
   "id": "256f1405",
   "metadata": {},
   "source": [
    "**Ejercicio.**\n",
    "Utilizando solo las operaciones y funciones vistas en los ejercicios anteriores, escribir un código\n",
    "de una sola línea para la función matemática:\n",
    "\n",
    "$$\\langle v, w\\rangle = v_1 \\cdot w_1 + v_2 \\cdot w_2 + \\dots + v_n \\cdot w_n = \\sum_{i=1}^n v_i \\cdot w_i$$"
   ]
  },
  {
   "cell_type": "markdown",
   "id": "fc3b15ba",
   "metadata": {},
   "source": [
    "En Python podemos definir nuestras propias funciones utilizando `def`. \n",
    "\n",
    "¿Qué hace la siguiente función? \n",
    "\n",
    "¿Qué resultados esperan al aplicar la función a los vectores $v_0$ y $v_1$?"
   ]
  },
  {
   "cell_type": "code",
   "execution_count": 79,
   "id": "58b98501",
   "metadata": {},
   "outputs": [],
   "source": [
    "def todosPositivos(v):\n",
    "    return np.all(v > 0)\n",
    "\n",
    "v0 = np.array([3, 4])\n",
    "v1 = np.array([3, 5, -1, 1])"
   ]
  },
  {
   "cell_type": "code",
   "execution_count": 80,
   "id": "9eccb281",
   "metadata": {},
   "outputs": [
    {
     "data": {
      "text/plain": [
       "True"
      ]
     },
     "execution_count": 80,
     "metadata": {},
     "output_type": "execute_result"
    }
   ],
   "source": [
    "todosPositivos(v0)"
   ]
  },
  {
   "cell_type": "code",
   "execution_count": 81,
   "id": "772cd043",
   "metadata": {},
   "outputs": [
    {
     "data": {
      "text/plain": [
       "False"
      ]
     },
     "execution_count": 81,
     "metadata": {},
     "output_type": "execute_result"
    }
   ],
   "source": [
    "todosPositivos(v1)"
   ]
  },
  {
   "cell_type": "markdown",
   "id": "b40dc1bf",
   "metadata": {},
   "source": [
    "**Ejercicio.** Definir una función que calcule la norma-2 de un vector y verificarla en los vectores $v_0$ y $v_1$ del ejercicio anterior."
   ]
  },
  {
   "cell_type": "markdown",
   "id": "f3953aa0",
   "metadata": {},
   "source": [
    "## Azar y simulaciones\n",
    "\n",
    "Reproducir estos usos de la función np.random.choice() e interpretar qué hace."
   ]
  },
  {
   "cell_type": "code",
   "execution_count": 82,
   "id": "2f38fc49",
   "metadata": {},
   "outputs": [
    {
     "data": {
      "text/plain": [
       "array(['cara', 'ceca', 'ceca', 'ceca', 'ceca', 'ceca', 'ceca', 'cara',\n",
       "       'cara', 'ceca'], dtype='<U4')"
      ]
     },
     "execution_count": 82,
     "metadata": {},
     "output_type": "execute_result"
    }
   ],
   "source": [
    "x = np.array([\"cara\", \"ceca\"])\n",
    "np.random.choice(x, size=10)"
   ]
  },
  {
   "cell_type": "code",
   "execution_count": 83,
   "id": "95364287",
   "metadata": {},
   "outputs": [
    {
     "data": {
      "text/plain": [
       "array([3, 3, 6, 6, 3, 1, 4, 4, 3, 4])"
      ]
     },
     "execution_count": 83,
     "metadata": {},
     "output_type": "execute_result"
    }
   ],
   "source": [
    "y = np.array([1,2,3,4,5,6])\n",
    "np.random.choice(y, size=10)"
   ]
  },
  {
   "cell_type": "code",
   "execution_count": 84,
   "id": "31e3e4d9",
   "metadata": {},
   "outputs": [
    {
     "data": {
      "text/plain": [
       "array([1, 4, 2, 6])"
      ]
     },
     "execution_count": 84,
     "metadata": {},
     "output_type": "execute_result"
    }
   ],
   "source": [
    "np.random.choice(y, size=4, replace=False)"
   ]
  },
  {
   "cell_type": "code",
   "execution_count": 85,
   "id": "54423d8a",
   "metadata": {},
   "outputs": [
    {
     "ename": "ValueError",
     "evalue": "Cannot take a larger sample than population when 'replace=False'",
     "output_type": "error",
     "traceback": [
      "\u001b[1;31m---------------------------------------------------------------------------\u001b[0m",
      "\u001b[1;31mValueError\u001b[0m                                Traceback (most recent call last)",
      "Cell \u001b[1;32mIn[85], line 2\u001b[0m\n\u001b[0;32m      1\u001b[0m \u001b[38;5;66;03m# Funcionará?\u001b[39;00m\n\u001b[1;32m----> 2\u001b[0m np\u001b[38;5;241m.\u001b[39mrandom\u001b[38;5;241m.\u001b[39mchoice(y, size\u001b[38;5;241m=\u001b[39m\u001b[38;5;241m10\u001b[39m, replace\u001b[38;5;241m=\u001b[39m\u001b[38;5;28;01mFalse\u001b[39;00m)\n",
      "File \u001b[1;32mnumpy\\\\random\\\\mtrand.pyx:1001\u001b[0m, in \u001b[0;36mnumpy.random.mtrand.RandomState.choice\u001b[1;34m()\u001b[0m\n",
      "\u001b[1;31mValueError\u001b[0m: Cannot take a larger sample than population when 'replace=False'"
     ]
    }
   ],
   "source": [
    "# Funcionará?\n",
    "np.random.choice(y, size=10, replace=False)"
   ]
  },
  {
   "cell_type": "markdown",
   "id": "2f56c7e6",
   "metadata": {},
   "source": [
    "**Ley de los grandes números.** Esta ley asegura que si tiramos $n$ veces una moneda, el promedio de veces que sale cara tiende a $1/2$ cuando $n$ tiende a infinito.\n",
    "\n",
    "Simular 10 lanzamientos de una moneda y calcular el promedio de veces que sale cara. Repetir para $n = 1000$ y $n = 100.000$."
   ]
  },
  {
   "cell_type": "markdown",
   "id": "f136955a",
   "metadata": {},
   "source": [
    "**Ejercicio.** Se tira $n$ veces una moneda. Intentar predecir, si existen, los siguientes límites cuando $n$ tiene a infinito y verificar la intuición mediante simulaciones.\n",
    "\n",
    "1. La cantidad de caras dividido por la cantidad de cecas.\n",
    "2. La cantidad de caras menos la cantidad de cecas\n",
    "3. La cantidad de caras menos la cantidad de cecas, divido por la cantidad total de tiradas.\n",
    "4. **(Difícil)** Considerando las veces que salieron tres caras seguidas, el promedio de veces que en la siguiente tirada sale nuevamente cara.\n"
   ]
  },
  {
   "cell_type": "markdown",
   "id": "5fd88a18",
   "metadata": {},
   "source": [
    "## Archivos de datos"
   ]
  },
  {
   "cell_type": "markdown",
   "id": "054f8531",
   "metadata": {},
   "source": [
    "La biblioteca Pandas nos permite trabajar fácilmente con archivos de datos.\n",
    "1. Leer el archivo casos_coronavirus.csv .\n",
    "2. Graficar la curva de casos por día.\n",
    "3. Graficar la curva de casos acumulados.\n",
    "4. Definir log_cum_casos como el logaritmo de la cantidad de casos acumulados y graficar en función de la cantidad de días transcurridos.\n",
    "5. Estimar, tomando dos valores, la pendiente de la recta para los datos a partir del dia 30.\n",
    "6. Graficar la recta estimada junto con los datos. ¿Consideran que es una buena estimación?\n",
    "\n",
    "Utilicen o modifiquen el siguiente código."
   ]
  },
  {
   "cell_type": "code",
   "execution_count": null,
   "id": "52fe6f78",
   "metadata": {},
   "outputs": [],
   "source": [
    "import pandas as pd\n",
    "import matplotlib.pyplot as plt\n",
    "df = pd.read_csv(\"casos_coronavirus.csv\") # DataFrame\n",
    "df.head()  # Primeras filas del DataFrame"
   ]
  },
  {
   "cell_type": "code",
   "execution_count": null,
   "id": "8a83d459",
   "metadata": {},
   "outputs": [],
   "source": [
    "# Información básica del DataFrame\n",
    "df.info()"
   ]
  },
  {
   "cell_type": "markdown",
   "id": "cbfd20c2",
   "metadata": {},
   "source": [
    "Vamos a ver más sobre la biblioteca `pandas` y data frames en la próxima clase. En este\n",
    "ejemplo, convertimos los datos a arrays de numpy para utilizar las herramientas de los ejercicios\n",
    "anteriores."
   ]
  },
  {
   "cell_type": "code",
   "execution_count": null,
   "id": "663d1999",
   "metadata": {},
   "outputs": [],
   "source": [
    "# Convertimos la columna de casos nuevos a np.array\n",
    "casos_diarios = df.confirmados_Nuevos.values\n",
    "type(casos_diarios)"
   ]
  },
  {
   "cell_type": "code",
   "execution_count": null,
   "id": "c6a97e79",
   "metadata": {},
   "outputs": [],
   "source": [
    "casos_diarios.dtype # Es un array de enteros"
   ]
  },
  {
   "cell_type": "code",
   "execution_count": null,
   "id": "687c84b1",
   "metadata": {},
   "outputs": [],
   "source": [
    "# Graficamos la serie de casos diarios\n",
    "plt.plot(casos_diarios)"
   ]
  },
  {
   "cell_type": "code",
   "execution_count": null,
   "id": "b971c856",
   "metadata": {},
   "outputs": [],
   "source": [
    "# Calculamos los casos acumulados y graficamos\n",
    "casos_acumulados = casos_diarios.cumsum()\n",
    "plt.plot(casos_acumulados)"
   ]
  },
  {
   "cell_type": "code",
   "execution_count": null,
   "id": "6c394abf",
   "metadata": {},
   "outputs": [],
   "source": [
    "# Tomamos logaritmos para linealizar \n",
    "y = np.log(casos_acumulados)"
   ]
  },
  {
   "cell_type": "code",
   "execution_count": null,
   "id": "322d5bbf",
   "metadata": {},
   "outputs": [],
   "source": [
    "# Graficamos\n",
    "plt.plot(y)"
   ]
  },
  {
   "cell_type": "code",
   "execution_count": null,
   "id": "64dc326e",
   "metadata": {},
   "outputs": [],
   "source": [
    "# Agregamos la recta\n",
    "x_recta = ???\n",
    "y_recta = ???\n",
    "plt.plot(y)\n",
    "plt.plot(x_recta, y_recta)\n"
   ]
  },
  {
   "cell_type": "code",
   "execution_count": null,
   "id": "cf8a7bfd",
   "metadata": {},
   "outputs": [],
   "source": []
  }
 ],
 "metadata": {
  "kernelspec": {
   "display_name": "Python 3 (ipykernel)",
   "language": "python",
   "name": "python3"
  },
  "language_info": {
   "codemirror_mode": {
    "name": "ipython",
    "version": 3
   },
   "file_extension": ".py",
   "mimetype": "text/x-python",
   "name": "python",
   "nbconvert_exporter": "python",
   "pygments_lexer": "ipython3",
   "version": "3.11.8"
  }
 },
 "nbformat": 4,
 "nbformat_minor": 5
}

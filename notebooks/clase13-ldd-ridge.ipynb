{
 "cells": [
  {
   "cell_type": "code",
   "execution_count": 1,
   "id": "ab0d4b23-8a44-46ac-ba0c-10d33955c1d9",
   "metadata": {},
   "outputs": [],
   "source": [
    "import scipy\n",
    "import numpy as np\n",
    "import pandas as pd\n",
    "import seaborn as sns\n",
    "import seaborn.objects as so\n",
    "\n",
    "from sklearn import linear_model    # Herramientas de modelos lineales\n",
    "from sklearn.metrics import mean_squared_error, r2_score    # Medidas de desempeño\n",
    "from sklearn.preprocessing import PolynomialFeatures    # Herramientas de polinomios\n",
    "\n",
    "from sklearn.model_selection import train_test_split, KFold, cross_val_score\n",
    "from sklearn.datasets import make_regression\n",
    "from formulaic import Formula\n",
    "\n",
    "import matplotlib.pyplot as plt\n"
   ]
  },
  {
   "cell_type": "code",
   "execution_count": null,
   "id": "a860ad52-6e0b-407c-a279-358e06dd4e79",
   "metadata": {},
   "outputs": [],
   "source": [
    "# Si necesitan instalar algún paquete\n",
    "#pip install gapminder\n",
    "#!pip install formulaic"
   ]
  },
  {
   "cell_type": "markdown",
   "id": "f08cb394",
   "metadata": {},
   "source": [
    "## Colinealidad y explosión de coeficientes\n",
    "\n",
    "Para cada una de los conjuntos de datos $A$ y $B$, calcular los coeficientes de regresión por mínimos cuadrados al ajustar la variable $y$."
   ]
  },
  {
   "cell_type": "code",
   "execution_count": 2,
   "id": "5850ef35",
   "metadata": {},
   "outputs": [
    {
     "data": {
      "text/plain": [
       "array([[1.   ],\n",
       "       [0.001],\n",
       "       [0.001]])"
      ]
     },
     "metadata": {},
     "output_type": "display_data"
    },
    {
     "data": {
      "text/plain": [
       "array([[1.000e+00, 1.001e+00],\n",
       "       [1.000e-03, 1.000e-03],\n",
       "       [1.000e-03, 1.000e-03]])"
      ]
     },
     "metadata": {},
     "output_type": "display_data"
    },
    {
     "data": {
      "text/plain": [
       "array([1, 0, 0])"
      ]
     },
     "metadata": {},
     "output_type": "display_data"
    }
   ],
   "source": [
    "X_A = np.array([[1], [0.001], [0.001]])\n",
    "X_B = np.array([[1, 1.001], [0.001, 0.001], [0.001, 0.001]])\n",
    "y = np.array([1,0,0])\n",
    "display(X_A)\n",
    "display(X_B)\n",
    "display(y)"
   ]
  },
  {
   "cell_type": "code",
   "execution_count": 3,
   "id": "8d3cb996",
   "metadata": {},
   "outputs": [
    {
     "data": {
      "text/plain": [
       "array([0.999998])"
      ]
     },
     "execution_count": 3,
     "metadata": {},
     "output_type": "execute_result"
    }
   ],
   "source": [
    "# Modelo A\n",
    "modeloA = linear_model.LinearRegression(fit_intercept = False) \n",
    "modeloA.fit(X_A, y)\n",
    "modeloA.coef_"
   ]
  },
  {
   "cell_type": "code",
   "execution_count": 4,
   "id": "83def2b0",
   "metadata": {},
   "outputs": [
    {
     "data": {
      "text/plain": [
       "array([-1000.,  1000.])"
      ]
     },
     "execution_count": 4,
     "metadata": {},
     "output_type": "execute_result"
    }
   ],
   "source": [
    "# Modelo B\n",
    "modeloA = linear_model.LinearRegression(fit_intercept = False) \n",
    "modeloA.fit(X_B, y)\n",
    "modeloA.coef_"
   ]
  },
  {
   "cell_type": "markdown",
   "id": "998f648b",
   "metadata": {},
   "source": [
    "# Mínimos cuadrados regularizados\n",
    "\n",
    "Consideramos datos de los precios de viviendas en distintos barrios de Boston. Queremos predecir el precio en función de datos demográficos de cada barrio."
   ]
  },
  {
   "cell_type": "code",
   "execution_count": 6,
   "id": "caddc7d8",
   "metadata": {},
   "outputs": [
    {
     "data": {
      "text/html": [
       "<div>\n",
       "<style scoped>\n",
       "    .dataframe tbody tr th:only-of-type {\n",
       "        vertical-align: middle;\n",
       "    }\n",
       "\n",
       "    .dataframe tbody tr th {\n",
       "        vertical-align: top;\n",
       "    }\n",
       "\n",
       "    .dataframe thead th {\n",
       "        text-align: right;\n",
       "    }\n",
       "</style>\n",
       "<table border=\"1\" class=\"dataframe\">\n",
       "  <thead>\n",
       "    <tr style=\"text-align: right;\">\n",
       "      <th></th>\n",
       "      <th>crim</th>\n",
       "      <th>zn</th>\n",
       "      <th>indus</th>\n",
       "      <th>chas</th>\n",
       "      <th>nox</th>\n",
       "      <th>rm</th>\n",
       "      <th>age</th>\n",
       "      <th>dis</th>\n",
       "      <th>rad</th>\n",
       "      <th>tax</th>\n",
       "      <th>ptratio</th>\n",
       "      <th>b</th>\n",
       "      <th>lstat</th>\n",
       "      <th>medv</th>\n",
       "    </tr>\n",
       "  </thead>\n",
       "  <tbody>\n",
       "    <tr>\n",
       "      <th>0</th>\n",
       "      <td>0.00632</td>\n",
       "      <td>18.0</td>\n",
       "      <td>2.31</td>\n",
       "      <td>0</td>\n",
       "      <td>0.538</td>\n",
       "      <td>6.575</td>\n",
       "      <td>65.2</td>\n",
       "      <td>4.0900</td>\n",
       "      <td>1</td>\n",
       "      <td>296</td>\n",
       "      <td>15.3</td>\n",
       "      <td>396.90</td>\n",
       "      <td>4.98</td>\n",
       "      <td>24.0</td>\n",
       "    </tr>\n",
       "    <tr>\n",
       "      <th>1</th>\n",
       "      <td>0.02731</td>\n",
       "      <td>0.0</td>\n",
       "      <td>7.07</td>\n",
       "      <td>0</td>\n",
       "      <td>0.469</td>\n",
       "      <td>6.421</td>\n",
       "      <td>78.9</td>\n",
       "      <td>4.9671</td>\n",
       "      <td>2</td>\n",
       "      <td>242</td>\n",
       "      <td>17.8</td>\n",
       "      <td>396.90</td>\n",
       "      <td>9.14</td>\n",
       "      <td>21.6</td>\n",
       "    </tr>\n",
       "    <tr>\n",
       "      <th>2</th>\n",
       "      <td>0.02729</td>\n",
       "      <td>0.0</td>\n",
       "      <td>7.07</td>\n",
       "      <td>0</td>\n",
       "      <td>0.469</td>\n",
       "      <td>7.185</td>\n",
       "      <td>61.1</td>\n",
       "      <td>4.9671</td>\n",
       "      <td>2</td>\n",
       "      <td>242</td>\n",
       "      <td>17.8</td>\n",
       "      <td>392.83</td>\n",
       "      <td>4.03</td>\n",
       "      <td>34.7</td>\n",
       "    </tr>\n",
       "    <tr>\n",
       "      <th>3</th>\n",
       "      <td>0.03237</td>\n",
       "      <td>0.0</td>\n",
       "      <td>2.18</td>\n",
       "      <td>0</td>\n",
       "      <td>0.458</td>\n",
       "      <td>6.998</td>\n",
       "      <td>45.8</td>\n",
       "      <td>6.0622</td>\n",
       "      <td>3</td>\n",
       "      <td>222</td>\n",
       "      <td>18.7</td>\n",
       "      <td>394.63</td>\n",
       "      <td>2.94</td>\n",
       "      <td>33.4</td>\n",
       "    </tr>\n",
       "    <tr>\n",
       "      <th>4</th>\n",
       "      <td>0.06905</td>\n",
       "      <td>0.0</td>\n",
       "      <td>2.18</td>\n",
       "      <td>0</td>\n",
       "      <td>0.458</td>\n",
       "      <td>7.147</td>\n",
       "      <td>54.2</td>\n",
       "      <td>6.0622</td>\n",
       "      <td>3</td>\n",
       "      <td>222</td>\n",
       "      <td>18.7</td>\n",
       "      <td>396.90</td>\n",
       "      <td>5.33</td>\n",
       "      <td>36.2</td>\n",
       "    </tr>\n",
       "  </tbody>\n",
       "</table>\n",
       "</div>"
      ],
      "text/plain": [
       "      crim    zn  indus  chas    nox     rm   age     dis  rad  tax  ptratio  \\\n",
       "0  0.00632  18.0   2.31     0  0.538  6.575  65.2  4.0900    1  296     15.3   \n",
       "1  0.02731   0.0   7.07     0  0.469  6.421  78.9  4.9671    2  242     17.8   \n",
       "2  0.02729   0.0   7.07     0  0.469  7.185  61.1  4.9671    2  242     17.8   \n",
       "3  0.03237   0.0   2.18     0  0.458  6.998  45.8  6.0622    3  222     18.7   \n",
       "4  0.06905   0.0   2.18     0  0.458  7.147  54.2  6.0622    3  222     18.7   \n",
       "\n",
       "        b  lstat  medv  \n",
       "0  396.90   4.98  24.0  \n",
       "1  396.90   9.14  21.6  \n",
       "2  392.83   4.03  34.7  \n",
       "3  394.63   2.94  33.4  \n",
       "4  396.90   5.33  36.2  "
      ]
     },
     "execution_count": 6,
     "metadata": {},
     "output_type": "execute_result"
    }
   ],
   "source": [
    "data = pd.read_csv(\"../datasets/BostonHousing.csv\")\n",
    "data.head()"
   ]
  },
  {
   "cell_type": "markdown",
   "id": "09fa9291",
   "metadata": {},
   "source": [
    "## Primero, modelo lineal"
   ]
  },
  {
   "cell_type": "code",
   "execution_count": 20,
   "id": "4d0deeca",
   "metadata": {},
   "outputs": [],
   "source": [
    "# Consideramos primero un modelo lineal con todas las variables\n",
    "formula = 'medv ~ crim + zn + indus + chas + nox + rm + age + dis + rad + tax + ptratio + lstat + b'\n",
    "y, X =  Formula(formula).get_model_matrix(data)"
   ]
  },
  {
   "cell_type": "code",
   "execution_count": 21,
   "id": "b6d04d0c-b79d-4605-b84a-ea382c3dd028",
   "metadata": {},
   "outputs": [
    {
     "data": {
      "text/html": [
       "<div>\n",
       "<style scoped>\n",
       "    .dataframe tbody tr th:only-of-type {\n",
       "        vertical-align: middle;\n",
       "    }\n",
       "\n",
       "    .dataframe tbody tr th {\n",
       "        vertical-align: top;\n",
       "    }\n",
       "\n",
       "    .dataframe thead th {\n",
       "        text-align: right;\n",
       "    }\n",
       "</style>\n",
       "<table border=\"1\" class=\"dataframe\">\n",
       "  <thead>\n",
       "    <tr style=\"text-align: right;\">\n",
       "      <th></th>\n",
       "      <th>Intercept</th>\n",
       "      <th>crim</th>\n",
       "      <th>zn</th>\n",
       "      <th>indus</th>\n",
       "      <th>chas</th>\n",
       "      <th>nox</th>\n",
       "      <th>rm</th>\n",
       "      <th>age</th>\n",
       "      <th>dis</th>\n",
       "      <th>rad</th>\n",
       "      <th>tax</th>\n",
       "      <th>ptratio</th>\n",
       "      <th>lstat</th>\n",
       "      <th>b</th>\n",
       "    </tr>\n",
       "  </thead>\n",
       "  <tbody>\n",
       "    <tr>\n",
       "      <th>0</th>\n",
       "      <td>1.0</td>\n",
       "      <td>0.00632</td>\n",
       "      <td>18.0</td>\n",
       "      <td>2.31</td>\n",
       "      <td>0</td>\n",
       "      <td>0.538</td>\n",
       "      <td>6.575</td>\n",
       "      <td>65.2</td>\n",
       "      <td>4.0900</td>\n",
       "      <td>1</td>\n",
       "      <td>296</td>\n",
       "      <td>15.3</td>\n",
       "      <td>4.98</td>\n",
       "      <td>396.90</td>\n",
       "    </tr>\n",
       "    <tr>\n",
       "      <th>1</th>\n",
       "      <td>1.0</td>\n",
       "      <td>0.02731</td>\n",
       "      <td>0.0</td>\n",
       "      <td>7.07</td>\n",
       "      <td>0</td>\n",
       "      <td>0.469</td>\n",
       "      <td>6.421</td>\n",
       "      <td>78.9</td>\n",
       "      <td>4.9671</td>\n",
       "      <td>2</td>\n",
       "      <td>242</td>\n",
       "      <td>17.8</td>\n",
       "      <td>9.14</td>\n",
       "      <td>396.90</td>\n",
       "    </tr>\n",
       "    <tr>\n",
       "      <th>2</th>\n",
       "      <td>1.0</td>\n",
       "      <td>0.02729</td>\n",
       "      <td>0.0</td>\n",
       "      <td>7.07</td>\n",
       "      <td>0</td>\n",
       "      <td>0.469</td>\n",
       "      <td>7.185</td>\n",
       "      <td>61.1</td>\n",
       "      <td>4.9671</td>\n",
       "      <td>2</td>\n",
       "      <td>242</td>\n",
       "      <td>17.8</td>\n",
       "      <td>4.03</td>\n",
       "      <td>392.83</td>\n",
       "    </tr>\n",
       "    <tr>\n",
       "      <th>3</th>\n",
       "      <td>1.0</td>\n",
       "      <td>0.03237</td>\n",
       "      <td>0.0</td>\n",
       "      <td>2.18</td>\n",
       "      <td>0</td>\n",
       "      <td>0.458</td>\n",
       "      <td>6.998</td>\n",
       "      <td>45.8</td>\n",
       "      <td>6.0622</td>\n",
       "      <td>3</td>\n",
       "      <td>222</td>\n",
       "      <td>18.7</td>\n",
       "      <td>2.94</td>\n",
       "      <td>394.63</td>\n",
       "    </tr>\n",
       "    <tr>\n",
       "      <th>4</th>\n",
       "      <td>1.0</td>\n",
       "      <td>0.06905</td>\n",
       "      <td>0.0</td>\n",
       "      <td>2.18</td>\n",
       "      <td>0</td>\n",
       "      <td>0.458</td>\n",
       "      <td>7.147</td>\n",
       "      <td>54.2</td>\n",
       "      <td>6.0622</td>\n",
       "      <td>3</td>\n",
       "      <td>222</td>\n",
       "      <td>18.7</td>\n",
       "      <td>5.33</td>\n",
       "      <td>396.90</td>\n",
       "    </tr>\n",
       "    <tr>\n",
       "      <th>...</th>\n",
       "      <td>...</td>\n",
       "      <td>...</td>\n",
       "      <td>...</td>\n",
       "      <td>...</td>\n",
       "      <td>...</td>\n",
       "      <td>...</td>\n",
       "      <td>...</td>\n",
       "      <td>...</td>\n",
       "      <td>...</td>\n",
       "      <td>...</td>\n",
       "      <td>...</td>\n",
       "      <td>...</td>\n",
       "      <td>...</td>\n",
       "      <td>...</td>\n",
       "    </tr>\n",
       "    <tr>\n",
       "      <th>501</th>\n",
       "      <td>1.0</td>\n",
       "      <td>0.06263</td>\n",
       "      <td>0.0</td>\n",
       "      <td>11.93</td>\n",
       "      <td>0</td>\n",
       "      <td>0.573</td>\n",
       "      <td>6.593</td>\n",
       "      <td>69.1</td>\n",
       "      <td>2.4786</td>\n",
       "      <td>1</td>\n",
       "      <td>273</td>\n",
       "      <td>21.0</td>\n",
       "      <td>9.67</td>\n",
       "      <td>391.99</td>\n",
       "    </tr>\n",
       "    <tr>\n",
       "      <th>502</th>\n",
       "      <td>1.0</td>\n",
       "      <td>0.04527</td>\n",
       "      <td>0.0</td>\n",
       "      <td>11.93</td>\n",
       "      <td>0</td>\n",
       "      <td>0.573</td>\n",
       "      <td>6.120</td>\n",
       "      <td>76.7</td>\n",
       "      <td>2.2875</td>\n",
       "      <td>1</td>\n",
       "      <td>273</td>\n",
       "      <td>21.0</td>\n",
       "      <td>9.08</td>\n",
       "      <td>396.90</td>\n",
       "    </tr>\n",
       "    <tr>\n",
       "      <th>503</th>\n",
       "      <td>1.0</td>\n",
       "      <td>0.06076</td>\n",
       "      <td>0.0</td>\n",
       "      <td>11.93</td>\n",
       "      <td>0</td>\n",
       "      <td>0.573</td>\n",
       "      <td>6.976</td>\n",
       "      <td>91.0</td>\n",
       "      <td>2.1675</td>\n",
       "      <td>1</td>\n",
       "      <td>273</td>\n",
       "      <td>21.0</td>\n",
       "      <td>5.64</td>\n",
       "      <td>396.90</td>\n",
       "    </tr>\n",
       "    <tr>\n",
       "      <th>504</th>\n",
       "      <td>1.0</td>\n",
       "      <td>0.10959</td>\n",
       "      <td>0.0</td>\n",
       "      <td>11.93</td>\n",
       "      <td>0</td>\n",
       "      <td>0.573</td>\n",
       "      <td>6.794</td>\n",
       "      <td>89.3</td>\n",
       "      <td>2.3889</td>\n",
       "      <td>1</td>\n",
       "      <td>273</td>\n",
       "      <td>21.0</td>\n",
       "      <td>6.48</td>\n",
       "      <td>393.45</td>\n",
       "    </tr>\n",
       "    <tr>\n",
       "      <th>505</th>\n",
       "      <td>1.0</td>\n",
       "      <td>0.04741</td>\n",
       "      <td>0.0</td>\n",
       "      <td>11.93</td>\n",
       "      <td>0</td>\n",
       "      <td>0.573</td>\n",
       "      <td>6.030</td>\n",
       "      <td>80.8</td>\n",
       "      <td>2.5050</td>\n",
       "      <td>1</td>\n",
       "      <td>273</td>\n",
       "      <td>21.0</td>\n",
       "      <td>7.88</td>\n",
       "      <td>396.90</td>\n",
       "    </tr>\n",
       "  </tbody>\n",
       "</table>\n",
       "<p>506 rows × 14 columns</p>\n",
       "</div>"
      ],
      "text/plain": [
       "     Intercept     crim    zn  indus  chas    nox     rm   age     dis  rad  \\\n",
       "0          1.0  0.00632  18.0   2.31     0  0.538  6.575  65.2  4.0900    1   \n",
       "1          1.0  0.02731   0.0   7.07     0  0.469  6.421  78.9  4.9671    2   \n",
       "2          1.0  0.02729   0.0   7.07     0  0.469  7.185  61.1  4.9671    2   \n",
       "3          1.0  0.03237   0.0   2.18     0  0.458  6.998  45.8  6.0622    3   \n",
       "4          1.0  0.06905   0.0   2.18     0  0.458  7.147  54.2  6.0622    3   \n",
       "..         ...      ...   ...    ...   ...    ...    ...   ...     ...  ...   \n",
       "501        1.0  0.06263   0.0  11.93     0  0.573  6.593  69.1  2.4786    1   \n",
       "502        1.0  0.04527   0.0  11.93     0  0.573  6.120  76.7  2.2875    1   \n",
       "503        1.0  0.06076   0.0  11.93     0  0.573  6.976  91.0  2.1675    1   \n",
       "504        1.0  0.10959   0.0  11.93     0  0.573  6.794  89.3  2.3889    1   \n",
       "505        1.0  0.04741   0.0  11.93     0  0.573  6.030  80.8  2.5050    1   \n",
       "\n",
       "     tax  ptratio  lstat       b  \n",
       "0    296     15.3   4.98  396.90  \n",
       "1    242     17.8   9.14  396.90  \n",
       "2    242     17.8   4.03  392.83  \n",
       "3    222     18.7   2.94  394.63  \n",
       "4    222     18.7   5.33  396.90  \n",
       "..   ...      ...    ...     ...  \n",
       "501  273     21.0   9.67  391.99  \n",
       "502  273     21.0   9.08  396.90  \n",
       "503  273     21.0   5.64  396.90  \n",
       "504  273     21.0   6.48  393.45  \n",
       "505  273     21.0   7.88  396.90  \n",
       "\n",
       "[506 rows x 14 columns]"
      ]
     },
     "execution_count": 21,
     "metadata": {},
     "output_type": "execute_result"
    }
   ],
   "source": [
    "X"
   ]
  },
  {
   "cell_type": "code",
   "execution_count": 22,
   "id": "469f097c-d4dd-4f0a-a4bd-8e0981a085c4",
   "metadata": {},
   "outputs": [
    {
     "data": {
      "text/html": [
       "<div>\n",
       "<style scoped>\n",
       "    .dataframe tbody tr th:only-of-type {\n",
       "        vertical-align: middle;\n",
       "    }\n",
       "\n",
       "    .dataframe tbody tr th {\n",
       "        vertical-align: top;\n",
       "    }\n",
       "\n",
       "    .dataframe thead th {\n",
       "        text-align: right;\n",
       "    }\n",
       "</style>\n",
       "<table border=\"1\" class=\"dataframe\">\n",
       "  <thead>\n",
       "    <tr style=\"text-align: right;\">\n",
       "      <th></th>\n",
       "      <th>medv</th>\n",
       "    </tr>\n",
       "  </thead>\n",
       "  <tbody>\n",
       "    <tr>\n",
       "      <th>0</th>\n",
       "      <td>24.0</td>\n",
       "    </tr>\n",
       "    <tr>\n",
       "      <th>1</th>\n",
       "      <td>21.6</td>\n",
       "    </tr>\n",
       "    <tr>\n",
       "      <th>2</th>\n",
       "      <td>34.7</td>\n",
       "    </tr>\n",
       "    <tr>\n",
       "      <th>3</th>\n",
       "      <td>33.4</td>\n",
       "    </tr>\n",
       "    <tr>\n",
       "      <th>4</th>\n",
       "      <td>36.2</td>\n",
       "    </tr>\n",
       "    <tr>\n",
       "      <th>...</th>\n",
       "      <td>...</td>\n",
       "    </tr>\n",
       "    <tr>\n",
       "      <th>501</th>\n",
       "      <td>22.4</td>\n",
       "    </tr>\n",
       "    <tr>\n",
       "      <th>502</th>\n",
       "      <td>20.6</td>\n",
       "    </tr>\n",
       "    <tr>\n",
       "      <th>503</th>\n",
       "      <td>23.9</td>\n",
       "    </tr>\n",
       "    <tr>\n",
       "      <th>504</th>\n",
       "      <td>22.0</td>\n",
       "    </tr>\n",
       "    <tr>\n",
       "      <th>505</th>\n",
       "      <td>11.9</td>\n",
       "    </tr>\n",
       "  </tbody>\n",
       "</table>\n",
       "<p>506 rows × 1 columns</p>\n",
       "</div>"
      ],
      "text/plain": [
       "     medv\n",
       "0    24.0\n",
       "1    21.6\n",
       "2    34.7\n",
       "3    33.4\n",
       "4    36.2\n",
       "..    ...\n",
       "501  22.4\n",
       "502  20.6\n",
       "503  23.9\n",
       "504  22.0\n",
       "505  11.9\n",
       "\n",
       "[506 rows x 1 columns]"
      ]
     },
     "execution_count": 22,
     "metadata": {},
     "output_type": "execute_result"
    }
   ],
   "source": [
    "y"
   ]
  },
  {
   "cell_type": "code",
   "execution_count": 23,
   "id": "87eca512-ec65-4d01-91a5-3a14061f1b20",
   "metadata": {},
   "outputs": [
    {
     "data": {
      "text/plain": [
       "formulaic.model_matrix.ModelMatrix"
      ]
     },
     "execution_count": 23,
     "metadata": {},
     "output_type": "execute_result"
    }
   ],
   "source": [
    "# Observación: y es una DataFrame (en realidad, una matriz de formulaic)\n",
    "type(y)"
   ]
  },
  {
   "cell_type": "code",
   "execution_count": 24,
   "id": "b5e7a09b-6ff5-4862-a194-7cefe2081e7b",
   "metadata": {},
   "outputs": [
    {
     "data": {
      "text/plain": [
       "pandas.core.series.Series"
      ]
     },
     "execution_count": 24,
     "metadata": {},
     "output_type": "execute_result"
    }
   ],
   "source": [
    "# Podemos convertirla a serie de Pandas con squeeze().\n",
    "# Es conveniente para graficar o acceder a los valores de la serie\n",
    "y = y.squeeze()\n",
    "type(y)"
   ]
  },
  {
   "cell_type": "code",
   "execution_count": 25,
   "id": "67b2d692",
   "metadata": {},
   "outputs": [],
   "source": [
    "# Separamos en testeo y entrenamiento\n",
    "X_train, X_test, y_train, y_test = train_test_split(X, y, test_size=0.2, random_state=42)"
   ]
  },
  {
   "cell_type": "code",
   "execution_count": 26,
   "id": "65e1dad9",
   "metadata": {},
   "outputs": [
    {
     "name": "stdout",
     "output_type": "stream",
     "text": [
      "Root Mean Squared Error: 4.92860\n"
     ]
    }
   ],
   "source": [
    "# Inicializamos el modelo\n",
    "modeloLineal = linear_model.LinearRegression(fit_intercept = False)  # alpha is the hyperparameter equivalent to lambda\n",
    "\n",
    "# Entrenamos\n",
    "modeloLineal.fit(X_train, y_train)\n",
    "\n",
    "# Predecimos\n",
    "y_pred = modeloLineal.predict(X_test)\n",
    "\n",
    "# Evaluamos\n",
    "rmse = np.sqrt(mean_squared_error(y_test, y_pred))\n",
    "print(f\"Root Mean Squared Error: {rmse:.5f}\")"
   ]
  },
  {
   "cell_type": "markdown",
   "id": "9b9794c2",
   "metadata": {},
   "source": [
    "Como tenemos datos poblaciones, puede ser útil considerar interacciones (productos entre variables).\n",
    "Por ejemplo tiene sentido multiplicar cantidad de habitantes por salario promedio.\n",
    "\n",
    "Sin pensarlo mucho ni mirar mucho las variables, incorporamos las interacciones entre las variables para ver si podemos mejorar el modelo."
   ]
  },
  {
   "cell_type": "code",
   "execution_count": 27,
   "id": "c12b77ea",
   "metadata": {},
   "outputs": [
    {
     "data": {
      "text/html": [
       "<div>\n",
       "<style scoped>\n",
       "    .dataframe tbody tr th:only-of-type {\n",
       "        vertical-align: middle;\n",
       "    }\n",
       "\n",
       "    .dataframe tbody tr th {\n",
       "        vertical-align: top;\n",
       "    }\n",
       "\n",
       "    .dataframe thead th {\n",
       "        text-align: right;\n",
       "    }\n",
       "</style>\n",
       "<table border=\"1\" class=\"dataframe\">\n",
       "  <thead>\n",
       "    <tr style=\"text-align: right;\">\n",
       "      <th></th>\n",
       "      <th>crim</th>\n",
       "      <th>zn</th>\n",
       "      <th>indus</th>\n",
       "      <th>chas</th>\n",
       "      <th>nox</th>\n",
       "      <th>rm</th>\n",
       "      <th>age</th>\n",
       "      <th>dis</th>\n",
       "      <th>rad</th>\n",
       "      <th>tax</th>\n",
       "      <th>...</th>\n",
       "      <th>rad:tax</th>\n",
       "      <th>rad:ptratio</th>\n",
       "      <th>rad:lstat</th>\n",
       "      <th>rad:b</th>\n",
       "      <th>tax:ptratio</th>\n",
       "      <th>tax:lstat</th>\n",
       "      <th>tax:b</th>\n",
       "      <th>ptratio:lstat</th>\n",
       "      <th>ptratio:b</th>\n",
       "      <th>lstat:b</th>\n",
       "    </tr>\n",
       "  </thead>\n",
       "  <tbody>\n",
       "    <tr>\n",
       "      <th>0</th>\n",
       "      <td>0.00632</td>\n",
       "      <td>18.0</td>\n",
       "      <td>2.31</td>\n",
       "      <td>0</td>\n",
       "      <td>0.538</td>\n",
       "      <td>6.575</td>\n",
       "      <td>65.2</td>\n",
       "      <td>4.0900</td>\n",
       "      <td>1</td>\n",
       "      <td>296</td>\n",
       "      <td>...</td>\n",
       "      <td>296</td>\n",
       "      <td>15.3</td>\n",
       "      <td>4.98</td>\n",
       "      <td>396.90</td>\n",
       "      <td>4528.8</td>\n",
       "      <td>1474.08</td>\n",
       "      <td>117482.40</td>\n",
       "      <td>76.194</td>\n",
       "      <td>6072.570</td>\n",
       "      <td>1976.5620</td>\n",
       "    </tr>\n",
       "    <tr>\n",
       "      <th>1</th>\n",
       "      <td>0.02731</td>\n",
       "      <td>0.0</td>\n",
       "      <td>7.07</td>\n",
       "      <td>0</td>\n",
       "      <td>0.469</td>\n",
       "      <td>6.421</td>\n",
       "      <td>78.9</td>\n",
       "      <td>4.9671</td>\n",
       "      <td>2</td>\n",
       "      <td>242</td>\n",
       "      <td>...</td>\n",
       "      <td>484</td>\n",
       "      <td>35.6</td>\n",
       "      <td>18.28</td>\n",
       "      <td>793.80</td>\n",
       "      <td>4307.6</td>\n",
       "      <td>2211.88</td>\n",
       "      <td>96049.80</td>\n",
       "      <td>162.692</td>\n",
       "      <td>7064.820</td>\n",
       "      <td>3627.6660</td>\n",
       "    </tr>\n",
       "    <tr>\n",
       "      <th>2</th>\n",
       "      <td>0.02729</td>\n",
       "      <td>0.0</td>\n",
       "      <td>7.07</td>\n",
       "      <td>0</td>\n",
       "      <td>0.469</td>\n",
       "      <td>7.185</td>\n",
       "      <td>61.1</td>\n",
       "      <td>4.9671</td>\n",
       "      <td>2</td>\n",
       "      <td>242</td>\n",
       "      <td>...</td>\n",
       "      <td>484</td>\n",
       "      <td>35.6</td>\n",
       "      <td>8.06</td>\n",
       "      <td>785.66</td>\n",
       "      <td>4307.6</td>\n",
       "      <td>975.26</td>\n",
       "      <td>95064.86</td>\n",
       "      <td>71.734</td>\n",
       "      <td>6992.374</td>\n",
       "      <td>1583.1049</td>\n",
       "    </tr>\n",
       "    <tr>\n",
       "      <th>3</th>\n",
       "      <td>0.03237</td>\n",
       "      <td>0.0</td>\n",
       "      <td>2.18</td>\n",
       "      <td>0</td>\n",
       "      <td>0.458</td>\n",
       "      <td>6.998</td>\n",
       "      <td>45.8</td>\n",
       "      <td>6.0622</td>\n",
       "      <td>3</td>\n",
       "      <td>222</td>\n",
       "      <td>...</td>\n",
       "      <td>666</td>\n",
       "      <td>56.1</td>\n",
       "      <td>8.82</td>\n",
       "      <td>1183.89</td>\n",
       "      <td>4151.4</td>\n",
       "      <td>652.68</td>\n",
       "      <td>87607.86</td>\n",
       "      <td>54.978</td>\n",
       "      <td>7379.581</td>\n",
       "      <td>1160.2122</td>\n",
       "    </tr>\n",
       "    <tr>\n",
       "      <th>4</th>\n",
       "      <td>0.06905</td>\n",
       "      <td>0.0</td>\n",
       "      <td>2.18</td>\n",
       "      <td>0</td>\n",
       "      <td>0.458</td>\n",
       "      <td>7.147</td>\n",
       "      <td>54.2</td>\n",
       "      <td>6.0622</td>\n",
       "      <td>3</td>\n",
       "      <td>222</td>\n",
       "      <td>...</td>\n",
       "      <td>666</td>\n",
       "      <td>56.1</td>\n",
       "      <td>15.99</td>\n",
       "      <td>1190.70</td>\n",
       "      <td>4151.4</td>\n",
       "      <td>1183.26</td>\n",
       "      <td>88111.80</td>\n",
       "      <td>99.671</td>\n",
       "      <td>7422.030</td>\n",
       "      <td>2115.4770</td>\n",
       "    </tr>\n",
       "  </tbody>\n",
       "</table>\n",
       "<p>5 rows × 91 columns</p>\n",
       "</div>"
      ],
      "text/plain": [
       "      crim    zn  indus  chas    nox     rm   age     dis  rad  tax  ...  \\\n",
       "0  0.00632  18.0   2.31     0  0.538  6.575  65.2  4.0900    1  296  ...   \n",
       "1  0.02731   0.0   7.07     0  0.469  6.421  78.9  4.9671    2  242  ...   \n",
       "2  0.02729   0.0   7.07     0  0.469  7.185  61.1  4.9671    2  242  ...   \n",
       "3  0.03237   0.0   2.18     0  0.458  6.998  45.8  6.0622    3  222  ...   \n",
       "4  0.06905   0.0   2.18     0  0.458  7.147  54.2  6.0622    3  222  ...   \n",
       "\n",
       "   rad:tax  rad:ptratio  rad:lstat    rad:b  tax:ptratio  tax:lstat  \\\n",
       "0      296         15.3       4.98   396.90       4528.8    1474.08   \n",
       "1      484         35.6      18.28   793.80       4307.6    2211.88   \n",
       "2      484         35.6       8.06   785.66       4307.6     975.26   \n",
       "3      666         56.1       8.82  1183.89       4151.4     652.68   \n",
       "4      666         56.1      15.99  1190.70       4151.4    1183.26   \n",
       "\n",
       "       tax:b  ptratio:lstat  ptratio:b    lstat:b  \n",
       "0  117482.40         76.194   6072.570  1976.5620  \n",
       "1   96049.80        162.692   7064.820  3627.6660  \n",
       "2   95064.86         71.734   6992.374  1583.1049  \n",
       "3   87607.86         54.978   7379.581  1160.2122  \n",
       "4   88111.80         99.671   7422.030  2115.4770  \n",
       "\n",
       "[5 rows x 91 columns]"
      ]
     },
     "execution_count": 27,
     "metadata": {},
     "output_type": "execute_result"
    }
   ],
   "source": [
    "# En Formulaic agregamos interacciones con el simbolo *.\n",
    "# De esta forma se agregan las variables individuales y también los productos.\n",
    "# Más sobre interaccciones en las próximas clases.\n",
    "formula = 'medv ~ (crim+zn+indus+chas+nox+rm+age+dis+rad+tax+ptratio+lstat+b)*(crim+zn+indus+chas+nox+rm+age+dis+rad+tax+ptratio+lstat+b)-1'\n",
    "y, X =  Formula(formula).get_model_matrix(data)\n",
    "y = y.squeeze()\n",
    "X.head()"
   ]
  },
  {
   "cell_type": "code",
   "execution_count": 28,
   "id": "bb05744e",
   "metadata": {},
   "outputs": [],
   "source": [
    "# Separamos en testeo y entrenamiento\n",
    "X_train, X_test, y_train, y_test = train_test_split(X, y, test_size=0.2, random_state=42)"
   ]
  },
  {
   "cell_type": "code",
   "execution_count": 29,
   "id": "b4771665",
   "metadata": {},
   "outputs": [
    {
     "name": "stdout",
     "output_type": "stream",
     "text": [
      "Root Mean Squared Error: 3.38172\n"
     ]
    }
   ],
   "source": [
    "# Inicializamos el modelo lineal\n",
    "modeloLineal = linear_model.LinearRegression(fit_intercept = True)\n",
    "\n",
    "# Entrenamos\n",
    "modeloLineal.fit(X_train, y_train)\n",
    "\n",
    "# Predecimos\n",
    "y_pred = modeloLineal.predict(X_test)\n",
    "\n",
    "# Evaluamos\n",
    "rmse = np.sqrt(mean_squared_error(y_test, y_pred))\n",
    "print(f\"Root Mean Squared Error: {rmse:.5f}\")"
   ]
  },
  {
   "cell_type": "markdown",
   "id": "ddcbbe4d",
   "metadata": {},
   "source": [
    "Logramos una reducción importante del error cuadrático.\n",
    "\n",
    "**Ejercicio:** Mirando los coeficientes con cuidado, seleccionar cuáles interacciones son importantes, y utilizar las técnicas vistas de selección de modelos, seleccionar un modelo lineal con pocas variables y similar poder explicativo.\n",
    "\n",
    "Una forma rápida de mirar coeficientes es graficarlos."
   ]
  },
  {
   "cell_type": "code",
   "execution_count": 30,
   "id": "76a2884e-b8c8-48f3-a335-c0474ebdc70d",
   "metadata": {},
   "outputs": [
    {
     "data": {
      "image/png": "[encoded data removed]",
      "text/plain": [
       "<seaborn._core.plot.Plot at 0x7ff903dd3d90>"
      ]
     },
     "execution_count": 30,
     "metadata": {
      "image/png": {
       "height": 378.25,
       "width": 509.15
      }
     },
     "output_type": "execute_result"
    }
   ],
   "source": [
    "(\n",
    "    so.Plot(x = np.arange(X.shape[1]))\n",
    "    .add(so.Dot(color = \"r\"), y = modeloLineal.coef_)\n",
    ")"
   ]
  },
  {
   "cell_type": "code",
   "execution_count": 31,
   "id": "c60424c5-b75b-488d-9fbf-a7b093560c73",
   "metadata": {},
   "outputs": [
    {
     "data": {
      "text/plain": [
       "np.float64(-210.21359286143945)"
      ]
     },
     "execution_count": 31,
     "metadata": {},
     "output_type": "execute_result"
    }
   ],
   "source": [
    "modeloLineal.intercept_"
   ]
  },
  {
   "cell_type": "markdown",
   "id": "aa940b3c",
   "metadata": {},
   "source": [
    "Al introducir tantas variables nuevas, relacionadas con las variables originales, es muy posible que hayamos introducido colinealidad entre las variables.\n",
    "\n",
    "Es razonable entonces intentar un modelo de mínimos cuadrados regularizados."
   ]
  },
  {
   "cell_type": "markdown",
   "id": "ed9cb947-ae74-4e4c-bdd0-ccbb012916dc",
   "metadata": {},
   "source": [
    "# Regresión Ridge"
   ]
  },
  {
   "cell_type": "markdown",
   "id": "0b06a156",
   "metadata": {},
   "source": [
    "**Paso 1:** Separamos los datos en entrenamiento y testeo."
   ]
  },
  {
   "cell_type": "code",
   "execution_count": 32,
   "id": "45854959",
   "metadata": {},
   "outputs": [],
   "source": [
    "# Separamos en testeo y entrenamiento\n",
    "df_train, df_test = train_test_split(data, test_size=0.2, random_state=42)"
   ]
  },
  {
   "cell_type": "code",
   "execution_count": 33,
   "id": "3efdd5d7-32f4-463c-a174-8da0b10a6bcf",
   "metadata": {},
   "outputs": [],
   "source": [
    "# Construimos las matrices X e y para entrenamiento\n",
    "formula = 'medv ~ (crim+zn+indus+chas+nox+rm+age+dis+rad+tax+ptratio+lstat+b)*(crim+zn+indus+chas+nox+rm+age+dis+rad+tax+ptratio+lstat+b) - 1'\n",
    "y, X =  Formula(formula).get_model_matrix(df_train)\n",
    "y = y.squeeze()"
   ]
  },
  {
   "cell_type": "markdown",
   "id": "038b40de-1779-4ff0-84b4-592bed9c9a7f",
   "metadata": {},
   "source": [
    "**Pregunta:** Que consideran más apropiado:\n",
    "1. incluir el intecerpt como columna en los datos (y por lo tanto, incluir el coeficiente $\\beta_0$ en la penalización de Ridge)\n",
    "2. excluir el intecerpt como columna en los datos (y por lo tanto, excluir el coeficiente $\\beta_0$ en la penalización de Ridge)\n",
    "\n",
    "<details> <summary>Respuesta (click aquí)</summary>\n",
    "En general debemos excluir el intercept de la penalización. De esta forma nos aseguramos que al tomar valores grandes de $\\alpha$, el modelo se aproxime a la recta constante que mejor aproxima los datos.\n",
    "\n",
    "Si incluimos $\\beta_0$ en la penalidad, al tomar $\\alpha$ grande, nuestro modelos se a aproxima a la recta $y=0$, que no aproxima los datos.\n",
    "</details>"
   ]
  },
  {
   "cell_type": "markdown",
   "id": "300e1177",
   "metadata": {},
   "source": [
    "**Paso 2:** Definimos un vector de parámetros a probar"
   ]
  },
  {
   "cell_type": "code",
   "execution_count": 58,
   "id": "f6416a20",
   "metadata": {},
   "outputs": [
    {
     "data": {
      "text/plain": [
       "array([1.00000000e-03, 1.88739182e-03, 3.56224789e-03, 6.72335754e-03,\n",
       "       1.26896100e-02, 2.39502662e-02, 4.52035366e-02, 8.53167852e-02,\n",
       "       1.61026203e-01, 3.03919538e-01, 5.73615251e-01, 1.08263673e+00,\n",
       "       2.04335972e+00, 3.85662042e+00, 7.27895384e+00, 1.37382380e+01,\n",
       "       2.59294380e+01, 4.89390092e+01, 9.23670857e+01, 1.74332882e+02,\n",
       "       3.29034456e+02, 6.21016942e+02, 1.17210230e+03, 2.21221629e+03,\n",
       "       4.17531894e+03, 7.88046282e+03, 1.48735211e+04, 2.80721620e+04,\n",
       "       5.29831691e+04, 1.00000000e+05])"
      ]
     },
     "execution_count": 58,
     "metadata": {},
     "output_type": "execute_result"
    }
   ],
   "source": [
    "alphas = np.logspace(-3, 5, 30)\n",
    "alphas"
   ]
  },
  {
   "cell_type": "markdown",
   "id": "86ef3088",
   "metadata": {},
   "source": [
    "**Pasos 3 y 4:** Para cada valor de alpha, calculamos el error promedio al realizar validación cruzada de 5 pliegos en los datos de entrenamiento."
   ]
  },
  {
   "cell_type": "code",
   "execution_count": 59,
   "id": "2752766f",
   "metadata": {},
   "outputs": [
    {
     "name": "stdout",
     "output_type": "stream",
     "text": [
      "Mean Squared Error: 4.53\n"
     ]
    }
   ],
   "source": [
    "# Comenzamos con un valor de alpha fijo\n",
    "alpha = alphas[0]  # alpha = 0.01\n",
    "\n",
    "cv = KFold(n_splits=5, random_state=42, shuffle=True)  # 5 pliegos\n",
    "\n",
    "modeloRidge = linear_model.Ridge(alpha = alpha, fit_intercept = True)    # Inicializamos un modelo de Regresion Lineal con intercept\n",
    "rmse = np.zeros(cv.get_n_splits())  # Vamos a guardar el error en cada pliego\n",
    "\n",
    "ind = 0\n",
    "\n",
    "# Para seleccionar algunas filas dados los índices, utilizamos iloc (lo vimos en la clase 2)\n",
    "for train_index, val_index in cv.split(X):\n",
    "    X_train, X_val, y_train, y_val = X.iloc[train_index], X.iloc[val_index], y.iloc[train_index], y.iloc[val_index]\n",
    "    modeloRidge.fit(X_train, y_train)\n",
    "    \n",
    "    y_pred = modeloRidge.predict(X_val)\n",
    "    rmse[ind] = np.sqrt(mean_squared_error(y_val, y_pred))\n",
    "    ind = ind + 1\n",
    "\n",
    "print(f\"Mean Squared Error: {rmse.mean():.2f}\")"
   ]
  },
  {
   "cell_type": "markdown",
   "id": "e0c375fe",
   "metadata": {},
   "source": [
    "Esto lo hicimos para un solor valor de alpha, podemos hacerlo fácilmente para varios valores."
   ]
  },
  {
   "cell_type": "code",
   "execution_count": 60,
   "id": "a8b41260",
   "metadata": {},
   "outputs": [
    {
     "name": "stdout",
     "output_type": "stream",
     "text": [
      "Para alfa = 0.00100 el Error Cuadrático Medio es : 4.68369\n",
      "Para alfa = 0.00189 el Error Cuadrático Medio es : 4.67616\n",
      "Para alfa = 0.00356 el Error Cuadrático Medio es : 4.66825\n",
      "Para alfa = 0.00672 el Error Cuadrático Medio es : 4.65926\n",
      "Para alfa = 0.01269 el Error Cuadrático Medio es : 4.64636\n",
      "Para alfa = 0.02395 el Error Cuadrático Medio es : 4.62673\n",
      "Para alfa = 0.04520 el Error Cuadrático Medio es : 4.60173\n",
      "Para alfa = 0.08532 el Error Cuadrático Medio es : 4.57672\n",
      "Para alfa = 0.16103 el Error Cuadrático Medio es : 4.55643\n",
      "Para alfa = 0.30392 el Error Cuadrático Medio es : 4.54432\n",
      "Para alfa = 0.57362 el Error Cuadrático Medio es : 4.54380\n",
      "Para alfa = 1.08264 el Error Cuadrático Medio es : 4.55371\n",
      "Para alfa = 2.04336 el Error Cuadrático Medio es : 4.56613\n",
      "Para alfa = 3.85662 el Error Cuadrático Medio es : 4.57310\n",
      "Para alfa = 7.27895 el Error Cuadrático Medio es : 4.57276\n",
      "Para alfa = 13.73824 el Error Cuadrático Medio es : 4.56668\n",
      "Para alfa = 25.92944 el Error Cuadrático Medio es : 4.55246\n",
      "Para alfa = 48.93901 el Error Cuadrático Medio es : 4.52097\n",
      "Para alfa = 92.36709 el Error Cuadrático Medio es : 4.46321\n",
      "Para alfa = 174.33288 el Error Cuadrático Medio es : 4.38193\n",
      "Para alfa = 329.03446 el Error Cuadrático Medio es : 4.29980\n",
      "Para alfa = 621.01694 el Error Cuadrático Medio es : 4.25345\n",
      "Para alfa = 1172.10230 el Error Cuadrático Medio es : 4.26034\n",
      "Para alfa = 2212.21629 el Error Cuadrático Medio es : 4.29512\n",
      "Para alfa = 4175.31894 el Error Cuadrático Medio es : 4.32542\n",
      "Para alfa = 7880.46282 el Error Cuadrático Medio es : 4.34311\n",
      "Para alfa = 14873.52107 el Error Cuadrático Medio es : 4.35519\n",
      "Para alfa = 28072.16204 el Error Cuadrático Medio es : 4.36851\n",
      "Para alfa = 52983.16906 el Error Cuadrático Medio es : 4.38699\n",
      "Para alfa = 100000.00000 el Error Cuadrático Medio es : 4.41677\n"
     ]
    },
    {
     "data": {
      "image/png": "[encoded data removed]",
      "text/plain": [
       "<Figure size 640x480 with 1 Axes>"
      ]
     },
     "metadata": {},
     "output_type": "display_data"
    }
   ],
   "source": [
    "rr=[]\n",
    "for alpha in alphas:\n",
    "    # Inicializamos un modelo de Regresion Lineal sin intercept\n",
    "    modeloRidge = linear_model.Ridge(alpha = alpha, fit_intercept = False)    \n",
    "    rmse = np.zeros(cv.get_n_splits())  # Vamos a guardar el error en cada pliego\n",
    "    ind = 0\n",
    "\n",
    "    # Para seleccionar algunas filas dados los índices, utilizamos iloc (lo vimos en la clase 2)\n",
    "    for train_index, val_index in cv.split(X):\n",
    "        X_train, X_val, y_train, y_val = X.iloc[train_index], X.iloc[val_index], y.iloc[train_index], y.iloc[val_index]\n",
    "        modeloRidge.fit(X_train, y_train)\n",
    "\n",
    "        y_pred = modeloRidge.predict(X_val)\n",
    "        rmse[ind] = np.sqrt(mean_squared_error(y_val, y_pred))\n",
    "        ind = ind + 1\n",
    "\n",
    "    print(f\"Para alfa = {alpha:.5f} el Error Cuadrático Medio es : {rmse.mean():.5f}\")\n",
    "    rr.append(rmse.mean())\n",
    "\n",
    "plt.plot(alphas, rr)\n",
    "plt.scatter(alphas,rr)\n",
    "plt.xscale(\"log\")\n",
    "plt.show()"
   ]
  },
  {
   "cell_type": "markdown",
   "id": "6b49e60a",
   "metadata": {},
   "source": [
    "El valor óptimo es alpha = 0.5.\n",
    "En base a los resultados observados agregamos algunos valores de alpha cercanos a 0.5."
   ]
  },
  {
   "cell_type": "code",
   "execution_count": 61,
   "id": "75084ccd",
   "metadata": {},
   "outputs": [
    {
     "name": "stdout",
     "output_type": "stream",
     "text": [
      "Para alfa = 0.00100 el Error Cuadrático Medio es : 4.68369\n",
      "Para alfa = 0.01000 el Error Cuadrático Medio es : 4.65189\n",
      "Para alfa = 0.10000 el Error Cuadrático Medio es : 4.57107\n",
      "Para alfa = 0.20000 el Error Cuadrático Medio es : 4.55118\n",
      "Para alfa = 0.30000 el Error Cuadrático Medio es : 4.54446\n",
      "Para alfa = 0.40000 el Error Cuadrático Medio es : 4.54256\n",
      "Para alfa = 0.50000 el Error Cuadrático Medio es : 4.54287\n",
      "Para alfa = 0.60000 el Error Cuadrático Medio es : 4.54422\n",
      "Para alfa = 0.70000 el Error Cuadrático Medio es : 4.54605\n",
      "Para alfa = 1.00000 el Error Cuadrático Medio es : 4.55213\n",
      "Para alfa = 2.00000 el Error Cuadrático Medio es : 4.56577\n",
      "Para alfa = 3.00000 el Error Cuadrático Medio es : 4.57126\n"
     ]
    }
   ],
   "source": [
    "alphas = np.array([0.001, 0.01, 0.1, 0.2, 0.3, 0.4, 0.5, 0.6, 0.7, 1, 2, 3])\n",
    "error_alphas = np.zeros(len(alphas))\n",
    "\n",
    "for counter, alpha in enumerate(alphas):  # Truco para tener un contador al recorrer una lista\n",
    "    modeloRidge = linear_model.Ridge(alpha = alpha, fit_intercept = False)    # Inicializamos un modelo de Regresion Lineal sin intercept\n",
    "    rmse = np.zeros(cv.get_n_splits())  # Vamos a guardar el error en cada pliego\n",
    "\n",
    "    ind = 0\n",
    "\n",
    "    # Para seleccionar algunas filas dados los índices, utilizamos iloc (lo vimos en la clase 2)\n",
    "    for train_index, val_index in cv.split(X):\n",
    "        X_train, X_val, y_train, y_val = X.iloc[train_index], X.iloc[val_index], y.iloc[train_index], y.iloc[val_index]\n",
    "        modeloRidge.fit(X_train, y_train)\n",
    "\n",
    "        y_pred = modeloRidge.predict(X_val)\n",
    "        rmse[ind] = np.sqrt(mean_squared_error(y_val, y_pred))\n",
    "        ind = ind + 1\n",
    "\n",
    "    print(f\"Para alfa = {alpha:.5f} el Error Cuadrático Medio es : {rmse.mean():.5f}\")\n",
    "    error_alphas[counter] = rmse.mean()"
   ]
  },
  {
   "cell_type": "markdown",
   "id": "7bc9b0b1",
   "metadata": {},
   "source": [
    "Obtuvimos el valor más chico para $\\alpha = 0.4$. \n",
    "\n",
    "Fijamos este valor y ajustamos el modelo usando todos los datos.\n",
    "\n",
    "**Importante:** \n",
    "1. Los coeficientes de la regresión son **parámetros** y se recalculan utilizando todos los datos.\n",
    "2. El coeficiente $\\alpha$ es un **hiperparámetro**, queda fijo y no se recalcula."
   ]
  },
  {
   "cell_type": "code",
   "execution_count": 63,
   "id": "2f42f219",
   "metadata": {},
   "outputs": [
    {
     "data": {
      "text/html": [
       "<style>#sk-container-id-1 {\n",
       "  /* Definition of color scheme common for light and dark mode */\n",
       "  --sklearn-color-text: #000;\n",
       "  --sklearn-color-text-muted: #666;\n",
       "  --sklearn-color-line: gray;\n",
       "  /* Definition of color scheme for unfitted estimators */\n",
       "  --sklearn-color-unfitted-level-0: #fff5e6;\n",
       "  --sklearn-color-unfitted-level-1: #f6e4d2;\n",
       "  --sklearn-color-unfitted-level-2: #ffe0b3;\n",
       "  --sklearn-color-unfitted-level-3: chocolate;\n",
       "  /* Definition of color scheme for fitted estimators */\n",
       "  --sklearn-color-fitted-level-0: #f0f8ff;\n",
       "  --sklearn-color-fitted-level-1: #d4ebff;\n",
       "  --sklearn-color-fitted-level-2: #b3dbfd;\n",
       "  --sklearn-color-fitted-level-3: cornflowerblue;\n",
       "\n",
       "  /* Specific color for light theme */\n",
       "  --sklearn-color-text-on-default-background: var(--sg-text-color, var(--theme-code-foreground, var(--jp-content-font-color1, black)));\n",
       "  --sklearn-color-background: var(--sg-background-color, var(--theme-background, var(--jp-layout-color0, white)));\n",
       "  --sklearn-color-border-box: var(--sg-text-color, var(--theme-code-foreground, var(--jp-content-font-color1, black)));\n",
       "  --sklearn-color-icon: #696969;\n",
       "\n",
       "  @media (prefers-color-scheme: dark) {\n",
       "    /* Redefinition of color scheme for dark theme */\n",
       "    --sklearn-color-text-on-default-background: var(--sg-text-color, var(--theme-code-foreground, var(--jp-content-font-color1, white)));\n",
       "    --sklearn-color-background: var(--sg-background-color, var(--theme-background, var(--jp-layout-color0, #111)));\n",
       "    --sklearn-color-border-box: var(--sg-text-color, var(--theme-code-foreground, var(--jp-content-font-color1, white)));\n",
       "    --sklearn-color-icon: #878787;\n",
       "  }\n",
       "}\n",
       "\n",
       "#sk-container-id-1 {\n",
       "  color: var(--sklearn-color-text);\n",
       "}\n",
       "\n",
       "#sk-container-id-1 pre {\n",
       "  padding: 0;\n",
       "}\n",
       "\n",
       "#sk-container-id-1 input.sk-hidden--visually {\n",
       "  border: 0;\n",
       "  clip: rect(1px 1px 1px 1px);\n",
       "  clip: rect(1px, 1px, 1px, 1px);\n",
       "  height: 1px;\n",
       "  margin: -1px;\n",
       "  overflow: hidden;\n",
       "  padding: 0;\n",
       "  position: absolute;\n",
       "  width: 1px;\n",
       "}\n",
       "\n",
       "#sk-container-id-1 div.sk-dashed-wrapped {\n",
       "  border: 1px dashed var(--sklearn-color-line);\n",
       "  margin: 0 0.4em 0.5em 0.4em;\n",
       "  box-sizing: border-box;\n",
       "  padding-bottom: 0.4em;\n",
       "  background-color: var(--sklearn-color-background);\n",
       "}\n",
       "\n",
       "#sk-container-id-1 div.sk-container {\n",
       "  /* jupyter's `normalize.less` sets `[hidden] { display: none; }`\n",
       "     but bootstrap.min.css set `[hidden] { display: none !important; }`\n",
       "     so we also need the `!important` here to be able to override the\n",
       "     default hidden behavior on the sphinx rendered scikit-learn.org.\n",
       "     See: https://github.com/scikit-learn/scikit-learn/issues/21755 */\n",
       "  display: inline-block !important;\n",
       "  position: relative;\n",
       "}\n",
       "\n",
       "#sk-container-id-1 div.sk-text-repr-fallback {\n",
       "  display: none;\n",
       "}\n",
       "\n",
       "div.sk-parallel-item,\n",
       "div.sk-serial,\n",
       "div.sk-item {\n",
       "  /* draw centered vertical line to link estimators */\n",
       "  background-image: linear-gradient(var(--sklearn-color-text-on-default-background), var(--sklearn-color-text-on-default-background));\n",
       "  background-size: 2px 100%;\n",
       "  background-repeat: no-repeat;\n",
       "  background-position: center center;\n",
       "}\n",
       "\n",
       "/* Parallel-specific style estimator block */\n",
       "\n",
       "#sk-container-id-1 div.sk-parallel-item::after {\n",
       "  content: \"\";\n",
       "  width: 100%;\n",
       "  border-bottom: 2px solid var(--sklearn-color-text-on-default-background);\n",
       "  flex-grow: 1;\n",
       "}\n",
       "\n",
       "#sk-container-id-1 div.sk-parallel {\n",
       "  display: flex;\n",
       "  align-items: stretch;\n",
       "  justify-content: center;\n",
       "  background-color: var(--sklearn-color-background);\n",
       "  position: relative;\n",
       "}\n",
       "\n",
       "#sk-container-id-1 div.sk-parallel-item {\n",
       "  display: flex;\n",
       "  flex-direction: column;\n",
       "}\n",
       "\n",
       "#sk-container-id-1 div.sk-parallel-item:first-child::after {\n",
       "  align-self: flex-end;\n",
       "  width: 50%;\n",
       "}\n",
       "\n",
       "#sk-container-id-1 div.sk-parallel-item:last-child::after {\n",
       "  align-self: flex-start;\n",
       "  width: 50%;\n",
       "}\n",
       "\n",
       "#sk-container-id-1 div.sk-parallel-item:only-child::after {\n",
       "  width: 0;\n",
       "}\n",
       "\n",
       "/* Serial-specific style estimator block */\n",
       "\n",
       "#sk-container-id-1 div.sk-serial {\n",
       "  display: flex;\n",
       "  flex-direction: column;\n",
       "  align-items: center;\n",
       "  background-color: var(--sklearn-color-background);\n",
       "  padding-right: 1em;\n",
       "  padding-left: 1em;\n",
       "}\n",
       "\n",
       "\n",
       "/* Toggleable style: style used for estimator/Pipeline/ColumnTransformer box that is\n",
       "clickable and can be expanded/collapsed.\n",
       "- Pipeline and ColumnTransformer use this feature and define the default style\n",
       "- Estimators will overwrite some part of the style using the `sk-estimator` class\n",
       "*/\n",
       "\n",
       "/* Pipeline and ColumnTransformer style (default) */\n",
       "\n",
       "#sk-container-id-1 div.sk-toggleable {\n",
       "  /* Default theme specific background. It is overwritten whether we have a\n",
       "  specific estimator or a Pipeline/ColumnTransformer */\n",
       "  background-color: var(--sklearn-color-background);\n",
       "}\n",
       "\n",
       "/* Toggleable label */\n",
       "#sk-container-id-1 label.sk-toggleable__label {\n",
       "  cursor: pointer;\n",
       "  display: flex;\n",
       "  width: 100%;\n",
       "  margin-bottom: 0;\n",
       "  padding: 0.5em;\n",
       "  box-sizing: border-box;\n",
       "  text-align: center;\n",
       "  align-items: start;\n",
       "  justify-content: space-between;\n",
       "  gap: 0.5em;\n",
       "}\n",
       "\n",
       "#sk-container-id-1 label.sk-toggleable__label .caption {\n",
       "  font-size: 0.6rem;\n",
       "  font-weight: lighter;\n",
       "  color: var(--sklearn-color-text-muted);\n",
       "}\n",
       "\n",
       "#sk-container-id-1 label.sk-toggleable__label-arrow:before {\n",
       "  /* Arrow on the left of the label */\n",
       "  content: \"▸\";\n",
       "  float: left;\n",
       "  margin-right: 0.25em;\n",
       "  color: var(--sklearn-color-icon);\n",
       "}\n",
       "\n",
       "#sk-container-id-1 label.sk-toggleable__label-arrow:hover:before {\n",
       "  color: var(--sklearn-color-text);\n",
       "}\n",
       "\n",
       "/* Toggleable content - dropdown */\n",
       "\n",
       "#sk-container-id-1 div.sk-toggleable__content {\n",
       "  max-height: 0;\n",
       "  max-width: 0;\n",
       "  overflow: hidden;\n",
       "  text-align: left;\n",
       "  /* unfitted */\n",
       "  background-color: var(--sklearn-color-unfitted-level-0);\n",
       "}\n",
       "\n",
       "#sk-container-id-1 div.sk-toggleable__content.fitted {\n",
       "  /* fitted */\n",
       "  background-color: var(--sklearn-color-fitted-level-0);\n",
       "}\n",
       "\n",
       "#sk-container-id-1 div.sk-toggleable__content pre {\n",
       "  margin: 0.2em;\n",
       "  border-radius: 0.25em;\n",
       "  color: var(--sklearn-color-text);\n",
       "  /* unfitted */\n",
       "  background-color: var(--sklearn-color-unfitted-level-0);\n",
       "}\n",
       "\n",
       "#sk-container-id-1 div.sk-toggleable__content.fitted pre {\n",
       "  /* unfitted */\n",
       "  background-color: var(--sklearn-color-fitted-level-0);\n",
       "}\n",
       "\n",
       "#sk-container-id-1 input.sk-toggleable__control:checked~div.sk-toggleable__content {\n",
       "  /* Expand drop-down */\n",
       "  max-height: 200px;\n",
       "  max-width: 100%;\n",
       "  overflow: auto;\n",
       "}\n",
       "\n",
       "#sk-container-id-1 input.sk-toggleable__control:checked~label.sk-toggleable__label-arrow:before {\n",
       "  content: \"▾\";\n",
       "}\n",
       "\n",
       "/* Pipeline/ColumnTransformer-specific style */\n",
       "\n",
       "#sk-container-id-1 div.sk-label input.sk-toggleable__control:checked~label.sk-toggleable__label {\n",
       "  color: var(--sklearn-color-text);\n",
       "  background-color: var(--sklearn-color-unfitted-level-2);\n",
       "}\n",
       "\n",
       "#sk-container-id-1 div.sk-label.fitted input.sk-toggleable__control:checked~label.sk-toggleable__label {\n",
       "  background-color: var(--sklearn-color-fitted-level-2);\n",
       "}\n",
       "\n",
       "/* Estimator-specific style */\n",
       "\n",
       "/* Colorize estimator box */\n",
       "#sk-container-id-1 div.sk-estimator input.sk-toggleable__control:checked~label.sk-toggleable__label {\n",
       "  /* unfitted */\n",
       "  background-color: var(--sklearn-color-unfitted-level-2);\n",
       "}\n",
       "\n",
       "#sk-container-id-1 div.sk-estimator.fitted input.sk-toggleable__control:checked~label.sk-toggleable__label {\n",
       "  /* fitted */\n",
       "  background-color: var(--sklearn-color-fitted-level-2);\n",
       "}\n",
       "\n",
       "#sk-container-id-1 div.sk-label label.sk-toggleable__label,\n",
       "#sk-container-id-1 div.sk-label label {\n",
       "  /* The background is the default theme color */\n",
       "  color: var(--sklearn-color-text-on-default-background);\n",
       "}\n",
       "\n",
       "/* On hover, darken the color of the background */\n",
       "#sk-container-id-1 div.sk-label:hover label.sk-toggleable__label {\n",
       "  color: var(--sklearn-color-text);\n",
       "  background-color: var(--sklearn-color-unfitted-level-2);\n",
       "}\n",
       "\n",
       "/* Label box, darken color on hover, fitted */\n",
       "#sk-container-id-1 div.sk-label.fitted:hover label.sk-toggleable__label.fitted {\n",
       "  color: var(--sklearn-color-text);\n",
       "  background-color: var(--sklearn-color-fitted-level-2);\n",
       "}\n",
       "\n",
       "/* Estimator label */\n",
       "\n",
       "#sk-container-id-1 div.sk-label label {\n",
       "  font-family: monospace;\n",
       "  font-weight: bold;\n",
       "  display: inline-block;\n",
       "  line-height: 1.2em;\n",
       "}\n",
       "\n",
       "#sk-container-id-1 div.sk-label-container {\n",
       "  text-align: center;\n",
       "}\n",
       "\n",
       "/* Estimator-specific */\n",
       "#sk-container-id-1 div.sk-estimator {\n",
       "  font-family: monospace;\n",
       "  border: 1px dotted var(--sklearn-color-border-box);\n",
       "  border-radius: 0.25em;\n",
       "  box-sizing: border-box;\n",
       "  margin-bottom: 0.5em;\n",
       "  /* unfitted */\n",
       "  background-color: var(--sklearn-color-unfitted-level-0);\n",
       "}\n",
       "\n",
       "#sk-container-id-1 div.sk-estimator.fitted {\n",
       "  /* fitted */\n",
       "  background-color: var(--sklearn-color-fitted-level-0);\n",
       "}\n",
       "\n",
       "/* on hover */\n",
       "#sk-container-id-1 div.sk-estimator:hover {\n",
       "  /* unfitted */\n",
       "  background-color: var(--sklearn-color-unfitted-level-2);\n",
       "}\n",
       "\n",
       "#sk-container-id-1 div.sk-estimator.fitted:hover {\n",
       "  /* fitted */\n",
       "  background-color: var(--sklearn-color-fitted-level-2);\n",
       "}\n",
       "\n",
       "/* Specification for estimator info (e.g. \"i\" and \"?\") */\n",
       "\n",
       "/* Common style for \"i\" and \"?\" */\n",
       "\n",
       ".sk-estimator-doc-link,\n",
       "a:link.sk-estimator-doc-link,\n",
       "a:visited.sk-estimator-doc-link {\n",
       "  float: right;\n",
       "  font-size: smaller;\n",
       "  line-height: 1em;\n",
       "  font-family: monospace;\n",
       "  background-color: var(--sklearn-color-background);\n",
       "  border-radius: 1em;\n",
       "  height: 1em;\n",
       "  width: 1em;\n",
       "  text-decoration: none !important;\n",
       "  margin-left: 0.5em;\n",
       "  text-align: center;\n",
       "  /* unfitted */\n",
       "  border: var(--sklearn-color-unfitted-level-1) 1pt solid;\n",
       "  color: var(--sklearn-color-unfitted-level-1);\n",
       "}\n",
       "\n",
       ".sk-estimator-doc-link.fitted,\n",
       "a:link.sk-estimator-doc-link.fitted,\n",
       "a:visited.sk-estimator-doc-link.fitted {\n",
       "  /* fitted */\n",
       "  border: var(--sklearn-color-fitted-level-1) 1pt solid;\n",
       "  color: var(--sklearn-color-fitted-level-1);\n",
       "}\n",
       "\n",
       "/* On hover */\n",
       "div.sk-estimator:hover .sk-estimator-doc-link:hover,\n",
       ".sk-estimator-doc-link:hover,\n",
       "div.sk-label-container:hover .sk-estimator-doc-link:hover,\n",
       ".sk-estimator-doc-link:hover {\n",
       "  /* unfitted */\n",
       "  background-color: var(--sklearn-color-unfitted-level-3);\n",
       "  color: var(--sklearn-color-background);\n",
       "  text-decoration: none;\n",
       "}\n",
       "\n",
       "div.sk-estimator.fitted:hover .sk-estimator-doc-link.fitted:hover,\n",
       ".sk-estimator-doc-link.fitted:hover,\n",
       "div.sk-label-container:hover .sk-estimator-doc-link.fitted:hover,\n",
       ".sk-estimator-doc-link.fitted:hover {\n",
       "  /* fitted */\n",
       "  background-color: var(--sklearn-color-fitted-level-3);\n",
       "  color: var(--sklearn-color-background);\n",
       "  text-decoration: none;\n",
       "}\n",
       "\n",
       "/* Span, style for the box shown on hovering the info icon */\n",
       ".sk-estimator-doc-link span {\n",
       "  display: none;\n",
       "  z-index: 9999;\n",
       "  position: relative;\n",
       "  font-weight: normal;\n",
       "  right: .2ex;\n",
       "  padding: .5ex;\n",
       "  margin: .5ex;\n",
       "  width: min-content;\n",
       "  min-width: 20ex;\n",
       "  max-width: 50ex;\n",
       "  color: var(--sklearn-color-text);\n",
       "  box-shadow: 2pt 2pt 4pt #999;\n",
       "  /* unfitted */\n",
       "  background: var(--sklearn-color-unfitted-level-0);\n",
       "  border: .5pt solid var(--sklearn-color-unfitted-level-3);\n",
       "}\n",
       "\n",
       ".sk-estimator-doc-link.fitted span {\n",
       "  /* fitted */\n",
       "  background: var(--sklearn-color-fitted-level-0);\n",
       "  border: var(--sklearn-color-fitted-level-3);\n",
       "}\n",
       "\n",
       ".sk-estimator-doc-link:hover span {\n",
       "  display: block;\n",
       "}\n",
       "\n",
       "/* \"?\"-specific style due to the `<a>` HTML tag */\n",
       "\n",
       "#sk-container-id-1 a.estimator_doc_link {\n",
       "  float: right;\n",
       "  font-size: 1rem;\n",
       "  line-height: 1em;\n",
       "  font-family: monospace;\n",
       "  background-color: var(--sklearn-color-background);\n",
       "  border-radius: 1rem;\n",
       "  height: 1rem;\n",
       "  width: 1rem;\n",
       "  text-decoration: none;\n",
       "  /* unfitted */\n",
       "  color: var(--sklearn-color-unfitted-level-1);\n",
       "  border: var(--sklearn-color-unfitted-level-1) 1pt solid;\n",
       "}\n",
       "\n",
       "#sk-container-id-1 a.estimator_doc_link.fitted {\n",
       "  /* fitted */\n",
       "  border: var(--sklearn-color-fitted-level-1) 1pt solid;\n",
       "  color: var(--sklearn-color-fitted-level-1);\n",
       "}\n",
       "\n",
       "/* On hover */\n",
       "#sk-container-id-1 a.estimator_doc_link:hover {\n",
       "  /* unfitted */\n",
       "  background-color: var(--sklearn-color-unfitted-level-3);\n",
       "  color: var(--sklearn-color-background);\n",
       "  text-decoration: none;\n",
       "}\n",
       "\n",
       "#sk-container-id-1 a.estimator_doc_link.fitted:hover {\n",
       "  /* fitted */\n",
       "  background-color: var(--sklearn-color-fitted-level-3);\n",
       "}\n",
       "</style><div id=\"sk-container-id-1\" class=\"sk-top-container\"><div class=\"sk-text-repr-fallback\"><pre>Ridge(alpha=0.4)</pre><b>In a Jupyter environment, please rerun this cell to show the HTML representation or trust the notebook. <br />On GitHub, the HTML representation is unable to render, please try loading this page with nbviewer.org.</b></div><div class=\"sk-container\" hidden><div class=\"sk-item\"><div class=\"sk-estimator fitted sk-toggleable\"><input class=\"sk-toggleable__control sk-hidden--visually\" id=\"sk-estimator-id-1\" type=\"checkbox\" checked><label for=\"sk-estimator-id-1\" class=\"sk-toggleable__label fitted sk-toggleable__label-arrow\"><div><div>Ridge</div></div><div><a class=\"sk-estimator-doc-link fitted\" rel=\"noreferrer\" target=\"_blank\" href=\"https://scikit-learn.org/1.6/modules/generated/sklearn.linear_model.Ridge.html\">?<span>Documentation for Ridge</span></a><span class=\"sk-estimator-doc-link fitted\">i<span>Fitted</span></span></div></label><div class=\"sk-toggleable__content fitted\"><pre>Ridge(alpha=0.4)</pre></div> </div></div></div></div>"
      ],
      "text/plain": [
       "Ridge(alpha=0.4)"
      ]
     },
     "execution_count": 63,
     "metadata": {},
     "output_type": "execute_result"
    }
   ],
   "source": [
    "alpha_optimo = 0.4\n",
    "\n",
    "modeloRidge = linear_model.Ridge(alpha = alpha_optimo, fit_intercept = True)    # Inicializamos un modelo de Regresion Lineal sin intercept\n",
    "modeloRidge.fit(X,y)"
   ]
  },
  {
   "cell_type": "markdown",
   "id": "78de9746",
   "metadata": {},
   "source": [
    "Probamos el modelo obtenido en los datos de testeo."
   ]
  },
  {
   "cell_type": "code",
   "execution_count": 64,
   "id": "bfadbced",
   "metadata": {},
   "outputs": [
    {
     "name": "stdout",
     "output_type": "stream",
     "text": [
      "For alpha = 0.40000 the Root Mean Squared Error is: 3.35602\n"
     ]
    }
   ],
   "source": [
    "# Construimos las matrices X e y para testeo\n",
    "formula = 'medv ~ (crim+zn+indus+chas+nox+rm+age+dis+rad+tax+ptratio+lstat+b)*(crim+zn+indus+chas+nox+rm+age+dis+rad+tax+ptratio+lstat+b)-1'\n",
    "y_test, X_test =  Formula(formula).get_model_matrix(df_test)\n",
    "        \n",
    "y_pred = modeloRidge.predict(X_test)\n",
    "rmse = np.sqrt(mean_squared_error(y_test, y_pred))\n",
    "print(f\"For alpha = {alpha_optimo:.5f} the Root Mean Squared Error is: {rmse.mean():.5f}\")"
   ]
  },
  {
   "cell_type": "markdown",
   "id": "8b938bea",
   "metadata": {},
   "source": [
    "Obtuvimos un error menor!\n",
    "\n",
    "Podemos comparar los coeficientes gráficamente:"
   ]
  },
  {
   "cell_type": "code",
   "execution_count": 65,
   "id": "9a827e97",
   "metadata": {},
   "outputs": [
    {
     "data": {
      "image/png": "[encoded data removed]",
      "text/plain": [
       "<seaborn._core.plot.Plot at 0x7ff9000f56e0>"
      ]
     },
     "execution_count": 65,
     "metadata": {
      "image/png": {
       "height": 378.25,
       "width": 509.15
      }
     },
     "output_type": "execute_result"
    }
   ],
   "source": [
    "(\n",
    "    so.Plot(x = np.arange(X.shape[1]))\n",
    "    .add(so.Dot(color = \"b\"), y = modeloRidge.coef_)\n",
    "    .add(so.Dot(color = \"r\"), y = modeloLineal.coef_)\n",
    ")"
   ]
  },
  {
   "cell_type": "code",
   "execution_count": null,
   "id": "5330d79f-5028-44af-9265-571b8bfc4717",
   "metadata": {},
   "outputs": [],
   "source": [
    "modeloLineal.intercept_"
   ]
  },
  {
   "cell_type": "code",
   "execution_count": null,
   "id": "590a71ca-1574-4c11-b6ce-66a785dc893d",
   "metadata": {},
   "outputs": [],
   "source": [
    "modeloRidge.intercept_"
   ]
  },
  {
   "cell_type": "markdown",
   "id": "35959f1f-eba8-4555-9073-53375ffa9d68",
   "metadata": {},
   "source": [
    "Observamos que en los coeficientes del modelo lineal hay valores positivos altos que parecen cancelarse con valores negativos altos. Esto suele indicar colinealidad en las variables. Al hacer regresión Ridge, reducimos los problemas de la colinealidad"
   ]
  },
  {
   "cell_type": "markdown",
   "id": "a515c5cf-4f85-4b30-95c2-f7bca0abe3d9",
   "metadata": {},
   "source": [
    "### Curva de errores \n",
    "Puede ser instructivo graficar el error en función de alfa."
   ]
  },
  {
   "cell_type": "code",
   "execution_count": null,
   "id": "ce5d0c8f-2283-4ab8-87a4-96b0cf910a16",
   "metadata": {},
   "outputs": [],
   "source": [
    "(\n",
    "    so.Plot(x = ???, y = ???)\n",
    "    .add(so.Dot(color = \"b\"))\n",
    ")"
   ]
  },
  {
   "cell_type": "markdown",
   "id": "a6d54628-3ff7-4a12-a6ed-908b50e73c66",
   "metadata": {},
   "source": [
    "**Preguntas:**\n",
    "1. Qué pasa si la curva es decreciente?\n",
    "2. Qué pasa si la curva es creciente?\n",
    "3. Qué pasa si alpha = 0?"
   ]
  },
  {
   "cell_type": "markdown",
   "id": "c7d70e35-55b2-4a13-a218-8f08179d7ec8",
   "metadata": {},
   "source": [
    "# Regresión ridge y escalamiento de las variables"
   ]
  },
  {
   "cell_type": "markdown",
   "id": "dac892ee-929e-4486-82c5-7473ed2b8925",
   "metadata": {},
   "source": [
    "Ya vimos que el escalamiento de variables nos puede servir en el modelo lineal para comparar coeficientes del modelo y deducir apropiadamente el peso de cada variable en el modelo.\n",
    "\n",
    "Sin embargo, el escalamiento no afecta la bondad del modelo. El modelo lineal es invariante por escalamientos lineales de variables.\n",
    "\n",
    "¿Qué pasa en regresión Ridge? ¿Será invariante por escalamiento de variables?\n",
    "\n",
    "<details> <summary>Respuesta (click aquí)</summary>\n",
    "Regresión Ridge NO es invariante por escalamiento. Si algunas variable está en una escala muy alta (por ejemplo medida en pesos) comparada con otras variables (por ejemplo medidas en dólares), el resultado será que las variables en dolares sean más penalizadas que las variables en pesos (porque tendrían en general coeficientes mayores).\n",
    "</details>"
   ]
  },
  {
   "cell_type": "markdown",
   "id": "e06d2c57-c872-4b5d-8464-7622a579f473",
   "metadata": {},
   "source": [
    "## Caso de estudio: Jugadores de basketball universitario"
   ]
  },
  {
   "cell_type": "code",
   "execution_count": null,
   "id": "8796bcf7-2462-4d5a-8801-329faf42127c",
   "metadata": {},
   "outputs": [],
   "source": [
    "basketball = pd.read_csv(\"../Datos/CollegeBasketballPlayers2009-2021.csv\")\n",
    "basketball"
   ]
  },
  {
   "cell_type": "code",
   "execution_count": null,
   "id": "d6b20482-855c-42aa-b305-04ea44b22a10",
   "metadata": {},
   "outputs": [],
   "source": [
    "basketball.info()"
   ]
  },
  {
   "cell_type": "code",
   "execution_count": null,
   "id": "ed64a5e5-e8d5-4932-b44e-3964b3a0e7f3",
   "metadata": {},
   "outputs": [],
   "source": [
    "# Nos quedamos solo con las variables numéricas\n",
    "basketNumeric = basketball.select_dtypes(include='number')"
   ]
  },
  {
   "cell_type": "markdown",
   "id": "fd213ef6-3456-47fa-b6d0-79a6083c0f12",
   "metadata": {},
   "source": [
    "### Limpieza de datos: datos faltantes\n",
    "Veamos cuántos datos faltantes hay por columna"
   ]
  },
  {
   "cell_type": "code",
   "execution_count": null,
   "id": "814d9029-c566-4deb-bcd3-dc5eeb8b81ad",
   "metadata": {},
   "outputs": [],
   "source": [
    "with pd.option_context('display.max_rows', None): \n",
    "    print(basketball.isna().sum())  # Cantidad de datos faltantes por columna"
   ]
  },
  {
   "cell_type": "code",
   "execution_count": null,
   "id": "c6f18a36-eea2-4b18-9d56-dbee95cfff49",
   "metadata": {},
   "outputs": [],
   "source": [
    "# Eliminamos primero las columnas con más de 100 datos faltantes\n",
    "nan_cols = basketNumeric.isna().sum() > 100  # Vector booleano\n",
    "keep = nan_cols.index[~(nan_cols)] # Lista con los nombres de las columnas para dejar\n",
    "basketNumeric = basketNumeric[keep] # Seleccionamos solo las columnas en keep"
   ]
  },
  {
   "cell_type": "code",
   "execution_count": null,
   "id": "219ecdbc-eb4e-40b8-bf60-8c04e16b3240",
   "metadata": {},
   "outputs": [],
   "source": [
    "# Verificamos ahora cuantos datos faltantes hay por columna\n",
    "basketNumeric.isna().sum()"
   ]
  },
  {
   "cell_type": "code",
   "execution_count": null,
   "id": "8696b049-62dc-45c3-b21d-ba68ab3bf120",
   "metadata": {},
   "outputs": [],
   "source": [
    "# Ahora eliminamos todas las filas con datos faltantes\n",
    "basketNumericClean = basketNumeric.dropna()\n",
    "basketNumericClean"
   ]
  },
  {
   "cell_type": "markdown",
   "id": "7b2cbfb6-8fdd-4599-9b41-3aed7a60132e",
   "metadata": {},
   "source": [
    "Ajutamos primero un modelo lineal sobre todos los datos para predecir la variable pts en función del resto."
   ]
  },
  {
   "cell_type": "code",
   "execution_count": null,
   "id": "64d52819-95ef-4205-b2aa-25460e33d8ba",
   "metadata": {},
   "outputs": [],
   "source": [
    "y = basketNumericClean[\"pts\"]"
   ]
  },
  {
   "cell_type": "code",
   "execution_count": null,
   "id": "8ae65a12-f9dc-4539-b0fa-a3ee2f21f1fe",
   "metadata": {},
   "outputs": [],
   "source": [
    "X = basketNumericClean.drop([\"pts\"], axis = 1)"
   ]
  },
  {
   "cell_type": "code",
   "execution_count": null,
   "id": "8c8f0cfe-fff9-4e46-93b9-0ccc6593a35f",
   "metadata": {},
   "outputs": [],
   "source": [
    "# Inicializamos el modelo lineal\n",
    "modeloLineal = linear_model.LinearRegression() \n",
    "\n",
    "# Entrenamiento\n",
    "modeloLineal.fit(X, y)\n",
    "\n",
    "# Predicciones\n",
    "y_pred = modeloLineal.predict(X)\n",
    "\n",
    "# Evaluación\n",
    "rmse = np.sqrt(mean_squared_error(y, y_pred))\n",
    "print(f\"Raíz del Error Cuadrático Medio: {rmse:.5f}\")"
   ]
  },
  {
   "cell_type": "code",
   "execution_count": null,
   "id": "c7b45284-1047-47ee-911a-2f1f3713ca00",
   "metadata": {},
   "outputs": [],
   "source": [
    "# R cuadrado\n",
    "r2_score(y, y_pred)"
   ]
  },
  {
   "cell_type": "code",
   "execution_count": null,
   "id": "8b2d0be0-47fd-4ce3-9e84-7bb6f1f1f1bb",
   "metadata": {},
   "outputs": [],
   "source": [
    "# Coeficientes\n",
    "modeloLineal.coef_"
   ]
  },
  {
   "cell_type": "code",
   "execution_count": null,
   "id": "0e60697c-1575-4859-a3b0-1ff0fc7b4bc5",
   "metadata": {},
   "outputs": [],
   "source": [
    "# Graficamos"
   ]
  },
  {
   "cell_type": "code",
   "execution_count": null,
   "id": "2a04e332-e5b6-4271-b47d-4806960ee793",
   "metadata": {},
   "outputs": [],
   "source": [
    "so.Plot(x = np.arange(len(modeloLineal.coef_)), y = modeloLineal.coef_).add(so.Dot())"
   ]
  },
  {
   "cell_type": "markdown",
   "id": "9811f4b9-8697-4d25-bc88-809977e25f9f",
   "metadata": {},
   "source": [
    "Observando los coeficientes, hay coeficientes grandes que se cancelan, indicando posible colinealidad, lo que sugiere utilizar regresión Ridge. \n",
    "\n",
    "Veamos primero si las variables están en la misma escala."
   ]
  },
  {
   "cell_type": "code",
   "execution_count": null,
   "id": "2fdec400-bc6f-411f-9722-3373fe7aaa99",
   "metadata": {},
   "outputs": [],
   "source": [
    "X.max()"
   ]
  },
  {
   "cell_type": "code",
   "execution_count": null,
   "id": "d1873d36-daf8-496c-85b6-923798c94bf9",
   "metadata": {},
   "outputs": [],
   "source": [
    "X.mean()"
   ]
  },
  {
   "cell_type": "markdown",
   "id": "31f8627a-94eb-4122-92bd-03740315f5f4",
   "metadata": {},
   "source": [
    "Vemos que hay mucha diferencia en las escalas de las variables. Para poder comparar mejor los coeficientes, escalamos todas la variables al intervalo [0,1]."
   ]
  },
  {
   "cell_type": "markdown",
   "id": "a29573f8-fa5d-47d8-89e0-8efbe6ef6907",
   "metadata": {},
   "source": [
    "Utilizamos el escalamiento estándar. Puede utilizarse también MinMax."
   ]
  },
  {
   "cell_type": "code",
   "execution_count": null,
   "id": "04b1ce76-446d-45af-bca7-5270633b644d",
   "metadata": {},
   "outputs": [],
   "source": [
    "from sklearn.preprocessing import StandardScaler\n",
    "scaler = StandardScaler().set_output(transform=\"pandas\") # La última opción hace que nos devuelva un DataFrame\n",
    "\n",
    "# fit_transform calcula los coeficientes de la transformación y la aplica.\n",
    "X_scaled = scaler.fit_transform(X)\n",
    "X_scaled\n"
   ]
  },
  {
   "cell_type": "code",
   "execution_count": null,
   "id": "88941cd5-ecc6-4e96-a9f0-77aef2457a57",
   "metadata": {},
   "outputs": [],
   "source": [
    "X_scaled.max()"
   ]
  },
  {
   "cell_type": "code",
   "execution_count": null,
   "id": "bcba5865-b00f-450f-8cb1-7e62e1c317e1",
   "metadata": {},
   "outputs": [],
   "source": [
    "X_scaled.mean()"
   ]
  },
  {
   "cell_type": "code",
   "execution_count": null,
   "id": "34619538-32ad-4fc9-abaf-4c0d22e5ec9f",
   "metadata": {},
   "outputs": [],
   "source": [
    "# Repetimos el modelo lineal"
   ]
  },
  {
   "cell_type": "code",
   "execution_count": null,
   "id": "0f138607-350c-461c-bd71-0ee8a815ac9f",
   "metadata": {},
   "outputs": [],
   "source": [
    "# Inicializamos el modelo lineal\n",
    "modeloLineal = linear_model.LinearRegression() \n",
    "\n",
    "# Entrenamiento\n",
    "modeloLineal.fit(X_scaled, y)\n",
    "\n",
    "# Predicciones\n",
    "y_pred = modeloLineal.predict(X_scaled)\n",
    "\n",
    "# Evaluación\n",
    "rmse = np.sqrt(mean_squared_error(y, y_pred))\n",
    "print(f\"Raíz del Error Cuadrático Medio: {rmse:.5f}\")\n",
    "r2 = r2_score(y, y_pred)\n",
    "print(f\"R cuadrado: {r2:.5f}\")"
   ]
  },
  {
   "cell_type": "code",
   "execution_count": null,
   "id": "9b709d0b-f9e3-4821-b0d3-c0b8e5096ab6",
   "metadata": {},
   "outputs": [],
   "source": [
    "# Graficamos\n",
    "so.Plot(x = np.arange(len(modeloLineal.coef_)), y = modeloLineal.coef_).add(so.Dot())"
   ]
  },
  {
   "cell_type": "markdown",
   "id": "c4cffd59-6d3d-46ef-b996-4f760034f20a",
   "metadata": {},
   "source": [
    "Los problemas de colinealidad son más evidentes ahora.\n",
    "\n",
    "En base a lo observado, vamos a utilizar un modelo de regresión de Ridge.\n",
    "Separamos en entrenamiento y testeo."
   ]
  },
  {
   "cell_type": "code",
   "execution_count": null,
   "id": "34468776-8ff3-4b24-81a4-e76fe74ebebf",
   "metadata": {},
   "outputs": [],
   "source": [
    "X_train, X_test, y_train, y_test = train_test_split(X, y, test_size=0.2, random_state=42)"
   ]
  },
  {
   "cell_type": "code",
   "execution_count": null,
   "id": "36eba89e-cab0-4ef4-a513-4f77f0d0cc6c",
   "metadata": {},
   "outputs": [],
   "source": [
    "# Inicializamos el modelo lineal\n",
    "alpha = 1  # Ejercicio: calcular alpha por validacion cruzada\n",
    "modeloRidge = linear_model.Ridge(alpha = 1)"
   ]
  },
  {
   "cell_type": "code",
   "execution_count": null,
   "id": "bf554b46-3193-4d0c-a45f-8d7115f27cdb",
   "metadata": {},
   "outputs": [],
   "source": [
    "# Entrenamiento\n",
    "modeloRidge.fit(X_train, y_train)\n",
    "\n",
    "# Predicciones\n",
    "y_pred = modeloRidge.predict(X_train)\n",
    "\n",
    "# Evaluación\n",
    "rmse = np.sqrt(mean_squared_error(y_train, y_pred))\n",
    "print(f\"Raíz del Error Cuadrático Medio: {rmse:.5f}\")\n",
    "r2 = r2_score(y_train, y_pred)\n",
    "print(f\"R cuadrado: {r2:.5f}\")"
   ]
  },
  {
   "cell_type": "code",
   "execution_count": null,
   "id": "f57d99c1-b8d1-49f5-8b80-418fde6cfd72",
   "metadata": {},
   "outputs": [],
   "source": [
    "# Observamos los coeficientes\n",
    "so.Plot(x = np.arange(len(modeloRidge.coef_)), y = modeloRidge.coef_).add(so.Dot())"
   ]
  },
  {
   "cell_type": "markdown",
   "id": "efbf45f0-884a-4865-abc2-0cce3006f1c0",
   "metadata": {},
   "source": [
    "Redujimos el problema de coeficientes grandes que se anulan, pero todavía resulta difícil comparar los pesos de las distintas variables. \n",
    "\n",
    "Además en el modelo lineal Ridge penalizamos coeficientes grandes. Si las variables están a distinta escala, esto hace que penalicemos más a algunas variables que a otras.\n",
    "\n",
    "En Regresión Ridge casi siempre es necesario escalar las variables.\n",
    "\n",
    "Reescalamos todas utilizando StandardScaler"
   ]
  },
  {
   "cell_type": "markdown",
   "id": "a93f15d9-1c5f-4fbf-9f25-b2b409f160cc",
   "metadata": {},
   "source": [
    "Al realizar un escalamiento, no incluimos los datos de testeo, porque suponemos que son datos desconocidos para nosotros.\n",
    "StandardScaler nos permite calcular la fórmula de escalamiento en un conjunto de datos y aplicarlo en otro."
   ]
  },
  {
   "cell_type": "code",
   "execution_count": null,
   "id": "7a204e63-3783-4063-b26d-b0a6f94611f9",
   "metadata": {},
   "outputs": [],
   "source": [
    "scaler = StandardScaler().set_output(transform=\"pandas\") # La última opción hace que nos devuelva un DataFrame"
   ]
  },
  {
   "cell_type": "code",
   "execution_count": null,
   "id": "c8ab2d81-411d-40a0-82dc-23987607d9b5",
   "metadata": {},
   "outputs": [],
   "source": [
    "# fit_transform calcula los coeficientes de la transformación y la aplica.\n",
    "X_train_scaled = scaler.fit_transform(X_train)"
   ]
  },
  {
   "cell_type": "code",
   "execution_count": null,
   "id": "7a5fe4c7-d3ad-4fb3-b76f-5837c574635c",
   "metadata": {},
   "outputs": [],
   "source": [
    "# Inicializamos el modelo lineal\n",
    "alpha = 1     # Ejercicio: calcular el alpha optimo por validacion cruzada\n",
    "modeloRidge = linear_model.Ridge(alpha = alpha)   \n",
    "\n",
    "# Entrenamiento\n",
    "modeloRidge.fit(X_train_scaled, y_train)\n",
    "\n",
    "# Predicciones\n",
    "y_pred = modeloRidge.predict(X_train_scaled)\n",
    "\n",
    "# Evaluación\n",
    "print(\"alpha = \", alpha)\n",
    "rmse = np.sqrt(mean_squared_error(y_train, y_pred))\n",
    "print(f\"Raíz del Error Cuadrático Medio: {rmse:.5f}\")\n",
    "r2 = r2_score(y_train, y_pred)\n",
    "print(f\"R cuadrado: {r2:.5f}\")\n",
    "\n",
    "print(modeloRidge.coef_)"
   ]
  },
  {
   "cell_type": "code",
   "execution_count": null,
   "id": "121a76af-5e97-45e4-b16b-e94c06be2864",
   "metadata": {},
   "outputs": [],
   "source": [
    "so.Plot(x = np.arange(len(modeloRidge.coef_)), y = modeloRidge.coef_).add(so.Dot())"
   ]
  },
  {
   "cell_type": "markdown",
   "id": "355ad419-1f0a-4e7f-9943-7ab3b55f9478",
   "metadata": {},
   "source": [
    "Ahora queremos ver los resultados en testeo, para eso transformamos los datos de testeo."
   ]
  },
  {
   "cell_type": "code",
   "execution_count": null,
   "id": "1be2719f-f2df-4861-abe6-766f29057446",
   "metadata": {},
   "outputs": [],
   "source": [
    "# Estará bien hacerlo así?\n",
    "X_test_scaled = scaler.fit_transform(X_test)"
   ]
  },
  {
   "cell_type": "code",
   "execution_count": null,
   "id": "0e4afd26-b324-4526-ae75-2028766d7311",
   "metadata": {},
   "outputs": [],
   "source": [
    "# Predicciones\n",
    "y_pred = modeloRidge.predict(X_test_scaled)\n",
    "\n",
    "# Evaluación\n",
    "rmse = np.sqrt(mean_squared_error(y_test, y_pred))\n",
    "print(f\"Raíz del Error Cuadrático Medio: {rmse:.5f}\")\n",
    "r2 = r2_score(y_test, y_pred)\n",
    "print(f\"R cuadrado: {r2:.5f}\")"
   ]
  },
  {
   "cell_type": "markdown",
   "id": "9c02e736-4d45-4e2e-b2ba-76aa61433139",
   "metadata": {},
   "source": [
    "No dio muy mal, porque los parámetros del escalamiento son similares (la media y varianza de una muestra es similar a la media varianza de toda la población), pero es incorrecto\n",
    "\n",
    "La forma correcta es fittear en entrenamiento y aplicar esa transformación a los datos de testeo:"
   ]
  },
  {
   "cell_type": "code",
   "execution_count": null,
   "id": "96fa1eae-ad46-4198-b910-2f019ee316ef",
   "metadata": {},
   "outputs": [],
   "source": [
    "# Tenemos que fittear en entrenamiento y aplicar esa transformación a los datos de testeo\n",
    "scaler.fit(X_train)   # Primero fiteamos (este paso no es necesario si ya hicimos fit_transform en X_train)\n",
    "X_test_scaled = scaler.transform(X_test)  # Luego transformamos"
   ]
  },
  {
   "cell_type": "code",
   "execution_count": null,
   "id": "28aa7c38-774f-4495-acba-6290a8f30316",
   "metadata": {},
   "outputs": [],
   "source": [
    "# Predicciones\n",
    "y_pred = modeloRidge.predict(X_test_scaled)\n",
    "\n",
    "# Evaluación\n",
    "rmse = np.sqrt(mean_squared_error(y_test, y_pred))\n",
    "print(f\"Raíz del Error Cuadrático Medio: {rmse:.5f}\")\n",
    "r2 = r2_score(y_test, y_pred)\n",
    "print(f\"R cuadrado: {r2:.5f}\")"
   ]
  },
  {
   "cell_type": "markdown",
   "id": "6df0ec5d-4e14-4b23-9f8d-5a73384f5748",
   "metadata": {},
   "source": [
    "Vemos que mejoraron las predicciones. \n",
    "\n",
    "La diferencia es más notoria si usamos MinMaxScaler."
   ]
  },
  {
   "cell_type": "code",
   "execution_count": null,
   "id": "169e6a56-bc08-4abd-b3bb-a3497c07c399",
   "metadata": {},
   "outputs": [],
   "source": [
    "from sklearn.preprocessing import MinMaxScaler\n",
    "scaler = MinMaxScaler().set_output(transform=\"pandas\") # La última opción hace que nos devuelva un DataFrame"
   ]
  },
  {
   "cell_type": "code",
   "execution_count": null,
   "id": "a62a2701-2e4c-4ff4-9795-0fb75101ee92",
   "metadata": {},
   "outputs": [],
   "source": [
    "# fit_transform calcula los coeficientes de la transformación y la aplica.\n",
    "X_train_scaled = scaler.fit_transform(X_train)"
   ]
  },
  {
   "cell_type": "code",
   "execution_count": null,
   "id": "db69eaef-50b6-43cd-a264-9cf645a07fad",
   "metadata": {},
   "outputs": [],
   "source": [
    "# Inicializamos el modelo lineal\n",
    "alpha = 1\n",
    "modeloRidge = linear_model.Ridge(alpha = alpha) \n",
    "\n",
    "# Entrenamiento\n",
    "modeloRidge.fit(X_train_scaled, y_train)\n",
    "\n",
    "# Predicciones\n",
    "y_pred = modeloRidge.predict(X_train_scaled)\n",
    "\n",
    "# Evaluación en los datos de entrenamiento\n",
    "rmse = np.sqrt(mean_squared_error(y_train, y_pred))\n",
    "print(f\"Raíz del Error Cuadrático Medio: {rmse:.5f}\")\n",
    "r2 = r2_score(y_train, y_pred)\n",
    "print(f\"R cuadrado: {r2:.5f}\")"
   ]
  },
  {
   "cell_type": "code",
   "execution_count": null,
   "id": "5470d08d-dcd5-4baf-91fd-d808db84a734",
   "metadata": {},
   "outputs": [],
   "source": [
    "# MAL!\n",
    "\n",
    "X_test_scaled = scaler.fit_transform(X_test)\n",
    "\n",
    "# Predicciones\n",
    "y_pred = modeloRidge.predict(X_test_scaled)\n",
    "\n",
    "# Evaluación\n",
    "rmse = np.sqrt(mean_squared_error(y_test, y_pred))\n",
    "print(f\"Raíz del Error Cuadrático Medio: {rmse:.5f}\")\n",
    "r2 = r2_score(y_test, y_pred)\n",
    "print(f\"R cuadrado: {r2:.5f}\")"
   ]
  },
  {
   "cell_type": "code",
   "execution_count": null,
   "id": "1aebc213-d54b-4345-99f2-f1950f72d030",
   "metadata": {},
   "outputs": [],
   "source": [
    "print(scaler.data_min_, scaler.data_max_)"
   ]
  },
  {
   "cell_type": "code",
   "execution_count": null,
   "id": "8d1cfba7-e276-440a-9bd0-59fb81e363a0",
   "metadata": {},
   "outputs": [],
   "source": [
    "# BIEN\n",
    "\n",
    "# Tenemos que fittear en entrenamiento y aplicar esa transformación a los datos de testeo\n",
    "scaler.fit(X_train)   # Primero fiteamos (este paso no es necesario si ya hicimos fit_transform en X_train)\n",
    "X_test_scaled = scaler.transform(X_test)  # Luego transformamos\n",
    "\n",
    "# Predicciones\n",
    "y_pred = modeloRidge.predict(X_test_scaled)\n",
    "\n",
    "# Evaluación\n",
    "rmse = np.sqrt(mean_squared_error(y_test, y_pred))\n",
    "print(f\"Raíz del Error Cuadrático Medio: {rmse:.5f}\")\n",
    "r2 = r2_score(y_test, y_pred)\n",
    "print(f\"R cuadrado: {r2:.5f}\")"
   ]
  },
  {
   "cell_type": "markdown",
   "id": "c9e9d16d-1b7b-4cd4-a560-03078154606f",
   "metadata": {},
   "source": [
    "## Ejercicio - Repaso\n",
    "Seleccionar el alpha óptimo por validación cruzada en X_train"
   ]
  },
  {
   "cell_type": "code",
   "execution_count": null,
   "id": "b7f43168-6a65-406b-b5cc-86851d7362ad",
   "metadata": {},
   "outputs": [],
   "source": [
    "X_train, X_test, y_train, y_test = train_test_split(X, y, test_size=0.2, random_state=42)"
   ]
  },
  {
   "cell_type": "code",
   "execution_count": null,
   "id": "771a1775-8a2a-492e-a497-bbf0798e1535",
   "metadata": {},
   "outputs": [],
   "source": []
  }
 ],
 "metadata": {
  "kernelspec": {
   "display_name": "labo-datos",
   "language": "python",
   "name": "python3"
  },
  "language_info": {
   "codemirror_mode": {
    "name": "ipython",
    "version": 3
   },
   "file_extension": ".py",
   "mimetype": "text/x-python",
   "name": "python",
   "nbconvert_exporter": "python",
   "pygments_lexer": "ipython3",
   "version": "3.13.2"
  }
 },
 "nbformat": 4,
 "nbformat_minor": 5
}

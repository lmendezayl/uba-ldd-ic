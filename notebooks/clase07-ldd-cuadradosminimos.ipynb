{
 "cells": [
  {
   "cell_type": "code",
   "execution_count": null,
   "id": "b532acd3-c876-4da9-9270-88cc2b63c522",
   "metadata": {},
   "outputs": [],
   "source": [
    "import numpy as np\n",
    "import pandas as pd\n",
    "import seaborn as sns\n",
    "import seaborn.objects as so\n",
    "\n",
    "from formulaic import Formula\n",
    "\n",
    "# Herramientas de modelos lineales\n",
    "from sklearn import linear_model  \n",
    "\n",
    "# Medidas de desempeño\n",
    "from sklearn.metrics import mean_squared_error, r2_score, root_mean_squared_error    "
   ]
  },
  {
   "cell_type": "markdown",
   "id": "fc6757c5-2ad0-4ecf-b958-04711d48675b",
   "metadata": {},
   "source": [
    "# Regresión Polinomial\n",
    "\n",
    "### Laboratorio de Datos, IC - FCEN - UBA - 1er. Cuatrimestre 2024"
   ]
  },
  {
   "cell_type": "markdown",
   "id": "dbbab9d2-99f0-41ce-a173-150358585f06",
   "metadata": {},
   "source": [
    "Buscamos los coeficientes de un polinomio de grado $n$\n",
    "$$Y = \\beta_0 + \\beta_1 X + \\beta_2 X^2 + \\beta_3 X^3 + \\dots + \\beta_n X^n$$\n",
    "\n",
    "que mejor aproxime a nuestros datos en el sentido de Cuadrados Mínimos. Es decir, buscamos $\\beta_1,\\dots, \\beta_n$ que minimicen:\n",
    "$$ RSS(\\beta) = \\displaystyle\\sum_{i=1}^n (y_i - P(x_i))^2 $$\n",
    "\n",
    "Vamos a usar como ejemplo los datos de PBI per capita de Argentina, del dataset `gapminder`"
   ]
  },
  {
   "cell_type": "code",
   "execution_count": null,
   "id": "6282b688-a319-43ad-801c-c4197a57830a",
   "metadata": {},
   "outputs": [],
   "source": [
    "from gapminder import gapminder\n",
    "datos_arg = gapminder[gapminder['country'] == 'Argentina'].reset_index(drop=True)\n",
    "datos_arg.head()"
   ]
  },
  {
   "cell_type": "markdown",
   "id": "386f8fd3-6bba-4ee7-90d3-59e638560933",
   "metadata": {},
   "source": [
    "### Visualización"
   ]
  },
  {
   "cell_type": "markdown",
   "id": "c8d00b8f-42d2-4ca9-991c-0aad5c619f53",
   "metadata": {},
   "source": [
    "Teníamos la visualización de la Regresión Lineal:"
   ]
  },
  {
   "cell_type": "code",
   "execution_count": null,
   "id": "72a61a81-d356-4682-a5bc-24bfeed8e920",
   "metadata": {},
   "outputs": [],
   "source": [
    "(\n",
    "    so.Plot(data=datos_arg, x='year', y='gdpPercap')\n",
    "    .add(so.Dot())\n",
    "    .add(so.Line(color='r', linewidth=3), so.PolyFit(1))\n",
    ")"
   ]
  },
  {
   "cell_type": "markdown",
   "id": "768e7172-9b07-4d4d-a638-1c96d1a30aeb",
   "metadata": {},
   "source": [
    "Calculemos el $R^2$ de la Regresión Lineal:"
   ]
  },
  {
   "cell_type": "code",
   "execution_count": null,
   "id": "d690c92f-718f-49ff-ac7f-f4d74d1ffea9",
   "metadata": {},
   "outputs": [],
   "source": [
    "# Escribimos la fórmula\n",
    "y, X = Formula('gdpPercap ~ year').get_model_matrix(datos_arg)\n",
    "\n",
    "# Inicializamos el modelo de regresión\n",
    "modelo = linear_model.LinearRegression(fit_intercept=False)\n",
    "\n",
    "# Realizamos el ajuste\n",
    "modelo.fit(X, y)\n",
    "\n",
    "# Calculamos R²\n",
    "y_pred = modelo.predict(X)\n",
    "r2_score(datos_arg['gdpPercap'], y_pred)"
   ]
  },
  {
   "cell_type": "markdown",
   "id": "701adf59-b011-4107-ab25-6d80bc59f0aa",
   "metadata": {},
   "source": [
    "Para cambiar el grado del polinomio que ajusta los datos, simplemente cambios el argumento de `so.PolyFit`. Por ejemplo, para un polinomio de grado $3$:"
   ]
  },
  {
   "cell_type": "code",
   "execution_count": null,
   "id": "632d77d0-23aa-4535-8ad6-e2e63637637a",
   "metadata": {},
   "outputs": [],
   "source": [
    "(\n",
    "    so.Plot(data=datos_arg, x=datos_arg['year'], y='gdpPercap')\n",
    "    .add(so.Dot())\n",
    "    .add(so.Line(color='r', linewidth=3), so.PolyFit(3))\n",
    ")"
   ]
  },
  {
   "cell_type": "markdown",
   "id": "c2695e7b-487a-4377-b1fb-1023bca78ec8",
   "metadata": {},
   "source": [
    "### Cálculo de coeficientes y de predicciones"
   ]
  },
  {
   "cell_type": "markdown",
   "id": "00303246-de93-4512-b17e-4bebb6956ac8",
   "metadata": {},
   "source": [
    "Queremos buscar el polinomio de grado 3 que mejor aproxima a los datos en sentido de cuadrados mínimos:\n",
    "$$P(x) = \\beta_0 + \\beta_1 x + \\beta_2 x^ 2 + \\beta_3 x^ 3$$"
   ]
  },
  {
   "cell_type": "markdown",
   "id": "d4fce119-28fc-4751-93fc-4366aab4493c",
   "metadata": {},
   "source": [
    "Calcularemos los coeficientes con `scikit-learn`. Es parecido a lo que hacíamos con la regresión lineal, pero con un paso extra:"
   ]
  },
  {
   "cell_type": "code",
   "execution_count": null,
   "id": "d4f6183d-a7ec-4e3d-9caa-b3f5ebbf2485",
   "metadata": {},
   "outputs": [],
   "source": [
    "# poly(year,3) significa que usamos un polinomio de grado 3 cuya variable es year\n",
    "y, X = Formula('gdpPercap ~ poly(year, 3, raw=True) - 1').get_model_matrix(datos_arg)"
   ]
  },
  {
   "cell_type": "code",
   "execution_count": null,
   "id": "c533252e-ae49-4798-ba43-4cfae3c08c05",
   "metadata": {},
   "outputs": [],
   "source": [
    "X"
   ]
  },
  {
   "cell_type": "code",
   "execution_count": null,
   "id": "113e687a-805f-412a-9b5b-4cd220b6a5cc",
   "metadata": {},
   "outputs": [],
   "source": [
    "# Inicializamos el modelo de regresión. \n",
    "modelo = linear_model.LinearRegression(fit_intercept=True)\n",
    "\n",
    "# Realiza el ajuste\n",
    "modelo.fit(X, y)\n",
    "\n",
    "# Como usamos fit_intercept = True, la ordenada al origen está en modelo.intercept_\n",
    "ordenada_al_origen = modelo.intercept_[0]\n",
    "\n",
    "# Recuperamos los valores de los demas coeficientes (de menor potencia a la mayor)\n",
    "coeficientes = modelo.coef_[0]\n",
    "\n",
    "# Armamos el array con los valores de beta\n",
    "beta = np.array([ordenada_al_origen, *coeficientes])\n",
    "\n",
    "# Imprimimos los valores:\n",
    "print('beta_0: ', beta[0])\n",
    "print('beta_1: ', beta[1])\n",
    "print('beta_2: ', beta[2])\n",
    "print('beta_3: ', beta[3])"
   ]
  },
  {
   "cell_type": "markdown",
   "id": "ed3970ca-3a10-4422-a265-9845065389a5",
   "metadata": {},
   "source": [
    "El polinomio de grado a lo sumo 3 que mejor aproxima a los datos es:\n",
    "$$P(x) = -984937719.58 + 1491410.41 x -752.77 x^ 2 + 0.12 x^ 3 $$\n",
    "\n",
    "Corroboremos que el gráfico de este polinomio es el mismo que arma `seaborn` con `so.PolyFit`:"
   ]
  },
  {
   "cell_type": "code",
   "execution_count": null,
   "id": "a47feedc-0fcb-45c7-ad97-5a13c4e87c2f",
   "metadata": {},
   "outputs": [],
   "source": [
    "(\n",
    "    so.Plot(data=datos_arg, x='year', y='gdpPercap')\n",
    "    .add(so.Dot())\n",
    "    .add(so.Line(color='green', linewidth=2), y=modelo.predict(X).flatten(), label='sklearn')\n",
    "    .add(so.Line(color='red', linestyle='--', linewidth=2), so.PolyFit(3), label='seaborn')\n",
    "    .label()\n",
    ")"
   ]
  },
  {
   "cell_type": "markdown",
   "id": "64f37033-c70e-4c00-b989-e3cbbc5f6360",
   "metadata": {},
   "source": [
    "Igual que antes, podemos estimar el PBI per capita, por ejemplo para 1990 y 2015:\n",
    "\n",
    "* haciendo las cuentas"
   ]
  },
  {
   "cell_type": "code",
   "execution_count": null,
   "id": "467daf32-c5d4-4201-898f-02f4aeca1d57",
   "metadata": {},
   "outputs": [],
   "source": [
    "# Haciendo las cuentas a mano\n",
    "prediccion_1990 = beta[0] + beta[1]*1990 + beta[2]*1990**2 + beta[3]*1990**3\n",
    "\n",
    "# O usando numpy\n",
    "prediccion_2015 = beta @ 2015**np.arange(4, dtype='int64')\n",
    "\n",
    "print('Prediccion 1990: ', prediccion_1990)\n",
    "print('Prediccion 2015: ', prediccion_2015)"
   ]
  },
  {
   "cell_type": "markdown",
   "id": "cb90eff3-2534-4dc7-bed4-3b7d077de5bb",
   "metadata": {},
   "source": [
    "* usando `predict`"
   ]
  },
  {
   "cell_type": "code",
   "execution_count": null,
   "id": "1382b3bf-7fe8-40a3-8c92-e6689b14f8c8",
   "metadata": {},
   "outputs": [],
   "source": [
    "# Armamos un array con los datos de x a los cuales les queremos aplicar el modelo\n",
    "x_a_predecir = np.array([1990, 2015])\n",
    "\n",
    "# Armamos el DataFrame para pasarle a predict\n",
    "datos_a_predecir = pd.DataFrame([x**np.arange(1,4,dtype='int64') for x in x_a_predecir], columns=X.columns)\n",
    "\n",
    "datos_a_predecir\n",
    "modelo.predict(datos_a_predecir)"
   ]
  },
  {
   "cell_type": "markdown",
   "id": "98e0a321-86b1-47e7-be6a-b658b67b1c02",
   "metadata": {},
   "source": [
    "También podemos calcular las medidas de desempeño del modelo:"
   ]
  },
  {
   "cell_type": "code",
   "execution_count": null,
   "id": "169647ab-a552-4da0-8d14-a0e5ec862e3d",
   "metadata": {},
   "outputs": [],
   "source": [
    "y_pred = modelo.predict(X)\n",
    "\n",
    "# Calculando el R^2\n",
    "r2 = r2_score(datos_arg['gdpPercap'], y_pred)\n",
    "print('R^2: ', r2)\n",
    "\n",
    "# Calculando el ECM\n",
    "ecm = mean_squared_error(datos_arg['gdpPercap'], y_pred)\n",
    "print('ECM: ', ecm)\n",
    "\n",
    "# Calculando la RECM\n",
    "recm = root_mean_squared_error(datos_arg['gdpPercap'], y_pred)\n",
    "print('RECM: ', recm)"
   ]
  },
  {
   "cell_type": "markdown",
   "id": "72ce6c3f-0bd9-4c77-b993-f742220740f7",
   "metadata": {},
   "source": [
    "### Observación: el uso de `raw=True`"
   ]
  },
  {
   "cell_type": "markdown",
   "id": "471e02ef-da65-4969-ad1d-1bde6713d79d",
   "metadata": {},
   "source": [
    "En el ejemplo, usamos `raw=True` para obtener los valores sin ortonormalizar y así simplificar la interpretación. Cuando usamos `raw=True` tenemos que agregarle el `-1` a la fórmula y, al incializar el modelo, usar `fit_intercept=True`."
   ]
  },
  {
   "cell_type": "code",
   "execution_count": null,
   "id": "4f852723-3967-4121-806c-c582c6958e98",
   "metadata": {},
   "outputs": [],
   "source": [
    "y, X = Formula('gdpPercap ~ poly(year, 3, raw=True) - 1').get_model_matrix(datos_arg)\n",
    "modelo = linear_model.LinearRegression(fit_intercept=True)"
   ]
  },
  {
   "cell_type": "markdown",
   "id": "48b020a5-a3f9-47ee-b467-04cb002442a1",
   "metadata": {},
   "source": [
    "En unas clases, cuando veamos conjuntos de entrenamiento, de validación y de test, no va a ser necesario usar `raw=True`. En ese caso no agregaremos `-1` a la fórmula e inicializaremos el modelo con `fit_intercept=False`:"
   ]
  },
  {
   "cell_type": "code",
   "execution_count": null,
   "id": "8b6010b4-6921-4cf7-ad95-f17bce918989",
   "metadata": {
    "tags": []
   },
   "outputs": [],
   "source": [
    "y, X = Formula('gdpPercap ~ poly(year, 3)').get_model_matrix(datos_arg)\n",
    "\n",
    "## Acá uno define los conjuntos de entrenamiento, validación y test ##\n",
    "\n",
    "# Cuando inicialicemos el modelo\n",
    "modelo = linear_model.LinearRegression(fit_intercept=False)"
   ]
  }
 ],
 "metadata": {
  "kernelspec": {
   "display_name": "Python 3 (ipykernel)",
   "language": "python",
   "name": "python3"
  },
  "language_info": {
   "codemirror_mode": {
    "name": "ipython",
    "version": 3
   },
   "file_extension": ".py",
   "mimetype": "text/x-python",
   "name": "python",
   "nbconvert_exporter": "python",
   "pygments_lexer": "ipython3",
   "version": "3.10.11"
  }
 },
 "nbformat": 4,
 "nbformat_minor": 5
}

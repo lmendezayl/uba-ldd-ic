{
 "cells": [
  {
   "cell_type": "code",
   "execution_count": 2,
   "id": "fcb9e2d4",
   "metadata": {
    "ExecuteTime": {
     "end_time": "2024-03-19T15:23:44.512783351Z",
     "start_time": "2024-03-19T15:23:43.726402652Z"
    }
   },
   "outputs": [],
   "source": [
    "import matplotlib.pyplot as plt\n",
    "import seaborn as sns\n",
    "import numpy as np\n",
    "import pandas as pd"
   ]
  },
  {
   "cell_type": "markdown",
   "id": "be9ac702",
   "metadata": {},
   "source": [
    "# Clase 2"
   ]
  },
  {
   "cell_type": "markdown",
   "id": "3ac84e7e",
   "metadata": {},
   "source": [
    "## Biblioteca Pandas"
   ]
  },
  {
   "cell_type": "markdown",
   "id": "70e25999",
   "metadata": {},
   "source": [
    "Pandas es una biblioteca de Python muy usada para análisis y manipulación de datos. Provee principalmente dos tipos de clases para trabajar con datos:\n",
    "\n",
    "- **Series:** un vector unidimensional indexado, que contiene datos de cualquier tipo\n",
    "como números enteros, cadenas, objetos Python, etc.\n",
    "\n",
    "- **DataFrame:** una estructura de datos bidimensional que contiene datos como una matriz bidimensional o una tabla con filas y columnas.\n",
    "\n",
    "Bibliografía recomendada: Sección 5 de Python for Data Analysis, de Wes McKinney (creador de la biblioteca Pandas), disponible on-line en forma gratuita en la página\n",
    "https://wesmckinney.com/book/pandas-basics"
   ]
  },
  {
   "cell_type": "markdown",
   "id": "79927545",
   "metadata": {},
   "source": [
    "### Series\n",
    "\n",
    "Las series de Pandas son vectores similares a los arrays de NumPy, que podemos indexar usando etiquetas.\n",
    "\n",
    "Crear la siguiente Series, observar qué devuelve array e index e interpretar."
   ]
  },
  {
   "cell_type": "code",
   "execution_count": 3,
   "id": "efeeb20f",
   "metadata": {},
   "outputs": [
    {
     "data": {
      "text/plain": [
       "0    7\n",
       "1    4\n",
       "2   -5\n",
       "3    3\n",
       "dtype: int64"
      ]
     },
     "execution_count": 3,
     "metadata": {},
     "output_type": "execute_result"
    }
   ],
   "source": [
    "import pandas as pd\n",
    "obj = pd.Series([7,4,-5,3])\n",
    "obj"
   ]
  },
  {
   "cell_type": "code",
   "execution_count": 4,
   "id": "b568e3d1",
   "metadata": {},
   "outputs": [
    {
     "data": {
      "text/plain": [
       "<NumpyExtensionArray>\n",
       "[np.int64(7), np.int64(4), np.int64(-5), np.int64(3)]\n",
       "Length: 4, dtype: int64"
      ]
     },
     "execution_count": 4,
     "metadata": {},
     "output_type": "execute_result"
    }
   ],
   "source": [
    "obj.array"
   ]
  },
  {
   "cell_type": "code",
   "execution_count": 5,
   "id": "a09c8a47",
   "metadata": {},
   "outputs": [
    {
     "data": {
      "text/plain": [
       "RangeIndex(start=0, stop=4, step=1)"
      ]
     },
     "execution_count": 5,
     "metadata": {},
     "output_type": "execute_result"
    }
   ],
   "source": [
    "obj.index # Por default , los indices van de 0 a N-1."
   ]
  },
  {
   "cell_type": "markdown",
   "id": "39761ee7",
   "metadata": {},
   "source": [
    "Podemos asignar etiquetas (o índices) a cada valor de la serie."
   ]
  },
  {
   "cell_type": "code",
   "execution_count": 6,
   "id": "ad2bbe77",
   "metadata": {},
   "outputs": [
    {
     "data": {
      "text/plain": [
       "d    3.141593\n",
       "b    0.000000\n",
       "c   -2.000000\n",
       "a    1.410000\n",
       "dtype: float64"
      ]
     },
     "metadata": {},
     "output_type": "display_data"
    },
    {
     "data": {
      "text/plain": [
       "<NumpyExtensionArray>\n",
       "[np.float64(3.141592653589793),               np.float64(0.0),\n",
       "              np.float64(-2.0),              np.float64(1.41)]\n",
       "Length: 4, dtype: float64"
      ]
     },
     "metadata": {},
     "output_type": "display_data"
    },
    {
     "data": {
      "text/plain": [
       "Index(['d', 'b', 'c', 'a'], dtype='object')"
      ]
     },
     "metadata": {},
     "output_type": "display_data"
    }
   ],
   "source": [
    "obj2 = pd.Series([np.pi,0,-2,1.41], index = [\"d\", \"b\", \"c\", \"a\"])\n",
    "display(obj2)\n",
    "display(obj2.array)\n",
    "display(obj2.index)"
   ]
  },
  {
   "cell_type": "markdown",
   "id": "b4beb4e0",
   "metadata": {},
   "source": [
    "Al igual que con arrays de Numpy podemos acceder a los elementos por su posición, o podemos usar las etiquetas."
   ]
  },
  {
   "cell_type": "code",
   "execution_count": 9,
   "id": "f93ba2b5",
   "metadata": {},
   "outputs": [
    {
     "name": "stderr",
     "output_type": "stream",
     "text": [
      "C:\\Users\\Lautaro Mendez\\AppData\\Local\\Temp\\ipykernel_16004\\1023228316.py:2: FutureWarning: Series.__getitem__ treating keys as positions is deprecated. In a future version, integer keys will always be treated as labels (consistent with DataFrame behavior). To access a value by position, use `ser.iloc[pos]`\n",
      "  obj2[3]\n"
     ]
    },
    {
     "data": {
      "text/plain": [
       "b    0.0\n",
       "c   -2.0\n",
       "dtype: float64"
      ]
     },
     "execution_count": 9,
     "metadata": {},
     "output_type": "execute_result"
    }
   ],
   "source": [
    "obj2[\"a\"]\n",
    "obj2[3]\n",
    "obj2[1:3]"
   ]
  },
  {
   "cell_type": "code",
   "execution_count": 12,
   "id": "9e309b0c",
   "metadata": {},
   "outputs": [
    {
     "data": {
      "text/plain": [
       "Index(['a', 'b'], dtype='object')"
      ]
     },
     "execution_count": 12,
     "metadata": {},
     "output_type": "execute_result"
    }
   ],
   "source": [
    "obj3 = obj2[[\"a\",\"b\"]]\n",
    "obj3\n",
    "obj3.index"
   ]
  },
  {
   "cell_type": "code",
   "execution_count": 13,
   "id": "e84b14f4",
   "metadata": {},
   "outputs": [
    {
     "data": {
      "text/plain": [
       "d    3.141593\n",
       "a    1.410000\n",
       "dtype: float64"
      ]
     },
     "execution_count": 13,
     "metadata": {},
     "output_type": "execute_result"
    }
   ],
   "source": [
    "obj2[obj2>1]"
   ]
  },
  {
   "cell_type": "markdown",
   "id": "629df1af",
   "metadata": {},
   "source": [
    "Las operaciones que pueden aplicarse a numpy arrays pueden aplicarse también a series de Pandas, conservando los índices."
   ]
  },
  {
   "cell_type": "code",
   "execution_count": 14,
   "id": "9e4df893",
   "metadata": {},
   "outputs": [
    {
     "data": {
      "text/plain": [
       "d    23.140693\n",
       "b     1.000000\n",
       "c     0.135335\n",
       "a     4.095955\n",
       "dtype: float64"
      ]
     },
     "execution_count": 14,
     "metadata": {},
     "output_type": "execute_result"
    }
   ],
   "source": [
    "np.exp(obj2)"
   ]
  },
  {
   "cell_type": "code",
   "execution_count": 15,
   "id": "07426272",
   "metadata": {},
   "outputs": [
    {
     "data": {
      "text/plain": [
       "d    9.424778\n",
       "b    0.000000\n",
       "c   -6.000000\n",
       "a    4.230000\n",
       "dtype: float64"
      ]
     },
     "execution_count": 15,
     "metadata": {},
     "output_type": "execute_result"
    }
   ],
   "source": [
    "obj2 * 3"
   ]
  },
  {
   "cell_type": "markdown",
   "id": "37f548c0",
   "metadata": {},
   "source": [
    "¿Qué esperamos que de este código?"
   ]
  },
  {
   "cell_type": "code",
   "execution_count": 16,
   "id": "7a86e2f3",
   "metadata": {},
   "outputs": [
    {
     "data": {
      "text/plain": [
       "0   NaN\n",
       "1   NaN\n",
       "2   NaN\n",
       "3   NaN\n",
       "a   NaN\n",
       "b   NaN\n",
       "c   NaN\n",
       "d   NaN\n",
       "dtype: float64"
      ]
     },
     "execution_count": 16,
     "metadata": {},
     "output_type": "execute_result"
    }
   ],
   "source": [
    "obj + obj2"
   ]
  },
  {
   "cell_type": "markdown",
   "id": "249af033",
   "metadata": {},
   "source": [
    "NaN significa \"not a number\", se utiliza en series de Pandas para valores faltantes (missing values)."
   ]
  },
  {
   "cell_type": "code",
   "execution_count": 17,
   "id": "48dbfdc0",
   "metadata": {},
   "outputs": [
    {
     "data": {
      "text/plain": [
       "a         NaN\n",
       "b    2.000000\n",
       "c         NaN\n",
       "d    4.141593\n",
       "y         NaN\n",
       "z         NaN\n",
       "dtype: float64"
      ]
     },
     "execution_count": 17,
     "metadata": {},
     "output_type": "execute_result"
    }
   ],
   "source": [
    "# Y ahora?\n",
    "obj4 = pd.Series([1,2,3,4], index = [\"d\", \"b\", \"y\", \"z\"])\n",
    "obj2 + obj4"
   ]
  },
  {
   "cell_type": "markdown",
   "id": "edff79af",
   "metadata": {},
   "source": [
    "Las series de Pandas tienen varias funciones útiles que iremos viendo más adelante. A modo de ejemplo, interpretar que hacen las siguientes funciones."
   ]
  },
  {
   "cell_type": "code",
   "execution_count": 20,
   "id": "132095c3",
   "metadata": {},
   "outputs": [
    {
     "data": {
      "text/plain": [
       "0    False\n",
       "1     True\n",
       "2     True\n",
       "3     True\n",
       "4    False\n",
       "5     True\n",
       "6    False\n",
       "dtype: bool"
      ]
     },
     "execution_count": 20,
     "metadata": {},
     "output_type": "execute_result"
    }
   ],
   "source": [
    "series1 = pd.Series([\"a\", \"b\", \"c\", \"b\", \"a\", \"c\", \"x\"])\n",
    "series1.isin([\"b\", \"c\"]) # Whether elements in Series are contained in `values`."
   ]
  },
  {
   "cell_type": "code",
   "execution_count": 21,
   "id": "4da97359",
   "metadata": {},
   "outputs": [
    {
     "data": {
      "text/plain": [
       "a    2\n",
       "b    2\n",
       "c    2\n",
       "x    1\n",
       "Name: count, dtype: int64"
      ]
     },
     "execution_count": 21,
     "metadata": {},
     "output_type": "execute_result"
    }
   ],
   "source": [
    "series1.value_counts() # Return a Series containing counts of unique values."
   ]
  },
  {
   "cell_type": "markdown",
   "id": "cbc17b4d",
   "metadata": {},
   "source": [
    "### DataFrames\n",
    "Un data frame es una representación de los datos en formato de tabla en la que cada\n",
    "columna son vectores del mismo tamaño. Como cada columna es un vector, cada columna puede\n",
    "contener datos de un único tipo. Se pueden pensar como variables. Cada variable corresponde a una\n",
    "serie de Pandas, y todas las series de un dataframe están indexadas por los mismos ´ındices."
   ]
  },
  {
   "cell_type": "markdown",
   "id": "04227a70",
   "metadata": {},
   "source": [
    "Una forma de crear un data frame es utilizando un \"diccionario\". Todas las variables del\n",
    "diccionario deben ser vectores o listas de la misma longitud. "
   ]
  },
  {
   "cell_type": "code",
   "execution_count": 22,
   "id": "9e6a3497",
   "metadata": {},
   "outputs": [
    {
     "data": {
      "text/plain": [
       "{'nombres': ['Rodrigo', 'Sergio', 'Cristina', 'Diana'],\n",
       " 'altura': array([178, 172, 175, 168]),\n",
       " 'peso': array([81.2, 76.1, 68.5, 64. ])}"
      ]
     },
     "metadata": {},
     "output_type": "display_data"
    }
   ],
   "source": [
    "data = {\"nombres\": [\"Rodrigo\", \"Sergio\", \"Cristina\", \"Diana\"], \"altura\": np.array([178, 172, 175, 168]), \"peso\": np.array\n",
    "([81.2, 76.1, 68.5, 64.0])}\n",
    "display(data)"
   ]
  },
  {
   "cell_type": "code",
   "execution_count": 23,
   "id": "0cae9655",
   "metadata": {},
   "outputs": [
    {
     "data": {
      "text/plain": [
       "dict"
      ]
     },
     "execution_count": 23,
     "metadata": {},
     "output_type": "execute_result"
    }
   ],
   "source": [
    "type(data)"
   ]
  },
  {
   "cell_type": "code",
   "execution_count": 24,
   "id": "6ccf8fa4",
   "metadata": {},
   "outputs": [
    {
     "data": {
      "text/plain": [
       "array([178, 172, 175, 168])"
      ]
     },
     "execution_count": 24,
     "metadata": {},
     "output_type": "execute_result"
    }
   ],
   "source": [
    "data[\"altura\"]"
   ]
  },
  {
   "cell_type": "code",
   "execution_count": 25,
   "id": "1f36b0f3",
   "metadata": {},
   "outputs": [
    {
     "data": {
      "text/html": [
       "<div>\n",
       "<style scoped>\n",
       "    .dataframe tbody tr th:only-of-type {\n",
       "        vertical-align: middle;\n",
       "    }\n",
       "\n",
       "    .dataframe tbody tr th {\n",
       "        vertical-align: top;\n",
       "    }\n",
       "\n",
       "    .dataframe thead th {\n",
       "        text-align: right;\n",
       "    }\n",
       "</style>\n",
       "<table border=\"1\" class=\"dataframe\">\n",
       "  <thead>\n",
       "    <tr style=\"text-align: right;\">\n",
       "      <th></th>\n",
       "      <th>nombres</th>\n",
       "      <th>altura</th>\n",
       "      <th>peso</th>\n",
       "    </tr>\n",
       "  </thead>\n",
       "  <tbody>\n",
       "    <tr>\n",
       "      <th>0</th>\n",
       "      <td>Rodrigo</td>\n",
       "      <td>178</td>\n",
       "      <td>81.2</td>\n",
       "    </tr>\n",
       "    <tr>\n",
       "      <th>1</th>\n",
       "      <td>Sergio</td>\n",
       "      <td>172</td>\n",
       "      <td>76.1</td>\n",
       "    </tr>\n",
       "    <tr>\n",
       "      <th>2</th>\n",
       "      <td>Cristina</td>\n",
       "      <td>175</td>\n",
       "      <td>68.5</td>\n",
       "    </tr>\n",
       "    <tr>\n",
       "      <th>3</th>\n",
       "      <td>Diana</td>\n",
       "      <td>168</td>\n",
       "      <td>64.0</td>\n",
       "    </tr>\n",
       "  </tbody>\n",
       "</table>\n",
       "</div>"
      ],
      "text/plain": [
       "    nombres  altura  peso\n",
       "0   Rodrigo     178  81.2\n",
       "1    Sergio     172  76.1\n",
       "2  Cristina     175  68.5\n",
       "3     Diana     168  64.0"
      ]
     },
     "metadata": {},
     "output_type": "display_data"
    }
   ],
   "source": [
    "# Creamos un data frame con esos datos, usando los nombres como etiquetas\n",
    "pacientes = pd.DataFrame(data)\n",
    "display(pacientes)"
   ]
  },
  {
   "cell_type": "code",
   "execution_count": 26,
   "id": "f6166381",
   "metadata": {},
   "outputs": [
    {
     "data": {
      "text/html": [
       "<div>\n",
       "<style scoped>\n",
       "    .dataframe tbody tr th:only-of-type {\n",
       "        vertical-align: middle;\n",
       "    }\n",
       "\n",
       "    .dataframe tbody tr th {\n",
       "        vertical-align: top;\n",
       "    }\n",
       "\n",
       "    .dataframe thead th {\n",
       "        text-align: right;\n",
       "    }\n",
       "</style>\n",
       "<table border=\"1\" class=\"dataframe\">\n",
       "  <thead>\n",
       "    <tr style=\"text-align: right;\">\n",
       "      <th></th>\n",
       "      <th>altura</th>\n",
       "      <th>peso</th>\n",
       "    </tr>\n",
       "    <tr>\n",
       "      <th>nombres</th>\n",
       "      <th></th>\n",
       "      <th></th>\n",
       "    </tr>\n",
       "  </thead>\n",
       "  <tbody>\n",
       "    <tr>\n",
       "      <th>Rodrigo</th>\n",
       "      <td>178</td>\n",
       "      <td>81.2</td>\n",
       "    </tr>\n",
       "    <tr>\n",
       "      <th>Sergio</th>\n",
       "      <td>172</td>\n",
       "      <td>76.1</td>\n",
       "    </tr>\n",
       "    <tr>\n",
       "      <th>Cristina</th>\n",
       "      <td>175</td>\n",
       "      <td>68.5</td>\n",
       "    </tr>\n",
       "    <tr>\n",
       "      <th>Diana</th>\n",
       "      <td>168</td>\n",
       "      <td>64.0</td>\n",
       "    </tr>\n",
       "  </tbody>\n",
       "</table>\n",
       "</div>"
      ],
      "text/plain": [
       "          altura  peso\n",
       "nombres               \n",
       "Rodrigo      178  81.2\n",
       "Sergio       172  76.1\n",
       "Cristina     175  68.5\n",
       "Diana        168  64.0"
      ]
     },
     "metadata": {},
     "output_type": "display_data"
    }
   ],
   "source": [
    "# En este ejemplo podemos usar los nombres como índices\n",
    "pacientes = pd.DataFrame(data).set_index(\"nombres\")\n",
    "display(pacientes)"
   ]
  },
  {
   "cell_type": "code",
   "execution_count": 30,
   "id": "91a6aa04",
   "metadata": {},
   "outputs": [
    {
     "data": {
      "text/plain": [
       "nombres\n",
       "Rodrigo     178\n",
       "Sergio      172\n",
       "Cristina    175\n",
       "Diana       168\n",
       "Name: altura, dtype: int64"
      ]
     },
     "execution_count": 30,
     "metadata": {},
     "output_type": "execute_result"
    }
   ],
   "source": [
    "# Podemos acceder a las columnas de dos formas distintas\n",
    "pacientes[\"altura\"]"
   ]
  },
  {
   "cell_type": "code",
   "execution_count": 31,
   "id": "679e4db4",
   "metadata": {},
   "outputs": [
    {
     "data": {
      "text/plain": [
       "nombres\n",
       "Rodrigo     178\n",
       "Sergio      172\n",
       "Cristina    175\n",
       "Diana       168\n",
       "Name: altura, dtype: int64"
      ]
     },
     "execution_count": 31,
     "metadata": {},
     "output_type": "execute_result"
    }
   ],
   "source": [
    "pacientes.altura"
   ]
  },
  {
   "cell_type": "code",
   "execution_count": 32,
   "id": "47d5a69d",
   "metadata": {},
   "outputs": [
    {
     "data": {
      "text/plain": [
       "pandas.core.series.Series"
      ]
     },
     "execution_count": 32,
     "metadata": {},
     "output_type": "execute_result"
    }
   ],
   "source": [
    "type(alturas)"
   ]
  },
  {
   "cell_type": "markdown",
   "id": "c24fc720",
   "metadata": {},
   "source": [
    "A diferencia de las matrices en Numpy, un DataFrame de Pandas es un conjunto de columnas, no de filas. \n",
    "Si queremos saber la altura de Rodrigo, pensar cuál de los dos comandos será correcto antes de ejecutarlos."
   ]
  },
  {
   "cell_type": "code",
   "execution_count": 36,
   "id": "e55afe04",
   "metadata": {},
   "outputs": [
    {
     "data": {
      "text/plain": [
       "np.int64(178)"
      ]
     },
     "execution_count": 36,
     "metadata": {},
     "output_type": "execute_result"
    }
   ],
   "source": [
    "pacientes.altura.Rodrigo"
   ]
  },
  {
   "cell_type": "markdown",
   "id": "7be3603c",
   "metadata": {},
   "source": [
    "Para acceder a una fila de un dataframe, podemos usar los métodos `loc[]` y `iloc[]`. \n",
    "\n",
    "¿Cómo se usan? ¿Cuál es la diferencia entre los dos comandos?"
   ]
  },
  {
   "cell_type": "code",
   "execution_count": 45,
   "id": "1d878c42",
   "metadata": {},
   "outputs": [
    {
     "data": {
      "text/plain": [
       "altura    178.0\n",
       "peso       81.2\n",
       "Name: Rodrigo, dtype: float64"
      ]
     },
     "execution_count": 45,
     "metadata": {},
     "output_type": "execute_result"
    }
   ],
   "source": [
    "pacientes.loc[\"Rodrigo\"] # acceso via indice "
   ]
  },
  {
   "cell_type": "code",
   "execution_count": 44,
   "id": "4352ea50-6ccd-42f8-8f40-358a9237c385",
   "metadata": {},
   "outputs": [
    {
     "data": {
      "text/plain": [
       "altura    178.0\n",
       "peso       81.2\n",
       "Name: Rodrigo, dtype: float64"
      ]
     },
     "execution_count": 44,
     "metadata": {},
     "output_type": "execute_result"
    }
   ],
   "source": [
    "pacientes.iloc[0] # acceso via indice numerico"
   ]
  },
  {
   "cell_type": "markdown",
   "id": "f6367ca2",
   "metadata": {},
   "source": [
    "## Gapminder"
   ]
  },
  {
   "cell_type": "markdown",
   "id": "bfad5118",
   "metadata": {},
   "source": [
    "A modo de ejemplo, vamos a explorar el dataset Gapminder que contiene datos poblacionales y de desarrollo humano de distintos países a lo largo del tiempo.\n",
    "\n",
    "Si gapminder no está instalado, ejecutrar el siguiente comando para instalarlo"
   ]
  },
  {
   "cell_type": "code",
   "execution_count": null,
   "id": "c84a9d98",
   "metadata": {
    "ExecuteTime": {
     "end_time": "2024-03-19T15:23:44.697479194Z",
     "start_time": "2024-03-19T15:23:43.774388836Z"
    }
   },
   "outputs": [],
   "source": [
    "#pip install gapminder"
   ]
  },
  {
   "cell_type": "code",
   "execution_count": null,
   "id": "83847fe9",
   "metadata": {
    "ExecuteTime": {
     "end_time": "2024-03-19T15:23:44.698765707Z",
     "start_time": "2024-03-19T15:23:43.859332610Z"
    }
   },
   "outputs": [],
   "source": [
    "from gapminder import gapminder\n",
    "display(gapminder)"
   ]
  },
  {
   "cell_type": "code",
   "execution_count": null,
   "id": "a03d36aa",
   "metadata": {
    "ExecuteTime": {
     "end_time": "2024-03-19T15:23:44.700055833Z",
     "start_time": "2024-03-19T15:23:44.054413327Z"
    }
   },
   "outputs": [],
   "source": [
    "gapminder.head()"
   ]
  },
  {
   "cell_type": "markdown",
   "id": "6a6cfc28",
   "metadata": {},
   "source": [
    "Podemos ver información básica del DataFrame con la función info"
   ]
  },
  {
   "cell_type": "code",
   "execution_count": null,
   "id": "9dfe454f",
   "metadata": {},
   "outputs": [],
   "source": [
    "gapminder.info()"
   ]
  },
  {
   "cell_type": "code",
   "execution_count": null,
   "id": "5e513d4c",
   "metadata": {
    "ExecuteTime": {
     "end_time": "2024-03-19T15:23:44.701369278Z",
     "start_time": "2024-03-19T15:23:44.157026762Z"
    }
   },
   "outputs": [],
   "source": [
    "# Vemos todos los países en la base\n",
    "gapminder[\"country\"].unique()"
   ]
  },
  {
   "cell_type": "code",
   "execution_count": null,
   "id": "a8bbdc27",
   "metadata": {
    "ExecuteTime": {
     "end_time": "2024-03-19T15:23:44.846530051Z",
     "start_time": "2024-03-19T15:23:44.244913486Z"
    }
   },
   "outputs": [],
   "source": [
    "# Cuántos países son?\n",
    "gapminder[\"country\"].nunique()"
   ]
  },
  {
   "cell_type": "code",
   "execution_count": null,
   "id": "f9d5f8c3",
   "metadata": {
    "ExecuteTime": {
     "end_time": "2024-03-19T15:23:44.847515587Z",
     "start_time": "2024-03-19T15:23:44.367442673Z"
    }
   },
   "outputs": [],
   "source": [
    "# Si queremos ver cuántos países hay en cada continente...\n",
    "# podemos agregupar por continente y ver el tamaño de cada grupo\n",
    "gapminder.groupby(\"continent\").size()"
   ]
  },
  {
   "cell_type": "code",
   "execution_count": null,
   "id": "407e6870",
   "metadata": {
    "ExecuteTime": {
     "end_time": "2024-03-19T15:23:44.849159811Z",
     "start_time": "2024-03-19T15:23:44.427622728Z"
    }
   },
   "outputs": [],
   "source": [
    "# Pero cada país aparece varias veces, con datos de distintos años.\n",
    "# Para contar sin repeticion usamos nuevamente nunique\n",
    "gapminder.groupby(\"continent\")[\"country\"].nunique()"
   ]
  },
  {
   "cell_type": "code",
   "execution_count": null,
   "id": "f4f1d9ed",
   "metadata": {
    "ExecuteTime": {
     "end_time": "2024-03-19T15:23:44.931473372Z",
     "start_time": "2024-03-19T15:23:44.518316808Z"
    }
   },
   "outputs": [],
   "source": [
    "# Si queremos calcular porcentajes, dividimos por la cantidad total de paises\n",
    "totalPaises = gapminder[\"country\"].nunique()\n",
    "gapminder.groupby(\"continent\")[\"country\"].nunique() / totalPaises"
   ]
  },
  {
   "cell_type": "code",
   "execution_count": null,
   "id": "7bdb4dbf",
   "metadata": {
    "ExecuteTime": {
     "end_time": "2024-03-19T15:23:44.961927050Z",
     "start_time": "2024-03-19T15:23:44.606595008Z"
    }
   },
   "outputs": [],
   "source": [
    "# O podemos usar el comando value_counts y pasarle un parámetro para que nos de los valores normalizados.\n",
    "# (la normalización lleva la suma total a 1)\n",
    "gapminder[[\"continent\", \"country\"]].drop_duplicates().continent.value_counts(normalize=True)"
   ]
  },
  {
   "cell_type": "code",
   "execution_count": null,
   "id": "7c14dc50",
   "metadata": {
    "ExecuteTime": {
     "end_time": "2024-03-19T15:23:44.963411631Z",
     "start_time": "2024-03-19T15:23:44.721009098Z"
    }
   },
   "outputs": [],
   "source": [
    "# Vemos todos los años disponibles\n",
    "gapminder[\"year\"].unique()"
   ]
  },
  {
   "cell_type": "code",
   "execution_count": null,
   "id": "9bac2710",
   "metadata": {
    "ExecuteTime": {
     "end_time": "2024-03-19T15:23:45.116261106Z",
     "start_time": "2024-03-19T15:23:44.805715110Z"
    }
   },
   "outputs": [],
   "source": [
    "# Tenemos datos de todos los países todos los años?\n",
    "# Agrupamos los datos por año y calculamos el tamaño de cada bloque\n",
    "gapminder.groupby(\"year\").size()"
   ]
  },
  {
   "cell_type": "code",
   "execution_count": null,
   "id": "df42c26b",
   "metadata": {
    "ExecuteTime": {
     "end_time": "2024-03-19T15:23:45.381182124Z",
     "start_time": "2024-03-19T15:23:44.896707526Z"
    }
   },
   "outputs": [],
   "source": [
    "# O podemos usar directamente el comando value_counts\n",
    "gapminder.year.value_counts()"
   ]
  },
  {
   "cell_type": "code",
   "execution_count": null,
   "id": "a16fa3a6",
   "metadata": {
    "ExecuteTime": {
     "end_time": "2024-03-19T15:23:45.453839268Z",
     "start_time": "2024-03-19T15:23:45.027009268Z"
    }
   },
   "outputs": [],
   "source": [
    "# También podemos por ejemplo calcular la poblacion total por año\n",
    "gapminder.groupby(\"year\")[\"pop\"].sum()"
   ]
  },
  {
   "cell_type": "markdown",
   "id": "fb4ff9ea",
   "metadata": {},
   "source": [
    "### Gráficos simples de funciones o puntos en el plano XY.\n",
    "Vamos a graficar la población total mundial en función del año."
   ]
  },
  {
   "cell_type": "code",
   "execution_count": null,
   "id": "e4f50488",
   "metadata": {
    "ExecuteTime": {
     "end_time": "2024-03-19T15:23:45.454437903Z",
     "start_time": "2024-03-19T15:23:45.132156941Z"
    }
   },
   "outputs": [],
   "source": [
    "pobAnual = gapminder.groupby(\"year\")[\"pop\"].sum()\n",
    "type(pobAnual)"
   ]
  },
  {
   "cell_type": "code",
   "execution_count": null,
   "id": "6e9c676d",
   "metadata": {},
   "outputs": [],
   "source": [
    "pobAnual"
   ]
  },
  {
   "cell_type": "code",
   "execution_count": null,
   "id": "63835705",
   "metadata": {},
   "outputs": [],
   "source": [
    "pobAnual.index"
   ]
  },
  {
   "cell_type": "code",
   "execution_count": null,
   "id": "ec970836",
   "metadata": {
    "ExecuteTime": {
     "end_time": "2024-03-19T15:23:46.001868982Z",
     "start_time": "2024-03-19T15:23:45.387304245Z"
    }
   },
   "outputs": [],
   "source": [
    "# Opción 1\n",
    "# Usamos la función plot de series de pandas\n",
    "pobAnual.plot()"
   ]
  },
  {
   "cell_type": "code",
   "execution_count": null,
   "id": "4b0013bc",
   "metadata": {},
   "outputs": [],
   "source": [
    "# O podemos graficar solo puntos\n",
    "pobAnual.plot(style = \".\")"
   ]
  },
  {
   "cell_type": "code",
   "execution_count": null,
   "id": "c9bdcbb6",
   "metadata": {
    "ExecuteTime": {
     "end_time": "2024-03-19T15:23:46.388427263Z",
     "start_time": "2024-03-19T15:23:45.978200471Z"
    }
   },
   "outputs": [],
   "source": [
    "# Opcion 3\n",
    "# Asignamos los valores a variables (arrays de numpy) y graficamos las variables\n",
    "x = pobAnual.index\n",
    "y = pobAnual.values\n",
    "plt.plot(x,y)"
   ]
  },
  {
   "cell_type": "code",
   "execution_count": null,
   "id": "5d77efe3",
   "metadata": {},
   "outputs": [],
   "source": [
    "# Opcion 4\n",
    "# Matplotlib tiene una función scatter para graficar puntos\n",
    "plt.scatter(x,y)"
   ]
  },
  {
   "cell_type": "code",
   "execution_count": null,
   "id": "43344ff4",
   "metadata": {
    "ExecuteTime": {
     "end_time": "2024-03-19T15:23:46.415752460Z",
     "start_time": "2024-03-19T15:23:46.393011114Z"
    }
   },
   "outputs": [],
   "source": [
    "# Vamos a analizar los datos de 2007\n",
    "datos2007 = gapminder[gapminder[\"year\"]==2007]"
   ]
  },
  {
   "cell_type": "code",
   "execution_count": null,
   "id": "5b22f607",
   "metadata": {
    "ExecuteTime": {
     "end_time": "2024-03-19T15:23:46.964079052Z",
     "start_time": "2024-03-19T15:23:46.401206852Z"
    }
   },
   "outputs": [],
   "source": [
    "# Queremos ver si hay relación entre el producto bruto y la expectativa de vida\n",
    "plt.plot(datos2007.gdpPercap, datos2007.lifeExp)"
   ]
  },
  {
   "cell_type": "code",
   "execution_count": null,
   "id": "0c8c918b",
   "metadata": {
    "ExecuteTime": {
     "end_time": "2024-03-19T15:23:47.227632707Z",
     "start_time": "2024-03-19T15:23:46.861070486Z"
    }
   },
   "outputs": [],
   "source": [
    "# Ay no, eso no, hacemos un \"scatter plot\"\n",
    "plt.scatter(datos2007.gdpPercap, datos2007.lifeExp)\n",
    "plt.show()"
   ]
  },
  {
   "cell_type": "code",
   "execution_count": null,
   "id": "69dcd17d",
   "metadata": {
    "ExecuteTime": {
     "end_time": "2024-03-19T15:23:47.954400781Z",
     "start_time": "2024-03-19T15:23:47.193985736Z"
    }
   },
   "outputs": [],
   "source": [
    "# Se ve mejor la correlación si usamos escala logaritmica en el eje X\n",
    "plt.scatter(datos2007.gdpPercap, datos2007.lifeExp)\n",
    "plt.xscale('log')"
   ]
  },
  {
   "cell_type": "markdown",
   "id": "3710e256",
   "metadata": {},
   "source": [
    "Vamos a mejorar un poco el gráfico"
   ]
  },
  {
   "cell_type": "code",
   "execution_count": null,
   "id": "8a40b16c",
   "metadata": {
    "ExecuteTime": {
     "end_time": "2024-03-19T15:23:48.701594467Z",
     "start_time": "2024-03-19T15:23:47.944668297Z"
    }
   },
   "outputs": [],
   "source": [
    "# Agregamos etiquetas al gráfico y a los ejes\n",
    "plt.scatter(datos2007.gdpPercap, datos2007.lifeExp)\n",
    "plt.xscale('log')\n",
    "plt.xlabel('GDP per Capita [en USD]')\n",
    "plt.ylabel('Expectativa de vida [en años]')\n",
    "plt.title('Desarrollo Mundial en 2007')\n",
    "plt.show()"
   ]
  },
  {
   "cell_type": "markdown",
   "id": "15897d84",
   "metadata": {},
   "source": [
    "Reemplacemos las marcas en el eje $x$ 10³, 10⁴, 10⁵ con 1k, 10k y 100k. "
   ]
  },
  {
   "cell_type": "code",
   "execution_count": null,
   "id": "ad6d2ae7",
   "metadata": {
    "ExecuteTime": {
     "end_time": "2024-03-19T15:23:49.529819345Z",
     "start_time": "2024-03-19T15:23:48.700011287Z"
    }
   },
   "outputs": [],
   "source": [
    "plt.scatter(datos2007.gdpPercap, datos2007.lifeExp)\n",
    "plt.xscale('log')\n",
    "plt.xlabel('GDP per Capita [en USD]')\n",
    "plt.ylabel('Expectativa de vida [en años]')\n",
    "plt.title('Desarrollo Mundial en 2007')\n",
    "plt.xticks([1000, 10000, 100000],['1k', '10k', '100k'])\n",
    "plt.show()"
   ]
  },
  {
   "cell_type": "markdown",
   "id": "addf3374",
   "metadata": {},
   "source": [
    "Seaborn es una biblioteca para visualización de datos en Python, basada en Matplotlib que agrega muchas funcioanlidades."
   ]
  },
  {
   "cell_type": "code",
   "execution_count": null,
   "id": "a879f4fe",
   "metadata": {
    "ExecuteTime": {
     "end_time": "2024-03-19T15:23:50.528163241Z",
     "start_time": "2024-03-19T15:23:49.498944735Z"
    }
   },
   "outputs": [],
   "source": [
    "# Usamos scatterplot de seaborn para poder personalizar mejor el grafico\n",
    "\n",
    "# Almacenamos la población como un array de numpy: np_pop\n",
    "np_pop = np.array(datos2007[\"pop\"])\n",
    "\n",
    "sns.scatterplot(x = datos2007['gdpPercap'], y = datos2007['lifeExp'], hue = datos2007['continent'], size = np_pop*2, sizes=(20,400))\n",
    "plt.grid(True)\n",
    "plt.xscale('log')\n",
    "plt.xlabel('GDP per Capita [en USD]')\n",
    "plt.ylabel('Expectativa de vida [en años]')\n",
    "plt.title('Desarrollo Mundial en 2007')\n",
    "plt.xticks([1000, 10000, 100000],['1k', '10k', '100k'])\n",
    "plt.show()"
   ]
  },
  {
   "cell_type": "code",
   "execution_count": null,
   "id": "5bcaef51",
   "metadata": {
    "ExecuteTime": {
     "end_time": "2024-03-19T15:23:51.443282463Z",
     "start_time": "2024-03-19T15:23:50.525686974Z"
    }
   },
   "outputs": [],
   "source": [
    "# Aumenta el tamaño del gráfico\n",
    "plt.figure(dpi=150)\n",
    "\n",
    "# Alcenamos la población como un array de numpy: np_pop\n",
    "np_pop = np.array(datos2007[\"pop\"])\n",
    "np_pop2 = np_pop*2\n",
    "# Usamos scatterplot de seaborn para poder personalizar mejor el grafico\n",
    "sns.scatterplot(x = datos2007['gdpPercap'], y = datos2007['lifeExp'], hue = datos2007['continent'], size = np_pop2, sizes=(20,400))\n",
    "plt.grid(True)\n",
    "plt.xscale('log')\n",
    "plt.xlabel('GDP per Capita [en USD]')\n",
    "plt.ylabel('Expectativa de vida [en años]')\n",
    "plt.title('Desarrollo Mundial en 2007')\n",
    "plt.xticks([1000, 10000, 100000],['1k', '10k', '100k'])\n",
    "plt.show()"
   ]
  },
  {
   "cell_type": "markdown",
   "id": "6723d201",
   "metadata": {},
   "source": [
    "## Archivos de datos"
   ]
  },
  {
   "cell_type": "markdown",
   "id": "1cc69321",
   "metadata": {},
   "source": [
    "La biblioteca Pandas nos permite trabajar fácilmente con archivos de datos.\n",
    "1. Leer el archivo casos_coronavirus.csv .\n",
    "2. Graficar la curva de casos por día.\n",
    "3. Graficar la curva de casos acumulados.\n",
    "4. Definir log_cum_casos como el logaritmo de la cantidad de casos acumulados y graficar en función de la cantidad de días transcurridos.\n",
    "\n",
    "Utilicen o modifiquen el siguiente código."
   ]
  },
  {
   "cell_type": "code",
   "execution_count": null,
   "id": "46b47cdc",
   "metadata": {
    "ExecuteTime": {
     "end_time": "2024-03-19T15:23:45.623370291Z",
     "start_time": "2024-03-19T15:23:45.247789793Z"
    }
   },
   "outputs": [],
   "source": [
    "import pandas as pd\n",
    "import matplotlib.pyplot as plt\n",
    "df = pd.read_csv(\"../Datos/casos_coronavirus.csv\") # DataFrame\n",
    "df.head()  # Primeras filas del DataFrame"
   ]
  },
  {
   "cell_type": "code",
   "execution_count": null,
   "id": "4cf62b6b",
   "metadata": {
    "ExecuteTime": {
     "end_time": "2024-03-19T15:23:45.623370291Z",
     "start_time": "2024-03-19T15:23:45.247789793Z"
    }
   },
   "outputs": [],
   "source": [
    "# Información básica del DataFrame\n",
    "df.info()"
   ]
  },
  {
   "cell_type": "code",
   "execution_count": null,
   "id": "d5636662",
   "metadata": {},
   "outputs": [],
   "source": [
    "df[\"confirmados_Nuevos\"].plot()"
   ]
  },
  {
   "cell_type": "code",
   "execution_count": null,
   "id": "4ff4bfc8",
   "metadata": {},
   "outputs": [],
   "source": [
    "casos_acumulados = df[\"confirmados_Nuevos\"].cumsum()"
   ]
  },
  {
   "cell_type": "markdown",
   "id": "aeea33d8",
   "metadata": {},
   "source": [
    "## Estadística descriptiva"
   ]
  },
  {
   "cell_type": "markdown",
   "id": "b7276cd9",
   "metadata": {},
   "source": [
    "Mirando los datos de 2007, ¿cuál es el país con mayor expectativa de vida? ¿Cuál es el país con menor expectativa de vida?"
   ]
  },
  {
   "cell_type": "code",
   "execution_count": null,
   "id": "03c4199a",
   "metadata": {},
   "outputs": [],
   "source": []
  },
  {
   "cell_type": "markdown",
   "id": "7f79b541",
   "metadata": {},
   "source": [
    "### Medidas de tendencia central"
   ]
  },
  {
   "cell_type": "markdown",
   "id": "078887ef",
   "metadata": {},
   "source": [
    "Para el año 2007, calcular el valor medio y la mediana de las variables gdpPercap y lifeExp entre todos los países.\n",
    "Son similares o distintas? A qué lo atribuyen? Consideran que alguna resume mejor la realidad que la otra?\n"
   ]
  },
  {
   "cell_type": "code",
   "execution_count": null,
   "id": "47f12e84",
   "metadata": {},
   "outputs": [],
   "source": [
    "datos2007[\"lifeExp\"].median()"
   ]
  },
  {
   "cell_type": "code",
   "execution_count": null,
   "id": "d3b23e33",
   "metadata": {},
   "outputs": [],
   "source": [
    "datos2007[\"lifeExp\"].mean()"
   ]
  },
  {
   "cell_type": "code",
   "execution_count": null,
   "id": "2e0dff29",
   "metadata": {},
   "outputs": [],
   "source": [
    "datos2007[\"gdpPercap\"].median()"
   ]
  },
  {
   "cell_type": "code",
   "execution_count": null,
   "id": "b2da3d84",
   "metadata": {},
   "outputs": [],
   "source": [
    "datos2007[\"gdpPercap\"].mean()"
   ]
  },
  {
   "cell_type": "markdown",
   "id": "cb3f6e6e",
   "metadata": {},
   "source": [
    "Es lo mismo el promedio de entre todos los países de la expectativa de vida y el promedio entre todas las personas entre todas las personas?\n",
    "¿Cómo podemos calcular el promedio entre todas las personas?\n"
   ]
  },
  {
   "cell_type": "code",
   "execution_count": null,
   "id": "4d86b389",
   "metadata": {},
   "outputs": [],
   "source": []
  },
  {
   "cell_type": "markdown",
   "id": "b61817d1",
   "metadata": {},
   "source": [
    "### Medidas de dispersión"
   ]
  },
  {
   "cell_type": "markdown",
   "id": "772bc570",
   "metadata": {},
   "source": [
    "Para el año 2007, calcular la varianza y el desvío estándar de las variables gdpPercap y lifeExp entre todos los países."
   ]
  },
  {
   "cell_type": "code",
   "execution_count": null,
   "id": "9e85998c",
   "metadata": {},
   "outputs": [],
   "source": [
    "datos2007[\"lifeExp\"].var()"
   ]
  },
  {
   "cell_type": "code",
   "execution_count": null,
   "id": "dda2dba5",
   "metadata": {},
   "outputs": [],
   "source": [
    "datos2007[\"lifeExp\"].std()"
   ]
  },
  {
   "cell_type": "code",
   "execution_count": null,
   "id": "1e2bc47a",
   "metadata": {},
   "outputs": [],
   "source": []
  }
 ],
 "metadata": {
  "kernelspec": {
   "display_name": "Python 3 (ipykernel)",
   "language": "python",
   "name": "python3"
  },
  "language_info": {
   "codemirror_mode": {
    "name": "ipython",
    "version": 3
   },
   "file_extension": ".py",
   "mimetype": "text/x-python",
   "name": "python",
   "nbconvert_exporter": "python",
   "pygments_lexer": "ipython3",
   "version": "3.13.1"
  }
 },
 "nbformat": 4,
 "nbformat_minor": 5
}

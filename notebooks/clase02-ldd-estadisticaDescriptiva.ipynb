{
 "cells": [
  {
   "cell_type": "code",
   "execution_count": null,
   "id": "ff23f870",
   "metadata": {
    "ExecuteTime": {
     "end_time": "2024-03-19T15:23:44.512783351Z",
     "start_time": "2024-03-19T15:23:43.726402652Z"
    }
   },
   "outputs": [],
   "source": [
    "import matplotlib.pyplot as plt\n",
    "import seaborn as sns\n",
    "import numpy as np\n",
    "import pandas as pd"
   ]
  },
  {
   "cell_type": "markdown",
   "id": "3dc89790",
   "metadata": {},
   "source": [
    "# Clase 2"
   ]
  },
  {
   "cell_type": "markdown",
   "id": "1879a14d",
   "metadata": {},
   "source": [
    "## Biblioteca Pandas"
   ]
  },
  {
   "cell_type": "markdown",
   "id": "a6f0cdec",
   "metadata": {},
   "source": [
    "Pandas es una biblioteca de Python muy usada para análisis y manipulación de datos. Provee principalmente dos tipos de clases para trabajar con datos:\n",
    "\n",
    "- **Series:** un vector unidimensional indexado, que contiene datos de cualquier tipo\n",
    "como números enteros, cadenas, objetos Python, etc.\n",
    "\n",
    "- **DataFrame:** una estructura de datos bidimensional que contiene datos como una matriz bidimensional o una tabla con filas y columnas.\n",
    "\n",
    "Bibliografía recomendada: Sección 5 de Python for Data Analysis, de Wes McKinney (creador de la biblioteca Pandas), disponible on-line en forma gratuita en la página\n",
    "https://wesmckinney.com/book/pandas-basics"
   ]
  },
  {
   "cell_type": "markdown",
   "id": "a096b84c",
   "metadata": {},
   "source": [
    "### Series\n",
    "\n",
    "Las series de Pandas son vectores similares a los arrays de NumPy, que podemos indexar usando etiquetas.\n",
    "\n",
    "Crear la siguiente Series, observar qué devuelve `values` e `index` e interpretar."
   ]
  },
  {
   "cell_type": "code",
   "execution_count": null,
   "id": "abaad6fd",
   "metadata": {},
   "outputs": [],
   "source": [
    "import pandas as pd\n",
    "enteros = pd.Series([7,4,-5,3])\n",
    "enteros"
   ]
  },
  {
   "cell_type": "code",
   "execution_count": null,
   "id": "7cddafa5",
   "metadata": {},
   "outputs": [],
   "source": [
    "enteros.values"
   ]
  },
  {
   "cell_type": "code",
   "execution_count": null,
   "id": "10735255",
   "metadata": {},
   "outputs": [],
   "source": [
    "enteros.index # Por default , los indices van de 0 a N-1."
   ]
  },
  {
   "cell_type": "markdown",
   "id": "b9d51bc9",
   "metadata": {},
   "source": [
    "Podemos asignar etiquetas (o índices) a cada valor de la serie."
   ]
  },
  {
   "cell_type": "code",
   "execution_count": null,
   "id": "65c527ed",
   "metadata": {},
   "outputs": [],
   "source": [
    "reales = pd.Series([np.pi,0,-2,1.41], index = [\"a\", \"b\", \"c\", \"d\"])\n",
    "display(reales)"
   ]
  },
  {
   "cell_type": "code",
   "execution_count": null,
   "id": "d71cdb49-0222-4811-bbf5-f073cf01bcc3",
   "metadata": {},
   "outputs": [],
   "source": [
    "display(reales.values)\n",
    "display(reales.index)"
   ]
  },
  {
   "cell_type": "markdown",
   "id": "85c0e97c",
   "metadata": {},
   "source": [
    "Para acceder a los elementos podemos usar las etiquetas."
   ]
  },
  {
   "cell_type": "code",
   "execution_count": null,
   "id": "e0c212e8",
   "metadata": {},
   "outputs": [],
   "source": [
    "print(reales[\"a\"])"
   ]
  },
  {
   "cell_type": "code",
   "execution_count": null,
   "id": "941a93ab-0715-4728-8602-577482b6570d",
   "metadata": {},
   "outputs": [],
   "source": [
    "# Acceder por su posición no está recomendado. \n",
    "reales[1]"
   ]
  },
  {
   "cell_type": "code",
   "execution_count": null,
   "id": "e0acfc51-3d36-42b6-9245-a1e9b155a2ca",
   "metadata": {},
   "outputs": [],
   "source": [
    "# Para acceder por su posición usamos iloc\n",
    "reales.iloc[1]"
   ]
  },
  {
   "cell_type": "code",
   "execution_count": null,
   "id": "4a102d31-f818-43da-8ae6-b58961077c36",
   "metadata": {},
   "outputs": [],
   "source": [
    "# Podemos usar también rangos\n",
    "reales.iloc[1:3]"
   ]
  },
  {
   "cell_type": "code",
   "execution_count": null,
   "id": "705c6097-7cb6-4d5a-910a-e8bcb6598f87",
   "metadata": {},
   "outputs": [],
   "source": [
    "# Para acceder por etiquetas podemos usar también loc\n",
    "reales.loc[\"a\"]"
   ]
  },
  {
   "cell_type": "code",
   "execution_count": null,
   "id": "c29c0a67-0133-46da-b802-e9820be2f61f",
   "metadata": {},
   "outputs": [],
   "source": [
    "# Podemos definir labels numericos\n",
    "temperaturas = pd.Series([15, 17, 18.2, 25], index = range(10,14))\n",
    "print(temperaturas)"
   ]
  },
  {
   "cell_type": "code",
   "execution_count": null,
   "id": "837206b7-d5cd-4a35-9adf-0211b5fd18ec",
   "metadata": {},
   "outputs": [],
   "source": [
    "# Que esperamos de los siguientes comandos?\n",
    "print(temperaturas.iloc[1:3])\n",
    "print(temperaturas.loc[10])"
   ]
  },
  {
   "cell_type": "code",
   "execution_count": null,
   "id": "f01281fb-285c-4e5f-af56-4ea09db72909",
   "metadata": {},
   "outputs": [],
   "source": [
    "# Funcionará?\n",
    "temperaturas.iloc[10]"
   ]
  },
  {
   "cell_type": "code",
   "execution_count": null,
   "id": "dd2c5b0f",
   "metadata": {},
   "outputs": [],
   "source": [
    "# Podemos seleccionar elementos mediante una lista de etiquetas\n",
    "realesSub = reales[[\"a\",\"b\"]]\n",
    "print(realesSub)\n",
    "print(realesSub.index)"
   ]
  },
  {
   "cell_type": "markdown",
   "id": "14af2997",
   "metadata": {},
   "source": [
    "## Operaciones con series\n",
    "Las operaciones que pueden aplicarse a numpy arrays pueden aplicarse también a series de Pandas, conservando los índices."
   ]
  },
  {
   "cell_type": "code",
   "execution_count": null,
   "id": "64e18cf1",
   "metadata": {},
   "outputs": [],
   "source": [
    "np.exp(reales)"
   ]
  },
  {
   "cell_type": "code",
   "execution_count": null,
   "id": "444b8584",
   "metadata": {},
   "outputs": [],
   "source": [
    "reales * 3"
   ]
  },
  {
   "cell_type": "code",
   "execution_count": null,
   "id": "45b56cf1-bef0-4bfb-b4db-3d79114c984a",
   "metadata": {},
   "outputs": [],
   "source": [
    "reales > 1"
   ]
  },
  {
   "cell_type": "code",
   "execution_count": null,
   "id": "c2b83243-44f3-4439-be88-229c0441600d",
   "metadata": {},
   "outputs": [],
   "source": [
    "reales[reales > 1]"
   ]
  },
  {
   "cell_type": "markdown",
   "id": "6de9d88c",
   "metadata": {},
   "source": [
    "¿Qué esperamos que dé este código?"
   ]
  },
  {
   "cell_type": "code",
   "execution_count": null,
   "id": "1fafad51-1a69-45fc-9e5f-8e72d78ad966",
   "metadata": {},
   "outputs": [],
   "source": [
    "print(enteros)\n",
    "print(reales)"
   ]
  },
  {
   "cell_type": "code",
   "execution_count": null,
   "id": "fc8a4818",
   "metadata": {},
   "outputs": [],
   "source": [
    "enteros + reales"
   ]
  },
  {
   "cell_type": "markdown",
   "id": "a90ae7cd",
   "metadata": {},
   "source": [
    "NaN significa \"not a number\", se utiliza en series de Pandas para valores faltantes (missing values)."
   ]
  },
  {
   "cell_type": "code",
   "execution_count": null,
   "id": "daee631d",
   "metadata": {},
   "outputs": [],
   "source": [
    "# Y ahora?\n",
    "enteros2 = pd.Series([1,2,3,4], index = [\"d\", \"b\", \"y\", \"z\"])\n",
    "reales + enteros2"
   ]
  },
  {
   "cell_type": "markdown",
   "id": "414ed8da-a715-454f-b104-9394cbee446b",
   "metadata": {},
   "source": [
    "Vemos que solo se suman las filas con índices iguales."
   ]
  },
  {
   "cell_type": "markdown",
   "id": "8bec5f79",
   "metadata": {},
   "source": [
    "Las series de Pandas tienen varias funciones útiles que iremos viendo más adelante. A modo de ejemplo, interpretar que hacen las siguientes funciones."
   ]
  },
  {
   "cell_type": "code",
   "execution_count": null,
   "id": "d45e6325",
   "metadata": {},
   "outputs": [],
   "source": [
    "series1 = pd.Series([\"a\", \"b\", \"c\", \"b\", \"a\", \"c\", \"x\"])\n",
    "series1.isin([\"b\", \"c\"])"
   ]
  },
  {
   "cell_type": "code",
   "execution_count": null,
   "id": "9dc05593-dd5b-490b-a9e7-a51fdc53ba49",
   "metadata": {},
   "outputs": [],
   "source": [
    "# Pregunta: cómo me quedo solo con las filas con letas \"b\" o \"c\"?"
   ]
  },
  {
   "cell_type": "code",
   "execution_count": null,
   "id": "dbd68bd5",
   "metadata": {},
   "outputs": [],
   "source": [
    "series1.value_counts()"
   ]
  },
  {
   "cell_type": "markdown",
   "id": "3e5d7349",
   "metadata": {},
   "source": [
    "### DataFrames\n",
    "Un data frame es una representación de los datos en formato de tabla en la que cada\n",
    "columna son vectores del mismo tamaño. Como cada columna es un vector, cada columna puede\n",
    "contener datos de un único tipo. Se pueden pensar como variables. Cada variable corresponde a una\n",
    "serie de Pandas, y **todas las series de un dataframe están indexadas por los mismos índices**."
   ]
  },
  {
   "cell_type": "markdown",
   "id": "e720e3ed",
   "metadata": {},
   "source": [
    "Una forma de crear un data frame es utilizando un \"diccionario\". Todas las variables del\n",
    "diccionario deben ser vectores o listas de la misma longitud. "
   ]
  },
  {
   "cell_type": "code",
   "execution_count": null,
   "id": "b32aaaec",
   "metadata": {},
   "outputs": [],
   "source": [
    "data = {\"nombres\": [\"Rodrigo\", \"Sergio\", \"Cristina\", \"Diana\"], \"altura\": np.array([178, 172, 175, 168]), \"peso\": np.array\n",
    "([81.2, 76.1, 68.5, 64.0])}\n",
    "display(data)"
   ]
  },
  {
   "cell_type": "code",
   "execution_count": null,
   "id": "87858fec",
   "metadata": {},
   "outputs": [],
   "source": [
    "type(data)"
   ]
  },
  {
   "cell_type": "code",
   "execution_count": null,
   "id": "f4c6910a",
   "metadata": {},
   "outputs": [],
   "source": [
    "data[\"altura\"]"
   ]
  },
  {
   "cell_type": "code",
   "execution_count": null,
   "id": "1ab36b12",
   "metadata": {},
   "outputs": [],
   "source": [
    "# Creamos un data frame con esos datos. Cuáles son los índices?\n",
    "pacientes = pd.DataFrame(data)\n",
    "display(pacientes)"
   ]
  },
  {
   "cell_type": "code",
   "execution_count": null,
   "id": "2d8b861d",
   "metadata": {},
   "outputs": [],
   "source": [
    "# En este ejemplo podemos usar los nombres como índices\n",
    "pacientes = pd.DataFrame(data).set_index(\"nombres\")\n",
    "display(pacientes)"
   ]
  },
  {
   "cell_type": "code",
   "execution_count": null,
   "id": "740fa975",
   "metadata": {},
   "outputs": [],
   "source": [
    "# Podemos acceder a las columnas de dos formas distintas\n",
    "alturas = pacientes[\"altura\"]\n",
    "alturas"
   ]
  },
  {
   "cell_type": "code",
   "execution_count": null,
   "id": "c131cd60",
   "metadata": {},
   "outputs": [],
   "source": [
    "pacientes.altura"
   ]
  },
  {
   "cell_type": "code",
   "execution_count": null,
   "id": "07229956",
   "metadata": {},
   "outputs": [],
   "source": [
    "type(alturas)"
   ]
  },
  {
   "cell_type": "markdown",
   "id": "cc969edd",
   "metadata": {},
   "source": [
    "A diferencia de las matrices en Numpy, un DataFrame de Pandas es un conjunto de columnas, no de filas. \n",
    "Si queremos saber la altura de Rodrigo, pensar cuál de los dos comandos será correcto antes de ejecutarlos."
   ]
  },
  {
   "cell_type": "code",
   "execution_count": null,
   "id": "fb55b9de",
   "metadata": {},
   "outputs": [],
   "source": [
    "pacientes[\"Rodrigo\"].altura\n",
    "#pacientes[\"altura\"].Rodrigo"
   ]
  },
  {
   "cell_type": "markdown",
   "id": "2e9a7a85",
   "metadata": {},
   "source": [
    "Para acceder a una fila de un dataframe, podemos usar los métodos `loc[]` y `iloc[]`. \n",
    "\n",
    "¿Cómo se usan? ¿Cuál es la diferencia entre los dos comandos? ¿Que tipo de dato nos devuelve?"
   ]
  },
  {
   "cell_type": "code",
   "execution_count": null,
   "id": "3be45700",
   "metadata": {},
   "outputs": [],
   "source": []
  },
  {
   "cell_type": "markdown",
   "id": "ac2cb666",
   "metadata": {},
   "source": [
    "## Gapminder"
   ]
  },
  {
   "cell_type": "markdown",
   "id": "70bcc43b",
   "metadata": {},
   "source": [
    "A modo de ejemplo, vamos a explorar el dataset Gapminder que contiene datos poblacionales y de desarrollo humano de distintos países a lo largo del tiempo.\n",
    "\n",
    "Si gapminder no está instalado, ejecutrar el siguiente comando para instalarlo"
   ]
  },
  {
   "cell_type": "code",
   "execution_count": null,
   "id": "a31dacdb",
   "metadata": {
    "ExecuteTime": {
     "end_time": "2024-03-19T15:23:44.697479194Z",
     "start_time": "2024-03-19T15:23:43.774388836Z"
    }
   },
   "outputs": [],
   "source": [
    "#pip install gapminder"
   ]
  },
  {
   "cell_type": "code",
   "execution_count": null,
   "id": "0298c5ab",
   "metadata": {
    "ExecuteTime": {
     "end_time": "2024-03-19T15:23:44.698765707Z",
     "start_time": "2024-03-19T15:23:43.859332610Z"
    }
   },
   "outputs": [],
   "source": [
    "from gapminder import gapminder\n",
    "display(gapminder)"
   ]
  },
  {
   "cell_type": "code",
   "execution_count": null,
   "id": "7f6e717a",
   "metadata": {
    "ExecuteTime": {
     "end_time": "2024-03-19T15:23:44.700055833Z",
     "start_time": "2024-03-19T15:23:44.054413327Z"
    }
   },
   "outputs": [],
   "source": [
    "gapminder.head()"
   ]
  },
  {
   "cell_type": "markdown",
   "id": "e3f53c21",
   "metadata": {},
   "source": [
    "Podemos ver información básica del DataFrame con la función info"
   ]
  },
  {
   "cell_type": "code",
   "execution_count": null,
   "id": "1a8bdfa2",
   "metadata": {},
   "outputs": [],
   "source": [
    "gapminder.info()"
   ]
  },
  {
   "cell_type": "code",
   "execution_count": null,
   "id": "d165dcaa",
   "metadata": {
    "ExecuteTime": {
     "end_time": "2024-03-19T15:23:44.701369278Z",
     "start_time": "2024-03-19T15:23:44.157026762Z"
    }
   },
   "outputs": [],
   "source": [
    "# Vemos todos los países en la base\n",
    "gapminder[\"country\"].unique()"
   ]
  },
  {
   "cell_type": "code",
   "execution_count": null,
   "id": "6d74b59c",
   "metadata": {
    "ExecuteTime": {
     "end_time": "2024-03-19T15:23:44.846530051Z",
     "start_time": "2024-03-19T15:23:44.244913486Z"
    }
   },
   "outputs": [],
   "source": [
    "# Cuántos países son?\n",
    "gapminder[\"country\"].nunique()"
   ]
  },
  {
   "cell_type": "code",
   "execution_count": null,
   "id": "ab243c86",
   "metadata": {
    "ExecuteTime": {
     "end_time": "2024-03-19T15:23:44.847515587Z",
     "start_time": "2024-03-19T15:23:44.367442673Z"
    }
   },
   "outputs": [],
   "source": [
    "# Si queremos ver cuántos países hay en cada continente...\n",
    "# podemos agregupar por continente y ver el tamaño de cada grupo\n",
    "gapminder.groupby(\"continent\").size()"
   ]
  },
  {
   "cell_type": "code",
   "execution_count": null,
   "id": "e911b299",
   "metadata": {
    "ExecuteTime": {
     "end_time": "2024-03-19T15:23:44.849159811Z",
     "start_time": "2024-03-19T15:23:44.427622728Z"
    }
   },
   "outputs": [],
   "source": [
    "# Pero cada país aparece varias veces, con datos de distintos años.\n",
    "# Para contar sin repeticion usamos nuevamente nunique\n",
    "gapminder.groupby(\"continent\")[\"country\"].nunique()"
   ]
  },
  {
   "cell_type": "code",
   "execution_count": null,
   "id": "1ad427dc",
   "metadata": {
    "ExecuteTime": {
     "end_time": "2024-03-19T15:23:44.931473372Z",
     "start_time": "2024-03-19T15:23:44.518316808Z"
    }
   },
   "outputs": [],
   "source": [
    "# Si queremos calcular porcentajes, dividimos por la cantidad total de paises\n",
    "totalPaises = gapminder[\"country\"].nunique()\n",
    "gapminder.groupby(\"continent\")[\"country\"].nunique() / totalPaises"
   ]
  },
  {
   "cell_type": "code",
   "execution_count": null,
   "id": "b6cea668",
   "metadata": {
    "ExecuteTime": {
     "end_time": "2024-03-19T15:23:44.961927050Z",
     "start_time": "2024-03-19T15:23:44.606595008Z"
    }
   },
   "outputs": [],
   "source": [
    "# O podemos usar el comando value_counts y pasarle un parámetro para que nos de los valores normalizados.\n",
    "# (la normalización lleva la suma total a 1)\n",
    "gapminder[[\"continent\", \"country\"]].drop_duplicates().continent.value_counts(normalize=True)"
   ]
  },
  {
   "cell_type": "code",
   "execution_count": null,
   "id": "21af8aa9",
   "metadata": {
    "ExecuteTime": {
     "end_time": "2024-03-19T15:23:44.963411631Z",
     "start_time": "2024-03-19T15:23:44.721009098Z"
    }
   },
   "outputs": [],
   "source": [
    "# Vemos todos los años disponibles\n",
    "gapminder[\"year\"].unique()"
   ]
  },
  {
   "cell_type": "code",
   "execution_count": null,
   "id": "e30b1750",
   "metadata": {
    "ExecuteTime": {
     "end_time": "2024-03-19T15:23:45.116261106Z",
     "start_time": "2024-03-19T15:23:44.805715110Z"
    }
   },
   "outputs": [],
   "source": [
    "# Tenemos datos de todos los países todos los años?\n",
    "# Agrupamos los datos por año y calculamos el tamaño de cada bloque\n",
    "gapminder.groupby(\"year\").size()"
   ]
  },
  {
   "cell_type": "code",
   "execution_count": null,
   "id": "2699633a",
   "metadata": {
    "ExecuteTime": {
     "end_time": "2024-03-19T15:23:45.381182124Z",
     "start_time": "2024-03-19T15:23:44.896707526Z"
    }
   },
   "outputs": [],
   "source": [
    "# O podemos usar directamente el comando value_counts\n",
    "gapminder.year.value_counts()"
   ]
  },
  {
   "cell_type": "code",
   "execution_count": null,
   "id": "b3f4e527",
   "metadata": {
    "ExecuteTime": {
     "end_time": "2024-03-19T15:23:45.453839268Z",
     "start_time": "2024-03-19T15:23:45.027009268Z"
    }
   },
   "outputs": [],
   "source": [
    "# También podemos por ejemplo calcular la poblacion total por año\n",
    "gapminder.groupby(\"year\")[\"pop\"].sum()"
   ]
  },
  {
   "cell_type": "markdown",
   "id": "2e2af66d",
   "metadata": {},
   "source": [
    "### Gráficos simples de funciones o puntos en el plano XY.\n",
    "Vamos a graficar la población total mundial en función del año."
   ]
  },
  {
   "cell_type": "code",
   "execution_count": null,
   "id": "ba811afc",
   "metadata": {
    "ExecuteTime": {
     "end_time": "2024-03-19T15:23:45.454437903Z",
     "start_time": "2024-03-19T15:23:45.132156941Z"
    }
   },
   "outputs": [],
   "source": [
    "pobAnual = gapminder.groupby(\"year\")[\"pop\"].sum()\n",
    "type(pobAnual)"
   ]
  },
  {
   "cell_type": "code",
   "execution_count": null,
   "id": "6be97404",
   "metadata": {},
   "outputs": [],
   "source": [
    "pobAnual"
   ]
  },
  {
   "cell_type": "code",
   "execution_count": null,
   "id": "c03627e6",
   "metadata": {},
   "outputs": [],
   "source": [
    "pobAnual.index"
   ]
  },
  {
   "cell_type": "code",
   "execution_count": null,
   "id": "8644dd9b",
   "metadata": {
    "ExecuteTime": {
     "end_time": "2024-03-19T15:23:46.001868982Z",
     "start_time": "2024-03-19T15:23:45.387304245Z"
    }
   },
   "outputs": [],
   "source": [
    "# Opción 1\n",
    "# Usamos la función plot de series de pandas\n",
    "pobAnual.plot()"
   ]
  },
  {
   "cell_type": "code",
   "execution_count": null,
   "id": "cf47de9b",
   "metadata": {},
   "outputs": [],
   "source": [
    "# O podemos graficar solo puntos\n",
    "pobAnual.plot(style = \".\")"
   ]
  },
  {
   "cell_type": "code",
   "execution_count": null,
   "id": "38a2f9b0",
   "metadata": {
    "ExecuteTime": {
     "end_time": "2024-03-19T15:23:46.388427263Z",
     "start_time": "2024-03-19T15:23:45.978200471Z"
    }
   },
   "outputs": [],
   "source": [
    "# Opcion 3\n",
    "# Asignamos los valores a variables (arrays de numpy) y graficamos las variables\n",
    "x = pobAnual.index\n",
    "y = pobAnual.values\n",
    "plt.plot(x,y)"
   ]
  },
  {
   "cell_type": "code",
   "execution_count": null,
   "id": "7704cc17",
   "metadata": {},
   "outputs": [],
   "source": [
    "# Opcion 4\n",
    "# Matplotlib tiene una función scatter para graficar puntos\n",
    "plt.scatter(x,y)"
   ]
  },
  {
   "cell_type": "code",
   "execution_count": null,
   "id": "011599c5",
   "metadata": {
    "ExecuteTime": {
     "end_time": "2024-03-19T15:23:46.415752460Z",
     "start_time": "2024-03-19T15:23:46.393011114Z"
    }
   },
   "outputs": [],
   "source": [
    "# Vamos a analizar los datos de 2007\n",
    "datos2007 = gapminder[gapminder[\"year\"]==2007]"
   ]
  },
  {
   "cell_type": "code",
   "execution_count": null,
   "id": "88485044",
   "metadata": {
    "ExecuteTime": {
     "end_time": "2024-03-19T15:23:46.964079052Z",
     "start_time": "2024-03-19T15:23:46.401206852Z"
    }
   },
   "outputs": [],
   "source": [
    "# Queremos ver si hay relación entre el producto bruto y la expectativa de vida\n",
    "plt.plot(datos2007.gdpPercap, datos2007.lifeExp)"
   ]
  },
  {
   "cell_type": "code",
   "execution_count": null,
   "id": "61b34475",
   "metadata": {
    "ExecuteTime": {
     "end_time": "2024-03-19T15:23:47.227632707Z",
     "start_time": "2024-03-19T15:23:46.861070486Z"
    }
   },
   "outputs": [],
   "source": [
    "# Ay no, eso no, hacemos un \"scatter plot\"\n",
    "plt.scatter(datos2007.gdpPercap, datos2007.lifeExp)\n",
    "plt.show()"
   ]
  },
  {
   "cell_type": "code",
   "execution_count": null,
   "id": "e557bba5",
   "metadata": {
    "ExecuteTime": {
     "end_time": "2024-03-19T15:23:47.954400781Z",
     "start_time": "2024-03-19T15:23:47.193985736Z"
    }
   },
   "outputs": [],
   "source": [
    "# Se ve mejor la correlación si usamos escala logaritmica en el eje X\n",
    "plt.scatter(datos2007.gdpPercap, datos2007.lifeExp)\n",
    "plt.xscale('log')"
   ]
  },
  {
   "cell_type": "markdown",
   "id": "b7651064",
   "metadata": {},
   "source": [
    "Vamos a mejorar un poco el gráfico"
   ]
  },
  {
   "cell_type": "code",
   "execution_count": null,
   "id": "15367cd3",
   "metadata": {
    "ExecuteTime": {
     "end_time": "2024-03-19T15:23:48.701594467Z",
     "start_time": "2024-03-19T15:23:47.944668297Z"
    }
   },
   "outputs": [],
   "source": [
    "# Agregamos etiquetas al gráfico y a los ejes\n",
    "plt.scatter(datos2007.gdpPercap, datos2007.lifeExp)\n",
    "plt.xscale('log')\n",
    "plt.xlabel('GDP per Capita [en USD]')\n",
    "plt.ylabel('Expectativa de vida [en años]')\n",
    "plt.title('Desarrollo Mundial en 2007')\n",
    "plt.show()"
   ]
  },
  {
   "cell_type": "markdown",
   "id": "ad97a98b",
   "metadata": {},
   "source": [
    "Reemplacemos las marcas en el eje $x$ 10³, 10⁴, 10⁵ con 1k, 10k y 100k. "
   ]
  },
  {
   "cell_type": "code",
   "execution_count": null,
   "id": "53c8c6a3",
   "metadata": {
    "ExecuteTime": {
     "end_time": "2024-03-19T15:23:49.529819345Z",
     "start_time": "2024-03-19T15:23:48.700011287Z"
    }
   },
   "outputs": [],
   "source": [
    "plt.scatter(datos2007.gdpPercap, datos2007.lifeExp)\n",
    "plt.xscale('log')\n",
    "plt.xlabel('GDP per Capita [en USD]')\n",
    "plt.ylabel('Expectativa de vida [en años]')\n",
    "plt.title('Desarrollo Mundial en 2007')\n",
    "plt.xticks([1000, 10000, 100000],['1k', '10k', '100k'])\n",
    "plt.show()"
   ]
  },
  {
   "cell_type": "markdown",
   "id": "f18f9624",
   "metadata": {},
   "source": [
    "Seaborn es una biblioteca para visualización de datos en Python, basada en Matplotlib que agrega muchas funcioanlidades."
   ]
  },
  {
   "cell_type": "code",
   "execution_count": null,
   "id": "377212a8",
   "metadata": {
    "ExecuteTime": {
     "end_time": "2024-03-19T15:23:50.528163241Z",
     "start_time": "2024-03-19T15:23:49.498944735Z"
    }
   },
   "outputs": [],
   "source": [
    "# Usamos scatterplot de seaborn para poder personalizar mejor el grafico\n",
    "\n",
    "# Almacenamos la población como un array de numpy: np_pop\n",
    "np_pop = np.array(datos2007[\"pop\"])\n",
    "\n",
    "sns.scatterplot(x = datos2007['gdpPercap'], y = datos2007['lifeExp'], hue = datos2007['continent'], size = np_pop*2, sizes=(20,400))\n",
    "plt.grid(True)\n",
    "plt.xscale('log')\n",
    "plt.xlabel('GDP per Capita [en USD]')\n",
    "plt.ylabel('Expectativa de vida [en años]')\n",
    "plt.title('Desarrollo Mundial en 2007')\n",
    "plt.xticks([1000, 10000, 100000],['1k', '10k', '100k'])\n",
    "plt.show()"
   ]
  },
  {
   "cell_type": "code",
   "execution_count": null,
   "id": "f6de5976",
   "metadata": {
    "ExecuteTime": {
     "end_time": "2024-03-19T15:23:51.443282463Z",
     "start_time": "2024-03-19T15:23:50.525686974Z"
    }
   },
   "outputs": [],
   "source": [
    "# Aumenta el tamaño del gráfico\n",
    "plt.figure(dpi=150)\n",
    "\n",
    "# Alcenamos la población como un array de numpy: np_pop\n",
    "np_pop = np.array(datos2007[\"pop\"])\n",
    "np_pop2 = np_pop*2\n",
    "# Usamos scatterplot de seaborn para poder personalizar mejor el grafico\n",
    "sns.scatterplot(x = datos2007['gdpPercap'], y = datos2007['lifeExp'], hue = datos2007['continent'], size = np_pop2, sizes=(20,400))\n",
    "plt.grid(True)\n",
    "plt.xscale('log')\n",
    "plt.xlabel('GDP per Capita [en USD]')\n",
    "plt.ylabel('Expectativa de vida [en años]')\n",
    "plt.title('Desarrollo Mundial en 2007')\n",
    "plt.xticks([1000, 10000, 100000],['1k', '10k', '100k'])\n",
    "plt.show()"
   ]
  },
  {
   "cell_type": "markdown",
   "id": "610384e9",
   "metadata": {},
   "source": [
    "## Archivos de datos"
   ]
  },
  {
   "cell_type": "markdown",
   "id": "38385443",
   "metadata": {},
   "source": [
    "La biblioteca Pandas nos permite trabajar fácilmente con archivos de datos.\n",
    "1. Leer el archivo casos_coronavirus.csv .\n",
    "2. Graficar la curva de casos por día.\n",
    "3. Graficar la curva de casos acumulados.\n",
    "4. Definir log_cum_casos como el logaritmo de la cantidad de casos acumulados y graficar en función de la cantidad de días transcurridos.\n",
    "\n",
    "Utilicen o modifiquen el siguiente código."
   ]
  },
  {
   "cell_type": "code",
   "execution_count": null,
   "id": "fdcd3858",
   "metadata": {
    "ExecuteTime": {
     "end_time": "2024-03-19T15:23:45.623370291Z",
     "start_time": "2024-03-19T15:23:45.247789793Z"
    }
   },
   "outputs": [],
   "source": [
    "import pandas as pd\n",
    "import matplotlib.pyplot as plt\n",
    "df = pd.read_csv(\"../Datos/casos_coronavirus.csv\")\n",
    "df.head()  # Primeras filas del DataFrame"
   ]
  },
  {
   "cell_type": "code",
   "execution_count": null,
   "id": "3b34a57b-149c-4023-991a-d5ab875093d0",
   "metadata": {},
   "outputs": [],
   "source": [
    "# ¿Cómo usamos la fecha como índice?\n"
   ]
  },
  {
   "cell_type": "code",
   "execution_count": null,
   "id": "2037a5b1",
   "metadata": {
    "ExecuteTime": {
     "end_time": "2024-03-19T15:23:45.623370291Z",
     "start_time": "2024-03-19T15:23:45.247789793Z"
    }
   },
   "outputs": [],
   "source": [
    "# Información básica del DataFrame\n",
    "df.info()"
   ]
  },
  {
   "cell_type": "code",
   "execution_count": null,
   "id": "3c18f553",
   "metadata": {},
   "outputs": [],
   "source": [
    "df[\"confirmados_Nuevos\"].plot()"
   ]
  },
  {
   "cell_type": "markdown",
   "id": "cd855dfc-722a-4b2e-8624-acb44df0c068",
   "metadata": {},
   "source": [
    "Podemos calcular la cantidad de casos acumulados."
   ]
  },
  {
   "cell_type": "code",
   "execution_count": null,
   "id": "03e8ba3c",
   "metadata": {},
   "outputs": [],
   "source": [
    "casos_acumulados = df[\"confirmados_Nuevos\"].cumsum()\n",
    "casos_acumulados.plot()"
   ]
  },
  {
   "cell_type": "code",
   "execution_count": null,
   "id": "74f81c5d-ab67-4aaf-8150-e7ff75642538",
   "metadata": {},
   "outputs": [],
   "source": [
    "# Ejercicio: graficar el logaritmo de los casos acumulados\n"
   ]
  },
  {
   "cell_type": "markdown",
   "id": "10cf7091",
   "metadata": {},
   "source": [
    "## Estadística descriptiva"
   ]
  },
  {
   "cell_type": "code",
   "execution_count": null,
   "id": "3f7866bd",
   "metadata": {},
   "outputs": [],
   "source": [
    "# Vamos a analizar los datos de 2007\n",
    "datos2007 = gapminder[gapminder[\"year\"]==2007]\n",
    "\n",
    "# Queremos usar los países como índices\n",
    "datos2007 = datos2007.set_index(\"country\")"
   ]
  },
  {
   "cell_type": "code",
   "execution_count": null,
   "id": "c6b1f726-a563-4983-adc8-523c6c789909",
   "metadata": {},
   "outputs": [],
   "source": [
    "# Funcionó?\n",
    "datos2007 "
   ]
  },
  {
   "cell_type": "markdown",
   "id": "6278b9d5",
   "metadata": {},
   "source": [
    "Mirando los datos de 2007, ¿cuál es el país con mayor expectativa de vida? ¿Cuál es el país con menor expectativa de vida?"
   ]
  },
  {
   "cell_type": "code",
   "execution_count": null,
   "id": "f0859370-bca9-4f9a-90aa-e61399834fd9",
   "metadata": {},
   "outputs": [],
   "source": []
  },
  {
   "cell_type": "markdown",
   "id": "612e1df6",
   "metadata": {},
   "source": [
    "### Medidas de tendencia central"
   ]
  },
  {
   "cell_type": "markdown",
   "id": "47339362",
   "metadata": {},
   "source": [
    "Para el año 2007, calcular el valor medio y la mediana de las variables gdpPercap y lifeExp entre todos los países.\n",
    "Son similares o distintas? A qué lo atribuyen? Consideran que alguna resume mejor la realidad que la otra?\n"
   ]
  },
  {
   "cell_type": "code",
   "execution_count": null,
   "id": "63b66492",
   "metadata": {},
   "outputs": [],
   "source": [
    "datos2007[\"lifeExp\"].median()"
   ]
  },
  {
   "cell_type": "code",
   "execution_count": null,
   "id": "ea8a19f3",
   "metadata": {},
   "outputs": [],
   "source": [
    "datos2007[\"lifeExp\"].mean()"
   ]
  },
  {
   "cell_type": "code",
   "execution_count": null,
   "id": "c0be84dc",
   "metadata": {},
   "outputs": [],
   "source": [
    "datos2007[\"gdpPercap\"].median()"
   ]
  },
  {
   "cell_type": "code",
   "execution_count": null,
   "id": "7635bfb7",
   "metadata": {},
   "outputs": [],
   "source": [
    "datos2007[\"gdpPercap\"].mean()"
   ]
  },
  {
   "cell_type": "markdown",
   "id": "761e9686",
   "metadata": {},
   "source": [
    "¿Es lo mismo el promedio de la expectativa de vida entre todos los países y el promedio de la expectativa de vida entre todas las personas?\n",
    "¿Cuál calculamos arriba? ¿Cómo podemos calcular el otro?\n"
   ]
  },
  {
   "cell_type": "code",
   "execution_count": null,
   "id": "f6fa7764",
   "metadata": {},
   "outputs": [],
   "source": []
  },
  {
   "cell_type": "markdown",
   "id": "7585b8ad",
   "metadata": {},
   "source": [
    "### Medidas de dispersión"
   ]
  },
  {
   "cell_type": "markdown",
   "id": "02e124b7",
   "metadata": {},
   "source": [
    "Para el año 2007, calcular la varianza y el desvío estándar de las variables gdpPercap y lifeExp entre todos los países."
   ]
  },
  {
   "cell_type": "code",
   "execution_count": null,
   "id": "2e9cef6a",
   "metadata": {},
   "outputs": [],
   "source": [
    "datos2007[\"lifeExp\"].var()"
   ]
  },
  {
   "cell_type": "code",
   "execution_count": null,
   "id": "60ef06a4",
   "metadata": {},
   "outputs": [],
   "source": [
    "datos2007[\"lifeExp\"].std()"
   ]
  },
  {
   "cell_type": "code",
   "execution_count": null,
   "id": "b687b911",
   "metadata": {},
   "outputs": [],
   "source": []
  }
 ],
 "metadata": {
  "kernelspec": {
   "display_name": "Python 3 (ipykernel)",
   "language": "python",
   "name": "python3"
  },
  "language_info": {
   "codemirror_mode": {
    "name": "ipython",
    "version": 3
   },
   "file_extension": ".py",
   "mimetype": "text/x-python",
   "name": "python",
   "nbconvert_exporter": "python",
   "pygments_lexer": "ipython3",
   "version": "3.11.7"
  }
 },
 "nbformat": 4,
 "nbformat_minor": 5
}

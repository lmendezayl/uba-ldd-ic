{
 "cells": [
  {
   "cell_type": "code",
   "execution_count": 3,
   "id": "42d60abd",
   "metadata": {},
   "outputs": [],
   "source": [
    "import numpy as np\n",
    "import pandas as pd\n",
    "import seaborn as sns\n",
    "import seaborn.objects as so\n",
    "\n",
    "import matplotlib.pyplot as plt\n",
    "\n",
    "from sklearn import linear_model    # Herramientas de modelos lineales\n",
    "from sklearn.metrics import mean_squared_error, r2_score    # Medidas de desempeño\n",
    "from sklearn.preprocessing import PolynomialFeatures    # Herramientas de polinomios\n",
    "\n",
    "from sklearn.model_selection import KFold\n",
    "from sklearn.model_selection import train_test_split\n",
    "\n",
    "from formulaic import model_matrix\n",
    "from formulaic import Formula"
   ]
  },
  {
   "cell_type": "markdown",
   "id": "77f2637a",
   "metadata": {},
   "source": [
    "# Prepocesamiento\n",
    "En muchos casos, necesitamos realizar algunas transformaciones previas en los datos antes de ajustar un modelo de regresión.\n",
    "Estas transformaciones pueden ser:\n",
    "1. Normalizar variables numéricas, escalándolas para que los valores caigan en el intervalo [0,1]\n",
    "2. Normalizar variables numéricas llevándolas a media 0 y varianza 1.\n",
    "3. Transformar variables binarias a 0-1.\n",
    "4. Transformar variables categóricas a variables indicadoras (variables dummies).\n"
   ]
  },
  {
   "cell_type": "markdown",
   "id": "0ab91d00",
   "metadata": {},
   "source": [
    "## Ejemplo 1: escalamiento MinMax\n",
    "\n",
    "Este escalamiento es una transformación lineal. Es decir, se aplica una fórmula de la forma\n",
    "$$\n",
    "x_{\\text{nuevo}} = a \\cdot x + b\n",
    "$$\n",
    "\n",
    "Los valores de $a$ y $b$ se eligen de forma que los valores de la variable transformada se encuentren en el intervalo [0,1].\n",
    "\n",
    "La fórmula que debemos aplicar es\n",
    "$$\n",
    "x_{\\text{nuevo}} = \\frac{x - x_{\\min}}{x_{\\max} - x_{\\min}}\n",
    "$$\n"
   ]
  },
  {
   "cell_type": "markdown",
   "id": "57eaf881",
   "metadata": {},
   "source": [
    "**Pregunta:** ¿Cuáles pueden ser las ventajas de este escalamiento, comparado con solamente dividir con el máximo?\n",
    "\n",
    "<details> <summary>Respuesta (click aquí)</summary>\n",
    "El escalamiento MinMax lleva a que todas las variables tengan una dispersión similar y por lo tanto podamos comparar el peso de cada variable en el modelo mirando los coeficientes.\n",
    "\n",
    "Ejemplo: si una variable tiene todos valores entre 390 y 400, si solo dividimos por el máximo quedaron valores entre 0.975 y 1. Para que esas pequeñas diferencias impacten en el modelo, necesitaremos multiplicar la variable por un coeficiente alto.\n",
    "    \n",
    "Supongamos que   \n",
    "    \n",
    "1. $x_1$ tiene valores en el intervalo $[0,1]$ \n",
    "2. $x_2$ tiene valores en el intervalo $[0.975, 1]$\n",
    "    \n",
    "En un modelo\n",
    "$$ y = 4 x_1 + 4 x_2$$\n",
    "la variable $x_1$ tiene más peso. Las observaciones con puntaje alto van a ser las que tenga un valor de $x_1$ alto, las variaciones en $x_2$ van a tener un aporte muy menor.\n",
    "    \n",
    "Ejemplo: en muchos concursos docentes, la prueba de oposición tiene un puntaje alto (50 o 70 puntos sobre 100), y por lo tanto a priori es la parte más importante del concurso. Sin embargo en muchos concursos los valores son similares, la mayoria entre 60 y 70. Por lo tanto el peso de la prueba de oposición en el concurso termina siendo mucho menor.\n",
    "</details>"
   ]
  },
  {
   "cell_type": "markdown",
   "id": "c1843ec1",
   "metadata": {},
   "source": [
    "**Pregunta:** ¿En qué situación este escalamiento podría resultar inadecuado?\n",
    "\n",
    "<details>\n",
    "    <summary>Respuesta (click aquí)</summary>\n",
    "\n",
    "Este escalamiento se ve muy influenciado por la presencia de outliers.\n",
    "    \n",
    "Si tenemos outliers en una variable, llevaremos el outlier a 1, y los demás valores a valores muy pequeños.\n",
    "</details>"
   ]
  },
  {
   "cell_type": "markdown",
   "id": "4909fdb7",
   "metadata": {},
   "source": [
    "Utilizaremos este escalamiento para ajustar datos de infecciones en hospitales. En la siguiente base se calcularon diversas estadísticas sobre 111 hospitales."
   ]
  },
  {
   "cell_type": "code",
   "execution_count": 4,
   "id": "b176bc96-1a37-4a02-b1e7-f224d0b1879e",
   "metadata": {},
   "outputs": [
    {
     "data": {
      "text/html": [
       "<div>\n",
       "<style scoped>\n",
       "    .dataframe tbody tr th:only-of-type {\n",
       "        vertical-align: middle;\n",
       "    }\n",
       "\n",
       "    .dataframe tbody tr th {\n",
       "        vertical-align: top;\n",
       "    }\n",
       "\n",
       "    .dataframe thead th {\n",
       "        text-align: right;\n",
       "    }\n",
       "</style>\n",
       "<table border=\"1\" class=\"dataframe\">\n",
       "  <thead>\n",
       "    <tr style=\"text-align: right;\">\n",
       "      <th></th>\n",
       "      <th>Id</th>\n",
       "      <th>Dias</th>\n",
       "      <th>Edad</th>\n",
       "      <th>Riesgo</th>\n",
       "      <th>Estudios</th>\n",
       "      <th>RayosX</th>\n",
       "      <th>Camas</th>\n",
       "      <th>Afiliado</th>\n",
       "      <th>Region</th>\n",
       "      <th>Pacientes</th>\n",
       "      <th>Enfermeros</th>\n",
       "    </tr>\n",
       "  </thead>\n",
       "  <tbody>\n",
       "    <tr>\n",
       "      <th>0</th>\n",
       "      <td>1</td>\n",
       "      <td>7.13</td>\n",
       "      <td>55.7</td>\n",
       "      <td>4.1</td>\n",
       "      <td>9.0</td>\n",
       "      <td>39.6</td>\n",
       "      <td>279</td>\n",
       "      <td>No</td>\n",
       "      <td>W</td>\n",
       "      <td>207</td>\n",
       "      <td>241</td>\n",
       "    </tr>\n",
       "    <tr>\n",
       "      <th>1</th>\n",
       "      <td>2</td>\n",
       "      <td>8.82</td>\n",
       "      <td>58.2</td>\n",
       "      <td>1.6</td>\n",
       "      <td>3.8</td>\n",
       "      <td>51.7</td>\n",
       "      <td>80</td>\n",
       "      <td>No</td>\n",
       "      <td>NC</td>\n",
       "      <td>51</td>\n",
       "      <td>52</td>\n",
       "    </tr>\n",
       "    <tr>\n",
       "      <th>2</th>\n",
       "      <td>3</td>\n",
       "      <td>8.34</td>\n",
       "      <td>56.9</td>\n",
       "      <td>2.7</td>\n",
       "      <td>8.1</td>\n",
       "      <td>74.0</td>\n",
       "      <td>107</td>\n",
       "      <td>No</td>\n",
       "      <td>S</td>\n",
       "      <td>82</td>\n",
       "      <td>54</td>\n",
       "    </tr>\n",
       "    <tr>\n",
       "      <th>3</th>\n",
       "      <td>4</td>\n",
       "      <td>8.95</td>\n",
       "      <td>53.7</td>\n",
       "      <td>5.6</td>\n",
       "      <td>18.9</td>\n",
       "      <td>122.8</td>\n",
       "      <td>147</td>\n",
       "      <td>No</td>\n",
       "      <td>W</td>\n",
       "      <td>53</td>\n",
       "      <td>148</td>\n",
       "    </tr>\n",
       "    <tr>\n",
       "      <th>4</th>\n",
       "      <td>5</td>\n",
       "      <td>11.20</td>\n",
       "      <td>56.5</td>\n",
       "      <td>5.7</td>\n",
       "      <td>34.5</td>\n",
       "      <td>88.9</td>\n",
       "      <td>180</td>\n",
       "      <td>No</td>\n",
       "      <td>NE</td>\n",
       "      <td>134</td>\n",
       "      <td>151</td>\n",
       "    </tr>\n",
       "  </tbody>\n",
       "</table>\n",
       "</div>"
      ],
      "text/plain": [
       "   Id   Dias  Edad  Riesgo  Estudios  RayosX  Camas Afiliado Region  \\\n",
       "0   1   7.13  55.7     4.1       9.0    39.6    279       No      W   \n",
       "1   2   8.82  58.2     1.6       3.8    51.7     80       No     NC   \n",
       "2   3   8.34  56.9     2.7       8.1    74.0    107       No      S   \n",
       "3   4   8.95  53.7     5.6      18.9   122.8    147       No      W   \n",
       "4   5  11.20  56.5     5.7      34.5    88.9    180       No     NE   \n",
       "\n",
       "   Pacientes  Enfermeros  \n",
       "0        207         241  \n",
       "1         51          52  \n",
       "2         82          54  \n",
       "3         53         148  \n",
       "4        134         151  "
      ]
     },
     "execution_count": 4,
     "metadata": {},
     "output_type": "execute_result"
    }
   ],
   "source": [
    "infecciones = pd.read_csv(\"../datasets/infeccion_hospitales.csv\")\n",
    "infecciones.head()"
   ]
  },
  {
   "cell_type": "markdown",
   "id": "5600ecdb-623c-476e-a727-51ed041e4ab0",
   "metadata": {},
   "source": [
    "### Ejemplo: modelo lineal multivariado\n",
    "\n",
    "Vamos a intentar predecir la variable de riesgo de infección en función de las variables \n",
    "1. Cantidad promedio de días de internación (Dias)\n",
    "2. Edad promedio (Edad)\n",
    "3. Porcentaje de rayos X por paciente (RayosX)"
   ]
  },
  {
   "cell_type": "code",
   "execution_count": 5,
   "id": "4b6d9009-2e22-438a-af6c-df33ad16249b",
   "metadata": {},
   "outputs": [],
   "source": [
    "X = infecciones[[\"Dias\", \"Edad\", \"RayosX\"]]\n",
    "y = infecciones[\"Riesgo\"]"
   ]
  },
  {
   "cell_type": "code",
   "execution_count": 6,
   "id": "c529f957-3a49-4059-ad07-da1a30755dc4",
   "metadata": {},
   "outputs": [
    {
     "name": "stdout",
     "output_type": "stream",
     "text": [
      "Raíz del Error Cuadrático Medio: 1.06547\n"
     ]
    },
    {
     "data": {
      "text/plain": [
       "0.362990531271563"
      ]
     },
     "execution_count": 6,
     "metadata": {},
     "output_type": "execute_result"
    }
   ],
   "source": [
    "# Inicializamos el modelo lineal\n",
    "modeloLineal = linear_model.LinearRegression()  \n",
    "\n",
    "# Entrenamiento\n",
    "modeloLineal.fit(X, y)\n",
    "\n",
    "# Predicciones\n",
    "y_pred = modeloLineal.predict(X)\n",
    "\n",
    "# Evaluación\n",
    "rmse = np.sqrt(mean_squared_error(y, y_pred))\n",
    "print(f\"Raíz del Error Cuadrático Medio: {rmse:.5f}\")\n",
    "\n",
    "# R cuadrado\n",
    "r2_score(y, y_pred)"
   ]
  },
  {
   "cell_type": "markdown",
   "id": "355529ae-d3db-48b3-8e3c-35eda652790d",
   "metadata": {},
   "source": [
    "Obtenemos un R^2 relativamente bajo, pero normal en muchos modelos. \n",
    "\n",
    "¿Cuál es la variable más importante en el modelo? Miramos los coeficientes..."
   ]
  },
  {
   "cell_type": "code",
   "execution_count": 7,
   "id": "045b9d22-23e4-4142-92df-f39612ad90de",
   "metadata": {},
   "outputs": [
    {
     "data": {
      "text/plain": [
       "array([ 0.3081809 , -0.02300522,  0.01966093])"
      ]
     },
     "execution_count": 7,
     "metadata": {},
     "output_type": "execute_result"
    }
   ],
   "source": [
    "modeloLineal.coef_"
   ]
  },
  {
   "cell_type": "markdown",
   "id": "77ccb4c0-1851-4d75-8f9c-6a77b8bf72fd",
   "metadata": {},
   "source": [
    "La primera variable tiene un coeficiente mucho mayor, pero podemos comparar estos coeficientes?\n",
    "\n",
    "Miremos los rangos de las variables..."
   ]
  },
  {
   "cell_type": "code",
   "execution_count": 8,
   "id": "2ccbd703-80b9-4ddc-90d5-3fc2d682839d",
   "metadata": {},
   "outputs": [
    {
     "data": {
      "text/plain": [
       "<Axes: >"
      ]
     },
     "execution_count": 8,
     "metadata": {},
     "output_type": "execute_result"
    },
    {
     "data": {
      "image/png": "[encoded data removed]",
      "text/plain": [
       "<Figure size 640x480 with 1 Axes>"
      ]
     },
     "metadata": {},
     "output_type": "display_data"
    }
   ],
   "source": [
    "sns.boxplot(X)"
   ]
  },
  {
   "cell_type": "markdown",
   "id": "94c93636",
   "metadata": {},
   "source": [
    "Vemos que hay mucha diferencia en las escalas de las variables. Para poder comparar mejor los coeficientes, \n",
    "escalamos todas la variables al intervalo [0,1].\n",
    "\n",
    "¿Cómo aplicamos el escalamiento\n",
    "\n",
    "$$\n",
    "x_{\\text{nuevo}} = \\frac{x - x_{\\min}}{x_{\\max} - x_{\\min}}\n",
    "$$\n",
    "\n",
    "en las columnas de un DataFrame? ($x_{\\min}$ y $x_{\\max}$ son el mínimo y máximo de cada columna.)"
   ]
  },
  {
   "cell_type": "code",
   "execution_count": 9,
   "id": "51e5f2fc",
   "metadata": {},
   "outputs": [
    {
     "data": {
      "text/plain": [
       "Dias       6.7\n",
       "Edad      38.8\n",
       "RayosX    39.6\n",
       "dtype: float64"
      ]
     },
     "execution_count": 9,
     "metadata": {},
     "output_type": "execute_result"
    }
   ],
   "source": [
    "# Calculamos primero el mínimo\n",
    "X.min()"
   ]
  },
  {
   "cell_type": "code",
   "execution_count": 10,
   "id": "589a3281",
   "metadata": {},
   "outputs": [
    {
     "data": {
      "text/plain": [
       "Dias      0.0\n",
       "Edad      0.0\n",
       "RayosX    0.0\n",
       "dtype: float64"
      ]
     },
     "execution_count": 10,
     "metadata": {},
     "output_type": "execute_result"
    }
   ],
   "source": [
    "# Restamos el mínimos de cada columna a la columna correspondiente, y verificamos.\n",
    "X_scaled = (X - X.min())\n",
    "X_scaled.min()   # ¿Cuál esperamos que sea el resultado?"
   ]
  },
  {
   "cell_type": "code",
   "execution_count": 11,
   "id": "f037c7ee",
   "metadata": {},
   "outputs": [
    {
     "name": "stdout",
     "output_type": "stream",
     "text": [
      "Dias      0.0\n",
      "Edad      0.0\n",
      "RayosX    0.0\n",
      "dtype: float64\n",
      "Dias      1.0\n",
      "Edad      1.0\n",
      "RayosX    1.0\n",
      "dtype: float64\n"
     ]
    }
   ],
   "source": [
    "# Ahora dividimos las columnas por x_max - x_min\n",
    "X_scaled = (X - X.min()) / (X.max() - X.min())\n",
    "print(X_scaled.min())\n",
    "print(X_scaled.max())"
   ]
  },
  {
   "cell_type": "markdown",
   "id": "85e98f95",
   "metadata": {},
   "source": [
    "## Preprocesamiento con sklearn\n",
    "Utilizamos ahora MinMaxScaler de `sklearn` para las transformaciones."
   ]
  },
  {
   "cell_type": "code",
   "execution_count": 12,
   "id": "85502f3b",
   "metadata": {},
   "outputs": [],
   "source": [
    "from sklearn.preprocessing import MinMaxScaler\n",
    "scaler = MinMaxScaler().set_output(transform=\"pandas\") # La última opción hace que nos devuelva un DataFrame"
   ]
  },
  {
   "cell_type": "code",
   "execution_count": 13,
   "id": "5df4e9a8",
   "metadata": {},
   "outputs": [
    {
     "data": {
      "text/plain": [
       "<Axes: >"
      ]
     },
     "execution_count": 13,
     "metadata": {},
     "output_type": "execute_result"
    },
    {
     "data": {
      "image/png": "[encoded data removed]",
      "text/plain": [
       "<Figure size 640x480 with 1 Axes>"
      ]
     },
     "metadata": {},
     "output_type": "display_data"
    }
   ],
   "source": [
    "# fit_transform calcula los coeficientes de la transformación y la aplica.\n",
    "X_scaled = scaler.fit_transform(X)\n",
    "sns.boxplot(X_scaled)"
   ]
  },
  {
   "cell_type": "markdown",
   "id": "1aeaa3a2-8622-4e76-a189-3ed4c40541a7",
   "metadata": {},
   "source": [
    "**Nota:** Vamos a ver más adelante que en ocasiones es útil calcular primero la función de escalamiento (fit) en un conjunto de datos y luego aplicarla (transform) en otro conjunto. sklearn permite hacer estas operaciones en forma separada."
   ]
  },
  {
   "cell_type": "markdown",
   "id": "16903519",
   "metadata": {},
   "source": [
    "**Escalamiento MinMax y modelo lineal** \n",
    "\n",
    "Escalamos las variables utilizando escalamiento MinMax.\n",
    "\n",
    "La regresión lineal ordinaria es invariante por escalamiento lineal.\n",
    "\n",
    "Esto quiere decir que si bien los coeficientes van a cambiar, las predicciones se van a mantener iguales.\n",
    "\n",
    "El escalamiento no va a mejorar el modelo, pero nos permite comparar mejor los coeficientes.\n",
    "\n",
    "Dado que solo queremos comparar coeficientes, no es necesario escalar la variable respuesta $y$."
   ]
  },
  {
   "cell_type": "code",
   "execution_count": 14,
   "id": "219a3aae",
   "metadata": {},
   "outputs": [
    {
     "name": "stdout",
     "output_type": "stream",
     "text": [
      "Raíz del Error Cuadrático Medio: 1.06547\n",
      "R cuadrado: 0.36299\n"
     ]
    }
   ],
   "source": [
    "# Realizamos nuevamente el ajuste lineal utilizando las variables escaladas\n",
    "\n",
    "# Inicializamos el modelo lineal\n",
    "modeloLineal = linear_model.LinearRegression() \n",
    "\n",
    "# Entrenamiento\n",
    "modeloLineal.fit(X_scaled, y)\n",
    "\n",
    "# Predicciones\n",
    "y_pred = modeloLineal.predict(X_scaled)\n",
    "\n",
    "# Evaluación\n",
    "rmse = np.sqrt(mean_squared_error(y, y_pred))\n",
    "print(f\"Raíz del Error Cuadrático Medio: {rmse:.5f}\")\n",
    "r2 = r2_score(y, y_pred)\n",
    "print(f\"R cuadrado: {r2:.5f}\")"
   ]
  },
  {
   "cell_type": "markdown",
   "id": "9b8025de",
   "metadata": {},
   "source": [
    "Verificamos que obtuvimos el mismo error cuadrativo y R^2."
   ]
  },
  {
   "cell_type": "code",
   "execution_count": 15,
   "id": "b0ba0668-1008-46fb-a1b0-e7f01e7364d8",
   "metadata": {},
   "outputs": [
    {
     "data": {
      "text/plain": [
       "array([ 3.96320643, -0.62344145,  1.84616127])"
      ]
     },
     "execution_count": 15,
     "metadata": {},
     "output_type": "execute_result"
    }
   ],
   "source": [
    "# Comparamos los coeficientes\n",
    "modeloLineal.coef_"
   ]
  },
  {
   "cell_type": "markdown",
   "id": "8034e899-c536-4783-bd25-6bc7a69cb066",
   "metadata": {},
   "source": [
    "Vemos ahora que no hay tanta diferencia entre los coeficientes."
   ]
  },
  {
   "cell_type": "markdown",
   "id": "a122ce10-742e-41c1-b105-a8fe80e5f9fb",
   "metadata": {},
   "source": [
    "## Ejemplo 2: escalamiento a misma media y varianza\n",
    "\n",
    "Si observamos los box-plot, vemos que el escalamiento de la variable de días de internación se vio influenciada por la presencia de outliers, los valores quedaron más apretados que en las otras variables.\n",
    "\n",
    "Otro escalamiento común es llevar todas las variables a media 0 y varianza 1.\n",
    "\n",
    "Las principales ventajas son:\n",
    "1. Menor sensibilidad que min-max (aunque no inmune) a outliers\n",
    "2. La variabilidad explicada por cada variable se puede ver directamente comparando coeficientes\n",
    "\n",
    "Posibles ventajas de min-max:\n",
    "1. Es más simple\n",
    "2. No introduce valores negativos (que pueden traer problemas si aplicamos logaritmos u otras funciones)\n",
    "\n"
   ]
  },
  {
   "cell_type": "markdown",
   "id": "e1831d13-4ad0-4846-bcb2-b6781f16bee8",
   "metadata": {},
   "source": [
    "**Paso 1:**\n",
    "Llevamos las variables a media 0, restando la media."
   ]
  },
  {
   "cell_type": "code",
   "execution_count": 16,
   "id": "16a0bfe6-853c-4340-b410-70e90fe5d159",
   "metadata": {},
   "outputs": [
    {
     "data": {
      "text/plain": [
       "Dias     -3.772793e-16\n",
       "Edad      4.464472e-15\n",
       "RayosX   -3.772793e-16\n",
       "dtype: float64"
      ]
     },
     "execution_count": 16,
     "metadata": {},
     "output_type": "execute_result"
    }
   ],
   "source": [
    "X_standard = X - X.mean()\n",
    "X_standard.mean()"
   ]
  },
  {
   "cell_type": "code",
   "execution_count": 17,
   "id": "e152e8aa-61d0-4e32-8c48-ed4e610a1718",
   "metadata": {},
   "outputs": [
    {
     "data": {
      "text/plain": [
       "Dias        3.653664\n",
       "Edad       19.905940\n",
       "RayosX    374.957762\n",
       "dtype: float64"
      ]
     },
     "execution_count": 17,
     "metadata": {},
     "output_type": "execute_result"
    }
   ],
   "source": [
    "X_standard.var()"
   ]
  },
  {
   "cell_type": "markdown",
   "id": "f0e946c1-ab60-4440-9b85-3121aad2db14",
   "metadata": {},
   "source": [
    "**Paso 2:** Llevamos a varianza 1, dividiendo por la varianza"
   ]
  },
  {
   "cell_type": "code",
   "execution_count": 18,
   "id": "d59492f8-3ba6-4521-a1f1-1940a32269d7",
   "metadata": {},
   "outputs": [
    {
     "data": {
      "text/plain": [
       "Dias      1.0\n",
       "Edad      1.0\n",
       "RayosX    1.0\n",
       "dtype: float64"
      ]
     },
     "execution_count": 18,
     "metadata": {},
     "output_type": "execute_result"
    }
   ],
   "source": [
    "X_standard = (X - X.mean()) / np.sqrt(X.var())\n",
    "X_standard.var()"
   ]
  },
  {
   "cell_type": "markdown",
   "id": "621a2c65-6903-4217-9902-3223c0826db4",
   "metadata": {},
   "source": [
    "La fórmula general es\n",
    "$$\n",
    "\\tilde x = \\frac{x - \\bar x}{\\sigma},\n",
    "$$\n",
    "donde $\\bar x$ es la media y $\\sigma$ es el desvío estándar."
   ]
  },
  {
   "cell_type": "code",
   "execution_count": 46,
   "id": "c80a7081-66f7-457f-8d59-6cfa147ee0ac",
   "metadata": {},
   "outputs": [
    {
     "data": {
      "text/html": [
       "<div>\n",
       "<style scoped>\n",
       "    .dataframe tbody tr th:only-of-type {\n",
       "        vertical-align: middle;\n",
       "    }\n",
       "\n",
       "    .dataframe tbody tr th {\n",
       "        vertical-align: top;\n",
       "    }\n",
       "\n",
       "    .dataframe thead th {\n",
       "        text-align: right;\n",
       "    }\n",
       "</style>\n",
       "<table border=\"1\" class=\"dataframe\">\n",
       "  <thead>\n",
       "    <tr style=\"text-align: right;\">\n",
       "      <th></th>\n",
       "      <th>Intercept</th>\n",
       "      <th>Dias</th>\n",
       "      <th>Edad</th>\n",
       "      <th>RayosX</th>\n",
       "      <th>Afiliado[T.Si]</th>\n",
       "      <th>Region[T.NE]</th>\n",
       "      <th>Region[T.S]</th>\n",
       "      <th>Region[T.W]</th>\n",
       "    </tr>\n",
       "  </thead>\n",
       "  <tbody>\n",
       "    <tr>\n",
       "      <th>0</th>\n",
       "      <td>0.0</td>\n",
       "      <td>-1.323356</td>\n",
       "      <td>0.555660</td>\n",
       "      <td>-2.180123</td>\n",
       "      <td>-0.420813</td>\n",
       "      <td>-0.573944</td>\n",
       "      <td>-0.697741</td>\n",
       "      <td>2.462214</td>\n",
       "    </tr>\n",
       "    <tr>\n",
       "      <th>1</th>\n",
       "      <td>0.0</td>\n",
       "      <td>-0.435275</td>\n",
       "      <td>1.118492</td>\n",
       "      <td>-1.552463</td>\n",
       "      <td>-0.420813</td>\n",
       "      <td>-0.573944</td>\n",
       "      <td>-0.697741</td>\n",
       "      <td>-0.406138</td>\n",
       "    </tr>\n",
       "    <tr>\n",
       "      <th>2</th>\n",
       "      <td>0.0</td>\n",
       "      <td>-0.687511</td>\n",
       "      <td>0.825819</td>\n",
       "      <td>-0.395702</td>\n",
       "      <td>-0.420813</td>\n",
       "      <td>-0.573944</td>\n",
       "      <td>1.433197</td>\n",
       "      <td>-0.406138</td>\n",
       "    </tr>\n",
       "    <tr>\n",
       "      <th>3</th>\n",
       "      <td>0.0</td>\n",
       "      <td>-0.366961</td>\n",
       "      <td>0.105394</td>\n",
       "      <td>2.135687</td>\n",
       "      <td>-0.420813</td>\n",
       "      <td>-0.573944</td>\n",
       "      <td>-0.697741</td>\n",
       "      <td>2.462214</td>\n",
       "    </tr>\n",
       "    <tr>\n",
       "      <th>4</th>\n",
       "      <td>0.0</td>\n",
       "      <td>0.815396</td>\n",
       "      <td>0.735766</td>\n",
       "      <td>0.377202</td>\n",
       "      <td>-0.420813</td>\n",
       "      <td>1.742330</td>\n",
       "      <td>-0.697741</td>\n",
       "      <td>-0.406138</td>\n",
       "    </tr>\n",
       "    <tr>\n",
       "      <th>...</th>\n",
       "      <td>...</td>\n",
       "      <td>...</td>\n",
       "      <td>...</td>\n",
       "      <td>...</td>\n",
       "      <td>...</td>\n",
       "      <td>...</td>\n",
       "      <td>...</td>\n",
       "      <td>...</td>\n",
       "    </tr>\n",
       "    <tr>\n",
       "      <th>108</th>\n",
       "      <td>0.0</td>\n",
       "      <td>1.130691</td>\n",
       "      <td>0.127907</td>\n",
       "      <td>1.829638</td>\n",
       "      <td>2.376354</td>\n",
       "      <td>-0.573944</td>\n",
       "      <td>-0.697741</td>\n",
       "      <td>-0.406138</td>\n",
       "    </tr>\n",
       "    <tr>\n",
       "      <th>109</th>\n",
       "      <td>0.0</td>\n",
       "      <td>-0.077940</td>\n",
       "      <td>-0.885190</td>\n",
       "      <td>-0.556507</td>\n",
       "      <td>-0.420813</td>\n",
       "      <td>-0.573944</td>\n",
       "      <td>1.433197</td>\n",
       "      <td>-0.406138</td>\n",
       "    </tr>\n",
       "    <tr>\n",
       "      <th>110</th>\n",
       "      <td>0.0</td>\n",
       "      <td>-1.023825</td>\n",
       "      <td>0.825819</td>\n",
       "      <td>-0.712125</td>\n",
       "      <td>-0.420813</td>\n",
       "      <td>-0.573944</td>\n",
       "      <td>-0.697741</td>\n",
       "      <td>2.462214</td>\n",
       "    </tr>\n",
       "    <tr>\n",
       "      <th>111</th>\n",
       "      <td>0.0</td>\n",
       "      <td>4.357210</td>\n",
       "      <td>0.668226</td>\n",
       "      <td>0.527633</td>\n",
       "      <td>2.376354</td>\n",
       "      <td>1.742330</td>\n",
       "      <td>-0.697741</td>\n",
       "      <td>-0.406138</td>\n",
       "    </tr>\n",
       "    <tr>\n",
       "      <th>112</th>\n",
       "      <td>0.0</td>\n",
       "      <td>-0.125234</td>\n",
       "      <td>1.411165</td>\n",
       "      <td>0.522446</td>\n",
       "      <td>-0.420813</td>\n",
       "      <td>-0.573944</td>\n",
       "      <td>1.433197</td>\n",
       "      <td>-0.406138</td>\n",
       "    </tr>\n",
       "  </tbody>\n",
       "</table>\n",
       "<p>113 rows × 8 columns</p>\n",
       "</div>"
      ],
      "text/plain": [
       "     Intercept      Dias      Edad    RayosX  Afiliado[T.Si]  Region[T.NE]  \\\n",
       "0          0.0 -1.323356  0.555660 -2.180123       -0.420813     -0.573944   \n",
       "1          0.0 -0.435275  1.118492 -1.552463       -0.420813     -0.573944   \n",
       "2          0.0 -0.687511  0.825819 -0.395702       -0.420813     -0.573944   \n",
       "3          0.0 -0.366961  0.105394  2.135687       -0.420813     -0.573944   \n",
       "4          0.0  0.815396  0.735766  0.377202       -0.420813      1.742330   \n",
       "..         ...       ...       ...       ...             ...           ...   \n",
       "108        0.0  1.130691  0.127907  1.829638        2.376354     -0.573944   \n",
       "109        0.0 -0.077940 -0.885190 -0.556507       -0.420813     -0.573944   \n",
       "110        0.0 -1.023825  0.825819 -0.712125       -0.420813     -0.573944   \n",
       "111        0.0  4.357210  0.668226  0.527633        2.376354      1.742330   \n",
       "112        0.0 -0.125234  1.411165  0.522446       -0.420813     -0.573944   \n",
       "\n",
       "     Region[T.S]  Region[T.W]  \n",
       "0      -0.697741     2.462214  \n",
       "1      -0.697741    -0.406138  \n",
       "2       1.433197    -0.406138  \n",
       "3      -0.697741     2.462214  \n",
       "4      -0.697741    -0.406138  \n",
       "..           ...          ...  \n",
       "108    -0.697741    -0.406138  \n",
       "109     1.433197    -0.406138  \n",
       "110    -0.697741     2.462214  \n",
       "111    -0.697741    -0.406138  \n",
       "112     1.433197    -0.406138  \n",
       "\n",
       "[113 rows x 8 columns]"
      ]
     },
     "execution_count": 46,
     "metadata": {},
     "output_type": "execute_result"
    }
   ],
   "source": [
    "# Podemos hacerlo también usando sklearn\n",
    "\n",
    "from sklearn.preprocessing import StandardScaler\n",
    "scaler = StandardScaler().set_output(transform=\"pandas\") # La última opción hace que nos devuelva un DataFrame\n",
    "\n",
    "# fit_transform calcula los coeficientes de la transformación y la aplica.\n",
    "X_scaled = scaler.fit_transform(X)\n",
    "X_scaled\n"
   ]
  },
  {
   "cell_type": "code",
   "execution_count": 47,
   "id": "a1a71c55-33a5-4c81-a90b-59d87e1d8289",
   "metadata": {},
   "outputs": [
    {
     "data": {
      "text/plain": [
       "<Axes: >"
      ]
     },
     "execution_count": 47,
     "metadata": {},
     "output_type": "execute_result"
    },
    {
     "data": {
      "image/png": "[encoded data removed]",
      "text/plain": [
       "<Figure size 640x480 with 1 Axes>"
      ]
     },
     "metadata": {},
     "output_type": "display_data"
    }
   ],
   "source": [
    "# Realizamos los boxplot\n",
    "sns.boxplot(X_standard)"
   ]
  },
  {
   "cell_type": "code",
   "execution_count": 21,
   "id": "8e078813",
   "metadata": {},
   "outputs": [
    {
     "name": "stdout",
     "output_type": "stream",
     "text": [
      "Raíz del Error Cuadrático Medio: 1.06547\n",
      "R cuadrado: 0.36299\n"
     ]
    }
   ],
   "source": [
    "# Realizamos nuevamente el ajuste lineal utilizando las variables estandarizadas\n",
    "\n",
    "# Inicializamos el modelo lineal\n",
    "modeloLineal = linear_model.LinearRegression() \n",
    "\n",
    "# Entrenamiento\n",
    "modeloLineal.fit(X_standard, y)\n",
    "\n",
    "# Predicciones\n",
    "y_pred = modeloLineal.predict(X_standard)\n",
    "\n",
    "# Evaluación\n",
    "rmse = np.sqrt(mean_squared_error(y, y_pred))\n",
    "print(f\"Raíz del Error Cuadrático Medio: {rmse:.5f}\")\n",
    "r2 = r2_score(y, y_pred)\n",
    "print(f\"R cuadrado: {r2:.5f}\")"
   ]
  },
  {
   "cell_type": "code",
   "execution_count": 22,
   "id": "d8e1d66a-9149-438b-885b-9a703422fed8",
   "metadata": {},
   "outputs": [
    {
     "data": {
      "text/plain": [
       "array([ 0.58907424, -0.10264026,  0.38071082])"
      ]
     },
     "execution_count": 22,
     "metadata": {},
     "output_type": "execute_result"
    }
   ],
   "source": [
    "modeloLineal.coef_"
   ]
  },
  {
   "cell_type": "markdown",
   "id": "dcf1c63d-5740-4237-a1ce-e54362eefb2d",
   "metadata": {},
   "source": [
    "Observamos que la variable con coeficiente mayor sigue siendo \"días de internación\" y que el coeficiente de la variable \"rayos X\" está más cerca que antes, indicando un peso similar en el modelo."
   ]
  },
  {
   "cell_type": "markdown",
   "id": "9e7f0e56-4b5b-433c-bbc1-1cf88d902fc2",
   "metadata": {},
   "source": [
    "## 3. Variables binarias"
   ]
  },
  {
   "cell_type": "markdown",
   "id": "db54fdd5",
   "metadata": {},
   "source": [
    "Queremos incorporar el modelo la variable \"Medical School Affiliation\", que es variable que toma valores Sí y No. ¿Cómo podemos hacerlo?\n",
    "\n",
    "Una posibilidad es convertir \"Sí\" a 1 y \"No\" a 0.\n",
    "\n",
    "Otra posibilidad es separar nuestra base en dos, y hacer dos modelos distintos para los hospitales afiliados y los no afiliados.\n",
    "\n",
    "Vamos a utilizar la primera opción."
   ]
  },
  {
   "cell_type": "code",
   "execution_count": 37,
   "id": "54d48a50-0477-4549-8a8e-a90432c909f0",
   "metadata": {},
   "outputs": [
    {
     "data": {
      "text/html": [
       "<div>\n",
       "<style scoped>\n",
       "    .dataframe tbody tr th:only-of-type {\n",
       "        vertical-align: middle;\n",
       "    }\n",
       "\n",
       "    .dataframe tbody tr th {\n",
       "        vertical-align: top;\n",
       "    }\n",
       "\n",
       "    .dataframe thead th {\n",
       "        text-align: right;\n",
       "    }\n",
       "</style>\n",
       "<table border=\"1\" class=\"dataframe\">\n",
       "  <thead>\n",
       "    <tr style=\"text-align: right;\">\n",
       "      <th></th>\n",
       "      <th>Id</th>\n",
       "      <th>Dias</th>\n",
       "      <th>Edad</th>\n",
       "      <th>Riesgo</th>\n",
       "      <th>Estudios</th>\n",
       "      <th>RayosX</th>\n",
       "      <th>Camas</th>\n",
       "      <th>Afiliado</th>\n",
       "      <th>Region</th>\n",
       "      <th>Pacientes</th>\n",
       "      <th>Enfermeros</th>\n",
       "      <th>I_afiliado</th>\n",
       "      <th>Region_W</th>\n",
       "    </tr>\n",
       "  </thead>\n",
       "  <tbody>\n",
       "    <tr>\n",
       "      <th>0</th>\n",
       "      <td>1</td>\n",
       "      <td>7.13</td>\n",
       "      <td>55.7</td>\n",
       "      <td>4.1</td>\n",
       "      <td>9.0</td>\n",
       "      <td>39.6</td>\n",
       "      <td>279</td>\n",
       "      <td>No</td>\n",
       "      <td>W</td>\n",
       "      <td>207</td>\n",
       "      <td>241</td>\n",
       "      <td>0</td>\n",
       "      <td>1</td>\n",
       "    </tr>\n",
       "    <tr>\n",
       "      <th>1</th>\n",
       "      <td>2</td>\n",
       "      <td>8.82</td>\n",
       "      <td>58.2</td>\n",
       "      <td>1.6</td>\n",
       "      <td>3.8</td>\n",
       "      <td>51.7</td>\n",
       "      <td>80</td>\n",
       "      <td>No</td>\n",
       "      <td>NC</td>\n",
       "      <td>51</td>\n",
       "      <td>52</td>\n",
       "      <td>0</td>\n",
       "      <td>0</td>\n",
       "    </tr>\n",
       "    <tr>\n",
       "      <th>2</th>\n",
       "      <td>3</td>\n",
       "      <td>8.34</td>\n",
       "      <td>56.9</td>\n",
       "      <td>2.7</td>\n",
       "      <td>8.1</td>\n",
       "      <td>74.0</td>\n",
       "      <td>107</td>\n",
       "      <td>No</td>\n",
       "      <td>S</td>\n",
       "      <td>82</td>\n",
       "      <td>54</td>\n",
       "      <td>0</td>\n",
       "      <td>0</td>\n",
       "    </tr>\n",
       "    <tr>\n",
       "      <th>3</th>\n",
       "      <td>4</td>\n",
       "      <td>8.95</td>\n",
       "      <td>53.7</td>\n",
       "      <td>5.6</td>\n",
       "      <td>18.9</td>\n",
       "      <td>122.8</td>\n",
       "      <td>147</td>\n",
       "      <td>No</td>\n",
       "      <td>W</td>\n",
       "      <td>53</td>\n",
       "      <td>148</td>\n",
       "      <td>0</td>\n",
       "      <td>1</td>\n",
       "    </tr>\n",
       "    <tr>\n",
       "      <th>4</th>\n",
       "      <td>5</td>\n",
       "      <td>11.20</td>\n",
       "      <td>56.5</td>\n",
       "      <td>5.7</td>\n",
       "      <td>34.5</td>\n",
       "      <td>88.9</td>\n",
       "      <td>180</td>\n",
       "      <td>No</td>\n",
       "      <td>NE</td>\n",
       "      <td>134</td>\n",
       "      <td>151</td>\n",
       "      <td>0</td>\n",
       "      <td>0</td>\n",
       "    </tr>\n",
       "  </tbody>\n",
       "</table>\n",
       "</div>"
      ],
      "text/plain": [
       "   Id   Dias  Edad  Riesgo  Estudios  RayosX  Camas Afiliado Region  \\\n",
       "0   1   7.13  55.7     4.1       9.0    39.6    279       No      W   \n",
       "1   2   8.82  58.2     1.6       3.8    51.7     80       No     NC   \n",
       "2   3   8.34  56.9     2.7       8.1    74.0    107       No      S   \n",
       "3   4   8.95  53.7     5.6      18.9   122.8    147       No      W   \n",
       "4   5  11.20  56.5     5.7      34.5    88.9    180       No     NE   \n",
       "\n",
       "   Pacientes  Enfermeros  I_afiliado  Region_W  \n",
       "0        207         241           0         1  \n",
       "1         51          52           0         0  \n",
       "2         82          54           0         0  \n",
       "3         53         148           0         1  \n",
       "4        134         151           0         0  "
      ]
     },
     "execution_count": 37,
     "metadata": {},
     "output_type": "execute_result"
    }
   ],
   "source": [
    "infecciones.head()"
   ]
  },
  {
   "cell_type": "code",
   "execution_count": 24,
   "id": "791a630d-6663-49e6-8ef1-e58c5c109b41",
   "metadata": {},
   "outputs": [
    {
     "data": {
      "text/plain": [
       "array(['No', 'Si'], dtype=object)"
      ]
     },
     "execution_count": 24,
     "metadata": {},
     "output_type": "execute_result"
    }
   ],
   "source": [
    "# Verificamos que son los únicos valores\n",
    "infecciones.Afiliado.unique()"
   ]
  },
  {
   "cell_type": "code",
   "execution_count": 38,
   "id": "a71679e8-fd4b-4f37-bd6d-e91c4b30473d",
   "metadata": {},
   "outputs": [
    {
     "data": {
      "text/html": [
       "<div>\n",
       "<style scoped>\n",
       "    .dataframe tbody tr th:only-of-type {\n",
       "        vertical-align: middle;\n",
       "    }\n",
       "\n",
       "    .dataframe tbody tr th {\n",
       "        vertical-align: top;\n",
       "    }\n",
       "\n",
       "    .dataframe thead th {\n",
       "        text-align: right;\n",
       "    }\n",
       "</style>\n",
       "<table border=\"1\" class=\"dataframe\">\n",
       "  <thead>\n",
       "    <tr style=\"text-align: right;\">\n",
       "      <th></th>\n",
       "      <th>Id</th>\n",
       "      <th>Dias</th>\n",
       "      <th>Edad</th>\n",
       "      <th>Riesgo</th>\n",
       "      <th>Estudios</th>\n",
       "      <th>RayosX</th>\n",
       "      <th>Camas</th>\n",
       "      <th>Afiliado</th>\n",
       "      <th>Region</th>\n",
       "      <th>Pacientes</th>\n",
       "      <th>Enfermeros</th>\n",
       "      <th>I_afiliado</th>\n",
       "      <th>Region_W</th>\n",
       "    </tr>\n",
       "  </thead>\n",
       "  <tbody>\n",
       "    <tr>\n",
       "      <th>0</th>\n",
       "      <td>1</td>\n",
       "      <td>7.13</td>\n",
       "      <td>55.7</td>\n",
       "      <td>4.1</td>\n",
       "      <td>9.0</td>\n",
       "      <td>39.6</td>\n",
       "      <td>279</td>\n",
       "      <td>No</td>\n",
       "      <td>W</td>\n",
       "      <td>207</td>\n",
       "      <td>241</td>\n",
       "      <td>0</td>\n",
       "      <td>1</td>\n",
       "    </tr>\n",
       "    <tr>\n",
       "      <th>1</th>\n",
       "      <td>2</td>\n",
       "      <td>8.82</td>\n",
       "      <td>58.2</td>\n",
       "      <td>1.6</td>\n",
       "      <td>3.8</td>\n",
       "      <td>51.7</td>\n",
       "      <td>80</td>\n",
       "      <td>No</td>\n",
       "      <td>NC</td>\n",
       "      <td>51</td>\n",
       "      <td>52</td>\n",
       "      <td>0</td>\n",
       "      <td>0</td>\n",
       "    </tr>\n",
       "    <tr>\n",
       "      <th>2</th>\n",
       "      <td>3</td>\n",
       "      <td>8.34</td>\n",
       "      <td>56.9</td>\n",
       "      <td>2.7</td>\n",
       "      <td>8.1</td>\n",
       "      <td>74.0</td>\n",
       "      <td>107</td>\n",
       "      <td>No</td>\n",
       "      <td>S</td>\n",
       "      <td>82</td>\n",
       "      <td>54</td>\n",
       "      <td>0</td>\n",
       "      <td>0</td>\n",
       "    </tr>\n",
       "    <tr>\n",
       "      <th>3</th>\n",
       "      <td>4</td>\n",
       "      <td>8.95</td>\n",
       "      <td>53.7</td>\n",
       "      <td>5.6</td>\n",
       "      <td>18.9</td>\n",
       "      <td>122.8</td>\n",
       "      <td>147</td>\n",
       "      <td>No</td>\n",
       "      <td>W</td>\n",
       "      <td>53</td>\n",
       "      <td>148</td>\n",
       "      <td>0</td>\n",
       "      <td>1</td>\n",
       "    </tr>\n",
       "    <tr>\n",
       "      <th>4</th>\n",
       "      <td>5</td>\n",
       "      <td>11.20</td>\n",
       "      <td>56.5</td>\n",
       "      <td>5.7</td>\n",
       "      <td>34.5</td>\n",
       "      <td>88.9</td>\n",
       "      <td>180</td>\n",
       "      <td>No</td>\n",
       "      <td>NE</td>\n",
       "      <td>134</td>\n",
       "      <td>151</td>\n",
       "      <td>0</td>\n",
       "      <td>0</td>\n",
       "    </tr>\n",
       "  </tbody>\n",
       "</table>\n",
       "</div>"
      ],
      "text/plain": [
       "   Id   Dias  Edad  Riesgo  Estudios  RayosX  Camas Afiliado Region  \\\n",
       "0   1   7.13  55.7     4.1       9.0    39.6    279       No      W   \n",
       "1   2   8.82  58.2     1.6       3.8    51.7     80       No     NC   \n",
       "2   3   8.34  56.9     2.7       8.1    74.0    107       No      S   \n",
       "3   4   8.95  53.7     5.6      18.9   122.8    147       No      W   \n",
       "4   5  11.20  56.5     5.7      34.5    88.9    180       No     NE   \n",
       "\n",
       "   Pacientes  Enfermeros  I_afiliado  Region_W  \n",
       "0        207         241           0         1  \n",
       "1         51          52           0         0  \n",
       "2         82          54           0         0  \n",
       "3         53         148           0         1  \n",
       "4        134         151           0         0  "
      ]
     },
     "execution_count": 38,
     "metadata": {},
     "output_type": "execute_result"
    }
   ],
   "source": [
    "# Usamos map para convertir los valores\n",
    "infecciones[\"I_afiliado\"] = infecciones[\"Afiliado\"].map({'Si': 1, 'No': 0})\n",
    "infecciones.head()\n",
    "\n",
    "# Pregunta: ¿Qué otras opciones tenemos?"
   ]
  },
  {
   "cell_type": "code",
   "execution_count": 39,
   "id": "6fc0bcf1-2d9f-437e-b1f0-63616ccf96b1",
   "metadata": {},
   "outputs": [],
   "source": [
    "# También podemos usar Formulaic que hace la codificación automáticamente.\n",
    "y, X = (\n",
    "    Formula('Riesgo ~ Dias + Edad + RayosX + Afiliado')\n",
    "    .get_model_matrix(infecciones)\n",
    ")"
   ]
  },
  {
   "cell_type": "code",
   "execution_count": 27,
   "id": "f00cd8a9-fac7-4a22-8037-092c3222e0cf",
   "metadata": {},
   "outputs": [
    {
     "data": {
      "text/html": [
       "<div>\n",
       "<style scoped>\n",
       "    .dataframe tbody tr th:only-of-type {\n",
       "        vertical-align: middle;\n",
       "    }\n",
       "\n",
       "    .dataframe tbody tr th {\n",
       "        vertical-align: top;\n",
       "    }\n",
       "\n",
       "    .dataframe thead th {\n",
       "        text-align: right;\n",
       "    }\n",
       "</style>\n",
       "<table border=\"1\" class=\"dataframe\">\n",
       "  <thead>\n",
       "    <tr style=\"text-align: right;\">\n",
       "      <th></th>\n",
       "      <th>Intercept</th>\n",
       "      <th>Dias</th>\n",
       "      <th>Edad</th>\n",
       "      <th>RayosX</th>\n",
       "      <th>Afiliado[T.Si]</th>\n",
       "    </tr>\n",
       "  </thead>\n",
       "  <tbody>\n",
       "    <tr>\n",
       "      <th>0</th>\n",
       "      <td>1.0</td>\n",
       "      <td>7.13</td>\n",
       "      <td>55.7</td>\n",
       "      <td>39.6</td>\n",
       "      <td>0</td>\n",
       "    </tr>\n",
       "    <tr>\n",
       "      <th>1</th>\n",
       "      <td>1.0</td>\n",
       "      <td>8.82</td>\n",
       "      <td>58.2</td>\n",
       "      <td>51.7</td>\n",
       "      <td>0</td>\n",
       "    </tr>\n",
       "    <tr>\n",
       "      <th>2</th>\n",
       "      <td>1.0</td>\n",
       "      <td>8.34</td>\n",
       "      <td>56.9</td>\n",
       "      <td>74.0</td>\n",
       "      <td>0</td>\n",
       "    </tr>\n",
       "    <tr>\n",
       "      <th>3</th>\n",
       "      <td>1.0</td>\n",
       "      <td>8.95</td>\n",
       "      <td>53.7</td>\n",
       "      <td>122.8</td>\n",
       "      <td>0</td>\n",
       "    </tr>\n",
       "    <tr>\n",
       "      <th>4</th>\n",
       "      <td>1.0</td>\n",
       "      <td>11.20</td>\n",
       "      <td>56.5</td>\n",
       "      <td>88.9</td>\n",
       "      <td>0</td>\n",
       "    </tr>\n",
       "    <tr>\n",
       "      <th>...</th>\n",
       "      <td>...</td>\n",
       "      <td>...</td>\n",
       "      <td>...</td>\n",
       "      <td>...</td>\n",
       "      <td>...</td>\n",
       "    </tr>\n",
       "    <tr>\n",
       "      <th>108</th>\n",
       "      <td>1.0</td>\n",
       "      <td>11.80</td>\n",
       "      <td>53.8</td>\n",
       "      <td>116.9</td>\n",
       "      <td>1</td>\n",
       "    </tr>\n",
       "    <tr>\n",
       "      <th>109</th>\n",
       "      <td>1.0</td>\n",
       "      <td>9.50</td>\n",
       "      <td>49.3</td>\n",
       "      <td>70.9</td>\n",
       "      <td>0</td>\n",
       "    </tr>\n",
       "    <tr>\n",
       "      <th>110</th>\n",
       "      <td>1.0</td>\n",
       "      <td>7.70</td>\n",
       "      <td>56.9</td>\n",
       "      <td>67.9</td>\n",
       "      <td>0</td>\n",
       "    </tr>\n",
       "    <tr>\n",
       "      <th>111</th>\n",
       "      <td>1.0</td>\n",
       "      <td>17.94</td>\n",
       "      <td>56.2</td>\n",
       "      <td>91.8</td>\n",
       "      <td>1</td>\n",
       "    </tr>\n",
       "    <tr>\n",
       "      <th>112</th>\n",
       "      <td>1.0</td>\n",
       "      <td>9.41</td>\n",
       "      <td>59.5</td>\n",
       "      <td>91.7</td>\n",
       "      <td>0</td>\n",
       "    </tr>\n",
       "  </tbody>\n",
       "</table>\n",
       "<p>113 rows × 5 columns</p>\n",
       "</div>"
      ],
      "text/plain": [
       "     Intercept   Dias  Edad  RayosX  Afiliado[T.Si]\n",
       "0          1.0   7.13  55.7    39.6               0\n",
       "1          1.0   8.82  58.2    51.7               0\n",
       "2          1.0   8.34  56.9    74.0               0\n",
       "3          1.0   8.95  53.7   122.8               0\n",
       "4          1.0  11.20  56.5    88.9               0\n",
       "..         ...    ...   ...     ...             ...\n",
       "108        1.0  11.80  53.8   116.9               1\n",
       "109        1.0   9.50  49.3    70.9               0\n",
       "110        1.0   7.70  56.9    67.9               0\n",
       "111        1.0  17.94  56.2    91.8               1\n",
       "112        1.0   9.41  59.5    91.7               0\n",
       "\n",
       "[113 rows x 5 columns]"
      ]
     },
     "execution_count": 27,
     "metadata": {},
     "output_type": "execute_result"
    }
   ],
   "source": [
    "X"
   ]
  },
  {
   "cell_type": "markdown",
   "id": "97144929-2ddc-4af1-abcb-3684a89fb623",
   "metadata": {},
   "source": [
    "**Pregunta:** es necesario agregar también una variable que indique si el hospital NO está afiliado?\n",
    "\n",
    "**Respuesta:** cuando hay intercept, no necesitamos agregar esa columna, porque estaríamos agregando variables linealmente dependientes:\n",
    "\n",
    "Intercept = Afiliado[T.Si] + Afiliado[T.No]\n",
    "\n",
    "En modelos lineales, variables dependientes no solo son innecesarias sino que además agregan inestabilidad en la solución, hay infinitas soluciones al problema de mínimos cuadrados.\n",
    "\n",
    "**Importante:** Si no usamos intercept, entonces tiene sentido utilizar las dos indicadoras!"
   ]
  },
  {
   "cell_type": "code",
   "execution_count": 41,
   "id": "2cdd2593-31c8-4492-bab2-a521cdaa9f86",
   "metadata": {},
   "outputs": [
    {
     "data": {
      "text/html": [
       "<div>\n",
       "<style scoped>\n",
       "    .dataframe tbody tr th:only-of-type {\n",
       "        vertical-align: middle;\n",
       "    }\n",
       "\n",
       "    .dataframe tbody tr th {\n",
       "        vertical-align: top;\n",
       "    }\n",
       "\n",
       "    .dataframe thead th {\n",
       "        text-align: right;\n",
       "    }\n",
       "</style>\n",
       "<table border=\"1\" class=\"dataframe\">\n",
       "  <thead>\n",
       "    <tr style=\"text-align: right;\">\n",
       "      <th></th>\n",
       "      <th>Dias</th>\n",
       "      <th>Edad</th>\n",
       "      <th>RayosX</th>\n",
       "      <th>Afiliado[No]</th>\n",
       "      <th>Afiliado[Si]</th>\n",
       "    </tr>\n",
       "  </thead>\n",
       "  <tbody>\n",
       "    <tr>\n",
       "      <th>0</th>\n",
       "      <td>7.13</td>\n",
       "      <td>55.7</td>\n",
       "      <td>39.6</td>\n",
       "      <td>1</td>\n",
       "      <td>0</td>\n",
       "    </tr>\n",
       "    <tr>\n",
       "      <th>1</th>\n",
       "      <td>8.82</td>\n",
       "      <td>58.2</td>\n",
       "      <td>51.7</td>\n",
       "      <td>1</td>\n",
       "      <td>0</td>\n",
       "    </tr>\n",
       "    <tr>\n",
       "      <th>2</th>\n",
       "      <td>8.34</td>\n",
       "      <td>56.9</td>\n",
       "      <td>74.0</td>\n",
       "      <td>1</td>\n",
       "      <td>0</td>\n",
       "    </tr>\n",
       "    <tr>\n",
       "      <th>3</th>\n",
       "      <td>8.95</td>\n",
       "      <td>53.7</td>\n",
       "      <td>122.8</td>\n",
       "      <td>1</td>\n",
       "      <td>0</td>\n",
       "    </tr>\n",
       "    <tr>\n",
       "      <th>4</th>\n",
       "      <td>11.20</td>\n",
       "      <td>56.5</td>\n",
       "      <td>88.9</td>\n",
       "      <td>1</td>\n",
       "      <td>0</td>\n",
       "    </tr>\n",
       "  </tbody>\n",
       "</table>\n",
       "</div>"
      ],
      "text/plain": [
       "    Dias  Edad  RayosX  Afiliado[No]  Afiliado[Si]\n",
       "0   7.13  55.7    39.6             1             0\n",
       "1   8.82  58.2    51.7             1             0\n",
       "2   8.34  56.9    74.0             1             0\n",
       "3   8.95  53.7   122.8             1             0\n",
       "4  11.20  56.5    88.9             1             0"
      ]
     },
     "execution_count": 41,
     "metadata": {},
     "output_type": "execute_result"
    }
   ],
   "source": [
    "# Qué hace formulaic cuando no hay intercept?\n",
    "y, X = (\n",
    "    Formula('Riesgo ~ Dias + Edad + RayosX + Afiliado - 1')\n",
    "    .get_model_matrix(infecciones)\n",
    ")\n",
    "\n",
    "X.head()"
   ]
  },
  {
   "cell_type": "code",
   "execution_count": 29,
   "id": "a65440b5",
   "metadata": {},
   "outputs": [
    {
     "name": "stdout",
     "output_type": "stream",
     "text": [
      "Raíz del Error Cuadrático Medio: 1.06115\n",
      "R cuadrado: 0.36814\n"
     ]
    }
   ],
   "source": [
    "# Veamos cómo mejora nuestro modelo utilizando esta variable.\n",
    "# (no es necesario escalar variables si solo queremos ver la \"bondad\" del modelo)\n",
    "y, X = (\n",
    "    Formula('Riesgo ~ Dias + Edad + RayosX + Afiliado')\n",
    "    .get_model_matrix(infecciones)\n",
    ")\n",
    "\n",
    "# Realizamos nuevamente el ajuste lineal utilizando las variables estandarizadas\n",
    "\n",
    "# Inicializamos el modelo lineal\n",
    "modeloLineal = linear_model.LinearRegression() \n",
    "\n",
    "# Entrenamiento\n",
    "modeloLineal.fit(X, y)\n",
    "\n",
    "# Predicciones\n",
    "y_pred = modeloLineal.predict(X)\n",
    "\n",
    "# Evaluación\n",
    "rmse = np.sqrt(mean_squared_error(y, y_pred))\n",
    "print(f\"Raíz del Error Cuadrático Medio: {rmse:.5f}\")\n",
    "r2 = r2_score(y, y_pred)\n",
    "print(f\"R cuadrado: {r2:.5f}\")"
   ]
  },
  {
   "cell_type": "markdown",
   "id": "b05044f0-10c6-4c62-b192-2aba14fc4a4c",
   "metadata": {},
   "source": [
    "Obtuvimos una muy leve mejora, no es una variable relevante en el modelo."
   ]
  },
  {
   "cell_type": "markdown",
   "id": "359eb05f",
   "metadata": {},
   "source": [
    "## 4. Variables categóricas (One Hot Encoding)"
   ]
  },
  {
   "cell_type": "markdown",
   "id": "eb5797e9-c680-45d7-9928-a1ceea533498",
   "metadata": {},
   "source": [
    "Queremos incorporar ahora la variable \"Region\". Veamos qué valores toma esta variable."
   ]
  },
  {
   "cell_type": "code",
   "execution_count": 30,
   "id": "ebc73715-8056-462f-b50c-6d93a402a9c7",
   "metadata": {},
   "outputs": [
    {
     "data": {
      "text/plain": [
       "array(['W', 'NC', 'S', 'NE'], dtype=object)"
      ]
     },
     "execution_count": 30,
     "metadata": {},
     "output_type": "execute_result"
    }
   ],
   "source": [
    "infecciones.Region.unique()"
   ]
  },
  {
   "cell_type": "markdown",
   "id": "7a0df423-3a8e-45fc-bd5b-819c7493a477",
   "metadata": {},
   "source": [
    "En este caso no podemos usar una variable 0-1 para codificar 4 valores.\n",
    "\n",
    "Podríamos usar una variable con 4 valores 1,2,3,4?\n",
    "\n",
    "Esto podemos hacerlo en algunos casos para variables categóricas ordinales, pero NO para variables nominales. ¿Por qué?"
   ]
  },
  {
   "cell_type": "markdown",
   "id": "3d51334a-c499-4464-90d7-e621a66be38f",
   "metadata": {},
   "source": [
    "En este caso, vamos a agregar variables \"indicadoras\" o variables dummies (*dummy* significa maniquí, no es la variable real sino una variable que reemplaza los valores reales)."
   ]
  },
  {
   "cell_type": "markdown",
   "id": "547892bc-11d7-48eb-840b-8a812275ad18",
   "metadata": {},
   "source": [
    "Para cada categoría agregamos una variable 0-1 que indica si la observación pertenece a la categoría."
   ]
  },
  {
   "cell_type": "code",
   "execution_count": 42,
   "id": "35ccf4b9-e99f-4588-a882-1e05ccfe5657",
   "metadata": {},
   "outputs": [
    {
     "data": {
      "text/html": [
       "<div>\n",
       "<style scoped>\n",
       "    .dataframe tbody tr th:only-of-type {\n",
       "        vertical-align: middle;\n",
       "    }\n",
       "\n",
       "    .dataframe tbody tr th {\n",
       "        vertical-align: top;\n",
       "    }\n",
       "\n",
       "    .dataframe thead th {\n",
       "        text-align: right;\n",
       "    }\n",
       "</style>\n",
       "<table border=\"1\" class=\"dataframe\">\n",
       "  <thead>\n",
       "    <tr style=\"text-align: right;\">\n",
       "      <th></th>\n",
       "      <th>Id</th>\n",
       "      <th>Dias</th>\n",
       "      <th>Edad</th>\n",
       "      <th>Riesgo</th>\n",
       "      <th>Estudios</th>\n",
       "      <th>RayosX</th>\n",
       "      <th>Camas</th>\n",
       "      <th>Afiliado</th>\n",
       "      <th>Region</th>\n",
       "      <th>Pacientes</th>\n",
       "      <th>Enfermeros</th>\n",
       "      <th>I_afiliado</th>\n",
       "      <th>Region_W</th>\n",
       "    </tr>\n",
       "  </thead>\n",
       "  <tbody>\n",
       "    <tr>\n",
       "      <th>0</th>\n",
       "      <td>1</td>\n",
       "      <td>7.13</td>\n",
       "      <td>55.7</td>\n",
       "      <td>4.1</td>\n",
       "      <td>9.0</td>\n",
       "      <td>39.6</td>\n",
       "      <td>279</td>\n",
       "      <td>No</td>\n",
       "      <td>W</td>\n",
       "      <td>207</td>\n",
       "      <td>241</td>\n",
       "      <td>0</td>\n",
       "      <td>1</td>\n",
       "    </tr>\n",
       "    <tr>\n",
       "      <th>1</th>\n",
       "      <td>2</td>\n",
       "      <td>8.82</td>\n",
       "      <td>58.2</td>\n",
       "      <td>1.6</td>\n",
       "      <td>3.8</td>\n",
       "      <td>51.7</td>\n",
       "      <td>80</td>\n",
       "      <td>No</td>\n",
       "      <td>NC</td>\n",
       "      <td>51</td>\n",
       "      <td>52</td>\n",
       "      <td>0</td>\n",
       "      <td>0</td>\n",
       "    </tr>\n",
       "    <tr>\n",
       "      <th>2</th>\n",
       "      <td>3</td>\n",
       "      <td>8.34</td>\n",
       "      <td>56.9</td>\n",
       "      <td>2.7</td>\n",
       "      <td>8.1</td>\n",
       "      <td>74.0</td>\n",
       "      <td>107</td>\n",
       "      <td>No</td>\n",
       "      <td>S</td>\n",
       "      <td>82</td>\n",
       "      <td>54</td>\n",
       "      <td>0</td>\n",
       "      <td>0</td>\n",
       "    </tr>\n",
       "    <tr>\n",
       "      <th>3</th>\n",
       "      <td>4</td>\n",
       "      <td>8.95</td>\n",
       "      <td>53.7</td>\n",
       "      <td>5.6</td>\n",
       "      <td>18.9</td>\n",
       "      <td>122.8</td>\n",
       "      <td>147</td>\n",
       "      <td>No</td>\n",
       "      <td>W</td>\n",
       "      <td>53</td>\n",
       "      <td>148</td>\n",
       "      <td>0</td>\n",
       "      <td>1</td>\n",
       "    </tr>\n",
       "    <tr>\n",
       "      <th>4</th>\n",
       "      <td>5</td>\n",
       "      <td>11.20</td>\n",
       "      <td>56.5</td>\n",
       "      <td>5.7</td>\n",
       "      <td>34.5</td>\n",
       "      <td>88.9</td>\n",
       "      <td>180</td>\n",
       "      <td>No</td>\n",
       "      <td>NE</td>\n",
       "      <td>134</td>\n",
       "      <td>151</td>\n",
       "      <td>0</td>\n",
       "      <td>0</td>\n",
       "    </tr>\n",
       "  </tbody>\n",
       "</table>\n",
       "</div>"
      ],
      "text/plain": [
       "   Id   Dias  Edad  Riesgo  Estudios  RayosX  Camas Afiliado Region  \\\n",
       "0   1   7.13  55.7     4.1       9.0    39.6    279       No      W   \n",
       "1   2   8.82  58.2     1.6       3.8    51.7     80       No     NC   \n",
       "2   3   8.34  56.9     2.7       8.1    74.0    107       No      S   \n",
       "3   4   8.95  53.7     5.6      18.9   122.8    147       No      W   \n",
       "4   5  11.20  56.5     5.7      34.5    88.9    180       No     NE   \n",
       "\n",
       "   Pacientes  Enfermeros  I_afiliado  Region_W  \n",
       "0        207         241           0         1  \n",
       "1         51          52           0         0  \n",
       "2         82          54           0         0  \n",
       "3         53         148           0         1  \n",
       "4        134         151           0         0  "
      ]
     },
     "execution_count": 42,
     "metadata": {},
     "output_type": "execute_result"
    }
   ],
   "source": [
    "# En este caso usar map es medio engorroso...\n",
    "infecciones[\"Region_W\"] = infecciones.Region.map({\"W\": 1, \"NC\": 0, \"S\": 0, \"NE\": 0})\n",
    "infecciones.head()"
   ]
  },
  {
   "cell_type": "code",
   "execution_count": 43,
   "id": "ec3b7264-575e-4d8b-873c-e18d24ce0a9b",
   "metadata": {},
   "outputs": [
    {
     "data": {
      "text/html": [
       "<div>\n",
       "<style scoped>\n",
       "    .dataframe tbody tr th:only-of-type {\n",
       "        vertical-align: middle;\n",
       "    }\n",
       "\n",
       "    .dataframe tbody tr th {\n",
       "        vertical-align: top;\n",
       "    }\n",
       "\n",
       "    .dataframe thead th {\n",
       "        text-align: right;\n",
       "    }\n",
       "</style>\n",
       "<table border=\"1\" class=\"dataframe\">\n",
       "  <thead>\n",
       "    <tr style=\"text-align: right;\">\n",
       "      <th></th>\n",
       "      <th>Id</th>\n",
       "      <th>Dias</th>\n",
       "      <th>Edad</th>\n",
       "      <th>Riesgo</th>\n",
       "      <th>Estudios</th>\n",
       "      <th>RayosX</th>\n",
       "      <th>Camas</th>\n",
       "      <th>Afiliado</th>\n",
       "      <th>Region</th>\n",
       "      <th>Pacientes</th>\n",
       "      <th>Enfermeros</th>\n",
       "      <th>I_afiliado</th>\n",
       "      <th>Region_W</th>\n",
       "    </tr>\n",
       "  </thead>\n",
       "  <tbody>\n",
       "    <tr>\n",
       "      <th>0</th>\n",
       "      <td>1</td>\n",
       "      <td>7.13</td>\n",
       "      <td>55.7</td>\n",
       "      <td>4.1</td>\n",
       "      <td>9.0</td>\n",
       "      <td>39.6</td>\n",
       "      <td>279</td>\n",
       "      <td>No</td>\n",
       "      <td>W</td>\n",
       "      <td>207</td>\n",
       "      <td>241</td>\n",
       "      <td>0</td>\n",
       "      <td>1</td>\n",
       "    </tr>\n",
       "    <tr>\n",
       "      <th>1</th>\n",
       "      <td>2</td>\n",
       "      <td>8.82</td>\n",
       "      <td>58.2</td>\n",
       "      <td>1.6</td>\n",
       "      <td>3.8</td>\n",
       "      <td>51.7</td>\n",
       "      <td>80</td>\n",
       "      <td>No</td>\n",
       "      <td>NC</td>\n",
       "      <td>51</td>\n",
       "      <td>52</td>\n",
       "      <td>0</td>\n",
       "      <td>0</td>\n",
       "    </tr>\n",
       "    <tr>\n",
       "      <th>2</th>\n",
       "      <td>3</td>\n",
       "      <td>8.34</td>\n",
       "      <td>56.9</td>\n",
       "      <td>2.7</td>\n",
       "      <td>8.1</td>\n",
       "      <td>74.0</td>\n",
       "      <td>107</td>\n",
       "      <td>No</td>\n",
       "      <td>S</td>\n",
       "      <td>82</td>\n",
       "      <td>54</td>\n",
       "      <td>0</td>\n",
       "      <td>0</td>\n",
       "    </tr>\n",
       "    <tr>\n",
       "      <th>3</th>\n",
       "      <td>4</td>\n",
       "      <td>8.95</td>\n",
       "      <td>53.7</td>\n",
       "      <td>5.6</td>\n",
       "      <td>18.9</td>\n",
       "      <td>122.8</td>\n",
       "      <td>147</td>\n",
       "      <td>No</td>\n",
       "      <td>W</td>\n",
       "      <td>53</td>\n",
       "      <td>148</td>\n",
       "      <td>0</td>\n",
       "      <td>1</td>\n",
       "    </tr>\n",
       "    <tr>\n",
       "      <th>4</th>\n",
       "      <td>5</td>\n",
       "      <td>11.20</td>\n",
       "      <td>56.5</td>\n",
       "      <td>5.7</td>\n",
       "      <td>34.5</td>\n",
       "      <td>88.9</td>\n",
       "      <td>180</td>\n",
       "      <td>No</td>\n",
       "      <td>NE</td>\n",
       "      <td>134</td>\n",
       "      <td>151</td>\n",
       "      <td>0</td>\n",
       "      <td>0</td>\n",
       "    </tr>\n",
       "  </tbody>\n",
       "</table>\n",
       "</div>"
      ],
      "text/plain": [
       "   Id   Dias  Edad  Riesgo  Estudios  RayosX  Camas Afiliado Region  \\\n",
       "0   1   7.13  55.7     4.1       9.0    39.6    279       No      W   \n",
       "1   2   8.82  58.2     1.6       3.8    51.7     80       No     NC   \n",
       "2   3   8.34  56.9     2.7       8.1    74.0    107       No      S   \n",
       "3   4   8.95  53.7     5.6      18.9   122.8    147       No      W   \n",
       "4   5  11.20  56.5     5.7      34.5    88.9    180       No     NE   \n",
       "\n",
       "   Pacientes  Enfermeros  I_afiliado  Region_W  \n",
       "0        207         241           0         1  \n",
       "1         51          52           0         0  \n",
       "2         82          54           0         0  \n",
       "3         53         148           0         1  \n",
       "4        134         151           0         0  "
      ]
     },
     "execution_count": 43,
     "metadata": {},
     "output_type": "execute_result"
    }
   ],
   "source": [
    "# Podemos simplemente comparar con \"W\" y multiplicar por 1 para convertir True a 1 y False a 0.\n",
    "infecciones[\"Region_W\"] = (infecciones.Region == \"W\")*1\n",
    "infecciones.head()"
   ]
  },
  {
   "cell_type": "code",
   "execution_count": 44,
   "id": "687f4c65-1dfe-4ef2-bffd-58c65e4f3a06",
   "metadata": {},
   "outputs": [
    {
     "data": {
      "text/html": [
       "<div>\n",
       "<style scoped>\n",
       "    .dataframe tbody tr th:only-of-type {\n",
       "        vertical-align: middle;\n",
       "    }\n",
       "\n",
       "    .dataframe tbody tr th {\n",
       "        vertical-align: top;\n",
       "    }\n",
       "\n",
       "    .dataframe thead th {\n",
       "        text-align: right;\n",
       "    }\n",
       "</style>\n",
       "<table border=\"1\" class=\"dataframe\">\n",
       "  <thead>\n",
       "    <tr style=\"text-align: right;\">\n",
       "      <th></th>\n",
       "      <th>Intercept</th>\n",
       "      <th>Dias</th>\n",
       "      <th>Edad</th>\n",
       "      <th>RayosX</th>\n",
       "      <th>Afiliado[T.Si]</th>\n",
       "      <th>Region[T.NE]</th>\n",
       "      <th>Region[T.S]</th>\n",
       "      <th>Region[T.W]</th>\n",
       "    </tr>\n",
       "  </thead>\n",
       "  <tbody>\n",
       "    <tr>\n",
       "      <th>0</th>\n",
       "      <td>1.0</td>\n",
       "      <td>7.13</td>\n",
       "      <td>55.7</td>\n",
       "      <td>39.6</td>\n",
       "      <td>0</td>\n",
       "      <td>0</td>\n",
       "      <td>0</td>\n",
       "      <td>1</td>\n",
       "    </tr>\n",
       "    <tr>\n",
       "      <th>1</th>\n",
       "      <td>1.0</td>\n",
       "      <td>8.82</td>\n",
       "      <td>58.2</td>\n",
       "      <td>51.7</td>\n",
       "      <td>0</td>\n",
       "      <td>0</td>\n",
       "      <td>0</td>\n",
       "      <td>0</td>\n",
       "    </tr>\n",
       "    <tr>\n",
       "      <th>2</th>\n",
       "      <td>1.0</td>\n",
       "      <td>8.34</td>\n",
       "      <td>56.9</td>\n",
       "      <td>74.0</td>\n",
       "      <td>0</td>\n",
       "      <td>0</td>\n",
       "      <td>1</td>\n",
       "      <td>0</td>\n",
       "    </tr>\n",
       "    <tr>\n",
       "      <th>3</th>\n",
       "      <td>1.0</td>\n",
       "      <td>8.95</td>\n",
       "      <td>53.7</td>\n",
       "      <td>122.8</td>\n",
       "      <td>0</td>\n",
       "      <td>0</td>\n",
       "      <td>0</td>\n",
       "      <td>1</td>\n",
       "    </tr>\n",
       "    <tr>\n",
       "      <th>4</th>\n",
       "      <td>1.0</td>\n",
       "      <td>11.20</td>\n",
       "      <td>56.5</td>\n",
       "      <td>88.9</td>\n",
       "      <td>0</td>\n",
       "      <td>1</td>\n",
       "      <td>0</td>\n",
       "      <td>0</td>\n",
       "    </tr>\n",
       "  </tbody>\n",
       "</table>\n",
       "</div>"
      ],
      "text/plain": [
       "   Intercept   Dias  Edad  RayosX  Afiliado[T.Si]  Region[T.NE]  Region[T.S]  \\\n",
       "0        1.0   7.13  55.7    39.6               0             0            0   \n",
       "1        1.0   8.82  58.2    51.7               0             0            0   \n",
       "2        1.0   8.34  56.9    74.0               0             0            1   \n",
       "3        1.0   8.95  53.7   122.8               0             0            0   \n",
       "4        1.0  11.20  56.5    88.9               0             1            0   \n",
       "\n",
       "   Region[T.W]  \n",
       "0            1  \n",
       "1            0  \n",
       "2            0  \n",
       "3            1  \n",
       "4            0  "
      ]
     },
     "execution_count": 44,
     "metadata": {},
     "output_type": "execute_result"
    }
   ],
   "source": [
    "# Y podemos hacerlo también automáticamente con Formulaic\n",
    "# Qué hace formulaic cuando no hay intercept?\n",
    "y, X = (\n",
    "    Formula('Riesgo ~ Dias + Edad + RayosX + Afiliado + Region')\n",
    "    .get_model_matrix(infecciones)\n",
    ")\n",
    "\n",
    "X.head()"
   ]
  },
  {
   "cell_type": "markdown",
   "id": "4876e066-bdc5-4d7f-b94f-0e9b28f5146c",
   "metadata": {},
   "source": [
    "*Pregunta:* Por qué hay solo 3 variables indicadoras?\n",
    "\n",
    "Nuevamente, queremos evitar dependencia lineal entre variables, siempre (si hay intercept) agregamos una variable menos que la cantidad total de categorías."
   ]
  },
  {
   "cell_type": "code",
   "execution_count": 45,
   "id": "e664de49-3286-45f1-a428-653ae4fb6d1f",
   "metadata": {},
   "outputs": [
    {
     "name": "stdout",
     "output_type": "stream",
     "text": [
      "Raíz del Error Cuadrático Medio: 1.03135\n",
      "R cuadrado: 0.40313\n"
     ]
    }
   ],
   "source": [
    "# Veamos cómo mejora nuestro modelo utilizando esta variable.\n",
    "# (no es necesario escalar variables si solo queremos ver la \"bondad\" del modelo)\n",
    "y, X = (\n",
    "    Formula('Riesgo ~ Dias + Edad + RayosX + Afiliado + Region')\n",
    "    .get_model_matrix(infecciones)\n",
    ")\n",
    "\n",
    "# Realizamos nuevamente el ajuste lineal utilizando las variables estandarizadas\n",
    "\n",
    "# Inicializamos el modelo lineal\n",
    "modeloLineal = linear_model.LinearRegression() \n",
    "\n",
    "# Entrenamiento\n",
    "modeloLineal.fit(X, y)\n",
    "\n",
    "# Predicciones\n",
    "y_pred = modeloLineal.predict(X)\n",
    "\n",
    "# Evaluación\n",
    "rmse = np.sqrt(mean_squared_error(y, y_pred))\n",
    "print(f\"Raíz del Error Cuadrático Medio: {rmse:.5f}\")\n",
    "r2 = r2_score(y, y_pred)\n",
    "print(f\"R cuadrado: {r2:.5f}\")"
   ]
  },
  {
   "cell_type": "markdown",
   "id": "ba86163f-cf5b-42ff-8bf6-cccea0553204",
   "metadata": {},
   "source": [
    "En esta ocasión vemos una mejor más significativa en el R^2."
   ]
  },
  {
   "cell_type": "markdown",
   "id": "ae4e592f-3cef-4903-92b7-24ec3051a979",
   "metadata": {},
   "source": [
    "Para terminar el ejemplo, veamos qué pasa si agregamos todas las variables."
   ]
  },
  {
   "cell_type": "code",
   "execution_count": null,
   "id": "9bb9d9b3-7e40-47d9-9ba1-e39b2b208960",
   "metadata": {},
   "outputs": [],
   "source": [
    "# Veamos cómo mejora nuestro modelo utilizando esta variable.\n",
    "# (no es necesario escalar variables si solo queremos ver la \"bondad\" del modelo)\n",
    "y, X = (\n",
    "    Formula('Riesgo ~ Dias + Edad + Estudios + RayosX + Camas + Afiliado + Region + Pacientes + Enfermeros')\n",
    "    .get_model_matrix(infecciones)\n",
    ")\n",
    "\n",
    "# Realizamos nuevamente el ajuste lineal utilizando las variables estandarizadas\n",
    "\n",
    "# Inicializamos el modelo lineal\n",
    "modeloLineal = linear_model.LinearRegression() \n",
    "\n",
    "# Entrenamiento\n",
    "modeloLineal.fit(X, y)\n",
    "\n",
    "# Predicciones\n",
    "y_pred = modeloLineal.predict(X)\n",
    "\n",
    "# Evaluación\n",
    "rmse = np.sqrt(mean_squared_error(y, y_pred))\n",
    "print(f\"Raíz del Error Cuadrático Medio: {rmse:.5f}\")\n",
    "r2 = r2_score(y, y_pred)\n",
    "print(f\"R cuadrado: {r2:.5f}\")"
   ]
  },
  {
   "cell_type": "markdown",
   "id": "c0aa983f-0028-429c-9e0c-c9df26c7de12",
   "metadata": {},
   "source": [
    "Qué otra posibilidad tenemos para manejar la región?\n",
    "Podemos hacer distintos modelos para cada región. Veamos si esto mejora las predicciones."
   ]
  },
  {
   "cell_type": "code",
   "execution_count": null,
   "id": "a22a98be-14bf-4eea-9041-fc69a04f8d8e",
   "metadata": {},
   "outputs": [],
   "source": [
    "infecciones_W = infecciones[infecciones.Region == \"W\"]\n",
    "infecciones_W"
   ]
  },
  {
   "cell_type": "code",
   "execution_count": null,
   "id": "d760245d-2749-44a4-9afd-98cc73636cc8",
   "metadata": {},
   "outputs": [],
   "source": [
    "# Veamos cómo mejora nuestro modelo utilizando esta variable.\n",
    "# (no es necesario escalar variables si solo queremos ver la \"bondad\" del modelo)\n",
    "y, X = (\n",
    "    Formula('Riesgo ~ Dias + Edad + Estudios + RayosX + Camas + Afiliado + Region + Pacientes + Enfermeros')\n",
    "    .get_model_matrix(infecciones_W)\n",
    ")\n",
    "X"
   ]
  },
  {
   "cell_type": "code",
   "execution_count": null,
   "id": "ac56968e-6e81-4e5e-bbb4-2432c1d3395f",
   "metadata": {},
   "outputs": [],
   "source": [
    "# Realizamos nuevamente el ajuste lineal utilizando las variables estandarizadas\n",
    "\n",
    "# Inicializamos el modelo lineal\n",
    "modeloLineal = linear_model.LinearRegression() \n",
    "\n",
    "# Entrenamiento\n",
    "modeloLineal.fit(X, y)\n",
    "\n",
    "# Predicciones\n",
    "y_pred = modeloLineal.predict(X)\n",
    "\n",
    "# Evaluación\n",
    "rmse = np.sqrt(mean_squared_error(y, y_pred))\n",
    "print(f\"Raíz del Error Cuadrático Medio: {rmse:.5f}\")\n",
    "r2 = r2_score(y, y_pred)\n",
    "print(f\"R cuadrado: {r2:.5f}\")"
   ]
  },
  {
   "cell_type": "markdown",
   "id": "cde0970f-111a-4502-8ea0-bf8fc168bbe6",
   "metadata": {},
   "source": [
    "Bajó el error cuadrático medio pero también bajó el R cuadrado, no hay una clara ventaja en separar por región."
   ]
  },
  {
   "cell_type": "markdown",
   "id": "a0dc6f9d-57d7-420b-8687-1734df628846",
   "metadata": {},
   "source": [
    "**Ejercicio:** Realizar un modelo lineal para predecir el peso de los pingüinos utilziando las demás variables. ¿Cómo se codifica cada variable? \n",
    "\n",
    "Pregunta: ¿Es conveniente separar en distintos grupos? Vamos a verlo más adelante!"
   ]
  },
  {
   "cell_type": "code",
   "execution_count": null,
   "id": "09159e07",
   "metadata": {},
   "outputs": [],
   "source": [
    "penguins = sns.load_dataset(\"penguins\").dropna()\n",
    "penguins.head()"
   ]
  },
  {
   "cell_type": "code",
   "execution_count": null,
   "id": "18ab9974",
   "metadata": {},
   "outputs": [],
   "source": []
  }
 ],
 "metadata": {
  "kernelspec": {
   "display_name": "labo-datos",
   "language": "python",
   "name": "python3"
  },
  "language_info": {
   "codemirror_mode": {
    "name": "ipython",
    "version": 3
   },
   "file_extension": ".py",
   "mimetype": "text/x-python",
   "name": "python",
   "nbconvert_exporter": "python",
   "pygments_lexer": "ipython3",
   "version": "3.13.2"
  }
 },
 "nbformat": 4,
 "nbformat_minor": 5
}

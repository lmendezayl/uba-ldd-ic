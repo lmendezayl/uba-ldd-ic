{
 "cells": [
  {
   "cell_type": "markdown",
   "id": "4739e738-c901-4cc5-b386-2a1ea091ec97",
   "metadata": {},
   "source": [
    "# Regresión Lineal\n",
    "\n",
    "### Laboratorio de Datos, IC - FCEN - UBA - 1er. Cuatrimestre 2024\n",
    "\n"
   ]
  },
  {
   "cell_type": "markdown",
   "id": "628c1bc8-fc37-455a-a11f-3678710bb414",
   "metadata": {},
   "source": [
    "### Nuevas librerías\n",
    "\n",
    "Utilizaremos el módulo `scikit-learn` y `formulaic` de Python. Para instalarlos, correr:"
   ]
  },
  {
   "cell_type": "code",
   "execution_count": null,
   "id": "e8e8ad9d-8e23-47ec-b15a-03ece7883a1a",
   "metadata": {},
   "outputs": [],
   "source": [
    "# !pip install scikit-learn\n",
    "# !pip install formulaic"
   ]
  },
  {
   "cell_type": "markdown",
   "id": "64c5dca5-8410-4d7e-91f0-4bd9933c64d4",
   "metadata": {},
   "source": [
    "Importamos los módulos de siempre, las herramientas de modelos lineales y las medidas de desempeño del modelo de `scikit-learn`:"
   ]
  },
  {
   "cell_type": "code",
   "execution_count": null,
   "id": "6b2c70cd-c201-4157-b44a-28599bec5c80",
   "metadata": {
    "ExecuteTime": {
     "end_time": "2025-04-11T19:03:52.611180Z",
     "start_time": "2025-04-11T19:03:52.605379Z"
    }
   },
   "outputs": [],
   "source": [
    "import numpy as np\n",
    "import pandas as pd\n",
    "import seaborn as sns\n",
    "import seaborn.objects as so\n",
    "\n",
    "# Para plantear el modelo lineal\n",
    "from formulaic import Formula   \n",
    "\n",
    "# Herramientas de modelos lineales\n",
    "from sklearn import linear_model  \n",
    "\n",
    "# Medidas de desempeño\n",
    "from sklearn.metrics import mean_squared_error, r2_score, root_mean_squared_error    "
   ]
  },
  {
   "cell_type": "markdown",
   "id": "53f10686-5029-4e5a-b403-e6523749a5d3",
   "metadata": {},
   "source": [
    "### Modelo de Regresión Lineal\n",
    "\n",
    "Queremos utilizar un modelo lineal:\n",
    "$$ Y = \\beta_0 + \\beta_1 X $$\n",
    "para intentar predecir valores continuos."
   ]
  },
  {
   "cell_type": "markdown",
   "id": "6732832e-6c79-410e-94d0-337ee6852ca2",
   "metadata": {},
   "source": [
    "### Visualización\n",
    "\n",
    "Con lo que hemos visto las clases anteriores, visualizar la recta que mejor aproxima a los datos en el sentido de cuadrados mínimos es relativamente sencillo con `seaborn objects`, ya que `seaborn` calcula automáticamente los valores de $\\beta_0$ y $\\beta_1$.\n",
    "\n",
    "Utilizaremos el dataset _tips_ de `seaborn` y analizaremos la relación entre lo que costó la comida y la cantidad de propina."
   ]
  },
  {
   "cell_type": "code",
   "execution_count": null,
   "id": "92ded68b-e7d2-4679-b62e-d86a424aceb9",
   "metadata": {
    "ExecuteTime": {
     "end_time": "2025-04-11T17:17:23.058255Z",
     "start_time": "2025-04-11T17:17:22.833671Z"
    }
   },
   "outputs": [],
   "source": [
    "datos = sns.load_dataset('tips')"
   ]
  },
  {
   "cell_type": "markdown",
   "id": "f652f33d-1173-4995-855b-6eff89b03e33",
   "metadata": {},
   "source": [
    "Visualizamos los datos con `so.Plot` (repasar clase de visualización)"
   ]
  },
  {
   "cell_type": "code",
   "execution_count": null,
   "id": "fe73c5c8-2a94-45a0-8bc0-911456689ae4",
   "metadata": {
    "ExecuteTime": {
     "end_time": "2025-04-11T17:17:29.651753Z",
     "start_time": "2025-04-11T17:17:28.764267Z"
    }
   },
   "outputs": [],
   "source": [
    "# Graficamos la relacion entre las variables \n",
    "\n",
    "(\n",
    "    so.Plot(data=datos, x='total_bill', y='tip')\n",
    "    .add(so.Dot())\n",
    ")"
   ]
  },
  {
   "cell_type": "markdown",
   "id": "715b4370-804f-4fa4-9296-5d181e20e187",
   "metadata": {},
   "source": [
    "Para visualizar la recta de la regresión, agregamos una línea al gráfico (`so.Line()`) junto a `so.PolyFit(1)`:"
   ]
  },
  {
   "cell_type": "code",
   "execution_count": null,
   "id": "32058d52-3bf8-4f14-9603-dc8f880f0d18",
   "metadata": {
    "ExecuteTime": {
     "end_time": "2025-04-11T17:17:40.650209Z",
     "start_time": "2025-04-11T17:17:39.913093Z"
    }
   },
   "outputs": [],
   "source": [
    "(\n",
    "    so.Plot(data=datos, x='total_bill', y='tip')\n",
    "    .add(so.Dot())\n",
    "    .add(so.Line(color='red', linewidth=3), so.PolyFit(1), label='Regresion lineal')    # Agregamos una etiqueta para la leyenda del grafico\n",
    "    .label(title='Datos de propinas', x='Precio de la comida', y='Propina')    # Agregamos la leyenda, un titulo y le cambiamos el nombre a los ejes\n",
    ")"
   ]
  },
  {
   "cell_type": "markdown",
   "id": "f5ff333a-c640-40d2-929c-3a5e9e7254c9",
   "metadata": {},
   "source": [
    "### Cálculo de coeficientes y predicciones\n",
    "\n",
    "Desafortunamente, `seaborn` no nos devuelve los valores de $\\beta_0$ y $\\beta_1$, que son importantes en la interpretación del resultado.\n",
    "\n",
    "Hemos visto que podemos calcular los coeficientes de la regresión lineal como:\n",
    "\n",
    " $$\n",
    " \\begin{array}{rl}\n",
    "      \\hat{\\beta}_1 = & \\dfrac{\\displaystyle\\sum_{i=1}^n(x_i - \\bar{x})(y_i - \\bar{y})}{\\displaystyle\\sum_{i=1}^n(x_i - \\bar{x})^2}  \\\\[1em]\n",
    "      \\hat{\\beta}_0 = & \\bar{y} - \\hat{\\beta}_1\\bar{x}\n",
    " \\end{array}\n",
    " $$\n",
    "\n",
    " pero también podemos utilizar `scikit-learn` y `formulaic`."
   ]
  },
  {
   "cell_type": "markdown",
   "id": "9387db1c51360321",
   "metadata": {},
   "source": [
    "Como queremos predecir la propina según el precio de la comida usando una función lineal, la fórmula de Wilkinson es:\n",
    "$$tip \\sim total\\_bill$$"
   ]
  },
  {
   "cell_type": "code",
   "execution_count": null,
   "id": "1756df1881e3d96",
   "metadata": {
    "ExecuteTime": {
     "end_time": "2025-04-11T18:49:39.331693Z",
     "start_time": "2025-04-11T18:49:39.319058Z"
    }
   },
   "outputs": [],
   "source": [
    "# Obtenemos las matrices del modelo\n",
    "y, X = Formula('tip ~ total_bill').get_model_matrix(datos)"
   ]
  },
  {
   "cell_type": "code",
   "execution_count": null,
   "id": "10ebd5090178ce1e",
   "metadata": {
    "ExecuteTime": {
     "end_time": "2025-04-11T18:52:28.221626Z",
     "start_time": "2025-04-11T18:52:28.210868Z"
    }
   },
   "outputs": [],
   "source": [
    "# Inicializamos el modelo de regresión.\n",
    "modelo = linear_model.LinearRegression(fit_intercept=False) # RECORDAR USAR fit_intercept = False\n",
    "\n",
    "# Realiza el ajuste\n",
    "modelo.fit(X, y)\n",
    "\n",
    "# Para obtener los valores de beta_1 y beta_0 como valores numericos\n",
    "beta = modelo.coef_\n",
    "beta_0 = beta[0][0]\n",
    "beta_1 = beta[0][1]\n",
    "print('Beta_0: ', beta_0)\n",
    "print('Beta_1: ', beta_1)"
   ]
  },
  {
   "cell_type": "markdown",
   "id": "8a5de3db-3397-4cb1-8f80-80b1dbe3a2c8",
   "metadata": {},
   "source": [
    "Entonces, la recta que mejor aproxima a los datos es (redondeando):\n",
    "$$ Y = 0.92 + 0.105 X$$"
   ]
  },
  {
   "cell_type": "markdown",
   "id": "ac65fdfb-3121-456a-947b-951b91998dee",
   "metadata": {},
   "source": [
    "Una interpretación que podemos darle a este resultado es que, por cada peso que costó la comida, se dejan de propina 0.105 pesos (o sea, alrededor de 10 centavos)\n",
    "\n",
    "Con los valores de $\\beta_0$ y $\\beta_1$ podemos predecir cuanto será la propina según el valor de la comida. Supongamos que queremos predecir la propina que se deja por una cuenta \\\\$35. Utilizamos el método `predict()` del modelo.\n",
    "\n",
    "<span style=\"color:red\">**EL MÉTODO .predict() SOLO ADMITE ADMITE DATAFRAMES (O MATRICES).**</span>"
   ]
  },
  {
   "cell_type": "code",
   "execution_count": null,
   "id": "a404ff0c-680d-4238-8d74-8d594be4da45",
   "metadata": {
    "ExecuteTime": {
     "end_time": "2025-04-11T18:57:55.406403Z",
     "start_time": "2025-04-11T18:57:55.398605Z"
    }
   },
   "outputs": [],
   "source": [
    "# Creamos un array con los valores a predecir\n",
    "x_a_predecir = np.array([35])\n",
    "\n",
    "# Creamos un DataFrame con los valores de X para los que queremos predecir\n",
    "# Debe tener una columna de 1's que sea el Intercept (término independiente)\n",
    "dataframe_a_predecir = pd.DataFrame({'Intercept': np.ones(x_a_predecir.shape), 'total_bill': x_a_predecir})\n",
    "\n",
    "# Aplicamos la fórmula del modelo\n",
    "modelo.predict(dataframe_a_predecir)"
   ]
  },
  {
   "cell_type": "code",
   "execution_count": null,
   "id": "76ea70e1-a728-4b70-89d4-8200204e171d",
   "metadata": {
    "ExecuteTime": {
     "end_time": "2025-04-11T18:58:57.913896Z",
     "start_time": "2025-04-11T18:58:57.904391Z"
    }
   },
   "outputs": [],
   "source": [
    "# Para devolver directamente el numero agregamos .item()\n",
    "modelo.predict(dataframe_a_predecir).item()"
   ]
  },
  {
   "cell_type": "markdown",
   "id": "b94200af-14fd-4b38-bee9-7269051150f5",
   "metadata": {},
   "source": [
    "También podemos hacer directamente la cuenta porque ya sabemos cuanto valen $\\beta_1$ y $\\beta_0$:"
   ]
  },
  {
   "cell_type": "code",
   "execution_count": null,
   "id": "5ad61fc9-af1d-4e94-90b0-8e332aa57d55",
   "metadata": {
    "ExecuteTime": {
     "end_time": "2025-04-11T18:59:02.577739Z",
     "start_time": "2025-04-11T18:59:02.565347Z"
    }
   },
   "outputs": [],
   "source": [
    "beta_1 * 35 + beta_0"
   ]
  },
  {
   "cell_type": "markdown",
   "id": "d32f3d3f-a386-4d14-b0b9-73b76f8732be",
   "metadata": {},
   "source": [
    "Podemos predecir varios valores de una:"
   ]
  },
  {
   "cell_type": "code",
   "execution_count": null,
   "id": "ca6e0ce2-bee4-4d6c-86cd-3325fc863a7a",
   "metadata": {
    "ExecuteTime": {
     "end_time": "2025-04-11T19:00:02.742111Z",
     "start_time": "2025-04-11T19:00:02.718646Z"
    }
   },
   "outputs": [],
   "source": [
    "# Creamos un array con los valores a predecir\n",
    "x_a_predecir = np.array([35, 60])\n",
    "\n",
    "# Creamos un DataFrame con los valores de X para los que queremos predecir\n",
    "# Debe tener una columna de 1's que sea el Intercept (término independiente)\n",
    "dataframe_a_predecir = pd.DataFrame({'Intercept': np.ones(x_a_predecir.shape), 'total_bill': x_a_predecir})\n",
    "\n",
    "# Aplicamos la fórmula del modelo\n",
    "modelo.predict(dataframe_a_predecir)"
   ]
  },
  {
   "cell_type": "markdown",
   "id": "9bde8b56-865e-4ac3-820d-3b3c71ff82b2",
   "metadata": {},
   "source": [
    "Si queremos calcular los valores predichos por el modelo $\\hat{y}_i$ para todos nuestros $x_i$:"
   ]
  },
  {
   "cell_type": "code",
   "execution_count": null,
   "id": "bb6a95dc-0105-47c2-8b3f-0ae07971bb0a",
   "metadata": {
    "ExecuteTime": {
     "end_time": "2025-04-11T19:07:21.742798Z",
     "start_time": "2025-04-11T19:07:21.705125Z"
    }
   },
   "outputs": [],
   "source": [
    "y_pred = modelo.predict(X)\n",
    "display(y_pred)"
   ]
  },
  {
   "cell_type": "markdown",
   "id": "eee52f4757e579cd",
   "metadata": {},
   "source": [
    "### ¿Qué tan bueno es el modelo?"
   ]
  },
  {
   "cell_type": "markdown",
   "id": "44231154-3410-48e4-aabe-639ac3855956",
   "metadata": {},
   "source": [
    "Finalmente, el bueno de `scikit-learn` nos calcula el coeficiente de determinación $R^ 2$: primero van los datos observados ( $y$ ) y luego los datos predichos ( $\\hat{y}$ )"
   ]
  },
  {
   "cell_type": "code",
   "execution_count": null,
   "id": "d8a9ab3c-9f13-462c-8e00-bc47a24317ec",
   "metadata": {
    "ExecuteTime": {
     "end_time": "2025-04-11T19:02:48.500949Z",
     "start_time": "2025-04-11T19:02:48.481563Z"
    }
   },
   "outputs": [],
   "source": [
    "y_pred = modelo.predict(X)\n",
    "r2_score(datos['tip'], y_pred)"
   ]
  },
  {
   "cell_type": "markdown",
   "id": "56984243-5a8d-4419-bc47-25d820b9e8e9",
   "metadata": {},
   "source": [
    "De manera análoga podemos calcular el error cuadrático medio (ECM):"
   ]
  },
  {
   "cell_type": "code",
   "execution_count": null,
   "id": "275ef97a-1c64-491c-b9a5-531e9652156c",
   "metadata": {
    "ExecuteTime": {
     "end_time": "2025-04-11T19:02:54.846685Z",
     "start_time": "2025-04-11T19:02:54.838356Z"
    }
   },
   "outputs": [],
   "source": [
    "mean_squared_error(datos['tip'], y_pred)"
   ]
  },
  {
   "cell_type": "markdown",
   "id": "393db1194802e2ed",
   "metadata": {},
   "source": [
    "Y la raíz del error cuadrático medio:"
   ]
  },
  {
   "cell_type": "code",
   "execution_count": null,
   "id": "54ae28098bb5d542",
   "metadata": {
    "ExecuteTime": {
     "end_time": "2025-04-11T19:03:59.919444Z",
     "start_time": "2025-04-11T19:03:59.900644Z"
    }
   },
   "outputs": [],
   "source": [
    "root_mean_squared_error(datos['tip'], y_pred)"
   ]
  },
  {
   "cell_type": "markdown",
   "id": "8be1521393a57813",
   "metadata": {},
   "source": [
    "Esto último podría interpretarse (informalmente) como que al usar el modelo para predecir cuánta propina dejo, en\n",
    "promedio voy a cometer un error en el margen de $\\pm 1.01785$ pesos."
   ]
  }
 ],
 "metadata": {
  "kernelspec": {
   "display_name": "Python 3 (ipykernel)",
   "language": "python",
   "name": "python3"
  },
  "language_info": {
   "codemirror_mode": {
    "name": "ipython",
    "version": 3
   },
   "file_extension": ".py",
   "mimetype": "text/x-python",
   "name": "python",
   "nbconvert_exporter": "python",
   "pygments_lexer": "ipython3",
   "version": "3.10.12"
  }
 },
 "nbformat": 4,
 "nbformat_minor": 5
}

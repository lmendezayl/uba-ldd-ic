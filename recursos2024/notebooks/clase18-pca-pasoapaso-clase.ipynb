{
 "cells": [
  {
   "cell_type": "code",
   "execution_count": null,
   "metadata": {},
   "outputs": [],
   "source": [
    "# Si necesitan instalar algunos paquetes\n",
    "#!pip install scipy\n",
    "#!pip install pandas\n",
    "#!pip install seaborn\n",
    "#!pip install scikit-learn"
   ]
  },
  {
   "cell_type": "code",
   "execution_count": null,
   "metadata": {},
   "outputs": [],
   "source": [
    "import scipy\n",
    "import numpy as np\n",
    "import pandas as pd\n",
    "import seaborn as sns\n",
    "import seaborn.objects as so\n",
    "\n",
    "# Para clustering\n",
    "from sklearn.datasets import make_blobs\n",
    "from sklearn.datasets import make_circles\n",
    "from sklearn.preprocessing import MinMaxScaler \n",
    "from sklearn.cluster import KMeans\n",
    "from sklearn.cluster import DBSCAN\n",
    "\n",
    "# Para componentes principales\n",
    "from sklearn.preprocessing import StandardScaler\n",
    "from sklearn.decomposition import PCA"
   ]
  },
  {
   "cell_type": "markdown",
   "metadata": {},
   "source": [
    "**Ejercicio 1.** Utilizando los datos de pingüinos, \n",
    "1. Construir la matrix de datos $X$ con las variables \"bill_length_mm\" y \"bill_depth_mm\".\n",
    "2. Construir la matriz $X^\\star$ de datos normalizados (media 0).\n",
    "3. Construir la matriz de covarianza $\\Sigma$.\n",
    "4. Comparar con el resultado de `np.cov(X.transpose(), bias = 1))`"
   ]
  },
  {
   "cell_type": "code",
   "execution_count": null,
   "metadata": {},
   "outputs": [],
   "source": [
    "# Eliminamos datos faltantes y reseteamos los índices, para no tener problemas al graficar\n",
    "penguins = sns.load_dataset(\"penguins\").dropna().reset_index(drop=True)\n",
    "\n",
    "# Normalizamos las variables \"bill_length_mm\" y \"bill_depth_mm\" por MinMax\n",
    "penguins[[\"bill_length_mm\", \"bill_depth_mm\"]] = MinMaxScaler().fit_transform(penguins[[\"bill_length_mm\", \"bill_depth_mm\"]])\n",
    "\n",
    "penguins.head()"
   ]
  },
  {
   "cell_type": "code",
   "execution_count": null,
   "metadata": {},
   "outputs": [],
   "source": [
    "# Item 1\n",
    "# Nos quedamos con las variables de longitud y profundidad del pico\n",
    "X = penguins[[\"bill_length_mm\", \"bill_depth_mm\"]]\n",
    "X.head()"
   ]
  },
  {
   "cell_type": "code",
   "execution_count": null,
   "metadata": {},
   "outputs": [],
   "source": [
    "# Graficamos\n",
    "(\n",
    "    so.Plot(data = X, x = \"bill_length_mm\", y = \"bill_depth_mm\")\n",
    "    .add(so.Dot())\n",
    ")"
   ]
  },
  {
   "cell_type": "code",
   "execution_count": null,
   "metadata": {},
   "outputs": [],
   "source": [
    "# Media de cada columna \n",
    "???"
   ]
  },
  {
   "cell_type": "code",
   "execution_count": null,
   "metadata": {},
   "outputs": [],
   "source": [
    "X_star = ???\n",
    "X_star.head()"
   ]
  },
  {
   "cell_type": "code",
   "execution_count": null,
   "metadata": {},
   "outputs": [],
   "source": [
    "n = len(X_star)\n",
    "Sigma = ???\n",
    "Sigma"
   ]
  },
  {
   "cell_type": "code",
   "execution_count": null,
   "metadata": {},
   "outputs": [],
   "source": [
    "# Comparamos con el comando np.cov de Numpy\n",
    "# Ttenemos que pasarle las variables como columnas.\n",
    "# Si no usamos bias = 1, divide por n-1 en lugar de n.\n",
    "np.cov(X.transpose(), bias = 1)"
   ]
  },
  {
   "cell_type": "markdown",
   "metadata": {},
   "source": [
    "**Ejercicio 2**\n",
    "1. Calcular las componentes principales de la matriz X del ejercicio anterior.\n",
    "2. Graficar los datos normalizados y las componentes principales.\n",
    "3. Realizar un nuevo gráfico con los datos transformados."
   ]
  },
  {
   "cell_type": "code",
   "execution_count": null,
   "metadata": {},
   "outputs": [],
   "source": [
    "# eigh es un comando especial para calcular autovalores y autovectores de matrices simétricas\n",
    "# Devuelve una dupla:\n",
    "# - la primer componente es el vector de autovalores, ordenados de menor a mayor\n",
    "# - la segunda componente es la matriz de autovectores. la i-ésima columna de U es el autovector correspondiente al i-ésimo autovalor\n",
    "gamma, U = np.linalg.eigh(Sigma) \n",
    "print(gamma)\n",
    "print(U)"
   ]
  },
  {
   "cell_type": "code",
   "execution_count": null,
   "metadata": {},
   "outputs": [],
   "source": [
    "# Los autovalores que nos devuelve eigh están siempre ordenados de menor a mayor.\n",
    "# Damos vueltas los autovalores y las columnas de la matriz de autovectores usando np.flip(-,1)\n",
    "gamma = np.flip(gamma)\n",
    "print(gamma)\n",
    "\n",
    "U = np.flip(U, 1)   # U tiene los autovectores de Sigma como columnas\n",
    "print(U)"
   ]
  },
  {
   "cell_type": "code",
   "execution_count": null,
   "metadata": {},
   "outputs": [],
   "source": [
    "# Graficamos los autovectores\n",
    "(\n",
    "    so.Plot()\n",
    "    .add(so.Dot(), x = X_star[\"bill_length_mm\"], y = X_star[\"bill_depth_mm\"])\n",
    "    .add(so.Line(color = \"green\"), x = [0, U[0,0]], y = [0, U[1,0]]) # Primera dirección principal\n",
    "    .add(so.Line(color = \"red\"), x = [0, U[0,1]], y = [0, U[1,1]]) # Segunda dirección principal\n",
    "    .layout(size = (6,6))\n",
    ")"
   ]
  },
  {
   "cell_type": "code",
   "execution_count": null,
   "metadata": {},
   "outputs": [],
   "source": [
    "Z = ???\n",
    "Z.columns = [\"Z1\", \"Z2\"]  # Renombramos las columnas\n",
    "Z"
   ]
  },
  {
   "cell_type": "code",
   "execution_count": null,
   "metadata": {},
   "outputs": [],
   "source": [
    "# Graficamos las nuevas variables.\n",
    "(\n",
    "    so.Plot(data = Z, x = \"Z1\", y = \"Z2\")\n",
    "    .add(so.Dot())\n",
    ")"
   ]
  },
  {
   "cell_type": "markdown",
   "metadata": {},
   "source": [
    "**Ejercicio:** Para la matriz de covarianza\n",
    "$$\n",
    "M = \\left(\n",
    "   \\begin{array}{cccc}\n",
    "    3 & 1/2 & 1/3 & 0\\\\\n",
    "    1/2 & 4 & 1/6 & 3/4\\\\\n",
    "    1/3 & 1/6 & 2 & 0 \\\\\n",
    "    0 & 3/4 & 0 & 5\n",
    "   \\end{array}\n",
    "   \\right)\n",
    "$$\n",
    "calcular la varianza explicada acumulada de las dos primeras componentes principales."
   ]
  },
  {
   "cell_type": "code",
   "execution_count": null,
   "metadata": {},
   "outputs": [],
   "source": []
  },
  {
   "cell_type": "markdown",
   "metadata": {},
   "source": [
    "### Aplicación"
   ]
  },
  {
   "cell_type": "markdown",
   "metadata": {},
   "source": [
    "En el archivo `paises.csv` se encuentran 11 variables ecónomicas y sociales asociadas a 21 países. Queremos usar esas variables para visualizar países con comportamientos similares."
   ]
  },
  {
   "cell_type": "code",
   "execution_count": null,
   "metadata": {},
   "outputs": [],
   "source": [
    "# Leemos los datos\n",
    "datos = pd.read_csv(\"../Datos/paises.csv\", index_col = \"Pais\")   # dataFrame\n",
    "X = datos\n",
    "X.columns = X.columns.str.strip()  # Los nombres tienen un espacio al principio, lo eliminamos\n",
    "display(X)"
   ]
  },
  {
   "cell_type": "code",
   "execution_count": null,
   "metadata": {},
   "outputs": [],
   "source": [
    "X.columns"
   ]
  },
  {
   "cell_type": "markdown",
   "metadata": {},
   "source": [
    "Los variables corresponden a los siguientes indicadores:\n",
    "\n",
    "1. X1 = Tasa anual de crecimiento de la población\n",
    "2. X2 = Tasa de mortalidad infantil por cada 1000 nacidos vivos, \n",
    "3. X3 = Porcentaje de mujeres en la población activa, \n",
    "4. X4 = PNB en 1995 (en millones de dólares), \n",
    "5. X5 = Producción de electricidad (en millones kW/h), \n",
    "6. X6 = Líneas telefónicas por cada 1000 habitantes, \n",
    "7. X7 = Consumo de agua per cápita, \n",
    "8. X8 = Proporción de la superficie del país cubierta por bosques, \n",
    "9. X9 = Proporción de deforestación anual, \n",
    "10. X10 = Consumo de energía per cápita, \n",
    "11. X11 = Emisión de CO2 per cápita.\n",
    "\n"
   ]
  },
  {
   "cell_type": "code",
   "execution_count": null,
   "metadata": {},
   "outputs": [],
   "source": [
    "# Graficamos algunos pares de variables\n",
    "(\n",
    "    so.Plot(data = X, x = \"X1\", y = \"X2\", text = X.index)\n",
    "    .add(so.Dot())\n",
    "    .add(so.Text())\n",
    ")"
   ]
  },
  {
   "cell_type": "code",
   "execution_count": null,
   "metadata": {},
   "outputs": [],
   "source": [
    "# Graficamos la información de dos variables \n",
    "\n",
    "# X4 = PNB en 1995 (en millones de dólares),\n",
    "# X5 = Producción de electricidad (en millones kW/h),\n",
    "(\n",
    "    so.Plot(data = X, x = \"X4\", y = \"X5\", text = X.index)\n",
    "    .add(so.Dot())\n",
    "    .add(so.Text())\n",
    ")"
   ]
  },
  {
   "cell_type": "code",
   "execution_count": null,
   "metadata": {},
   "outputs": [],
   "source": [
    "# En estos ejemplos los países aparecen muy juntos, queremos ver si encontramos nuevas variables que nos permitan separar mejor a los países."
   ]
  },
  {
   "cell_type": "code",
   "execution_count": null,
   "metadata": {},
   "outputs": [],
   "source": [
    "# Como tenemos datos en distintas escalas llevamos los datos a media 0 y varianza 1.\n",
    "# Esta normalización se obtiene restando la media y dividiendo por el desvío estandar.\n",
    "X_star = StandardScaler().set_output(transform=\"pandas\").fit_transform(X)\n",
    "display(X_star)"
   ]
  },
  {
   "cell_type": "code",
   "execution_count": null,
   "metadata": {},
   "outputs": [],
   "source": [
    "# Calculamos la matriz de covarianza:\n",
    "# cov = (X - Xraya)^T * (X - Xraya) / N = (B^T * B) / N\n",
    "X_star_t = np.transpose(X_star)\n",
    "N = len(X_star)\n",
    "Sigma = (X_star_t @ X_star) / N\n",
    "display(Sigma)"
   ]
  },
  {
   "cell_type": "code",
   "execution_count": null,
   "metadata": {},
   "outputs": [],
   "source": [
    "# Comparamos con el comando cov de numpy\n",
    "display(np.cov(np.transpose(X_star), bias = 1))\n",
    "\n",
    "# Tenemos que transponer X porque cov requiere variables en filas\n",
    "# El parámetro bias = 1 hace que divida por N. Si no lo ponemos, o ponemos bias = 0, divide por N-1."
   ]
  },
  {
   "cell_type": "markdown",
   "metadata": {},
   "source": [
    "Obtuvimos la misma matriz!"
   ]
  },
  {
   "cell_type": "markdown",
   "metadata": {},
   "source": [
    "Ahora podemos calcular las componentes principales.\n",
    "Calculamos primero los autovalores y autovectores de la matriz de covarianza y los ordenamos los autovectores por autovalor."
   ]
  },
  {
   "cell_type": "code",
   "execution_count": null,
   "metadata": {},
   "outputs": [],
   "source": [
    "gamma, U = np.linalg.eigh(Sigma)  # Usamos eigh porque A es simétrica. Podemos usar eig también\n",
    "display(gamma)\n",
    "display(U)"
   ]
  },
  {
   "cell_type": "code",
   "execution_count": null,
   "metadata": {},
   "outputs": [],
   "source": [
    "# Los autovalores están ordenados de menor a mayor.\n",
    "# Damos vueltas las columnas de la matriz de autovectores usando np.flip(-,1)\n",
    "gamma = np.flip(gamma)\n",
    "U = np.flip(U, 1)   # U tiene los autovectores de Sigma como columnas\n",
    "print(U)"
   ]
  },
  {
   "cell_type": "code",
   "execution_count": null,
   "metadata": {},
   "outputs": [],
   "source": [
    "# U son las direcciones del nuevo espacio\n",
    "# Calculamos las componentes principales usando la formula\n",
    "# Z = (X - Xraya) * U\n",
    "\n",
    "Z = X_star @ U \n",
    "Z.columns = [\"Z\" + str(i) for i in range(1,12)]  # Renombramos las columnas\n",
    "display(Z)"
   ]
  },
  {
   "cell_type": "code",
   "execution_count": null,
   "metadata": {},
   "outputs": [],
   "source": [
    "# Graficamos\n",
    "(\n",
    "    so.Plot(data = Z, x = \"Z1\", y = \"Z2\", text = X.index)\n",
    "    .add(so.Dot())\n",
    "    .add(so.Text())\n",
    "    .layout(size=(12,8))    \n",
    ")"
   ]
  },
  {
   "cell_type": "code",
   "execution_count": null,
   "metadata": {},
   "outputs": [],
   "source": [
    "# Repetimos todo lo mismo usando los comandos de Python\n",
    "\n",
    "pca = PCA(n_components=2)\n",
    "\n",
    "principalComponents = pca.fit_transform(X_star)\n",
    "print(principalComponents)"
   ]
  },
  {
   "cell_type": "code",
   "execution_count": null,
   "metadata": {},
   "outputs": [],
   "source": [
    "# Graficamos\n",
    "(\n",
    "    so.Plot(x = principalComponents[:,0], y = principalComponents[:,1], text = X.index)\n",
    "    .add(so.Dot())\n",
    "    .add(so.Text())\n",
    "    .layout(size=(12,8))\n",
    ")"
   ]
  },
  {
   "cell_type": "code",
   "execution_count": null,
   "metadata": {},
   "outputs": [],
   "source": [
    "# Veamos que variables aparecen más fuertemente en cada componente\n",
    "pca.components_    # Esto nos da las direcciones (los coeficientes de la combinación lineal z = v_1 x_1 + ... v_p x_p)"
   ]
  },
  {
   "cell_type": "markdown",
   "metadata": {},
   "source": [
    "**Pregunta** Qué interpretación podemos darle a cada una de las dos componentes?\n",
    "<details>\n",
    "    Podemos interpetar que la primera componente agrupa las variables economicas, y la segunda componente las variable sociales.\n",
    "</details>"
   ]
  },
  {
   "cell_type": "markdown",
   "metadata": {},
   "source": [
    "**Ejercicio:** calcular el porcentaje de la varianza explicada por las primeras componentes principales y la varianza acumulada."
   ]
  },
  {
   "cell_type": "code",
   "execution_count": null,
   "metadata": {},
   "outputs": [],
   "source": [
    "print(\"Autovalores: \", gamma)\n",
    "for i in range(3):\n",
    "    print(\"Porcentaje de varianza explicada por la componente \", i + 1, \":\", ???)\n",
    "\n",
    "print(\"Variaza acumulada: \", ???)"
   ]
  },
  {
   "cell_type": "code",
   "execution_count": null,
   "metadata": {},
   "outputs": [],
   "source": []
  }
 ],
 "metadata": {
  "kernelspec": {
   "display_name": "Python 3 (ipykernel)",
   "language": "python",
   "name": "python3"
  },
  "language_info": {
   "codemirror_mode": {
    "name": "ipython",
    "version": 3
   },
   "file_extension": ".py",
   "mimetype": "text/x-python",
   "name": "python",
   "nbconvert_exporter": "python",
   "pygments_lexer": "ipython3",
   "version": "3.11.7"
  }
 },
 "nbformat": 4,
 "nbformat_minor": 4
}
